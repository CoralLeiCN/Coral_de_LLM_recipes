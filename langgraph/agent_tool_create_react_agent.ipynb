{
 "cells": [
  {
   "cell_type": "code",
   "execution_count": 4,
   "metadata": {},
   "outputs": [],
   "source": [
    "from datetime import datetime\n",
    "from typing import Annotated, Literal\n",
    "\n",
    "from langchain_core.messages import AIMessage, BaseMessage\n",
    "from langchain_core.prompts import ChatPromptTemplate\n",
    "from langchain_google_genai import ChatGoogleGenerativeAI\n",
    "from typing_extensions import TypedDict\n",
    "\n",
    "from langgraph.graph.message import add_messages\n",
    "from langgraph.managed import IsLastStep\n",
    "from langgraph.prebuilt import create_react_agent\n"
   ]
  },
  {
   "cell_type": "code",
   "execution_count": 11,
   "metadata": {},
   "outputs": [
    {
     "name": "stdout",
     "output_type": "stream",
     "text": [
      "================================\u001b[1m Human Message \u001b[0m=================================\n",
      "\n",
      "What's today's date? And what's the weather in SF?\n",
      "==================================\u001b[1m Ai Message \u001b[0m==================================\n",
      "\n",
      "Today is July 16, 2004. I can check the weather in San Francisco for you. Do you want me to do that?\n"
     ]
    }
   ],
   "source": [
    "prompt = ChatPromptTemplate.from_messages(\n",
    "    [\n",
    "        (\"system\", \"Today is {today}\"),\n",
    "        (\"placeholder\", \"{messages}\"),\n",
    "    ]\n",
    ")\n",
    "\n",
    "\n",
    "def check_weather(location: str, at_time: datetime | None = None) -> str:\n",
    "    \"\"\"Return the weather forecast for the specified location.\"\"\"\n",
    "    return f\"It's always sunny in {location}\"\n",
    "\n",
    "\n",
    "tools = [check_weather]\n",
    "\n",
    "model = ChatGoogleGenerativeAI(model=\"gemini-2.0-flash-001\")\n",
    "\n",
    "\n",
    "class CustomState(TypedDict):\n",
    "    today: str\n",
    "    messages: Annotated[list[BaseMessage], add_messages]\n",
    "    is_last_step: IsLastStep\n",
    "    remaining_steps: int\n",
    "\n",
    "\n",
    "graph = create_react_agent(model, tools, state_schema=CustomState, prompt=prompt)\n",
    "inputs = {\n",
    "    \"messages\": [(\"user\", \"What's today's date? And what's the weather in SF?\")],\n",
    "    \"today\": \"July 16, 2004\",\n",
    "}\n",
    "for s in graph.stream(inputs, stream_mode=\"values\"):\n",
    "    message = s[\"messages\"][-1]\n",
    "\n",
    "    if isinstance(message, tuple):\n",
    "        print(message)\n",
    "    else:\n",
    "        message.pretty_print()"
   ]
  },
  {
   "cell_type": "code",
   "execution_count": null,
   "metadata": {},
   "outputs": [],
   "source": []
  }
 ],
 "metadata": {
  "kernelspec": {
   "display_name": ".venv",
   "language": "python",
   "name": "python3"
  },
  "language_info": {
   "codemirror_mode": {
    "name": "ipython",
    "version": 3
   },
   "file_extension": ".py",
   "mimetype": "text/x-python",
   "name": "python",
   "nbconvert_exporter": "python",
   "pygments_lexer": "ipython3",
   "version": "3.12.7"
  }
 },
 "nbformat": 4,
 "nbformat_minor": 2
}

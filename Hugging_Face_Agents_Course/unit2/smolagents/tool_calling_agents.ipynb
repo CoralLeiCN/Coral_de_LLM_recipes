{
 "cells": [
  {
   "cell_type": "markdown",
   "metadata": {},
   "source": [
    "modified https://huggingface.co/agents-course/notebooks/blob/main/unit2/smolagents/tool_calling_agents.ipynb"
   ]
  },
  {
   "cell_type": "code",
   "execution_count": 1,
   "metadata": {},
   "outputs": [],
   "source": [
    "from utils import gemini_model_OpenAIServer\n",
    "from smolagents import ToolCallingAgent, DuckDuckGoSearchTool"
   ]
  },
  {
   "cell_type": "code",
   "execution_count": 2,
   "metadata": {},
   "outputs": [],
   "source": [
    "model = gemini_model_OpenAIServer(\"gemini-2.0-flash\")"
   ]
  },
  {
   "cell_type": "code",
   "execution_count": 3,
   "metadata": {},
   "outputs": [
    {
     "data": {
      "text/html": [
       "<pre style=\"white-space:pre;overflow-x:auto;line-height:normal;font-family:Menlo,'DejaVu Sans Mono',consolas,'Courier New',monospace\"><span style=\"color: #d4b702; text-decoration-color: #d4b702\">╭──────────────────────────────────────────────────── </span><span style=\"color: #d4b702; text-decoration-color: #d4b702; font-weight: bold\">New run</span><span style=\"color: #d4b702; text-decoration-color: #d4b702\"> ────────────────────────────────────────────────────╮</span>\n",
       "<span style=\"color: #d4b702; text-decoration-color: #d4b702\">│</span>                                                                                                                 <span style=\"color: #d4b702; text-decoration-color: #d4b702\">│</span>\n",
       "<span style=\"color: #d4b702; text-decoration-color: #d4b702\">│</span> <span style=\"font-weight: bold\">Search for the best music recommendations for a party at the Wayne's mansion.</span>                                   <span style=\"color: #d4b702; text-decoration-color: #d4b702\">│</span>\n",
       "<span style=\"color: #d4b702; text-decoration-color: #d4b702\">│</span>                                                                                                                 <span style=\"color: #d4b702; text-decoration-color: #d4b702\">│</span>\n",
       "<span style=\"color: #d4b702; text-decoration-color: #d4b702\">╰─ OpenAIServerModel - gemini-2.0-flash ──────────────────────────────────────────────────────────────────────────╯</span>\n",
       "</pre>\n"
      ],
      "text/plain": [
       "\u001b[38;2;212;183;2m╭─\u001b[0m\u001b[38;2;212;183;2m───────────────────────────────────────────────────\u001b[0m\u001b[38;2;212;183;2m \u001b[0m\u001b[1;38;2;212;183;2mNew run\u001b[0m\u001b[38;2;212;183;2m \u001b[0m\u001b[38;2;212;183;2m───────────────────────────────────────────────────\u001b[0m\u001b[38;2;212;183;2m─╮\u001b[0m\n",
       "\u001b[38;2;212;183;2m│\u001b[0m                                                                                                                 \u001b[38;2;212;183;2m│\u001b[0m\n",
       "\u001b[38;2;212;183;2m│\u001b[0m \u001b[1mSearch for the best music recommendations for a party at the Wayne's mansion.\u001b[0m                                   \u001b[38;2;212;183;2m│\u001b[0m\n",
       "\u001b[38;2;212;183;2m│\u001b[0m                                                                                                                 \u001b[38;2;212;183;2m│\u001b[0m\n",
       "\u001b[38;2;212;183;2m╰─\u001b[0m\u001b[38;2;212;183;2m OpenAIServerModel - gemini-2.0-flash \u001b[0m\u001b[38;2;212;183;2m─────────────────────────────────────────────────────────────────────────\u001b[0m\u001b[38;2;212;183;2m─╯\u001b[0m\n"
      ]
     },
     "metadata": {},
     "output_type": "display_data"
    },
    {
     "data": {
      "text/html": [
       "<pre style=\"white-space:pre;overflow-x:auto;line-height:normal;font-family:Menlo,'DejaVu Sans Mono',consolas,'Courier New',monospace\"><span style=\"color: #d4b702; text-decoration-color: #d4b702\">━━━━━━━━━━━━━━━━━━━━━━━━━━━━━━━━━━━━━━━━━━━━━━━━━━━━━ </span><span style=\"font-weight: bold\">Step </span><span style=\"color: #008080; text-decoration-color: #008080; font-weight: bold\">1</span><span style=\"color: #d4b702; text-decoration-color: #d4b702\"> ━━━━━━━━━━━━━━━━━━━━━━━━━━━━━━━━━━━━━━━━━━━━━━━━━━━━━━</span>\n",
       "</pre>\n"
      ],
      "text/plain": [
       "\u001b[38;2;212;183;2m━━━━━━━━━━━━━━━━━━━━━━━━━━━━━━━━━━━━━━━━━━━━━━━━━━━━━ \u001b[0m\u001b[1mStep \u001b[0m\u001b[1;36m1\u001b[0m\u001b[38;2;212;183;2m ━━━━━━━━━━━━━━━━━━━━━━━━━━━━━━━━━━━━━━━━━━━━━━━━━━━━━━\u001b[0m\n"
      ]
     },
     "metadata": {},
     "output_type": "display_data"
    },
    {
     "data": {
      "text/html": [
       "<pre style=\"white-space:pre;overflow-x:auto;line-height:normal;font-family:Menlo,'DejaVu Sans Mono',consolas,'Courier New',monospace\">╭─────────────────────────────────────────────────────────────────────────────────────────────────────────────────╮\n",
       "│ Calling tool: 'web_search' with arguments: {'query': \"best music for a party at Wayne's mansion\"}               │\n",
       "╰─────────────────────────────────────────────────────────────────────────────────────────────────────────────────╯\n",
       "</pre>\n"
      ],
      "text/plain": [
       "╭─────────────────────────────────────────────────────────────────────────────────────────────────────────────────╮\n",
       "│ Calling tool: 'web_search' with arguments: {'query': \"best music for a party at Wayne's mansion\"}               │\n",
       "╰─────────────────────────────────────────────────────────────────────────────────────────────────────────────────╯\n"
      ]
     },
     "metadata": {},
     "output_type": "display_data"
    },
    {
     "data": {
      "text/html": [
       "<pre style=\"white-space:pre;overflow-x:auto;line-height:normal;font-family:Menlo,'DejaVu Sans Mono',consolas,'Courier New',monospace\">Observations: ## Search Results\n",
       "\n",
       "|<span style=\"color: #008080; text-decoration-color: #008080; font-weight: bold\">75</span> of the Best Wedding Party Songs to Add to Your Reception Music \n",
       "<span style=\"color: #808000; text-decoration-color: #808000\">...</span><span style=\"font-weight: bold\">](</span><span style=\"color: #0000ff; text-decoration-color: #0000ff; text-decoration: underline\">https://www.hitched.co.uk/wedding-songs/wedding-party/)</span>\n",
       "Technically, your wedding ceremony, that precious moment when you tie the knot, is the most important part of your \n",
       "big day, but it's your choice of wedding party songs that'll make guests want to boogie all night long - it's the \n",
       "ultimate wedding guest entertainment.. Secretly, everyone looks forward to the reception, and a good one requires \n",
       "stellar entertainment to set the right tone and bring <span style=\"color: #808000; text-decoration-color: #808000\">...</span>\n",
       "\n",
       "|Five perfect dinner party albums - Far Out Magazine<span style=\"font-weight: bold\">](</span><span style=\"color: #0000ff; text-decoration-color: #0000ff; text-decoration: underline\">https://faroutmagazine.co.uk/?p=664977)</span>\n",
       "Counting down five perfect albums to accompany your next dinner party, including masterpiece albums by the likes of\n",
       "Tom Waits, Roy Ayers and Nina Simone. <span style=\"color: #808000; text-decoration-color: #808000\">...</span> Sat <span style=\"color: #008080; text-decoration-color: #008080; font-weight: bold\">22</span> March <span style=\"color: #008080; text-decoration-color: #008080; font-weight: bold\">2025</span> <span style=\"color: #00ff00; text-decoration-color: #00ff00; font-weight: bold\">14:00</span>, UK. A party without music is like gin without \n",
       "tonic; it'll get the job done, but it's a much more depressing affair. With the crazy dance music house parties <span style=\"color: #808000; text-decoration-color: #808000\">...</span>\n",
       "\n",
       "|Best Party Songs <span style=\"color: #008080; text-decoration-color: #008080; font-weight: bold\">2025</span> to <span style=\"color: #008080; text-decoration-color: #008080; font-weight: bold\">2026</span> - Top Party Hits <span style=\"color: #008080; text-decoration-color: #008080; font-weight: bold\">2025</span> \n",
       "Playlist<span style=\"font-weight: bold\">](</span><span style=\"color: #0000ff; text-decoration-color: #0000ff; text-decoration: underline\">https://www.youtube.com/playlist?list=PLC_2vDv6NRAEZ5xbUf0Sh0oQjHWiqYg6n)</span>\n",
       "Best Party Songs <span style=\"color: #008080; text-decoration-color: #008080; font-weight: bold\">2025</span> to <span style=\"color: #008080; text-decoration-color: #008080; font-weight: bold\">2026</span> - Top Party Hits <span style=\"color: #008080; text-decoration-color: #008080; font-weight: bold\">2025</span> Playlist No matter how your day is, you can always listen to \n",
       "good music: <span style=\"color: #008080; text-decoration-color: #008080; font-weight: bold\">1</span>. Top <span style=\"color: #008080; text-decoration-color: #008080; font-weight: bold\">100</span> Most Popular Party So<span style=\"color: #808000; text-decoration-color: #808000\">...</span>\n",
       "\n",
       "|<span style=\"color: #008080; text-decoration-color: #008080; font-weight: bold\">100</span>+ New Wedding Songs For <span style=\"color: #008080; text-decoration-color: #008080; font-weight: bold\">2024</span> To Play At Your \n",
       "Reception<span style=\"font-weight: bold\">](</span><span style=\"color: #0000ff; text-decoration-color: #0000ff; text-decoration: underline\">https://mansiononmainstreet.com/100-new-wedding-songs-for-2024-to-play-at-your-reception/)</span>\n",
       "Photo by Unsplash. Your wedding guests will be of different generations: from grandparents to nephews and nieces to\n",
       "friends of your own age. That is why both wedding planning experts and modern couples agree that today's weddings \n",
       "should feature a good mix of new wedding songs <span style=\"font-weight: bold\">(</span><span style=\"color: #008080; text-decoration-color: #008080; font-weight: bold\">40</span>% of your playlist<span style=\"font-weight: bold\">)</span> as well as the classics <span style=\"font-weight: bold\">(</span><span style=\"color: #008080; text-decoration-color: #008080; font-weight: bold\">60</span>% of your wedding \n",
       "party playlist<span style=\"font-weight: bold\">)</span>.\n",
       "\n",
       "|Top <span style=\"color: #008080; text-decoration-color: #008080; font-weight: bold\">10</span> Best Lil Wayne Songs - TheTopTens<span style=\"font-weight: bold\">](</span><span style=\"color: #0000ff; text-decoration-color: #0000ff; text-decoration: underline\">https://www.thetoptens.com/music/lil-wayne-songs/)</span>\n",
       "All Top Ten Lists Music Top <span style=\"color: #008080; text-decoration-color: #008080; font-weight: bold\">10</span> Best Lil Wayne Songs Lil Wayne, often referred to as Weezy, has been a major figure \n",
       "in hip hop since the late <span style=\"color: #008000; text-decoration-color: #008000\">'90s. From his early days with the Hot Boys to his solo career that'</span>s seen countless \n",
       "mixtapes, albums, and features, he's consistently pushed boundaries and redefined what it means to be a rapper.\n",
       "\n",
       "|Wedding Song Finder: Wedding Music for Every Moment - Bands For \n",
       "Hire<span style=\"font-weight: bold\">](</span><span style=\"color: #0000ff; text-decoration-color: #0000ff; text-decoration: underline\">https://www.bandsforhire.net/blog/wedding-songs)</span>\n",
       "Our database has been curated by the experienced staff at Bands For Hire and features a huge selection of music to \n",
       "cover the bridal entrance, signing of the registers, recessional, drinks reception, first dance, and more. So, \n",
       "whether you're searching for romantic ceremony music or a classic end-of-the-night sing-along, you're in the right \n",
       "place.\n",
       "\n",
       "|<span style=\"color: #008080; text-decoration-color: #008080; font-weight: bold\">27</span> Best Party Songs For Kids, All Clean and Dance \n",
       "Worthy<span style=\"font-weight: bold\">](</span><span style=\"color: #0000ff; text-decoration-color: #0000ff; text-decoration: underline\">https://www.musicindustryhowto.com/party-songs-for-kids/)</span>\n",
       "The <span style=\"color: #008000; text-decoration-color: #008000\">\"Cha Cha Slide\"</span> is arguably the best party song for getting everyone up and moving. It's not surprising that \n",
       "even over <span style=\"color: #008080; text-decoration-color: #008080; font-weight: bold\">20</span> years later, it's still one of the most well-known party songs. It's perfect for kids because the \n",
       "dance moves are effortless - all you need to do is follow the instructions that are shouted out throughout the \n",
       "song.\n",
       "\n",
       "|The Best Party Songs for Getting Guests on the Floor - Thrifty Little \n",
       "Mom<span style=\"font-weight: bold\">](</span><span style=\"color: #0000ff; text-decoration-color: #0000ff; text-decoration: underline\">https://thriftylittlemom.com/2018/11/30/the-best-party-songs-playlist/)</span>\n",
       "Lucky for you, I've put together what I feel is a list of the best party songs that will get your guests moving to \n",
       "the dance floor or at least bopping and rocking where they are standing. You can mix these up in whatever order you\n",
       "want! Where to get the party songs for adults listed: I've included a link to each of the songs on Amazon.\n",
       "\n",
       "|Event Party Venue in Savannah, Vacation Rental | The Wayne Mansion<span style=\"font-weight: bold\">](</span><span style=\"color: #0000ff; text-decoration-color: #0000ff; text-decoration: underline\">https://www.thewaynemansion.com/)</span>\n",
       "Learn more about The Wayne Mansion. G allery. View Photos. <span style=\"color: #008080; text-decoration-color: #008080; font-weight: bold\">204</span> E Hall St Savannah, GA <span style=\"color: #008080; text-decoration-color: #008080; font-weight: bold\">31401</span>. Tel: <span style=\"color: #008080; text-decoration-color: #008080; font-weight: bold\">912</span>-<span style=\"color: #008080; text-decoration-color: #008080; font-weight: bold\">257</span>-<span style=\"color: #008080; text-decoration-color: #008080; font-weight: bold\">4050</span>. \n",
       "Email: staylucky@luckysavannah.com. Book .\n",
       "\n",
       "|The Best Songs With Mansion in the Title - \n",
       "Ranker<span style=\"font-weight: bold\">](</span><span style=\"color: #0000ff; text-decoration-color: #0000ff; text-decoration: underline\">https://www.ranker.com/list/the-best-songs-with-mansion-in-the-title/ranker-music)</span>\n",
       "This list ranks the best songs with mansion in the name, regardless of genre. Most of the tracks listed here are \n",
       "songs about mansions, but almost all of them have different lyrical interpretations, despite the commonality of \n",
       "having the word mansion in the title. This ranked poll includes songs like <span style=\"color: #008000; text-decoration-color: #008000\">\"Mansions of Los Feliz\"</span> by Eels, and \n",
       "\"Thugz <span style=\"color: #808000; text-decoration-color: #808000\">...</span>\n",
       "</pre>\n"
      ],
      "text/plain": [
       "Observations: ## Search Results\n",
       "\n",
       "|\u001b[1;36m75\u001b[0m of the Best Wedding Party Songs to Add to Your Reception Music \n",
       "\u001b[33m...\u001b[0m\u001b[1m]\u001b[0m\u001b[1m(\u001b[0m\u001b[4;94mhttps://www.hitched.co.uk/wedding-songs/wedding-party/\u001b[0m\u001b[4;94m)\u001b[0m\n",
       "Technically, your wedding ceremony, that precious moment when you tie the knot, is the most important part of your \n",
       "big day, but it's your choice of wedding party songs that'll make guests want to boogie all night long - it's the \n",
       "ultimate wedding guest entertainment.. Secretly, everyone looks forward to the reception, and a good one requires \n",
       "stellar entertainment to set the right tone and bring \u001b[33m...\u001b[0m\n",
       "\n",
       "|Five perfect dinner party albums - Far Out Magazine\u001b[1m]\u001b[0m\u001b[1m(\u001b[0m\u001b[4;94mhttps://faroutmagazine.co.uk/?\u001b[0m\u001b[4;94mp\u001b[0m\u001b[4;94m=\u001b[0m\u001b[4;94m664977\u001b[0m\u001b[4;94m)\u001b[0m\n",
       "Counting down five perfect albums to accompany your next dinner party, including masterpiece albums by the likes of\n",
       "Tom Waits, Roy Ayers and Nina Simone. \u001b[33m...\u001b[0m Sat \u001b[1;36m22\u001b[0m March \u001b[1;36m2025\u001b[0m \u001b[1;92m14:00\u001b[0m, UK. A party without music is like gin without \n",
       "tonic; it'll get the job done, but it's a much more depressing affair. With the crazy dance music house parties \u001b[33m...\u001b[0m\n",
       "\n",
       "|Best Party Songs \u001b[1;36m2025\u001b[0m to \u001b[1;36m2026\u001b[0m - Top Party Hits \u001b[1;36m2025\u001b[0m \n",
       "Playlist\u001b[1m]\u001b[0m\u001b[1m(\u001b[0m\u001b[4;94mhttps://www.youtube.com/playlist?\u001b[0m\u001b[4;94mlist\u001b[0m\u001b[4;94m=\u001b[0m\u001b[4;94mPLC_2vDv6NRAEZ5xbUf0Sh0oQjHWiqYg6n\u001b[0m\u001b[4;94m)\u001b[0m\n",
       "Best Party Songs \u001b[1;36m2025\u001b[0m to \u001b[1;36m2026\u001b[0m - Top Party Hits \u001b[1;36m2025\u001b[0m Playlist No matter how your day is, you can always listen to \n",
       "good music: \u001b[1;36m1\u001b[0m. Top \u001b[1;36m100\u001b[0m Most Popular Party So\u001b[33m...\u001b[0m\n",
       "\n",
       "|\u001b[1;36m100\u001b[0m+ New Wedding Songs For \u001b[1;36m2024\u001b[0m To Play At Your \n",
       "Reception\u001b[1m]\u001b[0m\u001b[1m(\u001b[0m\u001b[4;94mhttps://mansiononmainstreet.com/100-new-wedding-songs-for-2024-to-play-at-your-reception/\u001b[0m\u001b[4;94m)\u001b[0m\n",
       "Photo by Unsplash. Your wedding guests will be of different generations: from grandparents to nephews and nieces to\n",
       "friends of your own age. That is why both wedding planning experts and modern couples agree that today's weddings \n",
       "should feature a good mix of new wedding songs \u001b[1m(\u001b[0m\u001b[1;36m40\u001b[0m% of your playlist\u001b[1m)\u001b[0m as well as the classics \u001b[1m(\u001b[0m\u001b[1;36m60\u001b[0m% of your wedding \n",
       "party playlist\u001b[1m)\u001b[0m.\n",
       "\n",
       "|Top \u001b[1;36m10\u001b[0m Best Lil Wayne Songs - TheTopTens\u001b[1m]\u001b[0m\u001b[1m(\u001b[0m\u001b[4;94mhttps://www.thetoptens.com/music/lil-wayne-songs/\u001b[0m\u001b[4;94m)\u001b[0m\n",
       "All Top Ten Lists Music Top \u001b[1;36m10\u001b[0m Best Lil Wayne Songs Lil Wayne, often referred to as Weezy, has been a major figure \n",
       "in hip hop since the late \u001b[32m'90s. From his early days with the Hot Boys to his solo career that'\u001b[0ms seen countless \n",
       "mixtapes, albums, and features, he's consistently pushed boundaries and redefined what it means to be a rapper.\n",
       "\n",
       "|Wedding Song Finder: Wedding Music for Every Moment - Bands For \n",
       "Hire\u001b[1m]\u001b[0m\u001b[1m(\u001b[0m\u001b[4;94mhttps://www.bandsforhire.net/blog/wedding-songs\u001b[0m\u001b[4;94m)\u001b[0m\n",
       "Our database has been curated by the experienced staff at Bands For Hire and features a huge selection of music to \n",
       "cover the bridal entrance, signing of the registers, recessional, drinks reception, first dance, and more. So, \n",
       "whether you're searching for romantic ceremony music or a classic end-of-the-night sing-along, you're in the right \n",
       "place.\n",
       "\n",
       "|\u001b[1;36m27\u001b[0m Best Party Songs For Kids, All Clean and Dance \n",
       "Worthy\u001b[1m]\u001b[0m\u001b[1m(\u001b[0m\u001b[4;94mhttps://www.musicindustryhowto.com/party-songs-for-kids/\u001b[0m\u001b[4;94m)\u001b[0m\n",
       "The \u001b[32m\"Cha Cha Slide\"\u001b[0m is arguably the best party song for getting everyone up and moving. It's not surprising that \n",
       "even over \u001b[1;36m20\u001b[0m years later, it's still one of the most well-known party songs. It's perfect for kids because the \n",
       "dance moves are effortless - all you need to do is follow the instructions that are shouted out throughout the \n",
       "song.\n",
       "\n",
       "|The Best Party Songs for Getting Guests on the Floor - Thrifty Little \n",
       "Mom\u001b[1m]\u001b[0m\u001b[1m(\u001b[0m\u001b[4;94mhttps://thriftylittlemom.com/2018/11/30/the-best-party-songs-playlist/\u001b[0m\u001b[4;94m)\u001b[0m\n",
       "Lucky for you, I've put together what I feel is a list of the best party songs that will get your guests moving to \n",
       "the dance floor or at least bopping and rocking where they are standing. You can mix these up in whatever order you\n",
       "want! Where to get the party songs for adults listed: I've included a link to each of the songs on Amazon.\n",
       "\n",
       "|Event Party Venue in Savannah, Vacation Rental | The Wayne Mansion\u001b[1m]\u001b[0m\u001b[1m(\u001b[0m\u001b[4;94mhttps://www.thewaynemansion.com/\u001b[0m\u001b[4;94m)\u001b[0m\n",
       "Learn more about The Wayne Mansion. G allery. View Photos. \u001b[1;36m204\u001b[0m E Hall St Savannah, GA \u001b[1;36m31401\u001b[0m. Tel: \u001b[1;36m912\u001b[0m-\u001b[1;36m257\u001b[0m-\u001b[1;36m4050\u001b[0m. \n",
       "Email: staylucky@luckysavannah.com. Book .\n",
       "\n",
       "|The Best Songs With Mansion in the Title - \n",
       "Ranker\u001b[1m]\u001b[0m\u001b[1m(\u001b[0m\u001b[4;94mhttps://www.ranker.com/list/the-best-songs-with-mansion-in-the-title/ranker-music\u001b[0m\u001b[4;94m)\u001b[0m\n",
       "This list ranks the best songs with mansion in the name, regardless of genre. Most of the tracks listed here are \n",
       "songs about mansions, but almost all of them have different lyrical interpretations, despite the commonality of \n",
       "having the word mansion in the title. This ranked poll includes songs like \u001b[32m\"Mansions of Los Feliz\"\u001b[0m by Eels, and \n",
       "\"Thugz \u001b[33m...\u001b[0m\n"
      ]
     },
     "metadata": {},
     "output_type": "display_data"
    },
    {
     "data": {
      "text/html": [
       "<pre style=\"white-space:pre;overflow-x:auto;line-height:normal;font-family:Menlo,'DejaVu Sans Mono',consolas,'Courier New',monospace\"><span style=\"color: #7f7f7f; text-decoration-color: #7f7f7f\">[Step 1: Duration 1.53 seconds| Input tokens: 1,061 | Output tokens: 14]</span>\n",
       "</pre>\n"
      ],
      "text/plain": [
       "\u001b[2m[Step 1: Duration 1.53 seconds| Input tokens: 1,061 | Output tokens: 14]\u001b[0m\n"
      ]
     },
     "metadata": {},
     "output_type": "display_data"
    },
    {
     "data": {
      "text/html": [
       "<pre style=\"white-space:pre;overflow-x:auto;line-height:normal;font-family:Menlo,'DejaVu Sans Mono',consolas,'Courier New',monospace\"><span style=\"color: #d4b702; text-decoration-color: #d4b702\">━━━━━━━━━━━━━━━━━━━━━━━━━━━━━━━━━━━━━━━━━━━━━━━━━━━━━ </span><span style=\"font-weight: bold\">Step </span><span style=\"color: #008080; text-decoration-color: #008080; font-weight: bold\">2</span><span style=\"color: #d4b702; text-decoration-color: #d4b702\"> ━━━━━━━━━━━━━━━━━━━━━━━━━━━━━━━━━━━━━━━━━━━━━━━━━━━━━━</span>\n",
       "</pre>\n"
      ],
      "text/plain": [
       "\u001b[38;2;212;183;2m━━━━━━━━━━━━━━━━━━━━━━━━━━━━━━━━━━━━━━━━━━━━━━━━━━━━━ \u001b[0m\u001b[1mStep \u001b[0m\u001b[1;36m2\u001b[0m\u001b[38;2;212;183;2m ━━━━━━━━━━━━━━━━━━━━━━━━━━━━━━━━━━━━━━━━━━━━━━━━━━━━━━\u001b[0m\n"
      ]
     },
     "metadata": {},
     "output_type": "display_data"
    },
    {
     "data": {
      "text/html": [
       "<pre style=\"white-space:pre;overflow-x:auto;line-height:normal;font-family:Menlo,'DejaVu Sans Mono',consolas,'Courier New',monospace\">╭─────────────────────────────────────────────────────────────────────────────────────────────────────────────────╮\n",
       "│ Calling tool: 'web_search' with arguments: {'query': 'party music playlist mansion'}                            │\n",
       "╰─────────────────────────────────────────────────────────────────────────────────────────────────────────────────╯\n",
       "</pre>\n"
      ],
      "text/plain": [
       "╭─────────────────────────────────────────────────────────────────────────────────────────────────────────────────╮\n",
       "│ Calling tool: 'web_search' with arguments: {'query': 'party music playlist mansion'}                            │\n",
       "╰─────────────────────────────────────────────────────────────────────────────────────────────────────────────────╯\n"
      ]
     },
     "metadata": {},
     "output_type": "display_data"
    },
    {
     "data": {
      "text/html": [
       "<pre style=\"white-space:pre;overflow-x:auto;line-height:normal;font-family:Menlo,'DejaVu Sans Mono',consolas,'Courier New',monospace\">Observations: ## Search Results\n",
       "\n",
       "|Top Songs - Mansion Accompaniment Tracks - \n",
       "YouTube<span style=\"font-weight: bold\">](</span><span style=\"color: #0000ff; text-decoration-color: #0000ff; text-decoration: underline\">https://www.youtube.com/playlist?list=OLAK5uy_lc2iMZFGTt284HeUy_JL-lgllrnragSsw)</span>\n",
       "Share your videos with friends, family, and the world\n",
       "\n",
       "|MANSION DANCE - playlist by DJ Edamame - Spotify<span style=\"font-weight: bold\">](</span><span style=\"color: #0000ff; text-decoration-color: #0000ff; text-decoration: underline\">https://open.spotify.com/playlist/3sHKE2grIttKvAnx5VnFS9)</span>\n",
       "MANSION DANCE · Playlist · <span style=\"color: #008080; text-decoration-color: #008080; font-weight: bold\">120</span> songs · <span style=\"color: #008080; text-decoration-color: #008080; font-weight: bold\">14</span> likes\n",
       "\n",
       "|Best House Music Sets On Soundcloud<span style=\"font-weight: bold\">](</span><span style=\"color: #0000ff; text-decoration-color: #0000ff; text-decoration: underline\">https://soundcloud.com/dirtymindmusic/sets/best-house-music-sets)</span>\n",
       "Listen to Best House Music Sets On Soundcloud, a playlist curated by DIRTY MIND MUSIC on desktop and mobile. \n",
       "SoundCloud Best House Music Sets <span style=\"color: #808000; text-decoration-color: #808000\">...</span> A Night at the Playboy Mansion mixed by Dimitri from Paris <span style=\"font-weight: bold\">(</span><span style=\"color: #008080; text-decoration-color: #008080; font-weight: bold\">2000</span><span style=\"font-weight: bold\">)</span> <span style=\"color: #008080; text-decoration-color: #008080; font-weight: bold\">032</span> - A \n",
       "Night at the Playboy Mansion mixed by Dimitri from Paris <span style=\"font-weight: bold\">(</span><span style=\"color: #008080; text-decoration-color: #008080; font-weight: bold\">2000</span><span style=\"font-weight: bold\">)</span> Like Follow\n",
       "\n",
       "|HOUSE Music PARTY Playlist |Reverb<span style=\"font-weight: bold\">]</span> - YouTube<span style=\"font-weight: bold\">](</span><span style=\"color: #0000ff; text-decoration-color: #0000ff; text-decoration: underline\">https://www.youtube.com/watch?v=nGv_hBOqBhM)</span>\n",
       "Elevate your party vibes with the ultimate House Music PARTY Playlist! With pulsating beats and infectious rhythms,\n",
       "this playlist is designed to keep you dan<span style=\"color: #808000; text-decoration-color: #808000\">...</span>\n",
       "\n",
       "|Hypnotic Downtempo House Mix at a New York Mansion Party <span style=\"color: #808000; text-decoration-color: #808000\">...</span> - \n",
       "YouTube<span style=\"font-weight: bold\">](</span><span style=\"color: #0000ff; text-decoration-color: #0000ff; text-decoration: underline\">https://www.youtube.com/watch?v=ow1ehp2slcQ)</span>\n",
       "Book Club Meeting #<span style=\"color: #008080; text-decoration-color: #008080; font-weight: bold\">18</span>: <span style=\"color: #008000; text-decoration-color: #008000\">\"SHAUNIE\"</span> plays a mix of global house and dark Detroit house music for our murder \n",
       "mystery-themed party at a mansion in New York City. <span style=\"color: #808000; text-decoration-color: #808000\">...</span>\n",
       "\n",
       "|<span style=\"color: #008080; text-decoration-color: #008080; font-weight: bold\">75</span> of the Best Wedding Party Songs to Add to Your Reception Music \n",
       "Playlist<span style=\"font-weight: bold\">](</span><span style=\"color: #0000ff; text-decoration-color: #0000ff; text-decoration: underline\">https://www.hitched.co.uk/wedding-songs/wedding-party/)</span>\n",
       "Technically, your wedding ceremony, that precious moment when you tie the knot, is the most important part of your \n",
       "big day, but it's your choice of wedding party songs that'll make guests want to boogie all night long - it's the \n",
       "ultimate wedding guest entertainment.. Secretly, everyone looks forward to the reception, and a good one requires \n",
       "stellar entertainment to set the right tone and bring <span style=\"color: #808000; text-decoration-color: #808000\">...</span>\n",
       "\n",
       "|Party Songs &amp; Music Free Download - Chosic<span style=\"font-weight: bold\">](</span><span style=\"color: #0000ff; text-decoration-color: #0000ff; text-decoration: underline\">https://www.chosic.com/free-music/party/)</span>\n",
       "Royalty free Party Songs &amp; Music Free Download mp3. Use this Party Songs &amp; music in your youtube video or any other\n",
       "project.\n",
       "\n",
       "|<span style=\"color: #008080; text-decoration-color: #008080; font-weight: bold\">100</span>+ New Wedding Songs For <span style=\"color: #008080; text-decoration-color: #008080; font-weight: bold\">2024</span> To Play At Your \n",
       "Reception<span style=\"font-weight: bold\">](</span><span style=\"color: #0000ff; text-decoration-color: #0000ff; text-decoration: underline\">https://mansiononmainstreet.com/100-new-wedding-songs-for-2024-to-play-at-your-reception/)</span>\n",
       "Photo by Unsplash. Your wedding guests will be of different generations: from grandparents to nephews and nieces to\n",
       "friends of your own age. That is why both wedding planning experts and modern couples agree that today's weddings \n",
       "should feature a good mix of new wedding songs <span style=\"font-weight: bold\">(</span><span style=\"color: #008080; text-decoration-color: #008080; font-weight: bold\">40</span>% of your playlist<span style=\"font-weight: bold\">)</span> as well as the classics <span style=\"font-weight: bold\">(</span><span style=\"color: #008080; text-decoration-color: #008080; font-weight: bold\">60</span>% of your wedding \n",
       "party playlist<span style=\"font-weight: bold\">)</span>.\n",
       "\n",
       "|Versace Mansion - playlist by Sace - Spotify<span style=\"font-weight: bold\">](</span><span style=\"color: #0000ff; text-decoration-color: #0000ff; text-decoration: underline\">https://open.spotify.com/playlist/1lvnQgfocx8aqpzW5weCgT)</span>\n",
       "Versace Mansion · Playlist · <span style=\"color: #008080; text-decoration-color: #008080; font-weight: bold\">21</span> songs · <span style=\"color: #008080; text-decoration-color: #008080; font-weight: bold\">1.</span>7K likes\n",
       "\n",
       "|<span style=\"color: #008080; text-decoration-color: #008080; font-weight: bold\">27</span> Best Party Songs For Kids, All Clean and Dance \n",
       "Worthy<span style=\"font-weight: bold\">](</span><span style=\"color: #0000ff; text-decoration-color: #0000ff; text-decoration: underline\">https://www.musicindustryhowto.com/party-songs-for-kids/)</span>\n",
       "The <span style=\"color: #008000; text-decoration-color: #008000\">\"Cha Cha Slide\"</span> is arguably the best party song for getting everyone up and moving. It's not surprising that \n",
       "even over <span style=\"color: #008080; text-decoration-color: #008080; font-weight: bold\">20</span> years later, it's still one of the most well-known party songs. It's perfect for kids because the \n",
       "dance moves are effortless - all you need to do is follow the instructions that are shouted out throughout the \n",
       "song.\n",
       "</pre>\n"
      ],
      "text/plain": [
       "Observations: ## Search Results\n",
       "\n",
       "|Top Songs - Mansion Accompaniment Tracks - \n",
       "YouTube\u001b[1m]\u001b[0m\u001b[1m(\u001b[0m\u001b[4;94mhttps://www.youtube.com/playlist?\u001b[0m\u001b[4;94mlist\u001b[0m\u001b[4;94m=\u001b[0m\u001b[4;94mOLAK5uy_lc2iMZFGTt284HeUy_JL\u001b[0m\u001b[4;94m-lgllrnragSsw\u001b[0m\u001b[4;94m)\u001b[0m\n",
       "Share your videos with friends, family, and the world\n",
       "\n",
       "|MANSION DANCE - playlist by DJ Edamame - Spotify\u001b[1m]\u001b[0m\u001b[1m(\u001b[0m\u001b[4;94mhttps://open.spotify.com/playlist/3sHKE2grIttKvAnx5VnFS9\u001b[0m\u001b[4;94m)\u001b[0m\n",
       "MANSION DANCE · Playlist · \u001b[1;36m120\u001b[0m songs · \u001b[1;36m14\u001b[0m likes\n",
       "\n",
       "|Best House Music Sets On Soundcloud\u001b[1m]\u001b[0m\u001b[1m(\u001b[0m\u001b[4;94mhttps://soundcloud.com/dirtymindmusic/sets/best-house-music-sets\u001b[0m\u001b[4;94m)\u001b[0m\n",
       "Listen to Best House Music Sets On Soundcloud, a playlist curated by DIRTY MIND MUSIC on desktop and mobile. \n",
       "SoundCloud Best House Music Sets \u001b[33m...\u001b[0m A Night at the Playboy Mansion mixed by Dimitri from Paris \u001b[1m(\u001b[0m\u001b[1;36m2000\u001b[0m\u001b[1m)\u001b[0m \u001b[1;36m032\u001b[0m - A \n",
       "Night at the Playboy Mansion mixed by Dimitri from Paris \u001b[1m(\u001b[0m\u001b[1;36m2000\u001b[0m\u001b[1m)\u001b[0m Like Follow\n",
       "\n",
       "|HOUSE Music PARTY Playlist |Reverb\u001b[1m]\u001b[0m - YouTube\u001b[1m]\u001b[0m\u001b[1m(\u001b[0m\u001b[4;94mhttps://www.youtube.com/watch?\u001b[0m\u001b[4;94mv\u001b[0m\u001b[4;94m=\u001b[0m\u001b[4;94mnGv_hBOqBhM\u001b[0m\u001b[4;94m)\u001b[0m\n",
       "Elevate your party vibes with the ultimate House Music PARTY Playlist! With pulsating beats and infectious rhythms,\n",
       "this playlist is designed to keep you dan\u001b[33m...\u001b[0m\n",
       "\n",
       "|Hypnotic Downtempo House Mix at a New York Mansion Party \u001b[33m...\u001b[0m - \n",
       "YouTube\u001b[1m]\u001b[0m\u001b[1m(\u001b[0m\u001b[4;94mhttps://www.youtube.com/watch?\u001b[0m\u001b[4;94mv\u001b[0m\u001b[4;94m=\u001b[0m\u001b[4;94mow1ehp2slcQ\u001b[0m\u001b[4;94m)\u001b[0m\n",
       "Book Club Meeting #\u001b[1;36m18\u001b[0m: \u001b[32m\"SHAUNIE\"\u001b[0m plays a mix of global house and dark Detroit house music for our murder \n",
       "mystery-themed party at a mansion in New York City. \u001b[33m...\u001b[0m\n",
       "\n",
       "|\u001b[1;36m75\u001b[0m of the Best Wedding Party Songs to Add to Your Reception Music \n",
       "Playlist\u001b[1m]\u001b[0m\u001b[1m(\u001b[0m\u001b[4;94mhttps://www.hitched.co.uk/wedding-songs/wedding-party/\u001b[0m\u001b[4;94m)\u001b[0m\n",
       "Technically, your wedding ceremony, that precious moment when you tie the knot, is the most important part of your \n",
       "big day, but it's your choice of wedding party songs that'll make guests want to boogie all night long - it's the \n",
       "ultimate wedding guest entertainment.. Secretly, everyone looks forward to the reception, and a good one requires \n",
       "stellar entertainment to set the right tone and bring \u001b[33m...\u001b[0m\n",
       "\n",
       "|Party Songs & Music Free Download - Chosic\u001b[1m]\u001b[0m\u001b[1m(\u001b[0m\u001b[4;94mhttps://www.chosic.com/free-music/party/\u001b[0m\u001b[4;94m)\u001b[0m\n",
       "Royalty free Party Songs & Music Free Download mp3. Use this Party Songs & music in your youtube video or any other\n",
       "project.\n",
       "\n",
       "|\u001b[1;36m100\u001b[0m+ New Wedding Songs For \u001b[1;36m2024\u001b[0m To Play At Your \n",
       "Reception\u001b[1m]\u001b[0m\u001b[1m(\u001b[0m\u001b[4;94mhttps://mansiononmainstreet.com/100-new-wedding-songs-for-2024-to-play-at-your-reception/\u001b[0m\u001b[4;94m)\u001b[0m\n",
       "Photo by Unsplash. Your wedding guests will be of different generations: from grandparents to nephews and nieces to\n",
       "friends of your own age. That is why both wedding planning experts and modern couples agree that today's weddings \n",
       "should feature a good mix of new wedding songs \u001b[1m(\u001b[0m\u001b[1;36m40\u001b[0m% of your playlist\u001b[1m)\u001b[0m as well as the classics \u001b[1m(\u001b[0m\u001b[1;36m60\u001b[0m% of your wedding \n",
       "party playlist\u001b[1m)\u001b[0m.\n",
       "\n",
       "|Versace Mansion - playlist by Sace - Spotify\u001b[1m]\u001b[0m\u001b[1m(\u001b[0m\u001b[4;94mhttps://open.spotify.com/playlist/1lvnQgfocx8aqpzW5weCgT\u001b[0m\u001b[4;94m)\u001b[0m\n",
       "Versace Mansion · Playlist · \u001b[1;36m21\u001b[0m songs · \u001b[1;36m1.\u001b[0m7K likes\n",
       "\n",
       "|\u001b[1;36m27\u001b[0m Best Party Songs For Kids, All Clean and Dance \n",
       "Worthy\u001b[1m]\u001b[0m\u001b[1m(\u001b[0m\u001b[4;94mhttps://www.musicindustryhowto.com/party-songs-for-kids/\u001b[0m\u001b[4;94m)\u001b[0m\n",
       "The \u001b[32m\"Cha Cha Slide\"\u001b[0m is arguably the best party song for getting everyone up and moving. It's not surprising that \n",
       "even over \u001b[1;36m20\u001b[0m years later, it's still one of the most well-known party songs. It's perfect for kids because the \n",
       "dance moves are effortless - all you need to do is follow the instructions that are shouted out throughout the \n",
       "song.\n"
      ]
     },
     "metadata": {},
     "output_type": "display_data"
    },
    {
     "data": {
      "text/html": [
       "<pre style=\"white-space:pre;overflow-x:auto;line-height:normal;font-family:Menlo,'DejaVu Sans Mono',consolas,'Courier New',monospace\"><span style=\"color: #7f7f7f; text-decoration-color: #7f7f7f\">[Step 2: Duration 2.12 seconds| Input tokens: 3,331 | Output tokens: 22]</span>\n",
       "</pre>\n"
      ],
      "text/plain": [
       "\u001b[2m[Step 2: Duration 2.12 seconds| Input tokens: 3,331 | Output tokens: 22]\u001b[0m\n"
      ]
     },
     "metadata": {},
     "output_type": "display_data"
    },
    {
     "data": {
      "text/html": [
       "<pre style=\"white-space:pre;overflow-x:auto;line-height:normal;font-family:Menlo,'DejaVu Sans Mono',consolas,'Courier New',monospace\"><span style=\"color: #d4b702; text-decoration-color: #d4b702\">━━━━━━━━━━━━━━━━━━━━━━━━━━━━━━━━━━━━━━━━━━━━━━━━━━━━━ </span><span style=\"font-weight: bold\">Step </span><span style=\"color: #008080; text-decoration-color: #008080; font-weight: bold\">3</span><span style=\"color: #d4b702; text-decoration-color: #d4b702\"> ━━━━━━━━━━━━━━━━━━━━━━━━━━━━━━━━━━━━━━━━━━━━━━━━━━━━━━</span>\n",
       "</pre>\n"
      ],
      "text/plain": [
       "\u001b[38;2;212;183;2m━━━━━━━━━━━━━━━━━━━━━━━━━━━━━━━━━━━━━━━━━━━━━━━━━━━━━ \u001b[0m\u001b[1mStep \u001b[0m\u001b[1;36m3\u001b[0m\u001b[38;2;212;183;2m ━━━━━━━━━━━━━━━━━━━━━━━━━━━━━━━━━━━━━━━━━━━━━━━━━━━━━━\u001b[0m\n"
      ]
     },
     "metadata": {},
     "output_type": "display_data"
    },
    {
     "data": {
      "text/html": [
       "<pre style=\"white-space:pre;overflow-x:auto;line-height:normal;font-family:Menlo,'DejaVu Sans Mono',consolas,'Courier New',monospace\">╭─────────────────────────────────────────────────────────────────────────────────────────────────────────────────╮\n",
       "│ Calling tool: 'final_answer' with arguments: {'answer': \"A mix of classic and modern music is recommended for a │\n",
       "│ party at Wayne's mansion. Consider these genres: Classic rock, Jazz, Classical, and modern pop/house music. You │\n",
       "│ can find playlists on Youtube and Spotify by searching 'mansion party music' or 'house party music' for         │\n",
       "│ inspiration. For a sophisticated vibe, consider hiring a DJ who specializes in house music, or creating a       │\n",
       "│ playlist with songs by artists like Tom Waits, Roy Ayers and Nina Simone. A mix of current hits (40%) and       │\n",
       "│ classics (60%) will appeal to a broad audience.\"}                                                               │\n",
       "╰─────────────────────────────────────────────────────────────────────────────────────────────────────────────────╯\n",
       "</pre>\n"
      ],
      "text/plain": [
       "╭─────────────────────────────────────────────────────────────────────────────────────────────────────────────────╮\n",
       "│ Calling tool: 'final_answer' with arguments: {'answer': \"A mix of classic and modern music is recommended for a │\n",
       "│ party at Wayne's mansion. Consider these genres: Classic rock, Jazz, Classical, and modern pop/house music. You │\n",
       "│ can find playlists on Youtube and Spotify by searching 'mansion party music' or 'house party music' for         │\n",
       "│ inspiration. For a sophisticated vibe, consider hiring a DJ who specializes in house music, or creating a       │\n",
       "│ playlist with songs by artists like Tom Waits, Roy Ayers and Nina Simone. A mix of current hits (40%) and       │\n",
       "│ classics (60%) will appeal to a broad audience.\"}                                                               │\n",
       "╰─────────────────────────────────────────────────────────────────────────────────────────────────────────────────╯\n"
      ]
     },
     "metadata": {},
     "output_type": "display_data"
    },
    {
     "data": {
      "text/html": [
       "<pre style=\"white-space:pre;overflow-x:auto;line-height:normal;font-family:Menlo,'DejaVu Sans Mono',consolas,'Courier New',monospace\"><span style=\"color: #d4b702; text-decoration-color: #d4b702; font-weight: bold\">Final answer: A mix of classic and modern music is recommended for a party at Wayne's mansion. Consider these </span>\n",
       "<span style=\"color: #d4b702; text-decoration-color: #d4b702; font-weight: bold\">genres: Classic rock, Jazz, Classical, and modern pop/house music. You can find playlists on Youtube and Spotify by</span>\n",
       "<span style=\"color: #d4b702; text-decoration-color: #d4b702; font-weight: bold\">searching 'mansion party music' or 'house party music' for inspiration. For a sophisticated vibe, consider hiring a</span>\n",
       "<span style=\"color: #d4b702; text-decoration-color: #d4b702; font-weight: bold\">DJ who specializes in house music, or creating a playlist with songs by artists like Tom Waits, Roy Ayers and Nina </span>\n",
       "<span style=\"color: #d4b702; text-decoration-color: #d4b702; font-weight: bold\">Simone. A mix of current hits (40%) and classics (60%) will appeal to a broad audience.</span>\n",
       "</pre>\n"
      ],
      "text/plain": [
       "\u001b[1;38;2;212;183;2mFinal answer: A mix of classic and modern music is recommended for a party at Wayne's mansion. Consider these \u001b[0m\n",
       "\u001b[1;38;2;212;183;2mgenres: Classic rock, Jazz, Classical, and modern pop/house music. You can find playlists on Youtube and Spotify by\u001b[0m\n",
       "\u001b[1;38;2;212;183;2msearching 'mansion party music' or 'house party music' for inspiration. For a sophisticated vibe, consider hiring a\u001b[0m\n",
       "\u001b[1;38;2;212;183;2mDJ who specializes in house music, or creating a playlist with songs by artists like Tom Waits, Roy Ayers and Nina \u001b[0m\n",
       "\u001b[1;38;2;212;183;2mSimone. A mix of current hits (40%) and classics (60%) will appeal to a broad audience.\u001b[0m\n"
      ]
     },
     "metadata": {},
     "output_type": "display_data"
    },
    {
     "data": {
      "text/html": [
       "<pre style=\"white-space:pre;overflow-x:auto;line-height:normal;font-family:Menlo,'DejaVu Sans Mono',consolas,'Courier New',monospace\"><span style=\"color: #7f7f7f; text-decoration-color: #7f7f7f\">[Step 3: Duration 1.37 seconds| Input tokens: 6,495 | Output tokens: 142]</span>\n",
       "</pre>\n"
      ],
      "text/plain": [
       "\u001b[2m[Step 3: Duration 1.37 seconds| Input tokens: 6,495 | Output tokens: 142]\u001b[0m\n"
      ]
     },
     "metadata": {},
     "output_type": "display_data"
    },
    {
     "data": {
      "text/plain": [
       "\"A mix of classic and modern music is recommended for a party at Wayne's mansion. Consider these genres: Classic rock, Jazz, Classical, and modern pop/house music. You can find playlists on Youtube and Spotify by searching 'mansion party music' or 'house party music' for inspiration. For a sophisticated vibe, consider hiring a DJ who specializes in house music, or creating a playlist with songs by artists like Tom Waits, Roy Ayers and Nina Simone. A mix of current hits (40%) and classics (60%) will appeal to a broad audience.\""
      ]
     },
     "execution_count": 3,
     "metadata": {},
     "output_type": "execute_result"
    }
   ],
   "source": [
    "agent = ToolCallingAgent(tools=[DuckDuckGoSearchTool()], model=model)\n",
    "agent.run(\n",
    "    \"Search for the best music recommendations for a party at the Wayne's mansion.\"\n",
    ")"
   ]
  },
  {
   "cell_type": "code",
   "execution_count": null,
   "metadata": {},
   "outputs": [],
   "source": []
  }
 ],
 "metadata": {
  "kernelspec": {
   "display_name": ".venv",
   "language": "python",
   "name": "python3"
  },
  "language_info": {
   "codemirror_mode": {
    "name": "ipython",
    "version": 3
   },
   "file_extension": ".py",
   "mimetype": "text/x-python",
   "name": "python",
   "nbconvert_exporter": "python",
   "pygments_lexer": "ipython3",
   "version": "3.12.7"
  }
 },
 "nbformat": 4,
 "nbformat_minor": 2
}

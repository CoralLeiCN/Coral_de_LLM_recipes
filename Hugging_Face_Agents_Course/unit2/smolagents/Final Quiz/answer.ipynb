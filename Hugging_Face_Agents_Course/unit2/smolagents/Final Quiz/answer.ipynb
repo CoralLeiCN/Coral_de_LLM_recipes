{
 "cells": [
  {
   "cell_type": "markdown",
   "id": "71edc65a",
   "metadata": {},
   "source": [
    "Q1"
   ]
  },
  {
   "cell_type": "code",
   "execution_count": null,
   "id": "46441b58",
   "metadata": {},
   "outputs": [],
   "source": [
    "# Create a CodeAgent with DuckDuckGo search capability\n",
    "from smolagents import CodeAgent, DuckDuckGoSearchTool, HfApiModel\n",
    "\n",
    "agent = CodeAgent(\n",
    "    tools=[DuckDuckGoSearchTool()],  # Add search tool here\n",
    "    model=HfApiModel(\"Qwen/Qwen2.5-Coder-32B-Instruct\"),  # Add model here\n",
    ")"
   ]
  },
  {
   "cell_type": "markdown",
   "id": "3ad3d886",
   "metadata": {},
   "source": [
    "Q2"
   ]
  },
  {
   "cell_type": "code",
   "execution_count": null,
   "id": "593e6f5d",
   "metadata": {},
   "outputs": [],
   "source": []
  },
  {
   "cell_type": "code",
   "execution_count": null,
   "id": "28b3cda5",
   "metadata": {},
   "outputs": [],
   "source": [
    "from smolagents import (\n",
    "    CodeAgent,\n",
    "    DuckDuckGoSearchTool,\n",
    "    HfApiModel,\n",
    "    ToolCallingAgent,\n",
    "    VisitWebpageTool,\n",
    ")\n",
    "\n",
    "model = HfApiModel(\"Qwen/Qwen2.5-Coder-32B-Instruct\")\n",
    "\n",
    "# Create web agent and manager agent structure\n",
    "web_agent = ToolCallingAgent(\n",
    "    model=model,  # Add model\n",
    "    tools=[\n",
    "        DuckDuckGoSearchTool(),\n",
    "        VisitWebpageTool(),\n",
    "    ],  # Add required tools\n",
    "    max_steps=10,  # Adjust steps\n",
    "    name=\"web_agent\",  # Add name\n",
    "    description=\"Browses the web to find information\",  # Add description\n",
    ")\n",
    "\n",
    "manager_agent = CodeAgent(\n",
    "    model=model,\n",
    "    tools=[],\n",
    "    managed_agents=[web_agent],\n",
    "    max_steps=15,\n",
    "    additional_authorized_imports=[\"json\"],\n",
    ")"
   ]
  },
  {
   "cell_type": "markdown",
   "id": "22f6034c",
   "metadata": {},
   "source": [
    "Q3"
   ]
  },
  {
   "cell_type": "code",
   "execution_count": null,
   "id": "1bda3686",
   "metadata": {},
   "outputs": [],
   "source": [
    "# Configure Agent Security Settings\n",
    "\n",
    "# Assessment Criteria:\n",
    "# E2B sandbox is properly configured\n",
    "# Authorized imports are appropriately limited\n",
    "# Security settings are correctly implemented\n",
    "# Basic agent configuration is maintained\n",
    "\n",
    "# Set up secure code execution environment\n",
    "from smolagents import CodeAgent\n",
    "\n",
    "agent = CodeAgent(\n",
    "    tools=[], model=model, executor_type=\"e2b\", additional_authorized_imports=[\"numpy\"]\n",
    ")"
   ]
  },
  {
   "cell_type": "markdown",
   "id": "a3e1691d",
   "metadata": {},
   "source": [
    "Q4"
   ]
  },
  {
   "cell_type": "code",
   "execution_count": null,
   "id": "2ac4bd4e",
   "metadata": {},
   "outputs": [],
   "source": [
    "# Implement a Tool-Calling Agent\n",
    "\n",
    "# Assessment Criteria:\n",
    "# Tools are properly configured\n",
    "# Step limit is set appropriately\n",
    "# Agent name and description are provided\n",
    "# Basic configuration is complete\n",
    "# Create a tool-calling agent\n",
    "from smolagents import (\n",
    "    DuckDuckGoSearchTool,\n",
    "    HfApiModel,\n",
    "    ToolCallingAgent,\n",
    "    VisitWebpageTool,\n",
    ")\n",
    "\n",
    "model = HfApiModel(\"Qwen/Qwen2.5-Coder-32B-Instruct\")\n",
    "\n",
    "agent = ToolCallingAgent(\n",
    "    model=model,  # Add model\n",
    "    tools=[\n",
    "        DuckDuckGoSearchTool(),\n",
    "        VisitWebpageTool(),\n",
    "    ],  # Add required tools\n",
    "    max_steps=10,  # Adjust steps\n",
    "    name=\"web_agent\",  # Add name\n",
    "    description=\"Browses the web to find information\",\n",
    ")"
   ]
  },
  {
   "cell_type": "markdown",
   "id": "406e6129",
   "metadata": {},
   "source": [
    "Q5"
   ]
  },
  {
   "cell_type": "code",
   "execution_count": null,
   "id": "0e770922",
   "metadata": {},
   "outputs": [],
   "source": [
    "import os\n",
    "from smolagents import OpenAIServerModel\n",
    "\n",
    "\n",
    "def gemini_model_OpenAIServer(model: str) -> OpenAIServerModel:\n",
    "    model = OpenAIServerModel(\n",
    "        model_id=model,\n",
    "        api_base=\"https://generativelanguage.googleapis.com/v1beta/openai/\",\n",
    "        api_key=os.environ[\"GOOGLE_API_KEY\"],\n",
    "    )\n",
    "    return model\n",
    "\n",
    "\n",
    "model = gemini_model_OpenAIServer(\"gemini-2.0-flash\")"
   ]
  },
  {
   "cell_type": "code",
   "execution_count": null,
   "id": "82f5b042",
   "metadata": {},
   "outputs": [],
   "source": []
  }
 ],
 "metadata": {
  "kernelspec": {
   "display_name": ".venv",
   "language": "python",
   "name": "python3"
  },
  "language_info": {
   "codemirror_mode": {
    "name": "ipython",
    "version": 3
   },
   "file_extension": ".py",
   "mimetype": "text/x-python",
   "name": "python",
   "nbconvert_exporter": "python",
   "pygments_lexer": "ipython3",
   "version": "3.12.7"
  }
 },
 "nbformat": 4,
 "nbformat_minor": 5
}

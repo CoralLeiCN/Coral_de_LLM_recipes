{
 "cells": [
  {
   "cell_type": "code",
   "execution_count": 5,
   "id": "5492ab43",
   "metadata": {},
   "outputs": [],
   "source": [
    "from smolagents import CodeAgent, DuckDuckGoSearchTool, HfApiModel\n",
    "from utils import gemini_model_OpenAIServer"
   ]
  },
  {
   "cell_type": "code",
   "execution_count": 8,
   "id": "3ee6a700",
   "metadata": {},
   "outputs": [],
   "source": [
    "model = gemini_model_OpenAIServer(\"gemini-2.0-flash\")"
   ]
  },
  {
   "cell_type": "markdown",
   "id": "194cca76",
   "metadata": {},
   "source": [
    "Basic Retrieval with DuckDuckGo"
   ]
  },
  {
   "cell_type": "code",
   "execution_count": 9,
   "id": "6b9cb234",
   "metadata": {},
   "outputs": [
    {
     "data": {
      "text/html": [
       "<pre style=\"white-space:pre;overflow-x:auto;line-height:normal;font-family:Menlo,'DejaVu Sans Mono',consolas,'Courier New',monospace\"><span style=\"color: #d4b702; text-decoration-color: #d4b702\">╭──────────────────────────────────────────────────── </span><span style=\"color: #d4b702; text-decoration-color: #d4b702; font-weight: bold\">New run</span><span style=\"color: #d4b702; text-decoration-color: #d4b702\"> ────────────────────────────────────────────────────╮</span>\n",
       "<span style=\"color: #d4b702; text-decoration-color: #d4b702\">│</span>                                                                                                                 <span style=\"color: #d4b702; text-decoration-color: #d4b702\">│</span>\n",
       "<span style=\"color: #d4b702; text-decoration-color: #d4b702\">│</span> <span style=\"font-weight: bold\">Search for luxury superhero-themed party ideas, including decorations, entertainment, and catering.</span>             <span style=\"color: #d4b702; text-decoration-color: #d4b702\">│</span>\n",
       "<span style=\"color: #d4b702; text-decoration-color: #d4b702\">│</span>                                                                                                                 <span style=\"color: #d4b702; text-decoration-color: #d4b702\">│</span>\n",
       "<span style=\"color: #d4b702; text-decoration-color: #d4b702\">╰─ OpenAIServerModel - gemini-2.0-flash ──────────────────────────────────────────────────────────────────────────╯</span>\n",
       "</pre>\n"
      ],
      "text/plain": [
       "\u001b[38;2;212;183;2m╭─\u001b[0m\u001b[38;2;212;183;2m───────────────────────────────────────────────────\u001b[0m\u001b[38;2;212;183;2m \u001b[0m\u001b[1;38;2;212;183;2mNew run\u001b[0m\u001b[38;2;212;183;2m \u001b[0m\u001b[38;2;212;183;2m───────────────────────────────────────────────────\u001b[0m\u001b[38;2;212;183;2m─╮\u001b[0m\n",
       "\u001b[38;2;212;183;2m│\u001b[0m                                                                                                                 \u001b[38;2;212;183;2m│\u001b[0m\n",
       "\u001b[38;2;212;183;2m│\u001b[0m \u001b[1mSearch for luxury superhero-themed party ideas, including decorations, entertainment, and catering.\u001b[0m             \u001b[38;2;212;183;2m│\u001b[0m\n",
       "\u001b[38;2;212;183;2m│\u001b[0m                                                                                                                 \u001b[38;2;212;183;2m│\u001b[0m\n",
       "\u001b[38;2;212;183;2m╰─\u001b[0m\u001b[38;2;212;183;2m OpenAIServerModel - gemini-2.0-flash \u001b[0m\u001b[38;2;212;183;2m─────────────────────────────────────────────────────────────────────────\u001b[0m\u001b[38;2;212;183;2m─╯\u001b[0m\n"
      ]
     },
     "metadata": {},
     "output_type": "display_data"
    },
    {
     "data": {
      "text/html": [
       "<pre style=\"white-space:pre;overflow-x:auto;line-height:normal;font-family:Menlo,'DejaVu Sans Mono',consolas,'Courier New',monospace\"><span style=\"color: #d4b702; text-decoration-color: #d4b702\">━━━━━━━━━━━━━━━━━━━━━━━━━━━━━━━━━━━━━━━━━━━━━━━━━━━━━ </span><span style=\"font-weight: bold\">Step </span><span style=\"color: #008080; text-decoration-color: #008080; font-weight: bold\">1</span><span style=\"color: #d4b702; text-decoration-color: #d4b702\"> ━━━━━━━━━━━━━━━━━━━━━━━━━━━━━━━━━━━━━━━━━━━━━━━━━━━━━━</span>\n",
       "</pre>\n"
      ],
      "text/plain": [
       "\u001b[38;2;212;183;2m━━━━━━━━━━━━━━━━━━━━━━━━━━━━━━━━━━━━━━━━━━━━━━━━━━━━━ \u001b[0m\u001b[1mStep \u001b[0m\u001b[1;36m1\u001b[0m\u001b[38;2;212;183;2m ━━━━━━━━━━━━━━━━━━━━━━━━━━━━━━━━━━━━━━━━━━━━━━━━━━━━━━\u001b[0m\n"
      ]
     },
     "metadata": {},
     "output_type": "display_data"
    },
    {
     "data": {
      "text/html": [
       "<pre style=\"white-space:pre;overflow-x:auto;line-height:normal;font-family:Menlo,'DejaVu Sans Mono',consolas,'Courier New',monospace\"> ─ <span style=\"font-weight: bold\">Executing parsed code:</span> ──────────────────────────────────────────────────────────────────────────────────────── \n",
       "  <span style=\"color: #f8f8f2; text-decoration-color: #f8f8f2; background-color: #272822\">search_results </span><span style=\"color: #ff4689; text-decoration-color: #ff4689; background-color: #272822\">=</span><span style=\"color: #f8f8f2; text-decoration-color: #f8f8f2; background-color: #272822\"> web_search(query</span><span style=\"color: #ff4689; text-decoration-color: #ff4689; background-color: #272822\">=</span><span style=\"color: #e6db74; text-decoration-color: #e6db74; background-color: #272822\">\"luxury superhero themed party ideas decorations entertainment catering\"</span><span style=\"color: #f8f8f2; text-decoration-color: #f8f8f2; background-color: #272822\">)</span><span style=\"background-color: #272822\">    </span>  \n",
       "  <span style=\"color: #f8f8f2; text-decoration-color: #f8f8f2; background-color: #272822\">print(search_results)</span><span style=\"background-color: #272822\">                                                                                          </span>  \n",
       " ───────────────────────────────────────────────────────────────────────────────────────────────────────────────── \n",
       "</pre>\n"
      ],
      "text/plain": [
       " ─ \u001b[1mExecuting parsed code:\u001b[0m ──────────────────────────────────────────────────────────────────────────────────────── \n",
       "  \u001b[38;2;248;248;242;48;2;39;40;34msearch_results\u001b[0m\u001b[38;2;248;248;242;48;2;39;40;34m \u001b[0m\u001b[38;2;255;70;137;48;2;39;40;34m=\u001b[0m\u001b[38;2;248;248;242;48;2;39;40;34m \u001b[0m\u001b[38;2;248;248;242;48;2;39;40;34mweb_search\u001b[0m\u001b[38;2;248;248;242;48;2;39;40;34m(\u001b[0m\u001b[38;2;248;248;242;48;2;39;40;34mquery\u001b[0m\u001b[38;2;255;70;137;48;2;39;40;34m=\u001b[0m\u001b[38;2;230;219;116;48;2;39;40;34m\"\u001b[0m\u001b[38;2;230;219;116;48;2;39;40;34mluxury superhero themed party ideas decorations entertainment catering\u001b[0m\u001b[38;2;230;219;116;48;2;39;40;34m\"\u001b[0m\u001b[38;2;248;248;242;48;2;39;40;34m)\u001b[0m\u001b[48;2;39;40;34m    \u001b[0m  \n",
       "  \u001b[38;2;248;248;242;48;2;39;40;34mprint\u001b[0m\u001b[38;2;248;248;242;48;2;39;40;34m(\u001b[0m\u001b[38;2;248;248;242;48;2;39;40;34msearch_results\u001b[0m\u001b[38;2;248;248;242;48;2;39;40;34m)\u001b[0m\u001b[48;2;39;40;34m                                                                                          \u001b[0m  \n",
       " ───────────────────────────────────────────────────────────────────────────────────────────────────────────────── \n"
      ]
     },
     "metadata": {},
     "output_type": "display_data"
    },
    {
     "data": {
      "text/html": [
       "<pre style=\"white-space:pre;overflow-x:auto;line-height:normal;font-family:Menlo,'DejaVu Sans Mono',consolas,'Courier New',monospace\"><span style=\"font-weight: bold\">Execution logs:</span>\n",
       "## Search Results\n",
       "\n",
       "[15 Ideas for Superhero-Themed Events - \n",
       "BizBash](https://www.bizbash.com/catering-design/event-design-decor/media-gallery/13479192/15-ideas-for-superheroth\n",
       "emed-events)\n",
       "New York's Robin Hood Foundation, which hosts one of the largest and most successful benefits in the city, tapped \n",
       "contacts at DC Comics to help create a superhero theme for its 2011 gala. The planning and design team created an \n",
       "emblem and slogan—\"the forces of good are gathering\"—that marked the night's invite and main cocktail area.\n",
       "\n",
       "[Heroes and Villains: The Ultimate Guide to Superhero \n",
       "Parties](https://scarlettentertainment.com/gb/blog/heroes-and-villains-the-ultimate-guide-to-superhero-parties)\n",
       "Worshipped by millions, comic book characters are more popular than ever, which consequently make heroes and \n",
       "villains parties a steady entertainment trend. Especially popular for Halloween party themes, Superhero parties are\n",
       "the go-to theme for any sort of event these days, and be aware: villains are now VIP guests!\n",
       "\n",
       "[Partica - Balloons and Party Decorations](https://partica.co.uk/)\n",
       "Discover Luxury Now. Celebrate the Big Reveal! ... Power Up Your Party with Our Superhero Supplies! Bring out the \n",
       "capes and masks and get ready to celebrate with our superhero-themed party supplies. Our balloons and decorations \n",
       "are sure to create an adventurous atmosphere, making every guest feel like a true hero! ...\n",
       "\n",
       "[24 Superhero Party Ideas that Will Make You Wish You Were a \n",
       "Kid](https://howdoesshe.com/24-incredible-superhero-party-ideas-that-will-make-you-wish-you-were-a-kid-again/)\n",
       "Let your superman show his own superpowers!Kids (and even adults) who love superheroes will fall in love with these\n",
       "incredible superhero theme party ideas that will bring out the kid in everyone! From decor ideas, party foods, and \n",
       "costume ideas to superhero-themed activities and superhero games, we have different ways to cover all of your party\n",
       "needs. These ideas will make you wish you were a ...\n",
       "\n",
       "[The Best Superhero Party Ideas For An Epic Party - Smart Party \n",
       "Planning](https://smartpartyplanning.com/superhero-party-ideas/)\n",
       "It is always recommended to have a party backdrop behind your food table. This backdrop can also be used as a photo\n",
       "booth. Choose 3 colors to create the backdrop. If you don't want to create your own backdrop, you could purchase a \n",
       "skyline scene setter.. An easy way to give instant superhero appeal is to create buildings either on the food table\n",
       "or around the party area.\n",
       "\n",
       "[Superhero Party Decorations - Partyrama](https://www.partyrama.co.uk/themes/superhero-party-decorations/)\n",
       "Superhero Party Decorations Give your party an impressive and heroic setting with our superb range of Superhero \n",
       "Party Decorations. Perfect for kids of all ages (and adults too!), we have some bright and brilliant party décor in\n",
       "a wide range of themes, colours and styles to jazz up all sizes of party venue.\n",
       "\n",
       "[By a Pro: Superhero Party Ideas by a Professional](https://party-ideas-by-a-pro.com/party-themes/superhero-party/)\n",
       "Superhero party ideas by an award winning professional party planner including ideas for invitations, party food &amp; \n",
       "drinks, decorations, and party supplies ... Patriotic 4th of July recipes can easily be repurposed as Captain \n",
       "America themed Superhero party food, such as these recipes for Red, White, ... 08 superhero party decorations . \n",
       "Below are ...\n",
       "\n",
       "[How To Throw An Epic Superhero and Villain-Themed \n",
       "Party](https://www.onstage.com.au/superhero-and-villain-themed-party/)\n",
       "Planning Your Superhero and Villain-Themed Party ... DIY Decoration Ideas. For the crafty host, DIY decorations can\n",
       "add a personal touch and be a cost-effective method to populate the space with distinctive items. Homemade capes on\n",
       "chairs, masks as wall decor, and hand-painted signs directing to different areas within the venue are ways to ...\n",
       "\n",
       "[Mini Party Plan: How to Plan a Superhero Birthday \n",
       "Party](https://thepartyteacher.com/2018/08/23/mini-party-plan-superhero-party/)\n",
       "One of the most popular posts on this blog is a girl's superhero party. So I thought it might be fun to create a \n",
       "mini party plan for a superhero birthday party. I styled this mini party plan in the traditional red, yellow, and \n",
       "blue, but you could change the color palette for a more girly pink and purple superhero party, if you prefer.\n",
       "\n",
       "[Superhero Decorations &amp; Tableware | Value Packs - Party \n",
       "Packs](https://www.partypacks.co.uk/collections/superhero-decorations-tableware)\n",
       "Make sure your superhero table looks the part with our fantastic range of heroic cups, plates, napkins, superhero \n",
       "balloons and more! With a brilliant retro pop art range featuring tablecovers, bowls, confetti and cake decorating \n",
       "kits, to Avengers tableware with your favourite superheroes and villains on!\n",
       "\n",
       "Out: None\n",
       "</pre>\n"
      ],
      "text/plain": [
       "\u001b[1mExecution logs:\u001b[0m\n",
       "## Search Results\n",
       "\n",
       "[15 Ideas for Superhero-Themed Events - \n",
       "BizBash](https://www.bizbash.com/catering-design/event-design-decor/media-gallery/13479192/15-ideas-for-superheroth\n",
       "emed-events)\n",
       "New York's Robin Hood Foundation, which hosts one of the largest and most successful benefits in the city, tapped \n",
       "contacts at DC Comics to help create a superhero theme for its 2011 gala. The planning and design team created an \n",
       "emblem and slogan—\"the forces of good are gathering\"—that marked the night's invite and main cocktail area.\n",
       "\n",
       "[Heroes and Villains: The Ultimate Guide to Superhero \n",
       "Parties](https://scarlettentertainment.com/gb/blog/heroes-and-villains-the-ultimate-guide-to-superhero-parties)\n",
       "Worshipped by millions, comic book characters are more popular than ever, which consequently make heroes and \n",
       "villains parties a steady entertainment trend. Especially popular for Halloween party themes, Superhero parties are\n",
       "the go-to theme for any sort of event these days, and be aware: villains are now VIP guests!\n",
       "\n",
       "[Partica - Balloons and Party Decorations](https://partica.co.uk/)\n",
       "Discover Luxury Now. Celebrate the Big Reveal! ... Power Up Your Party with Our Superhero Supplies! Bring out the \n",
       "capes and masks and get ready to celebrate with our superhero-themed party supplies. Our balloons and decorations \n",
       "are sure to create an adventurous atmosphere, making every guest feel like a true hero! ...\n",
       "\n",
       "[24 Superhero Party Ideas that Will Make You Wish You Were a \n",
       "Kid](https://howdoesshe.com/24-incredible-superhero-party-ideas-that-will-make-you-wish-you-were-a-kid-again/)\n",
       "Let your superman show his own superpowers!Kids (and even adults) who love superheroes will fall in love with these\n",
       "incredible superhero theme party ideas that will bring out the kid in everyone! From decor ideas, party foods, and \n",
       "costume ideas to superhero-themed activities and superhero games, we have different ways to cover all of your party\n",
       "needs. These ideas will make you wish you were a ...\n",
       "\n",
       "[The Best Superhero Party Ideas For An Epic Party - Smart Party \n",
       "Planning](https://smartpartyplanning.com/superhero-party-ideas/)\n",
       "It is always recommended to have a party backdrop behind your food table. This backdrop can also be used as a photo\n",
       "booth. Choose 3 colors to create the backdrop. If you don't want to create your own backdrop, you could purchase a \n",
       "skyline scene setter.. An easy way to give instant superhero appeal is to create buildings either on the food table\n",
       "or around the party area.\n",
       "\n",
       "[Superhero Party Decorations - Partyrama](https://www.partyrama.co.uk/themes/superhero-party-decorations/)\n",
       "Superhero Party Decorations Give your party an impressive and heroic setting with our superb range of Superhero \n",
       "Party Decorations. Perfect for kids of all ages (and adults too!), we have some bright and brilliant party décor in\n",
       "a wide range of themes, colours and styles to jazz up all sizes of party venue.\n",
       "\n",
       "[By a Pro: Superhero Party Ideas by a Professional](https://party-ideas-by-a-pro.com/party-themes/superhero-party/)\n",
       "Superhero party ideas by an award winning professional party planner including ideas for invitations, party food & \n",
       "drinks, decorations, and party supplies ... Patriotic 4th of July recipes can easily be repurposed as Captain \n",
       "America themed Superhero party food, such as these recipes for Red, White, ... 08 superhero party decorations . \n",
       "Below are ...\n",
       "\n",
       "[How To Throw An Epic Superhero and Villain-Themed \n",
       "Party](https://www.onstage.com.au/superhero-and-villain-themed-party/)\n",
       "Planning Your Superhero and Villain-Themed Party ... DIY Decoration Ideas. For the crafty host, DIY decorations can\n",
       "add a personal touch and be a cost-effective method to populate the space with distinctive items. Homemade capes on\n",
       "chairs, masks as wall decor, and hand-painted signs directing to different areas within the venue are ways to ...\n",
       "\n",
       "[Mini Party Plan: How to Plan a Superhero Birthday \n",
       "Party](https://thepartyteacher.com/2018/08/23/mini-party-plan-superhero-party/)\n",
       "One of the most popular posts on this blog is a girl's superhero party. So I thought it might be fun to create a \n",
       "mini party plan for a superhero birthday party. I styled this mini party plan in the traditional red, yellow, and \n",
       "blue, but you could change the color palette for a more girly pink and purple superhero party, if you prefer.\n",
       "\n",
       "[Superhero Decorations & Tableware | Value Packs - Party \n",
       "Packs](https://www.partypacks.co.uk/collections/superhero-decorations-tableware)\n",
       "Make sure your superhero table looks the part with our fantastic range of heroic cups, plates, napkins, superhero \n",
       "balloons and more! With a brilliant retro pop art range featuring tablecovers, bowls, confetti and cake decorating \n",
       "kits, to Avengers tableware with your favourite superheroes and villains on!\n",
       "\n",
       "Out: None\n"
      ]
     },
     "metadata": {},
     "output_type": "display_data"
    },
    {
     "data": {
      "text/html": [
       "<pre style=\"white-space:pre;overflow-x:auto;line-height:normal;font-family:Menlo,'DejaVu Sans Mono',consolas,'Courier New',monospace\"><span style=\"color: #7f7f7f; text-decoration-color: #7f7f7f\">[Step 1: Duration 1.84 seconds| Input tokens: 2,250 | Output tokens: 68]</span>\n",
       "</pre>\n"
      ],
      "text/plain": [
       "\u001b[2m[Step 1: Duration 1.84 seconds| Input tokens: 2,250 | Output tokens: 68]\u001b[0m\n"
      ]
     },
     "metadata": {},
     "output_type": "display_data"
    },
    {
     "data": {
      "text/html": [
       "<pre style=\"white-space:pre;overflow-x:auto;line-height:normal;font-family:Menlo,'DejaVu Sans Mono',consolas,'Courier New',monospace\"><span style=\"color: #d4b702; text-decoration-color: #d4b702\">━━━━━━━━━━━━━━━━━━━━━━━━━━━━━━━━━━━━━━━━━━━━━━━━━━━━━ </span><span style=\"font-weight: bold\">Step </span><span style=\"color: #008080; text-decoration-color: #008080; font-weight: bold\">2</span><span style=\"color: #d4b702; text-decoration-color: #d4b702\"> ━━━━━━━━━━━━━━━━━━━━━━━━━━━━━━━━━━━━━━━━━━━━━━━━━━━━━━</span>\n",
       "</pre>\n"
      ],
      "text/plain": [
       "\u001b[38;2;212;183;2m━━━━━━━━━━━━━━━━━━━━━━━━━━━━━━━━━━━━━━━━━━━━━━━━━━━━━ \u001b[0m\u001b[1mStep \u001b[0m\u001b[1;36m2\u001b[0m\u001b[38;2;212;183;2m ━━━━━━━━━━━━━━━━━━━━━━━━━━━━━━━━━━━━━━━━━━━━━━━━━━━━━━\u001b[0m\n"
      ]
     },
     "metadata": {},
     "output_type": "display_data"
    },
    {
     "data": {
      "text/html": [
       "<pre style=\"white-space:pre;overflow-x:auto;line-height:normal;font-family:Menlo,'DejaVu Sans Mono',consolas,'Courier New',monospace\"> ─ <span style=\"font-weight: bold\">Executing parsed code:</span> ──────────────────────────────────────────────────────────────────────────────────────── \n",
       "  <span style=\"color: #f8f8f2; text-decoration-color: #f8f8f2; background-color: #272822\">search_results_luxury </span><span style=\"color: #ff4689; text-decoration-color: #ff4689; background-color: #272822\">=</span><span style=\"color: #f8f8f2; text-decoration-color: #f8f8f2; background-color: #272822\"> web_search(query</span><span style=\"color: #ff4689; text-decoration-color: #ff4689; background-color: #272822\">=</span><span style=\"color: #e6db74; text-decoration-color: #e6db74; background-color: #272822\">\"luxury superhero party ideas decorations entertainment catering\"</span><span style=\"color: #f8f8f2; text-decoration-color: #f8f8f2; background-color: #272822\">)</span><span style=\"background-color: #272822\">    </span>  \n",
       "  <span style=\"color: #f8f8f2; text-decoration-color: #f8f8f2; background-color: #272822\">print(search_results_luxury)</span><span style=\"background-color: #272822\">                                                                                   </span>  \n",
       " ───────────────────────────────────────────────────────────────────────────────────────────────────────────────── \n",
       "</pre>\n"
      ],
      "text/plain": [
       " ─ \u001b[1mExecuting parsed code:\u001b[0m ──────────────────────────────────────────────────────────────────────────────────────── \n",
       "  \u001b[38;2;248;248;242;48;2;39;40;34msearch_results_luxury\u001b[0m\u001b[38;2;248;248;242;48;2;39;40;34m \u001b[0m\u001b[38;2;255;70;137;48;2;39;40;34m=\u001b[0m\u001b[38;2;248;248;242;48;2;39;40;34m \u001b[0m\u001b[38;2;248;248;242;48;2;39;40;34mweb_search\u001b[0m\u001b[38;2;248;248;242;48;2;39;40;34m(\u001b[0m\u001b[38;2;248;248;242;48;2;39;40;34mquery\u001b[0m\u001b[38;2;255;70;137;48;2;39;40;34m=\u001b[0m\u001b[38;2;230;219;116;48;2;39;40;34m\"\u001b[0m\u001b[38;2;230;219;116;48;2;39;40;34mluxury superhero party ideas decorations entertainment catering\u001b[0m\u001b[38;2;230;219;116;48;2;39;40;34m\"\u001b[0m\u001b[38;2;248;248;242;48;2;39;40;34m)\u001b[0m\u001b[48;2;39;40;34m    \u001b[0m  \n",
       "  \u001b[38;2;248;248;242;48;2;39;40;34mprint\u001b[0m\u001b[38;2;248;248;242;48;2;39;40;34m(\u001b[0m\u001b[38;2;248;248;242;48;2;39;40;34msearch_results_luxury\u001b[0m\u001b[38;2;248;248;242;48;2;39;40;34m)\u001b[0m\u001b[48;2;39;40;34m                                                                                   \u001b[0m  \n",
       " ───────────────────────────────────────────────────────────────────────────────────────────────────────────────── \n"
      ]
     },
     "metadata": {},
     "output_type": "display_data"
    },
    {
     "data": {
      "text/html": [
       "<pre style=\"white-space:pre;overflow-x:auto;line-height:normal;font-family:Menlo,'DejaVu Sans Mono',consolas,'Courier New',monospace\"><span style=\"font-weight: bold\">Execution logs:</span>\n",
       "## Search Results\n",
       "\n",
       "[No.1 Superhero Party Entertainers - Neverland parties](https://www.neverlandparties.co.uk/superhero-party/)\n",
       "Professional Superhero entertainment with Spiderman, Batman &amp; more. Superhero training &amp; themed games, incredible \n",
       "5* reviews + FREE invites - Enquire Now! Book Now Email us. ... In fact the main things you'll need to supply are \n",
       "the food and decorations. We only use professional party entertainers that come from a performance background.\n",
       "\n",
       "[Superhero Party | Ultimate Superhero Kids Party Hire Package](https://www.packawayparties.co.uk/superhero-party)\n",
       "To help you with the games you'll receive a range of fun Superhero party supplies plus Super Ted, Count Croc and \n",
       "Spiderman to help you lead the games. ... Training Superheroes has never been easier with our cool Superhero party \n",
       "ideas and games. The mission to save the world from Count Croc involves games such as Musical Planets, Hero Rescue \n",
       "and ...\n",
       "\n",
       "[Superhero Themed Event | Hire Event Props &amp; Decor - Big Foot \n",
       "Events](https://bigfootevents.co.uk/hire/superhero-themed-event/)\n",
       "Big Foot Events will work a S.H.E.I.L.D operation to help you create the ultimate Superhero event. It's time for \n",
       "the Avengers to unite and create a unique party experience so amazing that it would turn Lady Deathstrike to the \n",
       "good side. For more information or to book a Superhero Themed Event package, please call us on 01253 351 100.\n",
       "\n",
       "[Best Superhero Party Theme Ideas - Captain \n",
       "Fantastic](https://captain-fantastic.co.uk/blog/best-superhero-party-theme-ideas/)\n",
       "Welcome to the realm of excitement and adventure with the Best Superhero Party Theme Ideas!Transforming your \n",
       "celebration into an epic saga, these ideas promise a dynamic and unforgettable experience for all, curated by none \n",
       "other than Captain Fantastic, your extraordinary party organizer.Picture a Marvel Madness party, immersing your \n",
       "guests in a universe of iconic heroes, or embark on a heroic ...\n",
       "\n",
       "[Superhero Party Decorations | Superhero Birthday Decorations | Party \n",
       "...](https://www.partysavesmile.co.uk/collections/superhero-party-decorations)\n",
       "Give them the superhero party they deserve with our Superhero birthday ideas for him or her, our Superhero party \n",
       "decorations will ensure you have everything you need and lots of items you didn't! All you need to do is create \n",
       "some super memories that your party vibe demands!\n",
       "\n",
       "[24 Superhero Party Ideas that Will Make You Wish You Were a \n",
       "Kid](https://howdoesshe.com/24-incredible-superhero-party-ideas-that-will-make-you-wish-you-were-a-kid-again/)\n",
       "If you are willing to arrange your own superhero party, here are some great ideas for your themed party. Try some \n",
       "for your little superhero's next party! 24 Incredible Superhero Party Ideas! 1. Condiments and beverages that \n",
       "really \"POP!\" 2. Comic strip cones using comic book pages to put all sorts of snacks in. So easy for grabbing! The \n",
       "...\n",
       "\n",
       "[Superhero Entertainers | Hero Hosts | Home](https://www.herohosts.com/)\n",
       "We believe kids will notice if something looks wrong. That's why our superhero entertainers dress like they've \n",
       "stepped out of a movie, not stumbled out of a pub on halloween. SUPER SKILLS. Elsa can sing, Spider-Man can do \n",
       "gymnastics, Ghost-Spider can ballet dance &amp; Batman can abseil from a rooftop - red tape permitting! SUPER ACTORS\n",
       "\n",
       "[The Very Best Luxury Party Themes - Mirage Parties](https://mirageparties.co.uk/blog/a-to-z-luxury-party-themes/)\n",
       "Planning a Themed Party? As a themed party planner with more than 25 years of expertise we deliver authenticity, \n",
       "innovation and high production values to the world of high-end private parties. We'd love to show you our full \n",
       "portfolio. Do get in touch. Call 01883 740400 or email info@mirageparties.co.uk. A to Z 100+ Luxury Party Themes\n",
       "\n",
       "[Superhero Party Ideas, Decorations &amp; Paper \n",
       "Plates](https://www.funpartysupplies.co.uk/product-category/party/a-z-party-themes/superhero-party/)\n",
       "Superhero Party Ideas, Decorations &amp; Paper Plates - Super Hero Pow, Wow Balloons &amp; Costumes &amp; Accessories with Next\n",
       "Day Delivery. Skip to content. Contact 9am - 6pm; 01277 224622; Spring Savings - SAVE10;\n",
       "\n",
       "[The Best Superhero Party Ideas For An Epic Party - Smart Party \n",
       "Planning](https://smartpartyplanning.com/superhero-party-ideas/)\n",
       "Awesome superhero party ideas that will have your kids showing off their superhero powers in no time at all. With \n",
       "ideas for decorations, food and party games you will easily win the status of superhero mom. These ideas can be \n",
       "achieved on a budget with a bit of DIY. The kids are going to love them. Related articles: 5 Awesome Batman Party \n",
       "Ideas\n",
       "\n",
       "Out: None\n",
       "</pre>\n"
      ],
      "text/plain": [
       "\u001b[1mExecution logs:\u001b[0m\n",
       "## Search Results\n",
       "\n",
       "[No.1 Superhero Party Entertainers - Neverland parties](https://www.neverlandparties.co.uk/superhero-party/)\n",
       "Professional Superhero entertainment with Spiderman, Batman & more. Superhero training & themed games, incredible \n",
       "5* reviews + FREE invites - Enquire Now! Book Now Email us. ... In fact the main things you'll need to supply are \n",
       "the food and decorations. We only use professional party entertainers that come from a performance background.\n",
       "\n",
       "[Superhero Party | Ultimate Superhero Kids Party Hire Package](https://www.packawayparties.co.uk/superhero-party)\n",
       "To help you with the games you'll receive a range of fun Superhero party supplies plus Super Ted, Count Croc and \n",
       "Spiderman to help you lead the games. ... Training Superheroes has never been easier with our cool Superhero party \n",
       "ideas and games. The mission to save the world from Count Croc involves games such as Musical Planets, Hero Rescue \n",
       "and ...\n",
       "\n",
       "[Superhero Themed Event | Hire Event Props & Decor - Big Foot \n",
       "Events](https://bigfootevents.co.uk/hire/superhero-themed-event/)\n",
       "Big Foot Events will work a S.H.E.I.L.D operation to help you create the ultimate Superhero event. It's time for \n",
       "the Avengers to unite and create a unique party experience so amazing that it would turn Lady Deathstrike to the \n",
       "good side. For more information or to book a Superhero Themed Event package, please call us on 01253 351 100.\n",
       "\n",
       "[Best Superhero Party Theme Ideas - Captain \n",
       "Fantastic](https://captain-fantastic.co.uk/blog/best-superhero-party-theme-ideas/)\n",
       "Welcome to the realm of excitement and adventure with the Best Superhero Party Theme Ideas!Transforming your \n",
       "celebration into an epic saga, these ideas promise a dynamic and unforgettable experience for all, curated by none \n",
       "other than Captain Fantastic, your extraordinary party organizer.Picture a Marvel Madness party, immersing your \n",
       "guests in a universe of iconic heroes, or embark on a heroic ...\n",
       "\n",
       "[Superhero Party Decorations | Superhero Birthday Decorations | Party \n",
       "...](https://www.partysavesmile.co.uk/collections/superhero-party-decorations)\n",
       "Give them the superhero party they deserve with our Superhero birthday ideas for him or her, our Superhero party \n",
       "decorations will ensure you have everything you need and lots of items you didn't! All you need to do is create \n",
       "some super memories that your party vibe demands!\n",
       "\n",
       "[24 Superhero Party Ideas that Will Make You Wish You Were a \n",
       "Kid](https://howdoesshe.com/24-incredible-superhero-party-ideas-that-will-make-you-wish-you-were-a-kid-again/)\n",
       "If you are willing to arrange your own superhero party, here are some great ideas for your themed party. Try some \n",
       "for your little superhero's next party! 24 Incredible Superhero Party Ideas! 1. Condiments and beverages that \n",
       "really \"POP!\" 2. Comic strip cones using comic book pages to put all sorts of snacks in. So easy for grabbing! The \n",
       "...\n",
       "\n",
       "[Superhero Entertainers | Hero Hosts | Home](https://www.herohosts.com/)\n",
       "We believe kids will notice if something looks wrong. That's why our superhero entertainers dress like they've \n",
       "stepped out of a movie, not stumbled out of a pub on halloween. SUPER SKILLS. Elsa can sing, Spider-Man can do \n",
       "gymnastics, Ghost-Spider can ballet dance & Batman can abseil from a rooftop - red tape permitting! SUPER ACTORS\n",
       "\n",
       "[The Very Best Luxury Party Themes - Mirage Parties](https://mirageparties.co.uk/blog/a-to-z-luxury-party-themes/)\n",
       "Planning a Themed Party? As a themed party planner with more than 25 years of expertise we deliver authenticity, \n",
       "innovation and high production values to the world of high-end private parties. We'd love to show you our full \n",
       "portfolio. Do get in touch. Call 01883 740400 or email info@mirageparties.co.uk. A to Z 100+ Luxury Party Themes\n",
       "\n",
       "[Superhero Party Ideas, Decorations & Paper \n",
       "Plates](https://www.funpartysupplies.co.uk/product-category/party/a-z-party-themes/superhero-party/)\n",
       "Superhero Party Ideas, Decorations & Paper Plates - Super Hero Pow, Wow Balloons & Costumes & Accessories with Next\n",
       "Day Delivery. Skip to content. Contact 9am - 6pm; 01277 224622; Spring Savings - SAVE10;\n",
       "\n",
       "[The Best Superhero Party Ideas For An Epic Party - Smart Party \n",
       "Planning](https://smartpartyplanning.com/superhero-party-ideas/)\n",
       "Awesome superhero party ideas that will have your kids showing off their superhero powers in no time at all. With \n",
       "ideas for decorations, food and party games you will easily win the status of superhero mom. These ideas can be \n",
       "achieved on a budget with a bit of DIY. The kids are going to love them. Related articles: 5 Awesome Batman Party \n",
       "Ideas\n",
       "\n",
       "Out: None\n"
      ]
     },
     "metadata": {},
     "output_type": "display_data"
    },
    {
     "data": {
      "text/html": [
       "<pre style=\"white-space:pre;overflow-x:auto;line-height:normal;font-family:Menlo,'DejaVu Sans Mono',consolas,'Courier New',monospace\"><span style=\"color: #7f7f7f; text-decoration-color: #7f7f7f\">[Step 2: Duration 2.44 seconds| Input tokens: 5,736 | Output tokens: 158]</span>\n",
       "</pre>\n"
      ],
      "text/plain": [
       "\u001b[2m[Step 2: Duration 2.44 seconds| Input tokens: 5,736 | Output tokens: 158]\u001b[0m\n"
      ]
     },
     "metadata": {},
     "output_type": "display_data"
    },
    {
     "data": {
      "text/html": [
       "<pre style=\"white-space:pre;overflow-x:auto;line-height:normal;font-family:Menlo,'DejaVu Sans Mono',consolas,'Courier New',monospace\"><span style=\"color: #d4b702; text-decoration-color: #d4b702\">━━━━━━━━━━━━━━━━━━━━━━━━━━━━━━━━━━━━━━━━━━━━━━━━━━━━━ </span><span style=\"font-weight: bold\">Step </span><span style=\"color: #008080; text-decoration-color: #008080; font-weight: bold\">3</span><span style=\"color: #d4b702; text-decoration-color: #d4b702\"> ━━━━━━━━━━━━━━━━━━━━━━━━━━━━━━━━━━━━━━━━━━━━━━━━━━━━━━</span>\n",
       "</pre>\n"
      ],
      "text/plain": [
       "\u001b[38;2;212;183;2m━━━━━━━━━━━━━━━━━━━━━━━━━━━━━━━━━━━━━━━━━━━━━━━━━━━━━ \u001b[0m\u001b[1mStep \u001b[0m\u001b[1;36m3\u001b[0m\u001b[38;2;212;183;2m ━━━━━━━━━━━━━━━━━━━━━━━━━━━━━━━━━━━━━━━━━━━━━━━━━━━━━━\u001b[0m\n"
      ]
     },
     "metadata": {},
     "output_type": "display_data"
    },
    {
     "data": {
      "text/html": [
       "<pre style=\"white-space:pre;overflow-x:auto;line-height:normal;font-family:Menlo,'DejaVu Sans Mono',consolas,'Courier New',monospace\"> ─ <span style=\"font-weight: bold\">Executing parsed code:</span> ──────────────────────────────────────────────────────────────────────────────────────── \n",
       "  <span style=\"color: #f8f8f2; text-decoration-color: #f8f8f2; background-color: #272822\">search_results_adult_luxury </span><span style=\"color: #ff4689; text-decoration-color: #ff4689; background-color: #272822\">=</span><span style=\"color: #f8f8f2; text-decoration-color: #f8f8f2; background-color: #272822\"> web_search(query</span><span style=\"color: #ff4689; text-decoration-color: #ff4689; background-color: #272822\">=</span><span style=\"color: #e6db74; text-decoration-color: #e6db74; background-color: #272822\">\"luxury superhero party ideas for adults decorations </span><span style=\"background-color: #272822\">           </span>  \n",
       "  <span style=\"color: #e6db74; text-decoration-color: #e6db74; background-color: #272822\">entertainment catering\"</span><span style=\"color: #f8f8f2; text-decoration-color: #f8f8f2; background-color: #272822\">)</span><span style=\"background-color: #272822\">                                                                                       </span>  \n",
       "  <span style=\"color: #f8f8f2; text-decoration-color: #f8f8f2; background-color: #272822\">print(search_results_adult_luxury)</span><span style=\"background-color: #272822\">                                                                             </span>  \n",
       " ───────────────────────────────────────────────────────────────────────────────────────────────────────────────── \n",
       "</pre>\n"
      ],
      "text/plain": [
       " ─ \u001b[1mExecuting parsed code:\u001b[0m ──────────────────────────────────────────────────────────────────────────────────────── \n",
       "  \u001b[38;2;248;248;242;48;2;39;40;34msearch_results_adult_luxury\u001b[0m\u001b[38;2;248;248;242;48;2;39;40;34m \u001b[0m\u001b[38;2;255;70;137;48;2;39;40;34m=\u001b[0m\u001b[38;2;248;248;242;48;2;39;40;34m \u001b[0m\u001b[38;2;248;248;242;48;2;39;40;34mweb_search\u001b[0m\u001b[38;2;248;248;242;48;2;39;40;34m(\u001b[0m\u001b[38;2;248;248;242;48;2;39;40;34mquery\u001b[0m\u001b[38;2;255;70;137;48;2;39;40;34m=\u001b[0m\u001b[38;2;230;219;116;48;2;39;40;34m\"\u001b[0m\u001b[38;2;230;219;116;48;2;39;40;34mluxury superhero party ideas for adults decorations \u001b[0m\u001b[48;2;39;40;34m           \u001b[0m  \n",
       "  \u001b[38;2;230;219;116;48;2;39;40;34mentertainment catering\u001b[0m\u001b[38;2;230;219;116;48;2;39;40;34m\"\u001b[0m\u001b[38;2;248;248;242;48;2;39;40;34m)\u001b[0m\u001b[48;2;39;40;34m                                                                                       \u001b[0m  \n",
       "  \u001b[38;2;248;248;242;48;2;39;40;34mprint\u001b[0m\u001b[38;2;248;248;242;48;2;39;40;34m(\u001b[0m\u001b[38;2;248;248;242;48;2;39;40;34msearch_results_adult_luxury\u001b[0m\u001b[38;2;248;248;242;48;2;39;40;34m)\u001b[0m\u001b[48;2;39;40;34m                                                                             \u001b[0m  \n",
       " ───────────────────────────────────────────────────────────────────────────────────────────────────────────────── \n"
      ]
     },
     "metadata": {},
     "output_type": "display_data"
    },
    {
     "data": {
      "text/html": [
       "<pre style=\"white-space:pre;overflow-x:auto;line-height:normal;font-family:Menlo,'DejaVu Sans Mono',consolas,'Courier New',monospace\"><span style=\"font-weight: bold\">Execution logs:</span>\n",
       "## Search Results\n",
       "\n",
       "[Heroes and Villains: The Ultimate Guide to Superhero \n",
       "Parties](https://scarlettentertainment.com/blog/heroes-and-villains-the-ultimate-guide-to-superhero-parties)\n",
       "Worshipped by millions, comic book characters are more popular than ever, which consequently make heroes and \n",
       "villains parties a steady entertainment trend. Especially popular for Halloween party themes, Superhero parties are\n",
       "the go-to theme for any sort of event these days, and be aware: villains are now VIP guests!\n",
       "\n",
       "[24 Superhero Party Ideas that Will Make You Wish You Were a \n",
       "Kid](https://howdoesshe.com/24-incredible-superhero-party-ideas-that-will-make-you-wish-you-were-a-kid-again/)\n",
       "If you are willing to arrange your own superhero party, here are some great ideas for your themed party. Try some \n",
       "for your little superhero's next party! 24 Incredible Superhero Party Ideas! 1. Condiments and beverages that \n",
       "really \"POP!\" 2. Comic strip cones using comic book pages to put all sorts of snacks in. So easy for grabbing! The \n",
       "...\n",
       "\n",
       "[By a Pro: Superhero Party Ideas by a Professional](https://party-ideas-by-a-pro.com/party-themes/superhero-party/)\n",
       "Superhero party ideas by an award winning professional party planner including ideas for invitations, party food &amp; \n",
       "drinks, decorations, and party supplies ... a lot of the ideas could easily be adapted for an adult costume party \n",
       "so I've also included some tips and supplies specifically for adults—such as cocktail recipes. ... 08 superhero ...\n",
       "\n",
       "[How To Throw An Epic Superhero and Villain-Themed \n",
       "Party](https://www.onstage.com.au/superhero-and-villain-themed-party/)\n",
       "Planning Your Superhero and Villain-Themed Party ... DIY Decoration Ideas. For the crafty host, DIY decorations can\n",
       "add a personal touch and be a cost-effective method to populate the space with distinctive items. Homemade capes on\n",
       "chairs, masks as wall decor, and hand-painted signs directing to different areas within the venue are ways to ...\n",
       "\n",
       "[The Best Superhero Party Ideas For An Epic Party - Smart Party \n",
       "Planning](https://smartpartyplanning.com/superhero-party-ideas/)\n",
       "Awesome superhero party ideas that will have your kids showing off their superhero powers in no time at all. With \n",
       "ideas for decorations, food and party games you will easily win the status of superhero mom. These ideas can be \n",
       "achieved on a budget with a bit of DIY. The kids are going to love them. Related articles: 5 Awesome Batman Party \n",
       "Ideas\n",
       "\n",
       "[Superhero theme party for adults - \n",
       "Pinterest](https://www.pinterest.com/ideas/superhero-theme-party-for-adults/916708620865/)\n",
       "Find and save ideas about superhero theme party for adults on Pinterest.\n",
       "\n",
       "[900+ Superhero Party Ideas in 2025 - Pinterest](https://www.pinterest.com/catchmyparty/superhero-party-ideas/)\n",
       "Feb 17, 2025 - Superhero party ideas for birthdays -- Superhero cakes, decorations, party foods and favors. See \n",
       "more party ideas at CatchMyParty.com. See more ideas about superhero party, superhero birthday, superhero birthday \n",
       "party.\n",
       "\n",
       "[Marvel Themed Party Ideas for Adults: Unleash Your Inner \n",
       "Superhero!](https://toxigon.com/marvel-themed-party-ideas-for-adults)\n",
       "Store-Bought Decor. If you've got a bit more to spend, there are plenty of Marvel-themed party supplies available \n",
       "online. Look for tablecloths, plates, and cups with Marvel designs. You can also find life-size cutouts of \n",
       "characters like Iron Man, Captain America, and Thor to place around the room. And let's not forget the lighting - \n",
       "string lights shaped like stars or superhero logos can add ...\n",
       "\n",
       "[Superhero Party Decorations - Partyrama](https://www.partyrama.co.uk/themes/superhero-party-decorations/)\n",
       "Shop Superhero Party Decorations at Partyrama. Hanging decorations, banners, bunting and lots more to make your \n",
       "party special! ... Perfect for kids of all ages (and adults too!), we have some bright and brilliant party décor in\n",
       "a wide range of themes, colours and styles to jazz up all sizes of party venue. Choose from banners, bunting, \n",
       "hanging ...\n",
       "\n",
       "[Mini Party Plan: How to Plan a Superhero Birthday \n",
       "Party](https://thepartyteacher.com/2018/08/23/mini-party-plan-superhero-party/)\n",
       "One of the most popular posts on this blog is a girl's superhero party. So I thought it might be fun to create a \n",
       "mini party plan for a superhero birthday party. I styled this mini party plan in the traditional red, yellow, and \n",
       "blue, but you could change the color palette for a more girly pink and purple superhero party, if you prefer.\n",
       "\n",
       "Out: None\n",
       "</pre>\n"
      ],
      "text/plain": [
       "\u001b[1mExecution logs:\u001b[0m\n",
       "## Search Results\n",
       "\n",
       "[Heroes and Villains: The Ultimate Guide to Superhero \n",
       "Parties](https://scarlettentertainment.com/blog/heroes-and-villains-the-ultimate-guide-to-superhero-parties)\n",
       "Worshipped by millions, comic book characters are more popular than ever, which consequently make heroes and \n",
       "villains parties a steady entertainment trend. Especially popular for Halloween party themes, Superhero parties are\n",
       "the go-to theme for any sort of event these days, and be aware: villains are now VIP guests!\n",
       "\n",
       "[24 Superhero Party Ideas that Will Make You Wish You Were a \n",
       "Kid](https://howdoesshe.com/24-incredible-superhero-party-ideas-that-will-make-you-wish-you-were-a-kid-again/)\n",
       "If you are willing to arrange your own superhero party, here are some great ideas for your themed party. Try some \n",
       "for your little superhero's next party! 24 Incredible Superhero Party Ideas! 1. Condiments and beverages that \n",
       "really \"POP!\" 2. Comic strip cones using comic book pages to put all sorts of snacks in. So easy for grabbing! The \n",
       "...\n",
       "\n",
       "[By a Pro: Superhero Party Ideas by a Professional](https://party-ideas-by-a-pro.com/party-themes/superhero-party/)\n",
       "Superhero party ideas by an award winning professional party planner including ideas for invitations, party food & \n",
       "drinks, decorations, and party supplies ... a lot of the ideas could easily be adapted for an adult costume party \n",
       "so I've also included some tips and supplies specifically for adults—such as cocktail recipes. ... 08 superhero ...\n",
       "\n",
       "[How To Throw An Epic Superhero and Villain-Themed \n",
       "Party](https://www.onstage.com.au/superhero-and-villain-themed-party/)\n",
       "Planning Your Superhero and Villain-Themed Party ... DIY Decoration Ideas. For the crafty host, DIY decorations can\n",
       "add a personal touch and be a cost-effective method to populate the space with distinctive items. Homemade capes on\n",
       "chairs, masks as wall decor, and hand-painted signs directing to different areas within the venue are ways to ...\n",
       "\n",
       "[The Best Superhero Party Ideas For An Epic Party - Smart Party \n",
       "Planning](https://smartpartyplanning.com/superhero-party-ideas/)\n",
       "Awesome superhero party ideas that will have your kids showing off their superhero powers in no time at all. With \n",
       "ideas for decorations, food and party games you will easily win the status of superhero mom. These ideas can be \n",
       "achieved on a budget with a bit of DIY. The kids are going to love them. Related articles: 5 Awesome Batman Party \n",
       "Ideas\n",
       "\n",
       "[Superhero theme party for adults - \n",
       "Pinterest](https://www.pinterest.com/ideas/superhero-theme-party-for-adults/916708620865/)\n",
       "Find and save ideas about superhero theme party for adults on Pinterest.\n",
       "\n",
       "[900+ Superhero Party Ideas in 2025 - Pinterest](https://www.pinterest.com/catchmyparty/superhero-party-ideas/)\n",
       "Feb 17, 2025 - Superhero party ideas for birthdays -- Superhero cakes, decorations, party foods and favors. See \n",
       "more party ideas at CatchMyParty.com. See more ideas about superhero party, superhero birthday, superhero birthday \n",
       "party.\n",
       "\n",
       "[Marvel Themed Party Ideas for Adults: Unleash Your Inner \n",
       "Superhero!](https://toxigon.com/marvel-themed-party-ideas-for-adults)\n",
       "Store-Bought Decor. If you've got a bit more to spend, there are plenty of Marvel-themed party supplies available \n",
       "online. Look for tablecloths, plates, and cups with Marvel designs. You can also find life-size cutouts of \n",
       "characters like Iron Man, Captain America, and Thor to place around the room. And let's not forget the lighting - \n",
       "string lights shaped like stars or superhero logos can add ...\n",
       "\n",
       "[Superhero Party Decorations - Partyrama](https://www.partyrama.co.uk/themes/superhero-party-decorations/)\n",
       "Shop Superhero Party Decorations at Partyrama. Hanging decorations, banners, bunting and lots more to make your \n",
       "party special! ... Perfect for kids of all ages (and adults too!), we have some bright and brilliant party décor in\n",
       "a wide range of themes, colours and styles to jazz up all sizes of party venue. Choose from banners, bunting, \n",
       "hanging ...\n",
       "\n",
       "[Mini Party Plan: How to Plan a Superhero Birthday \n",
       "Party](https://thepartyteacher.com/2018/08/23/mini-party-plan-superhero-party/)\n",
       "One of the most popular posts on this blog is a girl's superhero party. So I thought it might be fun to create a \n",
       "mini party plan for a superhero birthday party. I styled this mini party plan in the traditional red, yellow, and \n",
       "blue, but you could change the color palette for a more girly pink and purple superhero party, if you prefer.\n",
       "\n",
       "Out: None\n"
      ]
     },
     "metadata": {},
     "output_type": "display_data"
    },
    {
     "data": {
      "text/html": [
       "<pre style=\"white-space:pre;overflow-x:auto;line-height:normal;font-family:Menlo,'DejaVu Sans Mono',consolas,'Courier New',monospace\"><span style=\"color: #7f7f7f; text-decoration-color: #7f7f7f\">[Step 3: Duration 2.45 seconds| Input tokens: 10,493 | Output tokens: 245]</span>\n",
       "</pre>\n"
      ],
      "text/plain": [
       "\u001b[2m[Step 3: Duration 2.45 seconds| Input tokens: 10,493 | Output tokens: 245]\u001b[0m\n"
      ]
     },
     "metadata": {},
     "output_type": "display_data"
    },
    {
     "data": {
      "text/html": [
       "<pre style=\"white-space:pre;overflow-x:auto;line-height:normal;font-family:Menlo,'DejaVu Sans Mono',consolas,'Courier New',monospace\"><span style=\"color: #d4b702; text-decoration-color: #d4b702\">━━━━━━━━━━━━━━━━━━━━━━━━━━━━━━━━━━━━━━━━━━━━━━━━━━━━━ </span><span style=\"font-weight: bold\">Step </span><span style=\"color: #008080; text-decoration-color: #008080; font-weight: bold\">4</span><span style=\"color: #d4b702; text-decoration-color: #d4b702\"> ━━━━━━━━━━━━━━━━━━━━━━━━━━━━━━━━━━━━━━━━━━━━━━━━━━━━━━</span>\n",
       "</pre>\n"
      ],
      "text/plain": [
       "\u001b[38;2;212;183;2m━━━━━━━━━━━━━━━━━━━━━━━━━━━━━━━━━━━━━━━━━━━━━━━━━━━━━ \u001b[0m\u001b[1mStep \u001b[0m\u001b[1;36m4\u001b[0m\u001b[38;2;212;183;2m ━━━━━━━━━━━━━━━━━━━━━━━━━━━━━━━━━━━━━━━━━━━━━━━━━━━━━━\u001b[0m\n"
      ]
     },
     "metadata": {},
     "output_type": "display_data"
    },
    {
     "data": {
      "text/html": [
       "<pre style=\"white-space:pre;overflow-x:auto;line-height:normal;font-family:Menlo,'DejaVu Sans Mono',consolas,'Courier New',monospace\"> ─ <span style=\"font-weight: bold\">Executing parsed code:</span> ──────────────────────────────────────────────────────────────────────────────────────── \n",
       "  <span style=\"color: #f8f8f2; text-decoration-color: #f8f8f2; background-color: #272822\">search_results_elegant </span><span style=\"color: #ff4689; text-decoration-color: #ff4689; background-color: #272822\">=</span><span style=\"color: #f8f8f2; text-decoration-color: #f8f8f2; background-color: #272822\"> web_search(query</span><span style=\"color: #ff4689; text-decoration-color: #ff4689; background-color: #272822\">=</span><span style=\"color: #e6db74; text-decoration-color: #e6db74; background-color: #272822\">\"elegant superhero party ideas decorations entertainment catering\"</span><span style=\"color: #f8f8f2; text-decoration-color: #f8f8f2; background-color: #272822\">)</span><span style=\"background-color: #272822\">  </span>  \n",
       "  <span style=\"color: #f8f8f2; text-decoration-color: #f8f8f2; background-color: #272822\">print(search_results_elegant)</span><span style=\"background-color: #272822\">                                                                                  </span>  \n",
       " ───────────────────────────────────────────────────────────────────────────────────────────────────────────────── \n",
       "</pre>\n"
      ],
      "text/plain": [
       " ─ \u001b[1mExecuting parsed code:\u001b[0m ──────────────────────────────────────────────────────────────────────────────────────── \n",
       "  \u001b[38;2;248;248;242;48;2;39;40;34msearch_results_elegant\u001b[0m\u001b[38;2;248;248;242;48;2;39;40;34m \u001b[0m\u001b[38;2;255;70;137;48;2;39;40;34m=\u001b[0m\u001b[38;2;248;248;242;48;2;39;40;34m \u001b[0m\u001b[38;2;248;248;242;48;2;39;40;34mweb_search\u001b[0m\u001b[38;2;248;248;242;48;2;39;40;34m(\u001b[0m\u001b[38;2;248;248;242;48;2;39;40;34mquery\u001b[0m\u001b[38;2;255;70;137;48;2;39;40;34m=\u001b[0m\u001b[38;2;230;219;116;48;2;39;40;34m\"\u001b[0m\u001b[38;2;230;219;116;48;2;39;40;34melegant superhero party ideas decorations entertainment catering\u001b[0m\u001b[38;2;230;219;116;48;2;39;40;34m\"\u001b[0m\u001b[38;2;248;248;242;48;2;39;40;34m)\u001b[0m\u001b[48;2;39;40;34m  \u001b[0m  \n",
       "  \u001b[38;2;248;248;242;48;2;39;40;34mprint\u001b[0m\u001b[38;2;248;248;242;48;2;39;40;34m(\u001b[0m\u001b[38;2;248;248;242;48;2;39;40;34msearch_results_elegant\u001b[0m\u001b[38;2;248;248;242;48;2;39;40;34m)\u001b[0m\u001b[48;2;39;40;34m                                                                                  \u001b[0m  \n",
       " ───────────────────────────────────────────────────────────────────────────────────────────────────────────────── \n"
      ]
     },
     "metadata": {},
     "output_type": "display_data"
    },
    {
     "data": {
      "text/html": [
       "<pre style=\"white-space:pre;overflow-x:auto;line-height:normal;font-family:Menlo,'DejaVu Sans Mono',consolas,'Courier New',monospace\"><span style=\"font-weight: bold\">Execution logs:</span>\n",
       "## Search Results\n",
       "\n",
       "[By a Pro: Superhero Party Ideas by a Professional](https://party-ideas-by-a-pro.com/party-themes/superhero-party/)\n",
       "Superhero party ideas by an award winning professional party planner including ideas for invitations, party food &amp; \n",
       "drinks, decorations, and party supplies\n",
       "\n",
       "[Superhero Parties for 3-7 Years | Captain Fantastic](https://captain-fantastic.co.uk/parties/superhero-parties-3/)\n",
       "From face painters, decorations, catering, bespoke cakes and so much more, we have a team of event managers and \n",
       "assistants at hand to help create the most memorable party for you and your little party animals!\n",
       "\n",
       "[24 Superhero Party Ideas that Will Make You Wish You Were a \n",
       "Kid](https://howdoesshe.com/24-incredible-superhero-party-ideas-that-will-make-you-wish-you-were-a-kid-again/)\n",
       "24 incredible superhero party ideas that kids will love and make adults wish they were kids again. From decor \n",
       "ideas, party foods, and costume ideas to superhero-themed activities, we have all of your party needs covered.\n",
       "\n",
       "[Fantastic Decorating Ideas for an Adult Superhero \n",
       "Party](https://celebrateeverydaywithme.com/fantastic-decorating-ideas-for-an-adult-superhero-party/)\n",
       "Looking for creative ideas for an adult superhero party? You've come to the right place! Check out the \n",
       "centerpieces, diy photo booth and room decor for our fun parents' night out event.\n",
       "\n",
       "[Superhero theme party for adults - \n",
       "Pinterest](https://www.pinterest.com/ideas/superhero-theme-party-for-adults/916708620865/)\n",
       "Find and save ideas about superhero theme party for adults on Pinterest.\n",
       "\n",
       "[Themed Birthday Party Ideas: From Superheroes to Princesses](https://whattogetmy.com/themed-birthday-party-ideas/)\n",
       "1. Superhero Birthday Party Ideas: Is your child a fan of caped Crusaders and mighty superheroes? Host an \n",
       "action-packed superhero birthday party that will leave everyone in awe. Transform your venue into a crime-fighting \n",
       "headquarters with bold decorations, including superhero banners and balloons. Encourage guests to dress up as their\n",
       "favorite heroes and organize exciting activities like a ...\n",
       "\n",
       "[Superhero Party Ideas - Pinterest](https://www.pinterest.co.uk/partydelightsuk/superhero-party-ideas/)\n",
       "Sep 17, 2019 - Throw an unforgettable superhero party with our awesome collection of superhero party ideas. \n",
       "Decorating ideas, party food ideas, party game ideas and more. See more ideas about superhero party, superhero \n",
       "birthday, superhero birthday party.\n",
       "\n",
       "[900+ Superhero Party Ideas in 2025 - Pinterest](https://www.pinterest.com/catchmyparty/superhero-party-ideas/)\n",
       "Feb 17, 2025 - Superhero party ideas for birthdays -- Superhero cakes, decorations, party foods and favors. See \n",
       "more party ideas at CatchMyParty.com. See more ideas about superhero party, superhero birthday, superhero birthday \n",
       "party.\n",
       "\n",
       "[The Best Superhero Party Ideas For An Epic Party](https://smartpartyplanning.com/superhero-party-ideas/)\n",
       "Win the status of supermom with these superhero party ideas. Includes ideas for decorations, food and party games \n",
       "that kids will love.\n",
       "\n",
       "[Superheroes Party Ideas - Themes for Parties](https://www.themesforparties.com.au/character/superheroes/)\n",
       "Whether you choose a general superhero party or narrow it down to a specific superhero, these parties provide lots \n",
       "of scope to choose a character (don't forget all the villains and support characters), lots of silliness overacting\n",
       "the part and even some superhero tournaments. Superheroes Party Ideas Themes: Superhero couples.\n",
       "\n",
       "Out: None\n",
       "</pre>\n"
      ],
      "text/plain": [
       "\u001b[1mExecution logs:\u001b[0m\n",
       "## Search Results\n",
       "\n",
       "[By a Pro: Superhero Party Ideas by a Professional](https://party-ideas-by-a-pro.com/party-themes/superhero-party/)\n",
       "Superhero party ideas by an award winning professional party planner including ideas for invitations, party food & \n",
       "drinks, decorations, and party supplies\n",
       "\n",
       "[Superhero Parties for 3-7 Years | Captain Fantastic](https://captain-fantastic.co.uk/parties/superhero-parties-3/)\n",
       "From face painters, decorations, catering, bespoke cakes and so much more, we have a team of event managers and \n",
       "assistants at hand to help create the most memorable party for you and your little party animals!\n",
       "\n",
       "[24 Superhero Party Ideas that Will Make You Wish You Were a \n",
       "Kid](https://howdoesshe.com/24-incredible-superhero-party-ideas-that-will-make-you-wish-you-were-a-kid-again/)\n",
       "24 incredible superhero party ideas that kids will love and make adults wish they were kids again. From decor \n",
       "ideas, party foods, and costume ideas to superhero-themed activities, we have all of your party needs covered.\n",
       "\n",
       "[Fantastic Decorating Ideas for an Adult Superhero \n",
       "Party](https://celebrateeverydaywithme.com/fantastic-decorating-ideas-for-an-adult-superhero-party/)\n",
       "Looking for creative ideas for an adult superhero party? You've come to the right place! Check out the \n",
       "centerpieces, diy photo booth and room decor for our fun parents' night out event.\n",
       "\n",
       "[Superhero theme party for adults - \n",
       "Pinterest](https://www.pinterest.com/ideas/superhero-theme-party-for-adults/916708620865/)\n",
       "Find and save ideas about superhero theme party for adults on Pinterest.\n",
       "\n",
       "[Themed Birthday Party Ideas: From Superheroes to Princesses](https://whattogetmy.com/themed-birthday-party-ideas/)\n",
       "1. Superhero Birthday Party Ideas: Is your child a fan of caped Crusaders and mighty superheroes? Host an \n",
       "action-packed superhero birthday party that will leave everyone in awe. Transform your venue into a crime-fighting \n",
       "headquarters with bold decorations, including superhero banners and balloons. Encourage guests to dress up as their\n",
       "favorite heroes and organize exciting activities like a ...\n",
       "\n",
       "[Superhero Party Ideas - Pinterest](https://www.pinterest.co.uk/partydelightsuk/superhero-party-ideas/)\n",
       "Sep 17, 2019 - Throw an unforgettable superhero party with our awesome collection of superhero party ideas. \n",
       "Decorating ideas, party food ideas, party game ideas and more. See more ideas about superhero party, superhero \n",
       "birthday, superhero birthday party.\n",
       "\n",
       "[900+ Superhero Party Ideas in 2025 - Pinterest](https://www.pinterest.com/catchmyparty/superhero-party-ideas/)\n",
       "Feb 17, 2025 - Superhero party ideas for birthdays -- Superhero cakes, decorations, party foods and favors. See \n",
       "more party ideas at CatchMyParty.com. See more ideas about superhero party, superhero birthday, superhero birthday \n",
       "party.\n",
       "\n",
       "[The Best Superhero Party Ideas For An Epic Party](https://smartpartyplanning.com/superhero-party-ideas/)\n",
       "Win the status of supermom with these superhero party ideas. Includes ideas for decorations, food and party games \n",
       "that kids will love.\n",
       "\n",
       "[Superheroes Party Ideas - Themes for Parties](https://www.themesforparties.com.au/character/superheroes/)\n",
       "Whether you choose a general superhero party or narrow it down to a specific superhero, these parties provide lots \n",
       "of scope to choose a character (don't forget all the villains and support characters), lots of silliness overacting\n",
       "the part and even some superhero tournaments. Superheroes Party Ideas Themes: Superhero couples.\n",
       "\n",
       "Out: None\n"
      ]
     },
     "metadata": {},
     "output_type": "display_data"
    },
    {
     "data": {
      "text/html": [
       "<pre style=\"white-space:pre;overflow-x:auto;line-height:normal;font-family:Menlo,'DejaVu Sans Mono',consolas,'Courier New',monospace\"><span style=\"color: #7f7f7f; text-decoration-color: #7f7f7f\">[Step 4: Duration 2.66 seconds| Input tokens: 16,480 | Output tokens: 366]</span>\n",
       "</pre>\n"
      ],
      "text/plain": [
       "\u001b[2m[Step 4: Duration 2.66 seconds| Input tokens: 16,480 | Output tokens: 366]\u001b[0m\n"
      ]
     },
     "metadata": {},
     "output_type": "display_data"
    },
    {
     "data": {
      "text/html": [
       "<pre style=\"white-space:pre;overflow-x:auto;line-height:normal;font-family:Menlo,'DejaVu Sans Mono',consolas,'Courier New',monospace\"><span style=\"color: #d4b702; text-decoration-color: #d4b702\">━━━━━━━━━━━━━━━━━━━━━━━━━━━━━━━━━━━━━━━━━━━━━━━━━━━━━ </span><span style=\"font-weight: bold\">Step </span><span style=\"color: #008080; text-decoration-color: #008080; font-weight: bold\">5</span><span style=\"color: #d4b702; text-decoration-color: #d4b702\"> ━━━━━━━━━━━━━━━━━━━━━━━━━━━━━━━━━━━━━━━━━━━━━━━━━━━━━━</span>\n",
       "</pre>\n"
      ],
      "text/plain": [
       "\u001b[38;2;212;183;2m━━━━━━━━━━━━━━━━━━━━━━━━━━━━━━━━━━━━━━━━━━━━━━━━━━━━━ \u001b[0m\u001b[1mStep \u001b[0m\u001b[1;36m5\u001b[0m\u001b[38;2;212;183;2m ━━━━━━━━━━━━━━━━━━━━━━━━━━━━━━━━━━━━━━━━━━━━━━━━━━━━━━\u001b[0m\n"
      ]
     },
     "metadata": {},
     "output_type": "display_data"
    },
    {
     "data": {
      "text/html": [
       "<pre style=\"white-space:pre;overflow-x:auto;line-height:normal;font-family:Menlo,'DejaVu Sans Mono',consolas,'Courier New',monospace\"> ─ <span style=\"font-weight: bold\">Executing parsed code:</span> ──────────────────────────────────────────────────────────────────────────────────────── \n",
       "  <span style=\"color: #f8f8f2; text-decoration-color: #f8f8f2; background-color: #272822\">search_results_luxury_decor </span><span style=\"color: #ff4689; text-decoration-color: #ff4689; background-color: #272822\">=</span><span style=\"color: #f8f8f2; text-decoration-color: #f8f8f2; background-color: #272822\"> web_search(query</span><span style=\"color: #ff4689; text-decoration-color: #ff4689; background-color: #272822\">=</span><span style=\"color: #e6db74; text-decoration-color: #e6db74; background-color: #272822\">\"luxury art deco superhero party decorations\"</span><span style=\"color: #f8f8f2; text-decoration-color: #f8f8f2; background-color: #272822\">)</span><span style=\"background-color: #272822\">                  </span>  \n",
       "  <span style=\"color: #f8f8f2; text-decoration-color: #f8f8f2; background-color: #272822\">print(search_results_luxury_decor)</span><span style=\"background-color: #272822\">                                                                             </span>  \n",
       " ───────────────────────────────────────────────────────────────────────────────────────────────────────────────── \n",
       "</pre>\n"
      ],
      "text/plain": [
       " ─ \u001b[1mExecuting parsed code:\u001b[0m ──────────────────────────────────────────────────────────────────────────────────────── \n",
       "  \u001b[38;2;248;248;242;48;2;39;40;34msearch_results_luxury_decor\u001b[0m\u001b[38;2;248;248;242;48;2;39;40;34m \u001b[0m\u001b[38;2;255;70;137;48;2;39;40;34m=\u001b[0m\u001b[38;2;248;248;242;48;2;39;40;34m \u001b[0m\u001b[38;2;248;248;242;48;2;39;40;34mweb_search\u001b[0m\u001b[38;2;248;248;242;48;2;39;40;34m(\u001b[0m\u001b[38;2;248;248;242;48;2;39;40;34mquery\u001b[0m\u001b[38;2;255;70;137;48;2;39;40;34m=\u001b[0m\u001b[38;2;230;219;116;48;2;39;40;34m\"\u001b[0m\u001b[38;2;230;219;116;48;2;39;40;34mluxury art deco superhero party decorations\u001b[0m\u001b[38;2;230;219;116;48;2;39;40;34m\"\u001b[0m\u001b[38;2;248;248;242;48;2;39;40;34m)\u001b[0m\u001b[48;2;39;40;34m                  \u001b[0m  \n",
       "  \u001b[38;2;248;248;242;48;2;39;40;34mprint\u001b[0m\u001b[38;2;248;248;242;48;2;39;40;34m(\u001b[0m\u001b[38;2;248;248;242;48;2;39;40;34msearch_results_luxury_decor\u001b[0m\u001b[38;2;248;248;242;48;2;39;40;34m)\u001b[0m\u001b[48;2;39;40;34m                                                                             \u001b[0m  \n",
       " ───────────────────────────────────────────────────────────────────────────────────────────────────────────────── \n"
      ]
     },
     "metadata": {},
     "output_type": "display_data"
    },
    {
     "data": {
      "text/html": [
       "<pre style=\"white-space:pre;overflow-x:auto;line-height:normal;font-family:Menlo,'DejaVu Sans Mono',consolas,'Courier New',monospace\"><span style=\"font-weight: bold\">Execution logs:</span>\n",
       "## Search Results\n",
       "\n",
       "[Super Hero Party I Pop Art Super hero Party Decorations \n",
       "UK](https://mydreampartyshop.com/collections/super-hero-party)\n",
       "Our cool Pop Art Super Hero party decorations are perfect grown ups or children. Hold a party with real pow and \n",
       "wow. ... C reate an amazing retro Super Hero Party with a theme colour palatte of red, yellow, blue and black. \n",
       "Stunning Superhero Party Decorations, Balloons and Tablerware to add the wow and pow to your party. Large Superhero\n",
       "Plates ...\n",
       "\n",
       "[Superhero Art Deco - Etsy UK](https://www.etsy.com/uk/market/superhero_art_deco)\n",
       "SUPERHERO GIRL PRINTS Superhero Wall Art Instant Download Superhero Bedroom Printable Superhero Girl Party \n",
       "Superhero Girl Party Decorations (11.6k) Sale Price £4.53 £ 4. ... Superhero Poster | Art Deco Print | Movie Poster\n",
       "(9) £ 34. ...\n",
       "\n",
       "[Superhero Decorations &amp; Tableware | Value Packs - Party \n",
       "Packs](https://www.partypacks.co.uk/collections/superhero-decorations-tableware)\n",
       "We have lots of Marvel Avengers comic book decorations, pop art retro style posters, banners and hanging \n",
       "decorations to make your party look amazing! Why not put up a cityscape backdrop on the walls to create a superhero\n",
       "theme in your venue and add some props? ... Superhero Plastic Free Party Bag Kit with Contents - Each. Price each: \n",
       "£2.07 ...\n",
       "\n",
       "[Superhero Party Decor - Etsy UK](https://www.etsy.com/uk/market/superhero_party_decor)\n",
       "Check out our superhero party decor selection for the very best in unique or custom, handmade pieces from our party\n",
       "&amp; gifting shops.\n",
       "\n",
       "[Amazon.co.uk: Superhero Party \n",
       "Decorations](https://www.amazon.co.uk/superhero-party-decorations/s?k=superhero+party+decorations)\n",
       "Avenger Party Supplies Superhero Birthday Decorations,Super hero Happy Birthday Banner Cake Toppers,Hero Party \n",
       "Balloons,Avengers Themem CupCake Toppers for Kids Party,Boys Girls Superhero Party Deco 4.5 out of 5 stars 52\n",
       "\n",
       "[Superhero party decorations &amp; supplies - Card \n",
       "Factory](https://www.cardfactory.co.uk/party/shop-by-theme/superhero-party/)\n",
       "Throw the ultimate superhero party with our affordable online range We've got everything you need to create an \n",
       "occasion your resident superhero fan, big or small, will love. Get Avengers tableware for just 99p, a Captain \n",
       "America shield balloon for just a few pounds or grab one of our awesome helium 3D character balloons, including \n",
       "Spiderman, Batman and Ironman for a bash Bruce Wayne would be ...\n",
       "\n",
       "[Amazon.co.uk: Superhero Party Decor](https://www.amazon.co.uk/superhero-party-decor/s?k=superhero+party+decor)\n",
       "Delivering to London W1D 7 Update location Update location\n",
       "\n",
       "[Superhero Party - Party Supplies | Party Packs](https://www.partypacks.co.uk/collections/superhero-party)\n",
       "Whether you're a fan of the Web-Slinger, the Caped Crusader, or another masked hero, you'll find all of the \n",
       "superhero party supplies you'll need to throw a spectacular superhero themed party; including marvel party \n",
       "decorations, fancy dress costumes, disposable tableware and superhero party bags!\n",
       "\n",
       "[Party Superhero Decorations - Etsy UK](https://www.etsy.com/uk/market/party_superhero_decorations)\n",
       "Check out our party superhero decorations selection for the very best in unique or custom, handmade pieces from our\n",
       "shops.\n",
       "\n",
       "[Superhero Party Decorations | Superhero Birthday Decorations | Party \n",
       "...](https://www.partysavesmile.co.uk/collections/superhero-party-decorations)\n",
       "Create an epic Superhero party with Superhero birthday party decorations. Discover décor fit for a hero. Shop now!\n",
       "\n",
       "Out: None\n",
       "</pre>\n"
      ],
      "text/plain": [
       "\u001b[1mExecution logs:\u001b[0m\n",
       "## Search Results\n",
       "\n",
       "[Super Hero Party I Pop Art Super hero Party Decorations \n",
       "UK](https://mydreampartyshop.com/collections/super-hero-party)\n",
       "Our cool Pop Art Super Hero party decorations are perfect grown ups or children. Hold a party with real pow and \n",
       "wow. ... C reate an amazing retro Super Hero Party with a theme colour palatte of red, yellow, blue and black. \n",
       "Stunning Superhero Party Decorations, Balloons and Tablerware to add the wow and pow to your party. Large Superhero\n",
       "Plates ...\n",
       "\n",
       "[Superhero Art Deco - Etsy UK](https://www.etsy.com/uk/market/superhero_art_deco)\n",
       "SUPERHERO GIRL PRINTS Superhero Wall Art Instant Download Superhero Bedroom Printable Superhero Girl Party \n",
       "Superhero Girl Party Decorations (11.6k) Sale Price £4.53 £ 4. ... Superhero Poster | Art Deco Print | Movie Poster\n",
       "(9) £ 34. ...\n",
       "\n",
       "[Superhero Decorations & Tableware | Value Packs - Party \n",
       "Packs](https://www.partypacks.co.uk/collections/superhero-decorations-tableware)\n",
       "We have lots of Marvel Avengers comic book decorations, pop art retro style posters, banners and hanging \n",
       "decorations to make your party look amazing! Why not put up a cityscape backdrop on the walls to create a superhero\n",
       "theme in your venue and add some props? ... Superhero Plastic Free Party Bag Kit with Contents - Each. Price each: \n",
       "£2.07 ...\n",
       "\n",
       "[Superhero Party Decor - Etsy UK](https://www.etsy.com/uk/market/superhero_party_decor)\n",
       "Check out our superhero party decor selection for the very best in unique or custom, handmade pieces from our party\n",
       "& gifting shops.\n",
       "\n",
       "[Amazon.co.uk: Superhero Party \n",
       "Decorations](https://www.amazon.co.uk/superhero-party-decorations/s?k=superhero+party+decorations)\n",
       "Avenger Party Supplies Superhero Birthday Decorations,Super hero Happy Birthday Banner Cake Toppers,Hero Party \n",
       "Balloons,Avengers Themem CupCake Toppers for Kids Party,Boys Girls Superhero Party Deco 4.5 out of 5 stars 52\n",
       "\n",
       "[Superhero party decorations & supplies - Card \n",
       "Factory](https://www.cardfactory.co.uk/party/shop-by-theme/superhero-party/)\n",
       "Throw the ultimate superhero party with our affordable online range We've got everything you need to create an \n",
       "occasion your resident superhero fan, big or small, will love. Get Avengers tableware for just 99p, a Captain \n",
       "America shield balloon for just a few pounds or grab one of our awesome helium 3D character balloons, including \n",
       "Spiderman, Batman and Ironman for a bash Bruce Wayne would be ...\n",
       "\n",
       "[Amazon.co.uk: Superhero Party Decor](https://www.amazon.co.uk/superhero-party-decor/s?k=superhero+party+decor)\n",
       "Delivering to London W1D 7 Update location Update location\n",
       "\n",
       "[Superhero Party - Party Supplies | Party Packs](https://www.partypacks.co.uk/collections/superhero-party)\n",
       "Whether you're a fan of the Web-Slinger, the Caped Crusader, or another masked hero, you'll find all of the \n",
       "superhero party supplies you'll need to throw a spectacular superhero themed party; including marvel party \n",
       "decorations, fancy dress costumes, disposable tableware and superhero party bags!\n",
       "\n",
       "[Party Superhero Decorations - Etsy UK](https://www.etsy.com/uk/market/party_superhero_decorations)\n",
       "Check out our party superhero decorations selection for the very best in unique or custom, handmade pieces from our\n",
       "shops.\n",
       "\n",
       "[Superhero Party Decorations | Superhero Birthday Decorations | Party \n",
       "...](https://www.partysavesmile.co.uk/collections/superhero-party-decorations)\n",
       "Create an epic Superhero party with Superhero birthday party decorations. Discover décor fit for a hero. Shop now!\n",
       "\n",
       "Out: None\n"
      ]
     },
     "metadata": {},
     "output_type": "display_data"
    },
    {
     "data": {
      "text/html": [
       "<pre style=\"white-space:pre;overflow-x:auto;line-height:normal;font-family:Menlo,'DejaVu Sans Mono',consolas,'Courier New',monospace\"><span style=\"color: #7f7f7f; text-decoration-color: #7f7f7f\">[Step 5: Duration 4.02 seconds| Input tokens: 23,481 | Output tokens: 702]</span>\n",
       "</pre>\n"
      ],
      "text/plain": [
       "\u001b[2m[Step 5: Duration 4.02 seconds| Input tokens: 23,481 | Output tokens: 702]\u001b[0m\n"
      ]
     },
     "metadata": {},
     "output_type": "display_data"
    },
    {
     "data": {
      "text/html": [
       "<pre style=\"white-space:pre;overflow-x:auto;line-height:normal;font-family:Menlo,'DejaVu Sans Mono',consolas,'Courier New',monospace\"><span style=\"color: #d4b702; text-decoration-color: #d4b702\">━━━━━━━━━━━━━━━━━━━━━━━━━━━━━━━━━━━━━━━━━━━━━━━━━━━━━ </span><span style=\"font-weight: bold\">Step </span><span style=\"color: #008080; text-decoration-color: #008080; font-weight: bold\">6</span><span style=\"color: #d4b702; text-decoration-color: #d4b702\"> ━━━━━━━━━━━━━━━━━━━━━━━━━━━━━━━━━━━━━━━━━━━━━━━━━━━━━━</span>\n",
       "</pre>\n"
      ],
      "text/plain": [
       "\u001b[38;2;212;183;2m━━━━━━━━━━━━━━━━━━━━━━━━━━━━━━━━━━━━━━━━━━━━━━━━━━━━━ \u001b[0m\u001b[1mStep \u001b[0m\u001b[1;36m6\u001b[0m\u001b[38;2;212;183;2m ━━━━━━━━━━━━━━━━━━━━━━━━━━━━━━━━━━━━━━━━━━━━━━━━━━━━━━\u001b[0m\n"
      ]
     },
     "metadata": {},
     "output_type": "display_data"
    },
    {
     "data": {
      "text/html": [
       "<pre style=\"white-space:pre;overflow-x:auto;line-height:normal;font-family:Menlo,'DejaVu Sans Mono',consolas,'Courier New',monospace\"> ─ <span style=\"font-weight: bold\">Executing parsed code:</span> ──────────────────────────────────────────────────────────────────────────────────────── \n",
       "  <span style=\"color: #f8f8f2; text-decoration-color: #f8f8f2; background-color: #272822\">search_results_art_deco </span><span style=\"color: #ff4689; text-decoration-color: #ff4689; background-color: #272822\">=</span><span style=\"color: #f8f8f2; text-decoration-color: #f8f8f2; background-color: #272822\"> web_search(query</span><span style=\"color: #ff4689; text-decoration-color: #ff4689; background-color: #272822\">=</span><span style=\"color: #e6db74; text-decoration-color: #e6db74; background-color: #272822\">\"art deco party decorations\"</span><span style=\"color: #f8f8f2; text-decoration-color: #f8f8f2; background-color: #272822\">)</span><span style=\"background-color: #272822\">                                       </span>  \n",
       "  <span style=\"color: #f8f8f2; text-decoration-color: #f8f8f2; background-color: #272822\">print(search_results_art_deco)</span><span style=\"background-color: #272822\">                                                                                 </span>  \n",
       " ───────────────────────────────────────────────────────────────────────────────────────────────────────────────── \n",
       "</pre>\n"
      ],
      "text/plain": [
       " ─ \u001b[1mExecuting parsed code:\u001b[0m ──────────────────────────────────────────────────────────────────────────────────────── \n",
       "  \u001b[38;2;248;248;242;48;2;39;40;34msearch_results_art_deco\u001b[0m\u001b[38;2;248;248;242;48;2;39;40;34m \u001b[0m\u001b[38;2;255;70;137;48;2;39;40;34m=\u001b[0m\u001b[38;2;248;248;242;48;2;39;40;34m \u001b[0m\u001b[38;2;248;248;242;48;2;39;40;34mweb_search\u001b[0m\u001b[38;2;248;248;242;48;2;39;40;34m(\u001b[0m\u001b[38;2;248;248;242;48;2;39;40;34mquery\u001b[0m\u001b[38;2;255;70;137;48;2;39;40;34m=\u001b[0m\u001b[38;2;230;219;116;48;2;39;40;34m\"\u001b[0m\u001b[38;2;230;219;116;48;2;39;40;34mart deco party decorations\u001b[0m\u001b[38;2;230;219;116;48;2;39;40;34m\"\u001b[0m\u001b[38;2;248;248;242;48;2;39;40;34m)\u001b[0m\u001b[48;2;39;40;34m                                       \u001b[0m  \n",
       "  \u001b[38;2;248;248;242;48;2;39;40;34mprint\u001b[0m\u001b[38;2;248;248;242;48;2;39;40;34m(\u001b[0m\u001b[38;2;248;248;242;48;2;39;40;34msearch_results_art_deco\u001b[0m\u001b[38;2;248;248;242;48;2;39;40;34m)\u001b[0m\u001b[48;2;39;40;34m                                                                                 \u001b[0m  \n",
       " ───────────────────────────────────────────────────────────────────────────────────────────────────────────────── \n"
      ]
     },
     "metadata": {},
     "output_type": "display_data"
    },
    {
     "data": {
      "text/html": [
       "<pre style=\"white-space:pre;overflow-x:auto;line-height:normal;font-family:Menlo,'DejaVu Sans Mono',consolas,'Courier New',monospace\"><span style=\"font-weight: bold\">Execution logs:</span>\n",
       "## Search Results\n",
       "\n",
       "[Amazon.co.uk: Art Deco Party \n",
       "Decorations](https://www.amazon.co.uk/art-deco-party-decorations/s?k=art+deco+party+decorations)\n",
       "Art Deco Birthday Party Welcome Sign, A1, A2, A3 or A4, Great Gatsby Birthday Party Signs, Birthday Decorations, \n",
       "Adults Birthday Party Sign 4.1 out of 5 stars 10 Price, product page £29.99 £ 29 . 99\n",
       "\n",
       "[Art Deco Party Decor - Etsy UK](https://www.etsy.com/uk/market/art_deco_party_decor)\n",
       "Gatsby Welcome Sign-Art Deco Party Decor-Gatsby Theme Birthday-Roaring 1920-20s Gatsby Party-5x7-8x10-16x20-Roaring\n",
       "20s Gatsby Party Decor (263) Sale Price £3.63 £ 3. ...\n",
       "\n",
       "[1920's Theme | 1920's Props | EPH Creative - Event Prop \n",
       "Hire](https://www.eventprophire.com/product-category/themes/decades/1920s/)\n",
       "From Flapper Girl images to art deco starbursts, there are plenty of 20s theme party ideas for your roaring \n",
       "twenties party. Look no further for your 1920s party theme! Filter Product Group. Showing 1-40 of 363 results \n",
       "SN6523. Vintage Car Prop #2 £ 870.00-Vintage Car Prop #2 quantity ...\n",
       "\n",
       "[Art Deco Party Decorations - Etsy](https://www.etsy.com/market/art_deco_party_decorations)\n",
       "Art Deco Custom Message Printable Sign Vertical, Great Gatsby Wedding, Roaring 20's Party, Art Deco Party \n",
       "Decorations, Custom Download ADWG1 (2.4k) $ 15.00\n",
       "\n",
       "[1920s Party Décor &amp; Great Gatsby Party Ideas - \n",
       "Save-On-Crafts](https://www.save-on-crafts.com/blogs/blog/1920s-party-ideas)\n",
       "This Art Deco party decoration is so easy to create, and adds incredible dimension and texture to its surroundings.\n",
       "Elect a tall silver trumpet vase with antique details, as its design will catch the eyes of your guests. ... This \n",
       "1920s party table will set the mood for your sumptuous banquet. Photo from DIY Centerpiece Ideas. Creative \n",
       "Candlesticks\n",
       "\n",
       "[Art Deco Table Decoration - Etsy UK](https://www.etsy.com/uk/market/art_deco_table_decoration)\n",
       "Art Deco Fan Style I Mini Tealight Lantern For Flameless Candles or Holder for Flame Candles, Art Deco Table \n",
       "Decorations (6) Sale Price £13.14 £ 13 ... Art Deco Gatsby Wedding Party Roaring 20's Wedding Jpg Svg Instant \n",
       "Download (2.4k) £ 6.16 ...\n",
       "\n",
       "[Art Themed Birthday Party Decorations - Buy Online - Party Save \n",
       "Smile](https://www.partysavesmile.co.uk/themed-party/art-arty-paint-party)\n",
       "Whether you need some Art party supplies for an Artist birthday party, an Art party at home or perhaps you are \n",
       "throwing a crafting party, paint party for kids or Mister Maker's arty party. With our great selection of art party\n",
       "supplies and tableware you really can let your imagination run wild when you plan your Art themed party!\n",
       "\n",
       "[Great Gatsby Themed Party 1920s Theme](https://www.partysavesmile.co.uk/collections/art-deco-1920s-party)\n",
       "Discover the perfect 1920s themed party supplies. The easy way to throw a Great Gatsby themed party that will be \n",
       "long remembered. Let our Gatsby theme party collection make it easy to throw your guests an epic 1920s theme party.\n",
       "Buy now and throw a party for all to enjoy. Enjoy free delivery on qualifying orders.\n",
       "\n",
       "[Amazon.co.uk: Art Deco Table \n",
       "Decorations](https://www.amazon.co.uk/art-deco-table-decorations/s?k=art+deco+table+decorations)\n",
       "JeVenis Luxury Art Deco Party Photo Booth Prop Frame 1920s Great Roaring 20s Photo Frame Roaring 20's Photo Selfie \n",
       "Frame for Great Roaring 20s Wedding Vintage Birthday Party Supplies ... Table Lamp Mordern Art Deco Table Lamps \n",
       "Bedside Decor for Living Room Decoration Raven Desk Lamp. 4.2 out of 5 stars 170. 100+ bought in past month. Price \n",
       "...\n",
       "\n",
       "[1-48 of 248 results for \"art deco decorations\" - \n",
       "Amazon.co.uk](https://www.amazon.co.uk/art-deco-decorations/s?k=art+deco+decorations)\n",
       "Art Deco Birthday Party Welcome Sign, A1, A2, A3 or A4, Great Gatsby Birthday Party Signs, Birthday Decorations, \n",
       "Adults Birthday Party Sign 4.0 out of 5 stars 9 £23.99 £ 23 . 99\n",
       "\n",
       "Out: None\n",
       "</pre>\n"
      ],
      "text/plain": [
       "\u001b[1mExecution logs:\u001b[0m\n",
       "## Search Results\n",
       "\n",
       "[Amazon.co.uk: Art Deco Party \n",
       "Decorations](https://www.amazon.co.uk/art-deco-party-decorations/s?k=art+deco+party+decorations)\n",
       "Art Deco Birthday Party Welcome Sign, A1, A2, A3 or A4, Great Gatsby Birthday Party Signs, Birthday Decorations, \n",
       "Adults Birthday Party Sign 4.1 out of 5 stars 10 Price, product page £29.99 £ 29 . 99\n",
       "\n",
       "[Art Deco Party Decor - Etsy UK](https://www.etsy.com/uk/market/art_deco_party_decor)\n",
       "Gatsby Welcome Sign-Art Deco Party Decor-Gatsby Theme Birthday-Roaring 1920-20s Gatsby Party-5x7-8x10-16x20-Roaring\n",
       "20s Gatsby Party Decor (263) Sale Price £3.63 £ 3. ...\n",
       "\n",
       "[1920's Theme | 1920's Props | EPH Creative - Event Prop \n",
       "Hire](https://www.eventprophire.com/product-category/themes/decades/1920s/)\n",
       "From Flapper Girl images to art deco starbursts, there are plenty of 20s theme party ideas for your roaring \n",
       "twenties party. Look no further for your 1920s party theme! Filter Product Group. Showing 1-40 of 363 results \n",
       "SN6523. Vintage Car Prop #2 £ 870.00-Vintage Car Prop #2 quantity ...\n",
       "\n",
       "[Art Deco Party Decorations - Etsy](https://www.etsy.com/market/art_deco_party_decorations)\n",
       "Art Deco Custom Message Printable Sign Vertical, Great Gatsby Wedding, Roaring 20's Party, Art Deco Party \n",
       "Decorations, Custom Download ADWG1 (2.4k) $ 15.00\n",
       "\n",
       "[1920s Party Décor & Great Gatsby Party Ideas - \n",
       "Save-On-Crafts](https://www.save-on-crafts.com/blogs/blog/1920s-party-ideas)\n",
       "This Art Deco party decoration is so easy to create, and adds incredible dimension and texture to its surroundings.\n",
       "Elect a tall silver trumpet vase with antique details, as its design will catch the eyes of your guests. ... This \n",
       "1920s party table will set the mood for your sumptuous banquet. Photo from DIY Centerpiece Ideas. Creative \n",
       "Candlesticks\n",
       "\n",
       "[Art Deco Table Decoration - Etsy UK](https://www.etsy.com/uk/market/art_deco_table_decoration)\n",
       "Art Deco Fan Style I Mini Tealight Lantern For Flameless Candles or Holder for Flame Candles, Art Deco Table \n",
       "Decorations (6) Sale Price £13.14 £ 13 ... Art Deco Gatsby Wedding Party Roaring 20's Wedding Jpg Svg Instant \n",
       "Download (2.4k) £ 6.16 ...\n",
       "\n",
       "[Art Themed Birthday Party Decorations - Buy Online - Party Save \n",
       "Smile](https://www.partysavesmile.co.uk/themed-party/art-arty-paint-party)\n",
       "Whether you need some Art party supplies for an Artist birthday party, an Art party at home or perhaps you are \n",
       "throwing a crafting party, paint party for kids or Mister Maker's arty party. With our great selection of art party\n",
       "supplies and tableware you really can let your imagination run wild when you plan your Art themed party!\n",
       "\n",
       "[Great Gatsby Themed Party 1920s Theme](https://www.partysavesmile.co.uk/collections/art-deco-1920s-party)\n",
       "Discover the perfect 1920s themed party supplies. The easy way to throw a Great Gatsby themed party that will be \n",
       "long remembered. Let our Gatsby theme party collection make it easy to throw your guests an epic 1920s theme party.\n",
       "Buy now and throw a party for all to enjoy. Enjoy free delivery on qualifying orders.\n",
       "\n",
       "[Amazon.co.uk: Art Deco Table \n",
       "Decorations](https://www.amazon.co.uk/art-deco-table-decorations/s?k=art+deco+table+decorations)\n",
       "JeVenis Luxury Art Deco Party Photo Booth Prop Frame 1920s Great Roaring 20s Photo Frame Roaring 20's Photo Selfie \n",
       "Frame for Great Roaring 20s Wedding Vintage Birthday Party Supplies ... Table Lamp Mordern Art Deco Table Lamps \n",
       "Bedside Decor for Living Room Decoration Raven Desk Lamp. 4.2 out of 5 stars 170. 100+ bought in past month. Price \n",
       "...\n",
       "\n",
       "[1-48 of 248 results for \"art deco decorations\" - \n",
       "Amazon.co.uk](https://www.amazon.co.uk/art-deco-decorations/s?k=art+deco+decorations)\n",
       "Art Deco Birthday Party Welcome Sign, A1, A2, A3 or A4, Great Gatsby Birthday Party Signs, Birthday Decorations, \n",
       "Adults Birthday Party Sign 4.0 out of 5 stars 9 £23.99 £ 23 . 99\n",
       "\n",
       "Out: None\n"
      ]
     },
     "metadata": {},
     "output_type": "display_data"
    },
    {
     "data": {
      "text/html": [
       "<pre style=\"white-space:pre;overflow-x:auto;line-height:normal;font-family:Menlo,'DejaVu Sans Mono',consolas,'Courier New',monospace\"><span style=\"color: #7f7f7f; text-decoration-color: #7f7f7f\">[Step 6: Duration 2.58 seconds| Input tokens: 31,734 | Output tokens: 809]</span>\n",
       "</pre>\n"
      ],
      "text/plain": [
       "\u001b[2m[Step 6: Duration 2.58 seconds| Input tokens: 31,734 | Output tokens: 809]\u001b[0m\n"
      ]
     },
     "metadata": {},
     "output_type": "display_data"
    },
    {
     "data": {
      "text/html": [
       "<pre style=\"white-space:pre;overflow-x:auto;line-height:normal;font-family:Menlo,'DejaVu Sans Mono',consolas,'Courier New',monospace\"><span style=\"color: #d4b702; text-decoration-color: #d4b702\">━━━━━━━━━━━━━━━━━━━━━━━━━━━━━━━━━━━━━━━━━━━━━━━━━━━━━ </span><span style=\"font-weight: bold\">Step </span><span style=\"color: #008080; text-decoration-color: #008080; font-weight: bold\">7</span><span style=\"color: #d4b702; text-decoration-color: #d4b702\"> ━━━━━━━━━━━━━━━━━━━━━━━━━━━━━━━━━━━━━━━━━━━━━━━━━━━━━━</span>\n",
       "</pre>\n"
      ],
      "text/plain": [
       "\u001b[38;2;212;183;2m━━━━━━━━━━━━━━━━━━━━━━━━━━━━━━━━━━━━━━━━━━━━━━━━━━━━━ \u001b[0m\u001b[1mStep \u001b[0m\u001b[1;36m7\u001b[0m\u001b[38;2;212;183;2m ━━━━━━━━━━━━━━━━━━━━━━━━━━━━━━━━━━━━━━━━━━━━━━━━━━━━━━\u001b[0m\n"
      ]
     },
     "metadata": {},
     "output_type": "display_data"
    },
    {
     "data": {
      "text/html": [
       "<pre style=\"white-space:pre;overflow-x:auto;line-height:normal;font-family:Menlo,'DejaVu Sans Mono',consolas,'Courier New',monospace\"> ─ <span style=\"font-weight: bold\">Executing parsed code:</span> ──────────────────────────────────────────────────────────────────────────────────────── \n",
       "  <span style=\"color: #f8f8f2; text-decoration-color: #f8f8f2; background-color: #272822\">final_answer(</span><span style=\"color: #e6db74; text-decoration-color: #e6db74; background-color: #272822\">\"A luxury superhero party could combine art deco decorations (geometric patterns, metallic colors,</span>  \n",
       "  <span style=\"color: #e6db74; text-decoration-color: #e6db74; background-color: #272822\">cityscapes), a jazz band playing superhero themes, a mixologist creating themed cocktails, and gourmet catering</span>  \n",
       "  <span style=\"color: #e6db74; text-decoration-color: #e6db74; background-color: #272822\">with art deco-inspired plating.\"</span><span style=\"color: #f8f8f2; text-decoration-color: #f8f8f2; background-color: #272822\">)</span><span style=\"background-color: #272822\">                                                                              </span>  \n",
       " ───────────────────────────────────────────────────────────────────────────────────────────────────────────────── \n",
       "</pre>\n"
      ],
      "text/plain": [
       " ─ \u001b[1mExecuting parsed code:\u001b[0m ──────────────────────────────────────────────────────────────────────────────────────── \n",
       "  \u001b[38;2;248;248;242;48;2;39;40;34mfinal_answer\u001b[0m\u001b[38;2;248;248;242;48;2;39;40;34m(\u001b[0m\u001b[38;2;230;219;116;48;2;39;40;34m\"\u001b[0m\u001b[38;2;230;219;116;48;2;39;40;34mA luxury superhero party could combine art deco decorations (geometric patterns, metallic colors,\u001b[0m  \n",
       "  \u001b[38;2;230;219;116;48;2;39;40;34mcityscapes), a jazz band playing superhero themes, a mixologist creating themed cocktails, and gourmet catering\u001b[0m  \n",
       "  \u001b[38;2;230;219;116;48;2;39;40;34mwith art deco-inspired plating.\u001b[0m\u001b[38;2;230;219;116;48;2;39;40;34m\"\u001b[0m\u001b[38;2;248;248;242;48;2;39;40;34m)\u001b[0m\u001b[48;2;39;40;34m                                                                              \u001b[0m  \n",
       " ───────────────────────────────────────────────────────────────────────────────────────────────────────────────── \n"
      ]
     },
     "metadata": {},
     "output_type": "display_data"
    },
    {
     "data": {
      "text/html": [
       "<pre style=\"white-space:pre;overflow-x:auto;line-height:normal;font-family:Menlo,'DejaVu Sans Mono',consolas,'Courier New',monospace\"><span style=\"color: #d4b702; text-decoration-color: #d4b702; font-weight: bold\">Out - Final answer: A luxury superhero party could combine art deco decorations (geometric patterns, metallic </span>\n",
       "<span style=\"color: #d4b702; text-decoration-color: #d4b702; font-weight: bold\">colors, cityscapes), a jazz band playing superhero themes, a mixologist creating themed cocktails, and gourmet </span>\n",
       "<span style=\"color: #d4b702; text-decoration-color: #d4b702; font-weight: bold\">catering with art deco-inspired plating.</span>\n",
       "</pre>\n"
      ],
      "text/plain": [
       "\u001b[1;38;2;212;183;2mOut - Final answer: A luxury superhero party could combine art deco decorations (geometric patterns, metallic \u001b[0m\n",
       "\u001b[1;38;2;212;183;2mcolors, cityscapes), a jazz band playing superhero themes, a mixologist creating themed cocktails, and gourmet \u001b[0m\n",
       "\u001b[1;38;2;212;183;2mcatering with art deco-inspired plating.\u001b[0m\n"
      ]
     },
     "metadata": {},
     "output_type": "display_data"
    },
    {
     "data": {
      "text/html": [
       "<pre style=\"white-space:pre;overflow-x:auto;line-height:normal;font-family:Menlo,'DejaVu Sans Mono',consolas,'Courier New',monospace\"><span style=\"color: #7f7f7f; text-decoration-color: #7f7f7f\">[Step 7: Duration 2.39 seconds| Input tokens: 41,299 | Output tokens: 1,099]</span>\n",
       "</pre>\n"
      ],
      "text/plain": [
       "\u001b[2m[Step 7: Duration 2.39 seconds| Input tokens: 41,299 | Output tokens: 1,099]\u001b[0m\n"
      ]
     },
     "metadata": {},
     "output_type": "display_data"
    },
    {
     "name": "stdout",
     "output_type": "stream",
     "text": [
      "A luxury superhero party could combine art deco decorations (geometric patterns, metallic colors, cityscapes), a jazz band playing superhero themes, a mixologist creating themed cocktails, and gourmet catering with art deco-inspired plating.\n"
     ]
    }
   ],
   "source": [
    "# Initialize the search tool\n",
    "search_tool = DuckDuckGoSearchTool()\n",
    "\n",
    "# Initialize the model\n",
    "agent = CodeAgent(\n",
    "    model = model,\n",
    "    tools=[search_tool]\n",
    ")\n",
    "\n",
    "# Example usage\n",
    "response = agent.run(\n",
    "    \"Search for luxury superhero-themed party ideas, including decorations, entertainment, and catering.\"\n",
    ")\n",
    "print(response)"
   ]
  },
  {
   "cell_type": "code",
   "execution_count": null,
   "id": "c7c1c23f",
   "metadata": {},
   "outputs": [],
   "source": []
  }
 ],
 "metadata": {
  "kernelspec": {
   "display_name": ".venv",
   "language": "python",
   "name": "python3"
  },
  "language_info": {
   "codemirror_mode": {
    "name": "ipython",
    "version": 3
   },
   "file_extension": ".py",
   "mimetype": "text/x-python",
   "name": "python",
   "nbconvert_exporter": "python",
   "pygments_lexer": "ipython3",
   "version": "3.12.7"
  }
 },
 "nbformat": 4,
 "nbformat_minor": 5
}

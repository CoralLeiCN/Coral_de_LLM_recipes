{
 "cells": [
  {
   "cell_type": "markdown",
   "id": "e54d253d",
   "metadata": {},
   "source": [
    "modified from https://huggingface.co/agents-course/notebooks/blob/main/unit2/smolagents/retrieval_agents.ipynb"
   ]
  },
  {
   "cell_type": "code",
   "execution_count": 2,
   "id": "5492ab43",
   "metadata": {},
   "outputs": [],
   "source": [
    "from langchain.docstore.document import Document\n",
    "from langchain.text_splitter import RecursiveCharacterTextSplitter\n",
    "from langchain_community.retrievers import BM25Retriever\n",
    "from smolagents import CodeAgent, DuckDuckGoSearchTool, Tool\n",
    "from utils import gemini_model_OpenAIServer"
   ]
  },
  {
   "cell_type": "code",
   "execution_count": 3,
   "id": "3ee6a700",
   "metadata": {},
   "outputs": [],
   "source": [
    "model = gemini_model_OpenAIServer(\"gemini-2.0-flash\")"
   ]
  },
  {
   "cell_type": "markdown",
   "id": "194cca76",
   "metadata": {},
   "source": [
    "# Basic Retrieval with DuckDuckGo"
   ]
  },
  {
   "cell_type": "code",
   "execution_count": 3,
   "id": "6b9cb234",
   "metadata": {},
   "outputs": [
    {
     "data": {
      "text/html": [
       "<pre style=\"white-space:pre;overflow-x:auto;line-height:normal;font-family:Menlo,'DejaVu Sans Mono',consolas,'Courier New',monospace\"><span style=\"color: #d4b702; text-decoration-color: #d4b702\">╭──────────────────────────────────────────────────── </span><span style=\"color: #d4b702; text-decoration-color: #d4b702; font-weight: bold\">New run</span><span style=\"color: #d4b702; text-decoration-color: #d4b702\"> ────────────────────────────────────────────────────╮</span>\n",
       "<span style=\"color: #d4b702; text-decoration-color: #d4b702\">│</span>                                                                                                                 <span style=\"color: #d4b702; text-decoration-color: #d4b702\">│</span>\n",
       "<span style=\"color: #d4b702; text-decoration-color: #d4b702\">│</span> <span style=\"font-weight: bold\">Search for luxury superhero-themed party ideas, including decorations, entertainment, and catering.</span>             <span style=\"color: #d4b702; text-decoration-color: #d4b702\">│</span>\n",
       "<span style=\"color: #d4b702; text-decoration-color: #d4b702\">│</span>                                                                                                                 <span style=\"color: #d4b702; text-decoration-color: #d4b702\">│</span>\n",
       "<span style=\"color: #d4b702; text-decoration-color: #d4b702\">╰─ OpenAIServerModel - gemini-2.0-flash ──────────────────────────────────────────────────────────────────────────╯</span>\n",
       "</pre>\n"
      ],
      "text/plain": [
       "\u001b[38;2;212;183;2m╭─\u001b[0m\u001b[38;2;212;183;2m───────────────────────────────────────────────────\u001b[0m\u001b[38;2;212;183;2m \u001b[0m\u001b[1;38;2;212;183;2mNew run\u001b[0m\u001b[38;2;212;183;2m \u001b[0m\u001b[38;2;212;183;2m───────────────────────────────────────────────────\u001b[0m\u001b[38;2;212;183;2m─╮\u001b[0m\n",
       "\u001b[38;2;212;183;2m│\u001b[0m                                                                                                                 \u001b[38;2;212;183;2m│\u001b[0m\n",
       "\u001b[38;2;212;183;2m│\u001b[0m \u001b[1mSearch for luxury superhero-themed party ideas, including decorations, entertainment, and catering.\u001b[0m             \u001b[38;2;212;183;2m│\u001b[0m\n",
       "\u001b[38;2;212;183;2m│\u001b[0m                                                                                                                 \u001b[38;2;212;183;2m│\u001b[0m\n",
       "\u001b[38;2;212;183;2m╰─\u001b[0m\u001b[38;2;212;183;2m OpenAIServerModel - gemini-2.0-flash \u001b[0m\u001b[38;2;212;183;2m─────────────────────────────────────────────────────────────────────────\u001b[0m\u001b[38;2;212;183;2m─╯\u001b[0m\n"
      ]
     },
     "metadata": {},
     "output_type": "display_data"
    },
    {
     "data": {
      "text/html": [
       "<pre style=\"white-space:pre;overflow-x:auto;line-height:normal;font-family:Menlo,'DejaVu Sans Mono',consolas,'Courier New',monospace\"><span style=\"color: #d4b702; text-decoration-color: #d4b702\">━━━━━━━━━━━━━━━━━━━━━━━━━━━━━━━━━━━━━━━━━━━━━━━━━━━━━ </span><span style=\"font-weight: bold\">Step </span><span style=\"color: #008080; text-decoration-color: #008080; font-weight: bold\">1</span><span style=\"color: #d4b702; text-decoration-color: #d4b702\"> ━━━━━━━━━━━━━━━━━━━━━━━━━━━━━━━━━━━━━━━━━━━━━━━━━━━━━━</span>\n",
       "</pre>\n"
      ],
      "text/plain": [
       "\u001b[38;2;212;183;2m━━━━━━━━━━━━━━━━━━━━━━━━━━━━━━━━━━━━━━━━━━━━━━━━━━━━━ \u001b[0m\u001b[1mStep \u001b[0m\u001b[1;36m1\u001b[0m\u001b[38;2;212;183;2m ━━━━━━━━━━━━━━━━━━━━━━━━━━━━━━━━━━━━━━━━━━━━━━━━━━━━━━\u001b[0m\n"
      ]
     },
     "metadata": {},
     "output_type": "display_data"
    },
    {
     "data": {
      "text/html": [
       "<pre style=\"white-space:pre;overflow-x:auto;line-height:normal;font-family:Menlo,'DejaVu Sans Mono',consolas,'Courier New',monospace\"> ─ <span style=\"font-weight: bold\">Executing parsed code:</span> ──────────────────────────────────────────────────────────────────────────────────────── \n",
       "  <span style=\"color: #f8f8f2; text-decoration-color: #f8f8f2; background-color: #272822\">search_results </span><span style=\"color: #ff4689; text-decoration-color: #ff4689; background-color: #272822\">=</span><span style=\"color: #f8f8f2; text-decoration-color: #f8f8f2; background-color: #272822\"> web_search(query</span><span style=\"color: #ff4689; text-decoration-color: #ff4689; background-color: #272822\">=</span><span style=\"color: #e6db74; text-decoration-color: #e6db74; background-color: #272822\">\"luxury superhero themed party ideas decorations entertainment catering\"</span><span style=\"color: #f8f8f2; text-decoration-color: #f8f8f2; background-color: #272822\">)</span><span style=\"background-color: #272822\">    </span>  \n",
       "  <span style=\"color: #f8f8f2; text-decoration-color: #f8f8f2; background-color: #272822\">print(search_results)</span><span style=\"background-color: #272822\">                                                                                          </span>  \n",
       " ───────────────────────────────────────────────────────────────────────────────────────────────────────────────── \n",
       "</pre>\n"
      ],
      "text/plain": [
       " ─ \u001b[1mExecuting parsed code:\u001b[0m ──────────────────────────────────────────────────────────────────────────────────────── \n",
       "  \u001b[38;2;248;248;242;48;2;39;40;34msearch_results\u001b[0m\u001b[38;2;248;248;242;48;2;39;40;34m \u001b[0m\u001b[38;2;255;70;137;48;2;39;40;34m=\u001b[0m\u001b[38;2;248;248;242;48;2;39;40;34m \u001b[0m\u001b[38;2;248;248;242;48;2;39;40;34mweb_search\u001b[0m\u001b[38;2;248;248;242;48;2;39;40;34m(\u001b[0m\u001b[38;2;248;248;242;48;2;39;40;34mquery\u001b[0m\u001b[38;2;255;70;137;48;2;39;40;34m=\u001b[0m\u001b[38;2;230;219;116;48;2;39;40;34m\"\u001b[0m\u001b[38;2;230;219;116;48;2;39;40;34mluxury superhero themed party ideas decorations entertainment catering\u001b[0m\u001b[38;2;230;219;116;48;2;39;40;34m\"\u001b[0m\u001b[38;2;248;248;242;48;2;39;40;34m)\u001b[0m\u001b[48;2;39;40;34m    \u001b[0m  \n",
       "  \u001b[38;2;248;248;242;48;2;39;40;34mprint\u001b[0m\u001b[38;2;248;248;242;48;2;39;40;34m(\u001b[0m\u001b[38;2;248;248;242;48;2;39;40;34msearch_results\u001b[0m\u001b[38;2;248;248;242;48;2;39;40;34m)\u001b[0m\u001b[48;2;39;40;34m                                                                                          \u001b[0m  \n",
       " ───────────────────────────────────────────────────────────────────────────────────────────────────────────────── \n"
      ]
     },
     "metadata": {},
     "output_type": "display_data"
    },
    {
     "data": {
      "text/html": [
       "<pre style=\"white-space:pre;overflow-x:auto;line-height:normal;font-family:Menlo,'DejaVu Sans Mono',consolas,'Courier New',monospace\"><span style=\"font-weight: bold\">Execution logs:</span>\n",
       "## Search Results\n",
       "\n",
       "[Heroes and Villains: The Ultimate Guide to Superhero \n",
       "Parties](https://scarlettentertainment.com/gb/blog/heroes-and-villains-the-ultimate-guide-to-superhero-parties)\n",
       "Worshipped by millions, comic book characters are more popular than ever, which consequently make heroes and \n",
       "villains parties a steady entertainment trend. Especially popular for Halloween party themes, Superhero parties are\n",
       "the go-to theme for any sort of event these days, and be aware: villains are now VIP guests!\n",
       "\n",
       "[130 Superhero Themed Party Ideas | superhero theme party, event props \n",
       "...](https://uk.pinterest.com/eventprophire/superhero-themed-party-ideas/)\n",
       "Apr 10, 2019 - Welcome to our Superheroes themed board. We have some fantastic lifesize figures, prop rocks and \n",
       "furniture, so take a look below for a wide range of Superhero props, which would all look fantastic at any \n",
       "Superheroes themed event or party. See more ideas about superhero theme party, event props, superhero theme.\n",
       "\n",
       "[24 Superhero Party Ideas that Will Make You Wish You Were a \n",
       "Kid](https://howdoesshe.com/24-incredible-superhero-party-ideas-that-will-make-you-wish-you-were-a-kid-again/)\n",
       "Let your superman show his own superpowers!Kids (and even adults) who love superheroes will fall in love with these\n",
       "incredible superhero theme party ideas that will bring out the kid in everyone! From decor ideas, party foods, and \n",
       "costume ideas to superhero-themed activities and superhero games, we have different ways to cover all of your party\n",
       "needs. These ideas will make you wish you were a ...\n",
       "\n",
       "[Superhero Decorations &amp; Tableware | Value Packs - Party \n",
       "Packs](https://www.partypacks.co.uk/collections/superhero-decorations-tableware)\n",
       "Make sure your superhero table looks the part with our fantastic range of heroic cups, plates, napkins, superhero \n",
       "balloons and more! With a brilliant retro pop art range featuring tablecovers, bowls, confetti and cake decorating \n",
       "kits, to Avengers tableware with your favourite superheroes and villains on!\n",
       "\n",
       "[The Party Factory The UK's Leading Party Shop - Free Next Day Delivery](https://thepartyfactory.co.uk/)\n",
       "Visit the UK's leading party supplies shop and party in style. Party supplies and party decorations for all \n",
       "occasions. Next day delivery. All your party needs covered. Banners | Bunting | Balloons | Candles | Confetti | \n",
       "Tableware | Table Decor Birthday | Christmas | Wedding | Christening | Baby Shower | Retirement\n",
       "\n",
       "[Superhero Party Ideas - Pinterest](https://www.pinterest.co.uk/partydelightsuk/superhero-party-ideas/)\n",
       "Sep 17, 2019 - Throw an unforgettable superhero party with our awesome collection of superhero party ideas. \n",
       "Decorating ideas, party food ideas, party game ideas and more. See more ideas about superhero party, superhero \n",
       "birthday, superhero birthday party.\n",
       "\n",
       "[Mini Party Plan: How to Plan a Superhero Birthday \n",
       "Party](https://thepartyteacher.com/2018/08/23/mini-party-plan-superhero-party/)\n",
       "One of the most popular posts on this blog is a girl's superhero party. So I thought it might be fun to create a \n",
       "mini party plan for a superhero birthday party. I styled this mini party plan in the traditional red, yellow, and \n",
       "blue, but you could change the color palette for a more girly pink and purple superhero party, if you prefer.\n",
       "\n",
       "[Amazon.co.uk: Princess And Superhero Party \n",
       "Decorations](https://www.amazon.co.uk/princess-superhero-party-decorations/s?k=princess+and+superhero+party+decorat\n",
       "ions)\n",
       "Superhero Party Table Cloth for Girls,130*220cm Pink Superhero Girl Party Tablecloth,Plastic Marvel Avengers Table \n",
       "Cover Party for Kids Girl Birthday Superhero Themed Party Table Decorations Supplies 4.4 out of 5 stars 195\n",
       "\n",
       "[Themed Birthday Party Ideas: From Superheroes to Princesses](https://whattogetmy.com/themed-birthday-party-ideas/)\n",
       "Look for mermaid-inspired party supplies such as iridescent tableware, shell-shaped invitations, and mermaid-themed\n",
       "party favors like sequined flip-flops or shimmering hair accessories. For the outer space theme, seek out \n",
       "glow-in-the-dark wall decals, star-shaped balloons, and astronaut-themed party hats and costumes.\n",
       "\n",
       "[Superhero theme party for adults - \n",
       "Pinterest](https://www.pinterest.com/ideas/superhero-theme-party-for-adults/916708620865/)\n",
       "Find and save ideas about superhero theme party for adults on Pinterest.\n",
       "\n",
       "Out: None\n",
       "</pre>\n"
      ],
      "text/plain": [
       "\u001b[1mExecution logs:\u001b[0m\n",
       "## Search Results\n",
       "\n",
       "[Heroes and Villains: The Ultimate Guide to Superhero \n",
       "Parties](https://scarlettentertainment.com/gb/blog/heroes-and-villains-the-ultimate-guide-to-superhero-parties)\n",
       "Worshipped by millions, comic book characters are more popular than ever, which consequently make heroes and \n",
       "villains parties a steady entertainment trend. Especially popular for Halloween party themes, Superhero parties are\n",
       "the go-to theme for any sort of event these days, and be aware: villains are now VIP guests!\n",
       "\n",
       "[130 Superhero Themed Party Ideas | superhero theme party, event props \n",
       "...](https://uk.pinterest.com/eventprophire/superhero-themed-party-ideas/)\n",
       "Apr 10, 2019 - Welcome to our Superheroes themed board. We have some fantastic lifesize figures, prop rocks and \n",
       "furniture, so take a look below for a wide range of Superhero props, which would all look fantastic at any \n",
       "Superheroes themed event or party. See more ideas about superhero theme party, event props, superhero theme.\n",
       "\n",
       "[24 Superhero Party Ideas that Will Make You Wish You Were a \n",
       "Kid](https://howdoesshe.com/24-incredible-superhero-party-ideas-that-will-make-you-wish-you-were-a-kid-again/)\n",
       "Let your superman show his own superpowers!Kids (and even adults) who love superheroes will fall in love with these\n",
       "incredible superhero theme party ideas that will bring out the kid in everyone! From decor ideas, party foods, and \n",
       "costume ideas to superhero-themed activities and superhero games, we have different ways to cover all of your party\n",
       "needs. These ideas will make you wish you were a ...\n",
       "\n",
       "[Superhero Decorations & Tableware | Value Packs - Party \n",
       "Packs](https://www.partypacks.co.uk/collections/superhero-decorations-tableware)\n",
       "Make sure your superhero table looks the part with our fantastic range of heroic cups, plates, napkins, superhero \n",
       "balloons and more! With a brilliant retro pop art range featuring tablecovers, bowls, confetti and cake decorating \n",
       "kits, to Avengers tableware with your favourite superheroes and villains on!\n",
       "\n",
       "[The Party Factory The UK's Leading Party Shop - Free Next Day Delivery](https://thepartyfactory.co.uk/)\n",
       "Visit the UK's leading party supplies shop and party in style. Party supplies and party decorations for all \n",
       "occasions. Next day delivery. All your party needs covered. Banners | Bunting | Balloons | Candles | Confetti | \n",
       "Tableware | Table Decor Birthday | Christmas | Wedding | Christening | Baby Shower | Retirement\n",
       "\n",
       "[Superhero Party Ideas - Pinterest](https://www.pinterest.co.uk/partydelightsuk/superhero-party-ideas/)\n",
       "Sep 17, 2019 - Throw an unforgettable superhero party with our awesome collection of superhero party ideas. \n",
       "Decorating ideas, party food ideas, party game ideas and more. See more ideas about superhero party, superhero \n",
       "birthday, superhero birthday party.\n",
       "\n",
       "[Mini Party Plan: How to Plan a Superhero Birthday \n",
       "Party](https://thepartyteacher.com/2018/08/23/mini-party-plan-superhero-party/)\n",
       "One of the most popular posts on this blog is a girl's superhero party. So I thought it might be fun to create a \n",
       "mini party plan for a superhero birthday party. I styled this mini party plan in the traditional red, yellow, and \n",
       "blue, but you could change the color palette for a more girly pink and purple superhero party, if you prefer.\n",
       "\n",
       "[Amazon.co.uk: Princess And Superhero Party \n",
       "Decorations](https://www.amazon.co.uk/princess-superhero-party-decorations/s?k=princess+and+superhero+party+decorat\n",
       "ions)\n",
       "Superhero Party Table Cloth for Girls,130*220cm Pink Superhero Girl Party Tablecloth,Plastic Marvel Avengers Table \n",
       "Cover Party for Kids Girl Birthday Superhero Themed Party Table Decorations Supplies 4.4 out of 5 stars 195\n",
       "\n",
       "[Themed Birthday Party Ideas: From Superheroes to Princesses](https://whattogetmy.com/themed-birthday-party-ideas/)\n",
       "Look for mermaid-inspired party supplies such as iridescent tableware, shell-shaped invitations, and mermaid-themed\n",
       "party favors like sequined flip-flops or shimmering hair accessories. For the outer space theme, seek out \n",
       "glow-in-the-dark wall decals, star-shaped balloons, and astronaut-themed party hats and costumes.\n",
       "\n",
       "[Superhero theme party for adults - \n",
       "Pinterest](https://www.pinterest.com/ideas/superhero-theme-party-for-adults/916708620865/)\n",
       "Find and save ideas about superhero theme party for adults on Pinterest.\n",
       "\n",
       "Out: None\n"
      ]
     },
     "metadata": {},
     "output_type": "display_data"
    },
    {
     "data": {
      "text/html": [
       "<pre style=\"white-space:pre;overflow-x:auto;line-height:normal;font-family:Menlo,'DejaVu Sans Mono',consolas,'Courier New',monospace\"><span style=\"color: #7f7f7f; text-decoration-color: #7f7f7f\">[Step 1: Duration 1.91 seconds| Input tokens: 2,250 | Output tokens: 74]</span>\n",
       "</pre>\n"
      ],
      "text/plain": [
       "\u001b[2m[Step 1: Duration 1.91 seconds| Input tokens: 2,250 | Output tokens: 74]\u001b[0m\n"
      ]
     },
     "metadata": {},
     "output_type": "display_data"
    },
    {
     "data": {
      "text/html": [
       "<pre style=\"white-space:pre;overflow-x:auto;line-height:normal;font-family:Menlo,'DejaVu Sans Mono',consolas,'Courier New',monospace\"><span style=\"color: #d4b702; text-decoration-color: #d4b702\">━━━━━━━━━━━━━━━━━━━━━━━━━━━━━━━━━━━━━━━━━━━━━━━━━━━━━ </span><span style=\"font-weight: bold\">Step </span><span style=\"color: #008080; text-decoration-color: #008080; font-weight: bold\">2</span><span style=\"color: #d4b702; text-decoration-color: #d4b702\"> ━━━━━━━━━━━━━━━━━━━━━━━━━━━━━━━━━━━━━━━━━━━━━━━━━━━━━━</span>\n",
       "</pre>\n"
      ],
      "text/plain": [
       "\u001b[38;2;212;183;2m━━━━━━━━━━━━━━━━━━━━━━━━━━━━━━━━━━━━━━━━━━━━━━━━━━━━━ \u001b[0m\u001b[1mStep \u001b[0m\u001b[1;36m2\u001b[0m\u001b[38;2;212;183;2m ━━━━━━━━━━━━━━━━━━━━━━━━━━━━━━━━━━━━━━━━━━━━━━━━━━━━━━\u001b[0m\n"
      ]
     },
     "metadata": {},
     "output_type": "display_data"
    },
    {
     "data": {
      "text/html": [
       "<pre style=\"white-space:pre;overflow-x:auto;line-height:normal;font-family:Menlo,'DejaVu Sans Mono',consolas,'Courier New',monospace\"> ─ <span style=\"font-weight: bold\">Executing parsed code:</span> ──────────────────────────────────────────────────────────────────────────────────────── \n",
       "  <span style=\"color: #f8f8f2; text-decoration-color: #f8f8f2; background-color: #272822\">search_results_luxury </span><span style=\"color: #ff4689; text-decoration-color: #ff4689; background-color: #272822\">=</span><span style=\"color: #f8f8f2; text-decoration-color: #f8f8f2; background-color: #272822\"> web_search(query</span><span style=\"color: #ff4689; text-decoration-color: #ff4689; background-color: #272822\">=</span><span style=\"color: #e6db74; text-decoration-color: #e6db74; background-color: #272822\">\"luxury upscale exclusive premium gourmet superhero themed party ideas</span>  \n",
       "  <span style=\"color: #e6db74; text-decoration-color: #e6db74; background-color: #272822\">decorations entertainment catering\"</span><span style=\"color: #f8f8f2; text-decoration-color: #f8f8f2; background-color: #272822\">)</span><span style=\"background-color: #272822\">                                                                           </span>  \n",
       "  <span style=\"color: #f8f8f2; text-decoration-color: #f8f8f2; background-color: #272822\">print(search_results_luxury)</span><span style=\"background-color: #272822\">                                                                                   </span>  \n",
       " ───────────────────────────────────────────────────────────────────────────────────────────────────────────────── \n",
       "</pre>\n"
      ],
      "text/plain": [
       " ─ \u001b[1mExecuting parsed code:\u001b[0m ──────────────────────────────────────────────────────────────────────────────────────── \n",
       "  \u001b[38;2;248;248;242;48;2;39;40;34msearch_results_luxury\u001b[0m\u001b[38;2;248;248;242;48;2;39;40;34m \u001b[0m\u001b[38;2;255;70;137;48;2;39;40;34m=\u001b[0m\u001b[38;2;248;248;242;48;2;39;40;34m \u001b[0m\u001b[38;2;248;248;242;48;2;39;40;34mweb_search\u001b[0m\u001b[38;2;248;248;242;48;2;39;40;34m(\u001b[0m\u001b[38;2;248;248;242;48;2;39;40;34mquery\u001b[0m\u001b[38;2;255;70;137;48;2;39;40;34m=\u001b[0m\u001b[38;2;230;219;116;48;2;39;40;34m\"\u001b[0m\u001b[38;2;230;219;116;48;2;39;40;34mluxury upscale exclusive premium gourmet superhero themed party ideas\u001b[0m  \n",
       "  \u001b[38;2;230;219;116;48;2;39;40;34mdecorations entertainment catering\u001b[0m\u001b[38;2;230;219;116;48;2;39;40;34m\"\u001b[0m\u001b[38;2;248;248;242;48;2;39;40;34m)\u001b[0m\u001b[48;2;39;40;34m                                                                           \u001b[0m  \n",
       "  \u001b[38;2;248;248;242;48;2;39;40;34mprint\u001b[0m\u001b[38;2;248;248;242;48;2;39;40;34m(\u001b[0m\u001b[38;2;248;248;242;48;2;39;40;34msearch_results_luxury\u001b[0m\u001b[38;2;248;248;242;48;2;39;40;34m)\u001b[0m\u001b[48;2;39;40;34m                                                                                   \u001b[0m  \n",
       " ───────────────────────────────────────────────────────────────────────────────────────────────────────────────── \n"
      ]
     },
     "metadata": {},
     "output_type": "display_data"
    },
    {
     "data": {
      "text/html": [
       "<pre style=\"white-space:pre;overflow-x:auto;line-height:normal;font-family:Menlo,'DejaVu Sans Mono',consolas,'Courier New',monospace\"><span style=\"font-weight: bold\">Execution logs:</span>\n",
       "## Search Results\n",
       "\n",
       "[The Very Best Luxury Party Themes - Mirage Parties](https://mirageparties.co.uk/blog/a-to-z-luxury-party-themes/)\n",
       "Planning a Themed Party? As a themed party planner with more than 25 years of expertise we deliver authenticity, \n",
       "innovation and high production values to the world of high-end private parties. We'd love to show you our full \n",
       "portfolio. Do get in touch. Call 01883 740400 or email info@mirageparties.co.uk. A to Z 100+ Luxury Party Themes\n",
       "\n",
       "[Top 10 High-end Party Themes: From Concept to \n",
       "Celebration](https://luxuryleisureaffluence.com/high-end-party-themes/)\n",
       "Transport your guests to a magical Arabian oasis with this opulent and exotic high-end party theme. From sumptuous \n",
       "fabrics to ornate cushions and low-seating arrangements such as pouffes and ottomans, every detail will exude \n",
       "grandeur and elegance. Create a luxurious atmosphere with vibrant colours, intricate patterns, and lavish decor \n",
       "elements worthy of Middle Eastern royalty.\n",
       "\n",
       "[Luxury party decor - Pinterest](https://www.pinterest.com/ideas/luxury-party-decor/922383381117/)\n",
       "Find and save ideas about luxury party decor on Pinterest.\n",
       "\n",
       "[130 Superhero Themed Party Ideas | superhero theme party, event props \n",
       "...](https://uk.pinterest.com/eventprophire/superhero-themed-party-ideas/)\n",
       "Apr 10, 2019 - Welcome to our Superheroes themed board. We have some fantastic lifesize figures, prop rocks and \n",
       "furniture, so take a look below for a wide range of Superhero props, which would all look fantastic at any \n",
       "Superheroes themed event or party. See more ideas about superhero theme party, event props, superhero theme.\n",
       "\n",
       "[24 Superhero Party Ideas that Will Make You Wish You Were a \n",
       "Kid](https://howdoesshe.com/24-incredible-superhero-party-ideas-that-will-make-you-wish-you-were-a-kid-again/)\n",
       "Let your superman show his own superpowers!Kids (and even adults) who love superheroes will fall in love with these\n",
       "incredible superhero theme party ideas that will bring out the kid in everyone! From decor ideas, party foods, and \n",
       "costume ideas to superhero-themed activities and superhero games, we have different ways to cover all of your party\n",
       "needs. These ideas will make you wish you were a ...\n",
       "\n",
       "[Luxury Party Styling Ideas | Award Winning Party Planners](https://qubeevents.co.uk/styling/luxury-party-styling/)\n",
       "Attention to detail, innovative ideas and exquisite design creativity is what makes us stand out from the crowd. \n",
       "Through event theming, floristry, funky furniture, unique props and decor, we'll work with you to create the \n",
       "perfect setting for your party. Stylish birthday celebrations, parties, anniversaries and more.\n",
       "\n",
       "[7 Unique Luxury Party Entertainment Ideas • Magician David \n",
       "Ranalli](https://davidranalli.com/7-unique-luxury-party-entertainment-ideas/)\n",
       "Offering different themes, such as Vegas Night, the 1920s, Mardi Gras, and Gatsby, U.S. Poker &amp; Casino Parties can \n",
       "further enhance your guest's party experience. I've witnessed them in action at other parties and it's an \n",
       "all-around great time. They also offer game and equipment rentals.\n",
       "\n",
       "[20 Unique VIP Event Ideas for Exclusive Experiences](https://www.eventbookings.com/blog/vip-event-ideas/)\n",
       "This could mean exclusive suites at a championship game, backstage access at a music festival, or private lounges \n",
       "at world-class events. Providing premium hospitality, gourmet catering, and behind-the-scenes experiences ensures \n",
       "that your guests feel like true VIPs from start to finish. Luxury and Lifestyle VIP Event Ideas. 11.\n",
       "\n",
       "[900+ Superhero Party Ideas in 2025 | superhero party, superhero \n",
       "...](https://uk.pinterest.com/catchmyparty/superhero-party-ideas/)\n",
       "Jan 2, 2025 - Superhero party ideas for birthdays -- Superhero cakes, decorations, party foods and favors. See more\n",
       "party ideas at CatchMyParty.com. See more ideas about superhero party, superhero birthday, superhero birthday \n",
       "party.\n",
       "\n",
       "[Superhero theme party for adults - \n",
       "Pinterest](https://www.pinterest.com/ideas/superhero-theme-party-for-adults/916708620865/)\n",
       "Find and save ideas about superhero theme party for adults on Pinterest.\n",
       "\n",
       "Out: None\n",
       "</pre>\n"
      ],
      "text/plain": [
       "\u001b[1mExecution logs:\u001b[0m\n",
       "## Search Results\n",
       "\n",
       "[The Very Best Luxury Party Themes - Mirage Parties](https://mirageparties.co.uk/blog/a-to-z-luxury-party-themes/)\n",
       "Planning a Themed Party? As a themed party planner with more than 25 years of expertise we deliver authenticity, \n",
       "innovation and high production values to the world of high-end private parties. We'd love to show you our full \n",
       "portfolio. Do get in touch. Call 01883 740400 or email info@mirageparties.co.uk. A to Z 100+ Luxury Party Themes\n",
       "\n",
       "[Top 10 High-end Party Themes: From Concept to \n",
       "Celebration](https://luxuryleisureaffluence.com/high-end-party-themes/)\n",
       "Transport your guests to a magical Arabian oasis with this opulent and exotic high-end party theme. From sumptuous \n",
       "fabrics to ornate cushions and low-seating arrangements such as pouffes and ottomans, every detail will exude \n",
       "grandeur and elegance. Create a luxurious atmosphere with vibrant colours, intricate patterns, and lavish decor \n",
       "elements worthy of Middle Eastern royalty.\n",
       "\n",
       "[Luxury party decor - Pinterest](https://www.pinterest.com/ideas/luxury-party-decor/922383381117/)\n",
       "Find and save ideas about luxury party decor on Pinterest.\n",
       "\n",
       "[130 Superhero Themed Party Ideas | superhero theme party, event props \n",
       "...](https://uk.pinterest.com/eventprophire/superhero-themed-party-ideas/)\n",
       "Apr 10, 2019 - Welcome to our Superheroes themed board. We have some fantastic lifesize figures, prop rocks and \n",
       "furniture, so take a look below for a wide range of Superhero props, which would all look fantastic at any \n",
       "Superheroes themed event or party. See more ideas about superhero theme party, event props, superhero theme.\n",
       "\n",
       "[24 Superhero Party Ideas that Will Make You Wish You Were a \n",
       "Kid](https://howdoesshe.com/24-incredible-superhero-party-ideas-that-will-make-you-wish-you-were-a-kid-again/)\n",
       "Let your superman show his own superpowers!Kids (and even adults) who love superheroes will fall in love with these\n",
       "incredible superhero theme party ideas that will bring out the kid in everyone! From decor ideas, party foods, and \n",
       "costume ideas to superhero-themed activities and superhero games, we have different ways to cover all of your party\n",
       "needs. These ideas will make you wish you were a ...\n",
       "\n",
       "[Luxury Party Styling Ideas | Award Winning Party Planners](https://qubeevents.co.uk/styling/luxury-party-styling/)\n",
       "Attention to detail, innovative ideas and exquisite design creativity is what makes us stand out from the crowd. \n",
       "Through event theming, floristry, funky furniture, unique props and decor, we'll work with you to create the \n",
       "perfect setting for your party. Stylish birthday celebrations, parties, anniversaries and more.\n",
       "\n",
       "[7 Unique Luxury Party Entertainment Ideas • Magician David \n",
       "Ranalli](https://davidranalli.com/7-unique-luxury-party-entertainment-ideas/)\n",
       "Offering different themes, such as Vegas Night, the 1920s, Mardi Gras, and Gatsby, U.S. Poker & Casino Parties can \n",
       "further enhance your guest's party experience. I've witnessed them in action at other parties and it's an \n",
       "all-around great time. They also offer game and equipment rentals.\n",
       "\n",
       "[20 Unique VIP Event Ideas for Exclusive Experiences](https://www.eventbookings.com/blog/vip-event-ideas/)\n",
       "This could mean exclusive suites at a championship game, backstage access at a music festival, or private lounges \n",
       "at world-class events. Providing premium hospitality, gourmet catering, and behind-the-scenes experiences ensures \n",
       "that your guests feel like true VIPs from start to finish. Luxury and Lifestyle VIP Event Ideas. 11.\n",
       "\n",
       "[900+ Superhero Party Ideas in 2025 | superhero party, superhero \n",
       "...](https://uk.pinterest.com/catchmyparty/superhero-party-ideas/)\n",
       "Jan 2, 2025 - Superhero party ideas for birthdays -- Superhero cakes, decorations, party foods and favors. See more\n",
       "party ideas at CatchMyParty.com. See more ideas about superhero party, superhero birthday, superhero birthday \n",
       "party.\n",
       "\n",
       "[Superhero theme party for adults - \n",
       "Pinterest](https://www.pinterest.com/ideas/superhero-theme-party-for-adults/916708620865/)\n",
       "Find and save ideas about superhero theme party for adults on Pinterest.\n",
       "\n",
       "Out: None\n"
      ]
     },
     "metadata": {},
     "output_type": "display_data"
    },
    {
     "data": {
      "text/html": [
       "<pre style=\"white-space:pre;overflow-x:auto;line-height:normal;font-family:Menlo,'DejaVu Sans Mono',consolas,'Courier New',monospace\"><span style=\"color: #7f7f7f; text-decoration-color: #7f7f7f\">[Step 2: Duration 2.53 seconds| Input tokens: 5,676 | Output tokens: 171]</span>\n",
       "</pre>\n"
      ],
      "text/plain": [
       "\u001b[2m[Step 2: Duration 2.53 seconds| Input tokens: 5,676 | Output tokens: 171]\u001b[0m\n"
      ]
     },
     "metadata": {},
     "output_type": "display_data"
    },
    {
     "data": {
      "text/html": [
       "<pre style=\"white-space:pre;overflow-x:auto;line-height:normal;font-family:Menlo,'DejaVu Sans Mono',consolas,'Courier New',monospace\"><span style=\"color: #d4b702; text-decoration-color: #d4b702\">━━━━━━━━━━━━━━━━━━━━━━━━━━━━━━━━━━━━━━━━━━━━━━━━━━━━━ </span><span style=\"font-weight: bold\">Step </span><span style=\"color: #008080; text-decoration-color: #008080; font-weight: bold\">3</span><span style=\"color: #d4b702; text-decoration-color: #d4b702\"> ━━━━━━━━━━━━━━━━━━━━━━━━━━━━━━━━━━━━━━━━━━━━━━━━━━━━━━</span>\n",
       "</pre>\n"
      ],
      "text/plain": [
       "\u001b[38;2;212;183;2m━━━━━━━━━━━━━━━━━━━━━━━━━━━━━━━━━━━━━━━━━━━━━━━━━━━━━ \u001b[0m\u001b[1mStep \u001b[0m\u001b[1;36m3\u001b[0m\u001b[38;2;212;183;2m ━━━━━━━━━━━━━━━━━━━━━━━━━━━━━━━━━━━━━━━━━━━━━━━━━━━━━━\u001b[0m\n"
      ]
     },
     "metadata": {},
     "output_type": "display_data"
    },
    {
     "data": {
      "text/html": [
       "<pre style=\"white-space:pre;overflow-x:auto;line-height:normal;font-family:Menlo,'DejaVu Sans Mono',consolas,'Courier New',monospace\"> ─ <span style=\"font-weight: bold\">Executing parsed code:</span> ──────────────────────────────────────────────────────────────────────────────────────── \n",
       "  <span style=\"color: #f8f8f2; text-decoration-color: #f8f8f2; background-color: #272822\">final_answer(</span><span style=\"color: #e6db74; text-decoration-color: #e6db74; background-color: #272822\">\"\"\"Luxury Superhero Themed Party Ideas:</span><span style=\"background-color: #272822\">                                                           </span>  \n",
       "  <span style=\"background-color: #272822\">                                                                                                               </span>  \n",
       "  <span style=\"color: #e6db74; text-decoration-color: #e6db74; background-color: #272822\">**Decorations:**</span><span style=\"background-color: #272822\">                                                                                               </span>  \n",
       "  <span style=\"color: #e6db74; text-decoration-color: #e6db74; background-color: #272822\">*   Luxurious fabrics, ornate cushions, and low-seating arrangements</span><span style=\"background-color: #272822\">                                           </span>  \n",
       "  <span style=\"color: #e6db74; text-decoration-color: #e6db74; background-color: #272822\">*   Lifesize superhero figures, prop rocks, and themed furniture</span><span style=\"background-color: #272822\">                                               </span>  \n",
       "  <span style=\"color: #e6db74; text-decoration-color: #e6db74; background-color: #272822\">*   Retro pop art tableware and decorations</span><span style=\"background-color: #272822\">                                                                    </span>  \n",
       "  <span style=\"color: #e6db74; text-decoration-color: #e6db74; background-color: #272822\">*   Dramatic lighting with spotlights, colored gels, and superhero symbol projections</span><span style=\"background-color: #272822\">                          </span>  \n",
       "  <span style=\"color: #e6db74; text-decoration-color: #e6db74; background-color: #272822\">*   Custom-made banners, centerpieces, and favors</span><span style=\"background-color: #272822\">                                                              </span>  \n",
       "  <span style=\"background-color: #272822\">                                                                                                               </span>  \n",
       "  <span style=\"color: #e6db74; text-decoration-color: #e6db74; background-color: #272822\">**Entertainment:**</span><span style=\"background-color: #272822\">                                                                                             </span>  \n",
       "  <span style=\"color: #e6db74; text-decoration-color: #e6db74; background-color: #272822\">*   Superhero-themed casino night</span><span style=\"background-color: #272822\">                                                                              </span>  \n",
       "  <span style=\"color: #e6db74; text-decoration-color: #e6db74; background-color: #272822\">*   High-end magician</span><span style=\"background-color: #272822\">                                                                                          </span>  \n",
       "  <span style=\"color: #e6db74; text-decoration-color: #e6db74; background-color: #272822\">*   Live music (band or DJ) playing superhero themes</span><span style=\"background-color: #272822\">                                                           </span>  \n",
       "  <span style=\"color: #e6db74; text-decoration-color: #e6db74; background-color: #272822\">*   Superhero-themed escape room or trivia</span><span style=\"background-color: #272822\">                                                                     </span>  \n",
       "  <span style=\"color: #e6db74; text-decoration-color: #e6db74; background-color: #272822\">*   Cosplay competition with prizes</span><span style=\"background-color: #272822\">                                                                            </span>  \n",
       "  <span style=\"color: #e6db74; text-decoration-color: #e6db74; background-color: #272822\">*   Photo booth with props and backdrops</span><span style=\"background-color: #272822\">                                                                       </span>  \n",
       "  <span style=\"color: #e6db74; text-decoration-color: #e6db74; background-color: #272822\">*   VIP experiences and exclusive access</span><span style=\"background-color: #272822\">                                                                       </span>  \n",
       "  <span style=\"background-color: #272822\">                                                                                                               </span>  \n",
       "  <span style=\"color: #e6db74; text-decoration-color: #e6db74; background-color: #272822\">**Catering:**</span><span style=\"background-color: #272822\">                                                                                                  </span>  \n",
       "  <span style=\"color: #e6db74; text-decoration-color: #e6db74; background-color: #272822\">*   Gourmet catering with premium hospitality</span><span style=\"background-color: #272822\">                                                                  </span>  \n",
       "  <span style=\"color: #e6db74; text-decoration-color: #e6db74; background-color: #272822\">*   Superhero-themed desserts and cakes</span><span style=\"background-color: #272822\">                                                                        </span>  \n",
       "  <span style=\"color: #e6db74; text-decoration-color: #e6db74; background-color: #272822\">*   Signature cocktails named after superheroes</span><span style=\"background-color: #272822\">                                                                </span>  \n",
       "  <span style=\"color: #e6db74; text-decoration-color: #e6db74; background-color: #272822\">*   Personalized menus tailored to guests' preferences</span><span style=\"background-color: #272822\">                                                         </span>  \n",
       "  <span style=\"color: #e6db74; text-decoration-color: #e6db74; background-color: #272822\">*   Champagne bar with a variety of selections\"\"\"</span><span style=\"color: #f8f8f2; text-decoration-color: #f8f8f2; background-color: #272822\">)</span><span style=\"background-color: #272822\">                                                             </span>  \n",
       " ───────────────────────────────────────────────────────────────────────────────────────────────────────────────── \n",
       "</pre>\n"
      ],
      "text/plain": [
       " ─ \u001b[1mExecuting parsed code:\u001b[0m ──────────────────────────────────────────────────────────────────────────────────────── \n",
       "  \u001b[38;2;248;248;242;48;2;39;40;34mfinal_answer\u001b[0m\u001b[38;2;248;248;242;48;2;39;40;34m(\u001b[0m\u001b[38;2;230;219;116;48;2;39;40;34m\"\"\"\u001b[0m\u001b[38;2;230;219;116;48;2;39;40;34mLuxury Superhero Themed Party Ideas:\u001b[0m\u001b[48;2;39;40;34m                                                           \u001b[0m  \n",
       "  \u001b[48;2;39;40;34m                                                                                                               \u001b[0m  \n",
       "  \u001b[38;2;230;219;116;48;2;39;40;34m**Decorations:**\u001b[0m\u001b[48;2;39;40;34m                                                                                               \u001b[0m  \n",
       "  \u001b[38;2;230;219;116;48;2;39;40;34m*   Luxurious fabrics, ornate cushions, and low-seating arrangements\u001b[0m\u001b[48;2;39;40;34m                                           \u001b[0m  \n",
       "  \u001b[38;2;230;219;116;48;2;39;40;34m*   Lifesize superhero figures, prop rocks, and themed furniture\u001b[0m\u001b[48;2;39;40;34m                                               \u001b[0m  \n",
       "  \u001b[38;2;230;219;116;48;2;39;40;34m*   Retro pop art tableware and decorations\u001b[0m\u001b[48;2;39;40;34m                                                                    \u001b[0m  \n",
       "  \u001b[38;2;230;219;116;48;2;39;40;34m*   Dramatic lighting with spotlights, colored gels, and superhero symbol projections\u001b[0m\u001b[48;2;39;40;34m                          \u001b[0m  \n",
       "  \u001b[38;2;230;219;116;48;2;39;40;34m*   Custom-made banners, centerpieces, and favors\u001b[0m\u001b[48;2;39;40;34m                                                              \u001b[0m  \n",
       "  \u001b[48;2;39;40;34m                                                                                                               \u001b[0m  \n",
       "  \u001b[38;2;230;219;116;48;2;39;40;34m**Entertainment:**\u001b[0m\u001b[48;2;39;40;34m                                                                                             \u001b[0m  \n",
       "  \u001b[38;2;230;219;116;48;2;39;40;34m*   Superhero-themed casino night\u001b[0m\u001b[48;2;39;40;34m                                                                              \u001b[0m  \n",
       "  \u001b[38;2;230;219;116;48;2;39;40;34m*   High-end magician\u001b[0m\u001b[48;2;39;40;34m                                                                                          \u001b[0m  \n",
       "  \u001b[38;2;230;219;116;48;2;39;40;34m*   Live music (band or DJ) playing superhero themes\u001b[0m\u001b[48;2;39;40;34m                                                           \u001b[0m  \n",
       "  \u001b[38;2;230;219;116;48;2;39;40;34m*   Superhero-themed escape room or trivia\u001b[0m\u001b[48;2;39;40;34m                                                                     \u001b[0m  \n",
       "  \u001b[38;2;230;219;116;48;2;39;40;34m*   Cosplay competition with prizes\u001b[0m\u001b[48;2;39;40;34m                                                                            \u001b[0m  \n",
       "  \u001b[38;2;230;219;116;48;2;39;40;34m*   Photo booth with props and backdrops\u001b[0m\u001b[48;2;39;40;34m                                                                       \u001b[0m  \n",
       "  \u001b[38;2;230;219;116;48;2;39;40;34m*   VIP experiences and exclusive access\u001b[0m\u001b[48;2;39;40;34m                                                                       \u001b[0m  \n",
       "  \u001b[48;2;39;40;34m                                                                                                               \u001b[0m  \n",
       "  \u001b[38;2;230;219;116;48;2;39;40;34m**Catering:**\u001b[0m\u001b[48;2;39;40;34m                                                                                                  \u001b[0m  \n",
       "  \u001b[38;2;230;219;116;48;2;39;40;34m*   Gourmet catering with premium hospitality\u001b[0m\u001b[48;2;39;40;34m                                                                  \u001b[0m  \n",
       "  \u001b[38;2;230;219;116;48;2;39;40;34m*   Superhero-themed desserts and cakes\u001b[0m\u001b[48;2;39;40;34m                                                                        \u001b[0m  \n",
       "  \u001b[38;2;230;219;116;48;2;39;40;34m*   Signature cocktails named after superheroes\u001b[0m\u001b[48;2;39;40;34m                                                                \u001b[0m  \n",
       "  \u001b[38;2;230;219;116;48;2;39;40;34m*   Personalized menus tailored to guests\u001b[0m\u001b[38;2;230;219;116;48;2;39;40;34m'\u001b[0m\u001b[38;2;230;219;116;48;2;39;40;34m preferences\u001b[0m\u001b[48;2;39;40;34m                                                         \u001b[0m  \n",
       "  \u001b[38;2;230;219;116;48;2;39;40;34m*   Champagne bar with a variety of selections\u001b[0m\u001b[38;2;230;219;116;48;2;39;40;34m\"\"\"\u001b[0m\u001b[38;2;248;248;242;48;2;39;40;34m)\u001b[0m\u001b[48;2;39;40;34m                                                             \u001b[0m  \n",
       " ───────────────────────────────────────────────────────────────────────────────────────────────────────────────── \n"
      ]
     },
     "metadata": {},
     "output_type": "display_data"
    },
    {
     "data": {
      "text/html": [
       "<pre style=\"white-space:pre;overflow-x:auto;line-height:normal;font-family:Menlo,'DejaVu Sans Mono',consolas,'Courier New',monospace\"><span style=\"color: #d4b702; text-decoration-color: #d4b702; font-weight: bold\">Out - Final answer: Luxury Superhero Themed Party Ideas:</span>\n",
       "\n",
       "<span style=\"color: #d4b702; text-decoration-color: #d4b702; font-weight: bold\">**Decorations:**</span>\n",
       "<span style=\"color: #d4b702; text-decoration-color: #d4b702; font-weight: bold\">*   Luxurious fabrics, ornate cushions, and low-seating arrangements</span>\n",
       "<span style=\"color: #d4b702; text-decoration-color: #d4b702; font-weight: bold\">*   Lifesize superhero figures, prop rocks, and themed furniture</span>\n",
       "<span style=\"color: #d4b702; text-decoration-color: #d4b702; font-weight: bold\">*   Retro pop art tableware and decorations</span>\n",
       "<span style=\"color: #d4b702; text-decoration-color: #d4b702; font-weight: bold\">*   Dramatic lighting with spotlights, colored gels, and superhero symbol projections</span>\n",
       "<span style=\"color: #d4b702; text-decoration-color: #d4b702; font-weight: bold\">*   Custom-made banners, centerpieces, and favors</span>\n",
       "\n",
       "<span style=\"color: #d4b702; text-decoration-color: #d4b702; font-weight: bold\">**Entertainment:**</span>\n",
       "<span style=\"color: #d4b702; text-decoration-color: #d4b702; font-weight: bold\">*   Superhero-themed casino night</span>\n",
       "<span style=\"color: #d4b702; text-decoration-color: #d4b702; font-weight: bold\">*   High-end magician</span>\n",
       "<span style=\"color: #d4b702; text-decoration-color: #d4b702; font-weight: bold\">*   Live music (band or DJ) playing superhero themes</span>\n",
       "<span style=\"color: #d4b702; text-decoration-color: #d4b702; font-weight: bold\">*   Superhero-themed escape room or trivia</span>\n",
       "<span style=\"color: #d4b702; text-decoration-color: #d4b702; font-weight: bold\">*   Cosplay competition with prizes</span>\n",
       "<span style=\"color: #d4b702; text-decoration-color: #d4b702; font-weight: bold\">*   Photo booth with props and backdrops</span>\n",
       "<span style=\"color: #d4b702; text-decoration-color: #d4b702; font-weight: bold\">*   VIP experiences and exclusive access</span>\n",
       "\n",
       "<span style=\"color: #d4b702; text-decoration-color: #d4b702; font-weight: bold\">**Catering:**</span>\n",
       "<span style=\"color: #d4b702; text-decoration-color: #d4b702; font-weight: bold\">*   Gourmet catering with premium hospitality</span>\n",
       "<span style=\"color: #d4b702; text-decoration-color: #d4b702; font-weight: bold\">*   Superhero-themed desserts and cakes</span>\n",
       "<span style=\"color: #d4b702; text-decoration-color: #d4b702; font-weight: bold\">*   Signature cocktails named after superheroes</span>\n",
       "<span style=\"color: #d4b702; text-decoration-color: #d4b702; font-weight: bold\">*   Personalized menus tailored to guests' preferences</span>\n",
       "<span style=\"color: #d4b702; text-decoration-color: #d4b702; font-weight: bold\">*   Champagne bar with a variety of selections</span>\n",
       "</pre>\n"
      ],
      "text/plain": [
       "\u001b[1;38;2;212;183;2mOut - Final answer: Luxury Superhero Themed Party Ideas:\u001b[0m\n",
       "\n",
       "\u001b[1;38;2;212;183;2m**Decorations:**\u001b[0m\n",
       "\u001b[1;38;2;212;183;2m*   Luxurious fabrics, ornate cushions, and low-seating arrangements\u001b[0m\n",
       "\u001b[1;38;2;212;183;2m*   Lifesize superhero figures, prop rocks, and themed furniture\u001b[0m\n",
       "\u001b[1;38;2;212;183;2m*   Retro pop art tableware and decorations\u001b[0m\n",
       "\u001b[1;38;2;212;183;2m*   Dramatic lighting with spotlights, colored gels, and superhero symbol projections\u001b[0m\n",
       "\u001b[1;38;2;212;183;2m*   Custom-made banners, centerpieces, and favors\u001b[0m\n",
       "\n",
       "\u001b[1;38;2;212;183;2m**Entertainment:**\u001b[0m\n",
       "\u001b[1;38;2;212;183;2m*   Superhero-themed casino night\u001b[0m\n",
       "\u001b[1;38;2;212;183;2m*   High-end magician\u001b[0m\n",
       "\u001b[1;38;2;212;183;2m*   Live music (band or DJ) playing superhero themes\u001b[0m\n",
       "\u001b[1;38;2;212;183;2m*   Superhero-themed escape room or trivia\u001b[0m\n",
       "\u001b[1;38;2;212;183;2m*   Cosplay competition with prizes\u001b[0m\n",
       "\u001b[1;38;2;212;183;2m*   Photo booth with props and backdrops\u001b[0m\n",
       "\u001b[1;38;2;212;183;2m*   VIP experiences and exclusive access\u001b[0m\n",
       "\n",
       "\u001b[1;38;2;212;183;2m**Catering:**\u001b[0m\n",
       "\u001b[1;38;2;212;183;2m*   Gourmet catering with premium hospitality\u001b[0m\n",
       "\u001b[1;38;2;212;183;2m*   Superhero-themed desserts and cakes\u001b[0m\n",
       "\u001b[1;38;2;212;183;2m*   Signature cocktails named after superheroes\u001b[0m\n",
       "\u001b[1;38;2;212;183;2m*   Personalized menus tailored to guests' preferences\u001b[0m\n",
       "\u001b[1;38;2;212;183;2m*   Champagne bar with a variety of selections\u001b[0m\n"
      ]
     },
     "metadata": {},
     "output_type": "display_data"
    },
    {
     "data": {
      "text/html": [
       "<pre style=\"white-space:pre;overflow-x:auto;line-height:normal;font-family:Menlo,'DejaVu Sans Mono',consolas,'Courier New',monospace\"><span style=\"color: #7f7f7f; text-decoration-color: #7f7f7f\">[Step 3: Duration 4.09 seconds| Input tokens: 10,281 | Output tokens: 863]</span>\n",
       "</pre>\n"
      ],
      "text/plain": [
       "\u001b[2m[Step 3: Duration 4.09 seconds| Input tokens: 10,281 | Output tokens: 863]\u001b[0m\n"
      ]
     },
     "metadata": {},
     "output_type": "display_data"
    },
    {
     "name": "stdout",
     "output_type": "stream",
     "text": [
      "Luxury Superhero Themed Party Ideas:\n",
      "\n",
      "**Decorations:**\n",
      "*   Luxurious fabrics, ornate cushions, and low-seating arrangements\n",
      "*   Lifesize superhero figures, prop rocks, and themed furniture\n",
      "*   Retro pop art tableware and decorations\n",
      "*   Dramatic lighting with spotlights, colored gels, and superhero symbol projections\n",
      "*   Custom-made banners, centerpieces, and favors\n",
      "\n",
      "**Entertainment:**\n",
      "*   Superhero-themed casino night\n",
      "*   High-end magician\n",
      "*   Live music (band or DJ) playing superhero themes\n",
      "*   Superhero-themed escape room or trivia\n",
      "*   Cosplay competition with prizes\n",
      "*   Photo booth with props and backdrops\n",
      "*   VIP experiences and exclusive access\n",
      "\n",
      "**Catering:**\n",
      "*   Gourmet catering with premium hospitality\n",
      "*   Superhero-themed desserts and cakes\n",
      "*   Signature cocktails named after superheroes\n",
      "*   Personalized menus tailored to guests' preferences\n",
      "*   Champagne bar with a variety of selections\n"
     ]
    }
   ],
   "source": [
    "# Initialize the search tool\n",
    "search_tool = DuckDuckGoSearchTool()\n",
    "\n",
    "# Initialize the model\n",
    "agent = CodeAgent(\n",
    "    model = model,\n",
    "    tools=[search_tool]\n",
    ")\n",
    "\n",
    "# Example usage\n",
    "response = agent.run(\n",
    "    \"Search for luxury superhero-themed party ideas, including decorations, entertainment, and catering.\"\n",
    ")\n",
    "print(response)"
   ]
  },
  {
   "cell_type": "markdown",
   "id": "c7c1c23f",
   "metadata": {},
   "source": [
    "# Custom Knowledge Base Tool"
   ]
  },
  {
   "cell_type": "code",
   "execution_count": 5,
   "id": "f7176a33",
   "metadata": {},
   "outputs": [
    {
     "data": {
      "text/html": [
       "<pre style=\"white-space:pre;overflow-x:auto;line-height:normal;font-family:Menlo,'DejaVu Sans Mono',consolas,'Courier New',monospace\"><span style=\"color: #d4b702; text-decoration-color: #d4b702\">╭──────────────────────────────────────────────────── </span><span style=\"color: #d4b702; text-decoration-color: #d4b702; font-weight: bold\">New run</span><span style=\"color: #d4b702; text-decoration-color: #d4b702\"> ────────────────────────────────────────────────────╮</span>\n",
       "<span style=\"color: #d4b702; text-decoration-color: #d4b702\">│</span>                                                                                                                 <span style=\"color: #d4b702; text-decoration-color: #d4b702\">│</span>\n",
       "<span style=\"color: #d4b702; text-decoration-color: #d4b702\">│</span> <span style=\"font-weight: bold\">Find ideas for a luxury superhero-themed party, including entertainment, catering, and decoration options.</span>      <span style=\"color: #d4b702; text-decoration-color: #d4b702\">│</span>\n",
       "<span style=\"color: #d4b702; text-decoration-color: #d4b702\">│</span>                                                                                                                 <span style=\"color: #d4b702; text-decoration-color: #d4b702\">│</span>\n",
       "<span style=\"color: #d4b702; text-decoration-color: #d4b702\">╰─ OpenAIServerModel - gemini-2.0-flash ──────────────────────────────────────────────────────────────────────────╯</span>\n",
       "</pre>\n"
      ],
      "text/plain": [
       "\u001b[38;2;212;183;2m╭─\u001b[0m\u001b[38;2;212;183;2m───────────────────────────────────────────────────\u001b[0m\u001b[38;2;212;183;2m \u001b[0m\u001b[1;38;2;212;183;2mNew run\u001b[0m\u001b[38;2;212;183;2m \u001b[0m\u001b[38;2;212;183;2m───────────────────────────────────────────────────\u001b[0m\u001b[38;2;212;183;2m─╮\u001b[0m\n",
       "\u001b[38;2;212;183;2m│\u001b[0m                                                                                                                 \u001b[38;2;212;183;2m│\u001b[0m\n",
       "\u001b[38;2;212;183;2m│\u001b[0m \u001b[1mFind ideas for a luxury superhero-themed party, including entertainment, catering, and decoration options.\u001b[0m      \u001b[38;2;212;183;2m│\u001b[0m\n",
       "\u001b[38;2;212;183;2m│\u001b[0m                                                                                                                 \u001b[38;2;212;183;2m│\u001b[0m\n",
       "\u001b[38;2;212;183;2m╰─\u001b[0m\u001b[38;2;212;183;2m OpenAIServerModel - gemini-2.0-flash \u001b[0m\u001b[38;2;212;183;2m─────────────────────────────────────────────────────────────────────────\u001b[0m\u001b[38;2;212;183;2m─╯\u001b[0m\n"
      ]
     },
     "metadata": {},
     "output_type": "display_data"
    },
    {
     "data": {
      "text/html": [
       "<pre style=\"white-space:pre;overflow-x:auto;line-height:normal;font-family:Menlo,'DejaVu Sans Mono',consolas,'Courier New',monospace\"><span style=\"color: #d4b702; text-decoration-color: #d4b702\">━━━━━━━━━━━━━━━━━━━━━━━━━━━━━━━━━━━━━━━━━━━━━━━━━━━━━ </span><span style=\"font-weight: bold\">Step </span><span style=\"color: #008080; text-decoration-color: #008080; font-weight: bold\">1</span><span style=\"color: #d4b702; text-decoration-color: #d4b702\"> ━━━━━━━━━━━━━━━━━━━━━━━━━━━━━━━━━━━━━━━━━━━━━━━━━━━━━━</span>\n",
       "</pre>\n"
      ],
      "text/plain": [
       "\u001b[38;2;212;183;2m━━━━━━━━━━━━━━━━━━━━━━━━━━━━━━━━━━━━━━━━━━━━━━━━━━━━━ \u001b[0m\u001b[1mStep \u001b[0m\u001b[1;36m1\u001b[0m\u001b[38;2;212;183;2m ━━━━━━━━━━━━━━━━━━━━━━━━━━━━━━━━━━━━━━━━━━━━━━━━━━━━━━\u001b[0m\n"
      ]
     },
     "metadata": {},
     "output_type": "display_data"
    },
    {
     "data": {
      "text/html": [
       "<pre style=\"white-space:pre;overflow-x:auto;line-height:normal;font-family:Menlo,'DejaVu Sans Mono',consolas,'Courier New',monospace\"> ─ <span style=\"font-weight: bold\">Executing parsed code:</span> ──────────────────────────────────────────────────────────────────────────────────────── \n",
       "  <span style=\"color: #f8f8f2; text-decoration-color: #f8f8f2; background-color: #272822\">party_ideas </span><span style=\"color: #ff4689; text-decoration-color: #ff4689; background-color: #272822\">=</span><span style=\"color: #f8f8f2; text-decoration-color: #f8f8f2; background-color: #272822\"> party_planning_retriever(query</span><span style=\"color: #ff4689; text-decoration-color: #ff4689; background-color: #272822\">=</span><span style=\"color: #e6db74; text-decoration-color: #e6db74; background-color: #272822\">\"luxury superhero party entertainment catering decoration\"</span><span style=\"color: #f8f8f2; text-decoration-color: #f8f8f2; background-color: #272822\">)</span><span style=\"background-color: #272822\">       </span>  \n",
       "  <span style=\"color: #f8f8f2; text-decoration-color: #f8f8f2; background-color: #272822\">print(party_ideas)</span><span style=\"background-color: #272822\">                                                                                             </span>  \n",
       " ───────────────────────────────────────────────────────────────────────────────────────────────────────────────── \n",
       "</pre>\n"
      ],
      "text/plain": [
       " ─ \u001b[1mExecuting parsed code:\u001b[0m ──────────────────────────────────────────────────────────────────────────────────────── \n",
       "  \u001b[38;2;248;248;242;48;2;39;40;34mparty_ideas\u001b[0m\u001b[38;2;248;248;242;48;2;39;40;34m \u001b[0m\u001b[38;2;255;70;137;48;2;39;40;34m=\u001b[0m\u001b[38;2;248;248;242;48;2;39;40;34m \u001b[0m\u001b[38;2;248;248;242;48;2;39;40;34mparty_planning_retriever\u001b[0m\u001b[38;2;248;248;242;48;2;39;40;34m(\u001b[0m\u001b[38;2;248;248;242;48;2;39;40;34mquery\u001b[0m\u001b[38;2;255;70;137;48;2;39;40;34m=\u001b[0m\u001b[38;2;230;219;116;48;2;39;40;34m\"\u001b[0m\u001b[38;2;230;219;116;48;2;39;40;34mluxury superhero party entertainment catering decoration\u001b[0m\u001b[38;2;230;219;116;48;2;39;40;34m\"\u001b[0m\u001b[38;2;248;248;242;48;2;39;40;34m)\u001b[0m\u001b[48;2;39;40;34m       \u001b[0m  \n",
       "  \u001b[38;2;248;248;242;48;2;39;40;34mprint\u001b[0m\u001b[38;2;248;248;242;48;2;39;40;34m(\u001b[0m\u001b[38;2;248;248;242;48;2;39;40;34mparty_ideas\u001b[0m\u001b[38;2;248;248;242;48;2;39;40;34m)\u001b[0m\u001b[48;2;39;40;34m                                                                                             \u001b[0m  \n",
       " ───────────────────────────────────────────────────────────────────────────────────────────────────────────────── \n"
      ]
     },
     "metadata": {},
     "output_type": "display_data"
    },
    {
     "data": {
      "text/html": [
       "<pre style=\"white-space:pre;overflow-x:auto;line-height:normal;font-family:Menlo,'DejaVu Sans Mono',consolas,'Courier New',monospace\"><span style=\"font-weight: bold\">Execution logs:</span>\n",
       "\n",
       "Retrieved ideas:\n",
       "\n",
       "\n",
       "===== Idea 0 =====\n",
       "A superhero-themed masquerade ball with luxury decor, including gold accents and velvet curtains.\n",
       "\n",
       "===== Idea 1 =====\n",
       "Decorate with iconic superhero logos and projections of Gotham and other superhero cities around the venue.\n",
       "\n",
       "===== Idea 2 =====\n",
       "Interactive experiences with VR where guests can engage in superhero simulations or compete in themed games.\n",
       "\n",
       "===== Idea 3 =====\n",
       "For catering, serve dishes named after superheroes, like 'The Hulk's Green Smoothie' and 'Iron Man's Power Steak.'\n",
       "\n",
       "===== Idea 4 =====\n",
       "Hire a professional DJ who can play themed music for superheroes like Batman and Wonder Woman.\n",
       "\n",
       "Out: None\n",
       "</pre>\n"
      ],
      "text/plain": [
       "\u001b[1mExecution logs:\u001b[0m\n",
       "\n",
       "Retrieved ideas:\n",
       "\n",
       "\n",
       "===== Idea 0 =====\n",
       "A superhero-themed masquerade ball with luxury decor, including gold accents and velvet curtains.\n",
       "\n",
       "===== Idea 1 =====\n",
       "Decorate with iconic superhero logos and projections of Gotham and other superhero cities around the venue.\n",
       "\n",
       "===== Idea 2 =====\n",
       "Interactive experiences with VR where guests can engage in superhero simulations or compete in themed games.\n",
       "\n",
       "===== Idea 3 =====\n",
       "For catering, serve dishes named after superheroes, like 'The Hulk's Green Smoothie' and 'Iron Man's Power Steak.'\n",
       "\n",
       "===== Idea 4 =====\n",
       "Hire a professional DJ who can play themed music for superheroes like Batman and Wonder Woman.\n",
       "\n",
       "Out: None\n"
      ]
     },
     "metadata": {},
     "output_type": "display_data"
    },
    {
     "data": {
      "text/html": [
       "<pre style=\"white-space:pre;overflow-x:auto;line-height:normal;font-family:Menlo,'DejaVu Sans Mono',consolas,'Courier New',monospace\"><span style=\"color: #7f7f7f; text-decoration-color: #7f7f7f\">[Step 1: Duration 0.88 seconds| Input tokens: 2,264 | Output tokens: 69]</span>\n",
       "</pre>\n"
      ],
      "text/plain": [
       "\u001b[2m[Step 1: Duration 0.88 seconds| Input tokens: 2,264 | Output tokens: 69]\u001b[0m\n"
      ]
     },
     "metadata": {},
     "output_type": "display_data"
    },
    {
     "data": {
      "text/html": [
       "<pre style=\"white-space:pre;overflow-x:auto;line-height:normal;font-family:Menlo,'DejaVu Sans Mono',consolas,'Courier New',monospace\"><span style=\"color: #d4b702; text-decoration-color: #d4b702\">━━━━━━━━━━━━━━━━━━━━━━━━━━━━━━━━━━━━━━━━━━━━━━━━━━━━━ </span><span style=\"font-weight: bold\">Step </span><span style=\"color: #008080; text-decoration-color: #008080; font-weight: bold\">2</span><span style=\"color: #d4b702; text-decoration-color: #d4b702\"> ━━━━━━━━━━━━━━━━━━━━━━━━━━━━━━━━━━━━━━━━━━━━━━━━━━━━━━</span>\n",
       "</pre>\n"
      ],
      "text/plain": [
       "\u001b[38;2;212;183;2m━━━━━━━━━━━━━━━━━━━━━━━━━━━━━━━━━━━━━━━━━━━━━━━━━━━━━ \u001b[0m\u001b[1mStep \u001b[0m\u001b[1;36m2\u001b[0m\u001b[38;2;212;183;2m ━━━━━━━━━━━━━━━━━━━━━━━━━━━━━━━━━━━━━━━━━━━━━━━━━━━━━━\u001b[0m\n"
      ]
     },
     "metadata": {},
     "output_type": "display_data"
    },
    {
     "data": {
      "text/html": [
       "<pre style=\"white-space:pre;overflow-x:auto;line-height:normal;font-family:Menlo,'DejaVu Sans Mono',consolas,'Courier New',monospace\"> ─ <span style=\"font-weight: bold\">Executing parsed code:</span> ──────────────────────────────────────────────────────────────────────────────────────── \n",
       "  <span style=\"color: #f8f8f2; text-decoration-color: #f8f8f2; background-color: #272822\">answer </span><span style=\"color: #ff4689; text-decoration-color: #ff4689; background-color: #272822\">=</span><span style=\"color: #f8f8f2; text-decoration-color: #f8f8f2; background-color: #272822\"> </span><span style=\"color: #e6db74; text-decoration-color: #e6db74; background-color: #272822\">\"Luxury Superhero Party Ideas:</span><span style=\"color: #ae81ff; text-decoration-color: #ae81ff; background-color: #272822\">\\n\\n</span><span style=\"color: #e6db74; text-decoration-color: #e6db74; background-color: #272822\">\"</span><span style=\"background-color: #272822\">                                                                   </span>  \n",
       "  <span style=\"color: #f8f8f2; text-decoration-color: #f8f8f2; background-color: #272822\">answer </span><span style=\"color: #ff4689; text-decoration-color: #ff4689; background-color: #272822\">+=</span><span style=\"color: #f8f8f2; text-decoration-color: #f8f8f2; background-color: #272822\"> </span><span style=\"color: #e6db74; text-decoration-color: #e6db74; background-color: #272822\">\"Entertainment:</span><span style=\"color: #ae81ff; text-decoration-color: #ae81ff; background-color: #272822\">\\n</span><span style=\"color: #e6db74; text-decoration-color: #e6db74; background-color: #272822\">\"</span><span style=\"background-color: #272822\">                                                                                   </span>  \n",
       "  <span style=\"color: #f8f8f2; text-decoration-color: #f8f8f2; background-color: #272822\">answer </span><span style=\"color: #ff4689; text-decoration-color: #ff4689; background-color: #272822\">+=</span><span style=\"color: #f8f8f2; text-decoration-color: #f8f8f2; background-color: #272822\"> </span><span style=\"color: #e6db74; text-decoration-color: #e6db74; background-color: #272822\">\"- Superhero-themed masquerade ball with luxury decor, including gold accents and velvet curtains.</span><span style=\"color: #ae81ff; text-decoration-color: #ae81ff; background-color: #272822\">\\n</span><span style=\"color: #e6db74; text-decoration-color: #e6db74; background-color: #272822\">\"</span>  \n",
       "  <span style=\"color: #f8f8f2; text-decoration-color: #f8f8f2; background-color: #272822\">answer </span><span style=\"color: #ff4689; text-decoration-color: #ff4689; background-color: #272822\">+=</span><span style=\"color: #f8f8f2; text-decoration-color: #f8f8f2; background-color: #272822\"> </span><span style=\"color: #e6db74; text-decoration-color: #e6db74; background-color: #272822\">\"- Interactive VR experiences where guests can engage in superhero simulations or compete in themed </span><span style=\"background-color: #272822\"> </span>  \n",
       "  <span style=\"color: #e6db74; text-decoration-color: #e6db74; background-color: #272822\">games.</span><span style=\"color: #ae81ff; text-decoration-color: #ae81ff; background-color: #272822\">\\n</span><span style=\"color: #e6db74; text-decoration-color: #e6db74; background-color: #272822\">\"</span><span style=\"background-color: #272822\">                                                                                                      </span>  \n",
       "  <span style=\"color: #f8f8f2; text-decoration-color: #f8f8f2; background-color: #272822\">answer </span><span style=\"color: #ff4689; text-decoration-color: #ff4689; background-color: #272822\">+=</span><span style=\"color: #f8f8f2; text-decoration-color: #f8f8f2; background-color: #272822\"> </span><span style=\"color: #e6db74; text-decoration-color: #e6db74; background-color: #272822\">\"- Hire a professional DJ who can play themed music for superheroes like Batman and Wonder </span><span style=\"background-color: #272822\">          </span>  \n",
       "  <span style=\"color: #e6db74; text-decoration-color: #e6db74; background-color: #272822\">Woman.</span><span style=\"color: #ae81ff; text-decoration-color: #ae81ff; background-color: #272822\">\\n\\n</span><span style=\"color: #e6db74; text-decoration-color: #e6db74; background-color: #272822\">\"</span><span style=\"background-color: #272822\">                                                                                                    </span>  \n",
       "  <span style=\"color: #f8f8f2; text-decoration-color: #f8f8f2; background-color: #272822\">answer </span><span style=\"color: #ff4689; text-decoration-color: #ff4689; background-color: #272822\">+=</span><span style=\"color: #f8f8f2; text-decoration-color: #f8f8f2; background-color: #272822\"> </span><span style=\"color: #e6db74; text-decoration-color: #e6db74; background-color: #272822\">\"Decorations:</span><span style=\"color: #ae81ff; text-decoration-color: #ae81ff; background-color: #272822\">\\n</span><span style=\"color: #e6db74; text-decoration-color: #e6db74; background-color: #272822\">\"</span><span style=\"background-color: #272822\">                                                                                     </span>  \n",
       "  <span style=\"color: #f8f8f2; text-decoration-color: #f8f8f2; background-color: #272822\">answer </span><span style=\"color: #ff4689; text-decoration-color: #ff4689; background-color: #272822\">+=</span><span style=\"color: #f8f8f2; text-decoration-color: #f8f8f2; background-color: #272822\"> </span><span style=\"color: #e6db74; text-decoration-color: #e6db74; background-color: #272822\">\"- Decorate with iconic superhero logos.</span><span style=\"color: #ae81ff; text-decoration-color: #ae81ff; background-color: #272822\">\\n</span><span style=\"color: #e6db74; text-decoration-color: #e6db74; background-color: #272822\">\"</span><span style=\"background-color: #272822\">                                                          </span>  \n",
       "  <span style=\"color: #f8f8f2; text-decoration-color: #f8f8f2; background-color: #272822\">answer </span><span style=\"color: #ff4689; text-decoration-color: #ff4689; background-color: #272822\">+=</span><span style=\"color: #f8f8f2; text-decoration-color: #f8f8f2; background-color: #272822\"> </span><span style=\"color: #e6db74; text-decoration-color: #e6db74; background-color: #272822\">\"- Projections of Gotham and other superhero cities around the venue.</span><span style=\"color: #ae81ff; text-decoration-color: #ae81ff; background-color: #272822\">\\n\\n</span><span style=\"color: #e6db74; text-decoration-color: #e6db74; background-color: #272822\">\"</span><span style=\"background-color: #272822\">                           </span>  \n",
       "  <span style=\"color: #f8f8f2; text-decoration-color: #f8f8f2; background-color: #272822\">answer </span><span style=\"color: #ff4689; text-decoration-color: #ff4689; background-color: #272822\">+=</span><span style=\"color: #f8f8f2; text-decoration-color: #f8f8f2; background-color: #272822\"> </span><span style=\"color: #e6db74; text-decoration-color: #e6db74; background-color: #272822\">\"Catering:</span><span style=\"color: #ae81ff; text-decoration-color: #ae81ff; background-color: #272822\">\\n</span><span style=\"color: #e6db74; text-decoration-color: #e6db74; background-color: #272822\">\"</span><span style=\"background-color: #272822\">                                                                                        </span>  \n",
       "  <span style=\"color: #f8f8f2; text-decoration-color: #f8f8f2; background-color: #272822\">answer </span><span style=\"color: #ff4689; text-decoration-color: #ff4689; background-color: #272822\">+=</span><span style=\"color: #f8f8f2; text-decoration-color: #f8f8f2; background-color: #272822\"> </span><span style=\"color: #e6db74; text-decoration-color: #e6db74; background-color: #272822\">\"- Serve dishes named after superheroes, like 'The Hulk's Green Smoothie' and 'Iron Man's Power </span><span style=\"background-color: #272822\">     </span>  \n",
       "  <span style=\"color: #e6db74; text-decoration-color: #e6db74; background-color: #272822\">Steak.'</span><span style=\"color: #ae81ff; text-decoration-color: #ae81ff; background-color: #272822\">\\n</span><span style=\"color: #e6db74; text-decoration-color: #e6db74; background-color: #272822\">\"</span><span style=\"background-color: #272822\">                                                                                                     </span>  \n",
       "  <span style=\"background-color: #272822\">                                                                                                               </span>  \n",
       "  <span style=\"color: #f8f8f2; text-decoration-color: #f8f8f2; background-color: #272822\">final_answer(answer)</span><span style=\"background-color: #272822\">                                                                                           </span>  \n",
       " ───────────────────────────────────────────────────────────────────────────────────────────────────────────────── \n",
       "</pre>\n"
      ],
      "text/plain": [
       " ─ \u001b[1mExecuting parsed code:\u001b[0m ──────────────────────────────────────────────────────────────────────────────────────── \n",
       "  \u001b[38;2;248;248;242;48;2;39;40;34manswer\u001b[0m\u001b[38;2;248;248;242;48;2;39;40;34m \u001b[0m\u001b[38;2;255;70;137;48;2;39;40;34m=\u001b[0m\u001b[38;2;248;248;242;48;2;39;40;34m \u001b[0m\u001b[38;2;230;219;116;48;2;39;40;34m\"\u001b[0m\u001b[38;2;230;219;116;48;2;39;40;34mLuxury Superhero Party Ideas:\u001b[0m\u001b[38;2;174;129;255;48;2;39;40;34m\\n\u001b[0m\u001b[38;2;174;129;255;48;2;39;40;34m\\n\u001b[0m\u001b[38;2;230;219;116;48;2;39;40;34m\"\u001b[0m\u001b[48;2;39;40;34m                                                                   \u001b[0m  \n",
       "  \u001b[38;2;248;248;242;48;2;39;40;34manswer\u001b[0m\u001b[38;2;248;248;242;48;2;39;40;34m \u001b[0m\u001b[38;2;255;70;137;48;2;39;40;34m+\u001b[0m\u001b[38;2;255;70;137;48;2;39;40;34m=\u001b[0m\u001b[38;2;248;248;242;48;2;39;40;34m \u001b[0m\u001b[38;2;230;219;116;48;2;39;40;34m\"\u001b[0m\u001b[38;2;230;219;116;48;2;39;40;34mEntertainment:\u001b[0m\u001b[38;2;174;129;255;48;2;39;40;34m\\n\u001b[0m\u001b[38;2;230;219;116;48;2;39;40;34m\"\u001b[0m\u001b[48;2;39;40;34m                                                                                   \u001b[0m  \n",
       "  \u001b[38;2;248;248;242;48;2;39;40;34manswer\u001b[0m\u001b[38;2;248;248;242;48;2;39;40;34m \u001b[0m\u001b[38;2;255;70;137;48;2;39;40;34m+\u001b[0m\u001b[38;2;255;70;137;48;2;39;40;34m=\u001b[0m\u001b[38;2;248;248;242;48;2;39;40;34m \u001b[0m\u001b[38;2;230;219;116;48;2;39;40;34m\"\u001b[0m\u001b[38;2;230;219;116;48;2;39;40;34m- Superhero-themed masquerade ball with luxury decor, including gold accents and velvet curtains.\u001b[0m\u001b[38;2;174;129;255;48;2;39;40;34m\\n\u001b[0m\u001b[38;2;230;219;116;48;2;39;40;34m\"\u001b[0m  \n",
       "  \u001b[38;2;248;248;242;48;2;39;40;34manswer\u001b[0m\u001b[38;2;248;248;242;48;2;39;40;34m \u001b[0m\u001b[38;2;255;70;137;48;2;39;40;34m+\u001b[0m\u001b[38;2;255;70;137;48;2;39;40;34m=\u001b[0m\u001b[38;2;248;248;242;48;2;39;40;34m \u001b[0m\u001b[38;2;230;219;116;48;2;39;40;34m\"\u001b[0m\u001b[38;2;230;219;116;48;2;39;40;34m- Interactive VR experiences where guests can engage in superhero simulations or compete in themed \u001b[0m\u001b[48;2;39;40;34m \u001b[0m  \n",
       "  \u001b[38;2;230;219;116;48;2;39;40;34mgames.\u001b[0m\u001b[38;2;174;129;255;48;2;39;40;34m\\n\u001b[0m\u001b[38;2;230;219;116;48;2;39;40;34m\"\u001b[0m\u001b[48;2;39;40;34m                                                                                                      \u001b[0m  \n",
       "  \u001b[38;2;248;248;242;48;2;39;40;34manswer\u001b[0m\u001b[38;2;248;248;242;48;2;39;40;34m \u001b[0m\u001b[38;2;255;70;137;48;2;39;40;34m+\u001b[0m\u001b[38;2;255;70;137;48;2;39;40;34m=\u001b[0m\u001b[38;2;248;248;242;48;2;39;40;34m \u001b[0m\u001b[38;2;230;219;116;48;2;39;40;34m\"\u001b[0m\u001b[38;2;230;219;116;48;2;39;40;34m- Hire a professional DJ who can play themed music for superheroes like Batman and Wonder \u001b[0m\u001b[48;2;39;40;34m          \u001b[0m  \n",
       "  \u001b[38;2;230;219;116;48;2;39;40;34mWoman.\u001b[0m\u001b[38;2;174;129;255;48;2;39;40;34m\\n\u001b[0m\u001b[38;2;174;129;255;48;2;39;40;34m\\n\u001b[0m\u001b[38;2;230;219;116;48;2;39;40;34m\"\u001b[0m\u001b[48;2;39;40;34m                                                                                                    \u001b[0m  \n",
       "  \u001b[38;2;248;248;242;48;2;39;40;34manswer\u001b[0m\u001b[38;2;248;248;242;48;2;39;40;34m \u001b[0m\u001b[38;2;255;70;137;48;2;39;40;34m+\u001b[0m\u001b[38;2;255;70;137;48;2;39;40;34m=\u001b[0m\u001b[38;2;248;248;242;48;2;39;40;34m \u001b[0m\u001b[38;2;230;219;116;48;2;39;40;34m\"\u001b[0m\u001b[38;2;230;219;116;48;2;39;40;34mDecorations:\u001b[0m\u001b[38;2;174;129;255;48;2;39;40;34m\\n\u001b[0m\u001b[38;2;230;219;116;48;2;39;40;34m\"\u001b[0m\u001b[48;2;39;40;34m                                                                                     \u001b[0m  \n",
       "  \u001b[38;2;248;248;242;48;2;39;40;34manswer\u001b[0m\u001b[38;2;248;248;242;48;2;39;40;34m \u001b[0m\u001b[38;2;255;70;137;48;2;39;40;34m+\u001b[0m\u001b[38;2;255;70;137;48;2;39;40;34m=\u001b[0m\u001b[38;2;248;248;242;48;2;39;40;34m \u001b[0m\u001b[38;2;230;219;116;48;2;39;40;34m\"\u001b[0m\u001b[38;2;230;219;116;48;2;39;40;34m- Decorate with iconic superhero logos.\u001b[0m\u001b[38;2;174;129;255;48;2;39;40;34m\\n\u001b[0m\u001b[38;2;230;219;116;48;2;39;40;34m\"\u001b[0m\u001b[48;2;39;40;34m                                                          \u001b[0m  \n",
       "  \u001b[38;2;248;248;242;48;2;39;40;34manswer\u001b[0m\u001b[38;2;248;248;242;48;2;39;40;34m \u001b[0m\u001b[38;2;255;70;137;48;2;39;40;34m+\u001b[0m\u001b[38;2;255;70;137;48;2;39;40;34m=\u001b[0m\u001b[38;2;248;248;242;48;2;39;40;34m \u001b[0m\u001b[38;2;230;219;116;48;2;39;40;34m\"\u001b[0m\u001b[38;2;230;219;116;48;2;39;40;34m- Projections of Gotham and other superhero cities around the venue.\u001b[0m\u001b[38;2;174;129;255;48;2;39;40;34m\\n\u001b[0m\u001b[38;2;174;129;255;48;2;39;40;34m\\n\u001b[0m\u001b[38;2;230;219;116;48;2;39;40;34m\"\u001b[0m\u001b[48;2;39;40;34m                           \u001b[0m  \n",
       "  \u001b[38;2;248;248;242;48;2;39;40;34manswer\u001b[0m\u001b[38;2;248;248;242;48;2;39;40;34m \u001b[0m\u001b[38;2;255;70;137;48;2;39;40;34m+\u001b[0m\u001b[38;2;255;70;137;48;2;39;40;34m=\u001b[0m\u001b[38;2;248;248;242;48;2;39;40;34m \u001b[0m\u001b[38;2;230;219;116;48;2;39;40;34m\"\u001b[0m\u001b[38;2;230;219;116;48;2;39;40;34mCatering:\u001b[0m\u001b[38;2;174;129;255;48;2;39;40;34m\\n\u001b[0m\u001b[38;2;230;219;116;48;2;39;40;34m\"\u001b[0m\u001b[48;2;39;40;34m                                                                                        \u001b[0m  \n",
       "  \u001b[38;2;248;248;242;48;2;39;40;34manswer\u001b[0m\u001b[38;2;248;248;242;48;2;39;40;34m \u001b[0m\u001b[38;2;255;70;137;48;2;39;40;34m+\u001b[0m\u001b[38;2;255;70;137;48;2;39;40;34m=\u001b[0m\u001b[38;2;248;248;242;48;2;39;40;34m \u001b[0m\u001b[38;2;230;219;116;48;2;39;40;34m\"\u001b[0m\u001b[38;2;230;219;116;48;2;39;40;34m- Serve dishes named after superheroes, like \u001b[0m\u001b[38;2;230;219;116;48;2;39;40;34m'\u001b[0m\u001b[38;2;230;219;116;48;2;39;40;34mThe Hulk\u001b[0m\u001b[38;2;230;219;116;48;2;39;40;34m'\u001b[0m\u001b[38;2;230;219;116;48;2;39;40;34ms Green Smoothie\u001b[0m\u001b[38;2;230;219;116;48;2;39;40;34m'\u001b[0m\u001b[38;2;230;219;116;48;2;39;40;34m and \u001b[0m\u001b[38;2;230;219;116;48;2;39;40;34m'\u001b[0m\u001b[38;2;230;219;116;48;2;39;40;34mIron Man\u001b[0m\u001b[38;2;230;219;116;48;2;39;40;34m'\u001b[0m\u001b[38;2;230;219;116;48;2;39;40;34ms Power \u001b[0m\u001b[48;2;39;40;34m     \u001b[0m  \n",
       "  \u001b[38;2;230;219;116;48;2;39;40;34mSteak.\u001b[0m\u001b[38;2;230;219;116;48;2;39;40;34m'\u001b[0m\u001b[38;2;174;129;255;48;2;39;40;34m\\n\u001b[0m\u001b[38;2;230;219;116;48;2;39;40;34m\"\u001b[0m\u001b[48;2;39;40;34m                                                                                                     \u001b[0m  \n",
       "  \u001b[48;2;39;40;34m                                                                                                               \u001b[0m  \n",
       "  \u001b[38;2;248;248;242;48;2;39;40;34mfinal_answer\u001b[0m\u001b[38;2;248;248;242;48;2;39;40;34m(\u001b[0m\u001b[38;2;248;248;242;48;2;39;40;34manswer\u001b[0m\u001b[38;2;248;248;242;48;2;39;40;34m)\u001b[0m\u001b[48;2;39;40;34m                                                                                           \u001b[0m  \n",
       " ───────────────────────────────────────────────────────────────────────────────────────────────────────────────── \n"
      ]
     },
     "metadata": {},
     "output_type": "display_data"
    },
    {
     "data": {
      "text/html": [
       "<pre style=\"white-space:pre;overflow-x:auto;line-height:normal;font-family:Menlo,'DejaVu Sans Mono',consolas,'Courier New',monospace\"><span style=\"color: #d4b702; text-decoration-color: #d4b702; font-weight: bold\">Out - Final answer: Luxury Superhero Party Ideas:</span>\n",
       "\n",
       "<span style=\"color: #d4b702; text-decoration-color: #d4b702; font-weight: bold\">Entertainment:</span>\n",
       "<span style=\"color: #d4b702; text-decoration-color: #d4b702; font-weight: bold\">- Superhero-themed masquerade ball with luxury decor, including gold accents and velvet curtains.</span>\n",
       "<span style=\"color: #d4b702; text-decoration-color: #d4b702; font-weight: bold\">- Interactive VR experiences where guests can engage in superhero simulations or compete in themed games.</span>\n",
       "<span style=\"color: #d4b702; text-decoration-color: #d4b702; font-weight: bold\">- Hire a professional DJ who can play themed music for superheroes like Batman and Wonder Woman.</span>\n",
       "\n",
       "<span style=\"color: #d4b702; text-decoration-color: #d4b702; font-weight: bold\">Decorations:</span>\n",
       "<span style=\"color: #d4b702; text-decoration-color: #d4b702; font-weight: bold\">- Decorate with iconic superhero logos.</span>\n",
       "<span style=\"color: #d4b702; text-decoration-color: #d4b702; font-weight: bold\">- Projections of Gotham and other superhero cities around the venue.</span>\n",
       "\n",
       "<span style=\"color: #d4b702; text-decoration-color: #d4b702; font-weight: bold\">Catering:</span>\n",
       "<span style=\"color: #d4b702; text-decoration-color: #d4b702; font-weight: bold\">- Serve dishes named after superheroes, like 'The Hulk's Green Smoothie' and 'Iron Man's Power Steak.'</span>\n",
       "\n",
       "</pre>\n"
      ],
      "text/plain": [
       "\u001b[1;38;2;212;183;2mOut - Final answer: Luxury Superhero Party Ideas:\u001b[0m\n",
       "\n",
       "\u001b[1;38;2;212;183;2mEntertainment:\u001b[0m\n",
       "\u001b[1;38;2;212;183;2m- Superhero-themed masquerade ball with luxury decor, including gold accents and velvet curtains.\u001b[0m\n",
       "\u001b[1;38;2;212;183;2m- Interactive VR experiences where guests can engage in superhero simulations or compete in themed games.\u001b[0m\n",
       "\u001b[1;38;2;212;183;2m- Hire a professional DJ who can play themed music for superheroes like Batman and Wonder Woman.\u001b[0m\n",
       "\n",
       "\u001b[1;38;2;212;183;2mDecorations:\u001b[0m\n",
       "\u001b[1;38;2;212;183;2m- Decorate with iconic superhero logos.\u001b[0m\n",
       "\u001b[1;38;2;212;183;2m- Projections of Gotham and other superhero cities around the venue.\u001b[0m\n",
       "\n",
       "\u001b[1;38;2;212;183;2mCatering:\u001b[0m\n",
       "\u001b[1;38;2;212;183;2m- Serve dishes named after superheroes, like 'The Hulk's Green Smoothie' and 'Iron Man's Power Steak.'\u001b[0m\n",
       "\n"
      ]
     },
     "metadata": {},
     "output_type": "display_data"
    },
    {
     "data": {
      "text/html": [
       "<pre style=\"white-space:pre;overflow-x:auto;line-height:normal;font-family:Menlo,'DejaVu Sans Mono',consolas,'Courier New',monospace\"><span style=\"color: #7f7f7f; text-decoration-color: #7f7f7f\">[Step 2: Duration 1.41 seconds| Input tokens: 4,823 | Output tokens: 281]</span>\n",
       "</pre>\n"
      ],
      "text/plain": [
       "\u001b[2m[Step 2: Duration 1.41 seconds| Input tokens: 4,823 | Output tokens: 281]\u001b[0m\n"
      ]
     },
     "metadata": {},
     "output_type": "display_data"
    },
    {
     "name": "stdout",
     "output_type": "stream",
     "text": [
      "Luxury Superhero Party Ideas:\n",
      "\n",
      "Entertainment:\n",
      "- Superhero-themed masquerade ball with luxury decor, including gold accents and velvet curtains.\n",
      "- Interactive VR experiences where guests can engage in superhero simulations or compete in themed games.\n",
      "- Hire a professional DJ who can play themed music for superheroes like Batman and Wonder Woman.\n",
      "\n",
      "Decorations:\n",
      "- Decorate with iconic superhero logos.\n",
      "- Projections of Gotham and other superhero cities around the venue.\n",
      "\n",
      "Catering:\n",
      "- Serve dishes named after superheroes, like 'The Hulk's Green Smoothie' and 'Iron Man's Power Steak.'\n",
      "\n"
     ]
    }
   ],
   "source": [
    "class PartyPlanningRetrieverTool(Tool):\n",
    "    name = \"party_planning_retriever\"\n",
    "    description = \"Uses semantic search to retrieve relevant party planning ideas for Alfred’s superhero-themed party at Wayne Manor.\"\n",
    "    inputs = {\n",
    "        \"query\": {\n",
    "            \"type\": \"string\",\n",
    "            \"description\": \"The query to perform. This should be a query related to party planning or superhero themes.\",\n",
    "        }\n",
    "    }\n",
    "    output_type = \"string\"\n",
    "\n",
    "    def __init__(self, docs, **kwargs):\n",
    "        super().__init__(**kwargs)\n",
    "        self.retriever = BM25Retriever.from_documents(\n",
    "            docs, k=5  # Retrieve the top 5 documents\n",
    "        )\n",
    "\n",
    "    def forward(self, query: str) -> str:\n",
    "        assert isinstance(query, str), \"Your search query must be a string\"\n",
    "\n",
    "        docs = self.retriever.invoke(\n",
    "            query,\n",
    "        )\n",
    "        return \"\\nRetrieved ideas:\\n\" + \"\".join(\n",
    "            [\n",
    "                f\"\\n\\n===== Idea {str(i)} =====\\n\" + doc.page_content\n",
    "                for i, doc in enumerate(docs)\n",
    "            ]\n",
    "        )\n",
    "\n",
    "# Simulate a knowledge base about party planning\n",
    "party_ideas = [\n",
    "    {\"text\": \"A superhero-themed masquerade ball with luxury decor, including gold accents and velvet curtains.\", \"source\": \"Party Ideas 1\"},\n",
    "    {\"text\": \"Hire a professional DJ who can play themed music for superheroes like Batman and Wonder Woman.\", \"source\": \"Entertainment Ideas\"},\n",
    "    {\"text\": \"For catering, serve dishes named after superheroes, like 'The Hulk's Green Smoothie' and 'Iron Man's Power Steak.'\", \"source\": \"Catering Ideas\"},\n",
    "    {\"text\": \"Decorate with iconic superhero logos and projections of Gotham and other superhero cities around the venue.\", \"source\": \"Decoration Ideas\"},\n",
    "    {\"text\": \"Interactive experiences with VR where guests can engage in superhero simulations or compete in themed games.\", \"source\": \"Entertainment Ideas\"}\n",
    "]\n",
    "\n",
    "source_docs = [\n",
    "    Document(page_content=doc[\"text\"], metadata={\"source\": doc[\"source\"]})\n",
    "    for doc in party_ideas\n",
    "]\n",
    "\n",
    "# Split the documents into smaller chunks for more efficient search\n",
    "text_splitter = RecursiveCharacterTextSplitter(\n",
    "    chunk_size=500,\n",
    "    chunk_overlap=50,\n",
    "    add_start_index=True,\n",
    "    strip_whitespace=True,\n",
    "    separators=[\"\\n\\n\", \"\\n\", \".\", \" \", \"\"],\n",
    ")\n",
    "docs_processed = text_splitter.split_documents(source_docs)\n",
    "\n",
    "# Create the retriever tool\n",
    "party_planning_retriever = PartyPlanningRetrieverTool(docs_processed)\n",
    "\n",
    "# Initialize the agent\n",
    "agent = CodeAgent(tools=[party_planning_retriever], model=model)\n",
    "\n",
    "# Example usage\n",
    "response = agent.run(\n",
    "    \"Find ideas for a luxury superhero-themed party, including entertainment, catering, and decoration options.\"\n",
    ")\n",
    "\n",
    "print(response)"
   ]
  },
  {
   "cell_type": "code",
   "execution_count": null,
   "id": "7c1c0e6e",
   "metadata": {},
   "outputs": [],
   "source": []
  }
 ],
 "metadata": {
  "kernelspec": {
   "display_name": ".venv",
   "language": "python",
   "name": "python3"
  },
  "language_info": {
   "codemirror_mode": {
    "name": "ipython",
    "version": 3
   },
   "file_extension": ".py",
   "mimetype": "text/x-python",
   "name": "python",
   "nbconvert_exporter": "python",
   "pygments_lexer": "ipython3",
   "version": "3.12.7"
  }
 },
 "nbformat": 4,
 "nbformat_minor": 5
}

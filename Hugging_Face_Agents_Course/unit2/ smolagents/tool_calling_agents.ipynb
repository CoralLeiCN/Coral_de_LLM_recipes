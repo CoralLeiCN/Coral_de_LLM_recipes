{
 "cells": [
  {
   "cell_type": "markdown",
   "metadata": {},
   "source": [
    "modified https://huggingface.co/agents-course/notebooks/blob/main/unit2/smolagents/tool_calling_agents.ipynb"
   ]
  },
  {
   "cell_type": "code",
   "execution_count": 1,
   "metadata": {},
   "outputs": [],
   "source": [
    "from smolagents import LiteLLMModel"
   ]
  },
  {
   "cell_type": "code",
   "execution_count": 2,
   "metadata": {},
   "outputs": [],
   "source": [
    "model = LiteLLMModel(model_id = \"gemini/gemini-2.0-flash\")"
   ]
  },
  {
   "cell_type": "code",
   "execution_count": 3,
   "metadata": {},
   "outputs": [],
   "source": [
    "messages = [\n",
    "  {\"role\": \"user\", \"content\": [{\"type\": \"text\", \"text\": \"Hello, how are you?\"}]}\n",
    "]"
   ]
  },
  {
   "cell_type": "code",
   "execution_count": 4,
   "metadata": {},
   "outputs": [
    {
     "data": {
      "text/html": [
       "<pre style=\"white-space:pre;overflow-x:auto;line-height:normal;font-family:Menlo,'DejaVu Sans Mono',consolas,'Courier New',monospace\"><span style=\"color: #d4b702; text-decoration-color: #d4b702\">╭──────────────────────────────────────────────────── </span><span style=\"color: #d4b702; text-decoration-color: #d4b702; font-weight: bold\">New run</span><span style=\"color: #d4b702; text-decoration-color: #d4b702\"> ────────────────────────────────────────────────────╮</span>\n",
       "<span style=\"color: #d4b702; text-decoration-color: #d4b702\">│</span>                                                                                                                 <span style=\"color: #d4b702; text-decoration-color: #d4b702\">│</span>\n",
       "<span style=\"color: #d4b702; text-decoration-color: #d4b702\">│</span> <span style=\"font-weight: bold\">Search for the best music recommendations for a party at the Wayne's mansion.</span>                                   <span style=\"color: #d4b702; text-decoration-color: #d4b702\">│</span>\n",
       "<span style=\"color: #d4b702; text-decoration-color: #d4b702\">│</span>                                                                                                                 <span style=\"color: #d4b702; text-decoration-color: #d4b702\">│</span>\n",
       "<span style=\"color: #d4b702; text-decoration-color: #d4b702\">╰─ LiteLLMModel - gemini/gemini-2.0-flash ────────────────────────────────────────────────────────────────────────╯</span>\n",
       "</pre>\n"
      ],
      "text/plain": [
       "\u001b[38;2;212;183;2m╭─\u001b[0m\u001b[38;2;212;183;2m───────────────────────────────────────────────────\u001b[0m\u001b[38;2;212;183;2m \u001b[0m\u001b[1;38;2;212;183;2mNew run\u001b[0m\u001b[38;2;212;183;2m \u001b[0m\u001b[38;2;212;183;2m───────────────────────────────────────────────────\u001b[0m\u001b[38;2;212;183;2m─╮\u001b[0m\n",
       "\u001b[38;2;212;183;2m│\u001b[0m                                                                                                                 \u001b[38;2;212;183;2m│\u001b[0m\n",
       "\u001b[38;2;212;183;2m│\u001b[0m \u001b[1mSearch for the best music recommendations for a party at the Wayne's mansion.\u001b[0m                                   \u001b[38;2;212;183;2m│\u001b[0m\n",
       "\u001b[38;2;212;183;2m│\u001b[0m                                                                                                                 \u001b[38;2;212;183;2m│\u001b[0m\n",
       "\u001b[38;2;212;183;2m╰─\u001b[0m\u001b[38;2;212;183;2m LiteLLMModel - gemini/gemini-2.0-flash \u001b[0m\u001b[38;2;212;183;2m───────────────────────────────────────────────────────────────────────\u001b[0m\u001b[38;2;212;183;2m─╯\u001b[0m\n"
      ]
     },
     "metadata": {},
     "output_type": "display_data"
    },
    {
     "data": {
      "text/html": [
       "<pre style=\"white-space:pre;overflow-x:auto;line-height:normal;font-family:Menlo,'DejaVu Sans Mono',consolas,'Courier New',monospace\"><span style=\"color: #d4b702; text-decoration-color: #d4b702\">━━━━━━━━━━━━━━━━━━━━━━━━━━━━━━━━━━━━━━━━━━━━━━━━━━━━━ </span><span style=\"font-weight: bold\">Step </span><span style=\"color: #008080; text-decoration-color: #008080; font-weight: bold\">1</span><span style=\"color: #d4b702; text-decoration-color: #d4b702\"> ━━━━━━━━━━━━━━━━━━━━━━━━━━━━━━━━━━━━━━━━━━━━━━━━━━━━━━</span>\n",
       "</pre>\n"
      ],
      "text/plain": [
       "\u001b[38;2;212;183;2m━━━━━━━━━━━━━━━━━━━━━━━━━━━━━━━━━━━━━━━━━━━━━━━━━━━━━ \u001b[0m\u001b[1mStep \u001b[0m\u001b[1;36m1\u001b[0m\u001b[38;2;212;183;2m ━━━━━━━━━━━━━━━━━━━━━━━━━━━━━━━━━━━━━━━━━━━━━━━━━━━━━━\u001b[0m\n"
      ]
     },
     "metadata": {},
     "output_type": "display_data"
    },
    {
     "data": {
      "text/html": [
       "<pre style=\"white-space:pre;overflow-x:auto;line-height:normal;font-family:Menlo,'DejaVu Sans Mono',consolas,'Courier New',monospace\">╭─────────────────────────────────────────────────────────────────────────────────────────────────────────────────╮\n",
       "│ Calling tool: 'web_search' with arguments: {'query': \"best music recommendations party Wayne's mansion\"}        │\n",
       "╰─────────────────────────────────────────────────────────────────────────────────────────────────────────────────╯\n",
       "</pre>\n"
      ],
      "text/plain": [
       "╭─────────────────────────────────────────────────────────────────────────────────────────────────────────────────╮\n",
       "│ Calling tool: 'web_search' with arguments: {'query': \"best music recommendations party Wayne's mansion\"}        │\n",
       "╰─────────────────────────────────────────────────────────────────────────────────────────────────────────────────╯\n"
      ]
     },
     "metadata": {},
     "output_type": "display_data"
    },
    {
     "data": {
      "text/html": [
       "<pre style=\"white-space:pre;overflow-x:auto;line-height:normal;font-family:Menlo,'DejaVu Sans Mono',consolas,'Courier New',monospace\">Observations: ## Search Results\n",
       "\n",
       "|The <span style=\"color: #008080; text-decoration-color: #008080; font-weight: bold\">75</span> Best Party Songs That Will Get Everyone Dancing - \n",
       "Gear4music<span style=\"font-weight: bold\">](</span><span style=\"color: #0000ff; text-decoration-color: #0000ff; text-decoration: underline\">https://www.gear4music.com/blog/best-party-songs/)</span>\n",
       "The best party songs <span style=\"color: #008080; text-decoration-color: #008080; font-weight: bold\">1</span>. <span style=\"color: #008000; text-decoration-color: #008000\">\"September\"</span> - Earth, Wind &amp; Fire <span style=\"font-weight: bold\">(</span><span style=\"color: #008080; text-decoration-color: #008080; font-weight: bold\">1978</span><span style=\"font-weight: bold\">)</span> Quite possibly the best party song. An infectious \n",
       "mix of funk and soul, <span style=\"color: #008000; text-decoration-color: #008000\">\"September\"</span> is celebrated for its upbeat melody and <span style=\"color: #008000; text-decoration-color: #008000\">\"ba-dee-ya\"</span> chorus, making it a timeless \n",
       "dance favorite.\n",
       "\n",
       "|<span style=\"color: #008080; text-decoration-color: #008080; font-weight: bold\">50</span> Songs on Every Event Planner's Playlist - \n",
       "Eventbrite<span style=\"font-weight: bold\">](</span><span style=\"color: #0000ff; text-decoration-color: #0000ff; text-decoration: underline\">https://www.eventbrite.com/blog/event-planning-playlist-ds00/)</span>\n",
       "Music sets the mood and provides the soundtrack <span style=\"font-weight: bold\">(</span>literally<span style=\"font-weight: bold\">)</span> for a memorable and exciting time. While the right \n",
       "songs can enhance the experience, the wrong event music can throw off the vibe. For example, fast-paced songs \n",
       "probably aren't the best fit for a formal gala. And smooth jazz is likely to lull your guests at a motivational \n",
       "conference.\n",
       "\n",
       "|<span style=\"color: #008080; text-decoration-color: #008080; font-weight: bold\">200</span> Classic House Party Songs Everyone Knows | The Best Popular Party \n",
       "Songs<span style=\"font-weight: bold\">](</span><span style=\"color: #0000ff; text-decoration-color: #0000ff; text-decoration: underline\">https://www.ispytunes.com/post/house-party-songs)</span>\n",
       "\" Branded merchandise adds flair to any occasion, just like the perfect playlist. <span style=\"color: #008080; text-decoration-color: #008080; font-weight: bold\">200</span> classic house party songs \n",
       "everyone knows set the mood, bringing energy to every celebration. The best popular party hits keep guests dancing,\n",
       "creating unforgettable moments. From throwback anthems to modern beats, a great selection ensures nonstop fun.\n",
       "\n",
       "|Similar Songs Finder | Spotify Playlist Generator - Chosic<span style=\"font-weight: bold\">](</span><span style=\"color: #0000ff; text-decoration-color: #0000ff; text-decoration: underline\">https://www.chosic.com/playlist-generator/)</span>\n",
       "Need to find similar songs to a song you like? To music you love? A playlist created for you in seconds! With \n",
       "Spotify Playlist Generator online tool, create awesome playlists in seconds, featuring similar songs to those you \n",
       "love. Whether by songs, artists, genres, moods, or based on a playlist, just start with what you have in mind, and \n",
       "it will provide you with plenty of song recommendations <span style=\"color: #808000; text-decoration-color: #808000\">...</span>\n",
       "\n",
       "|Top <span style=\"color: #008080; text-decoration-color: #008080; font-weight: bold\">25</span> House Party Songs of All Time | GrooveNexus<span style=\"font-weight: bold\">](</span><span style=\"color: #0000ff; text-decoration-color: #0000ff; text-decoration: underline\">https://www.groovenexus.com/top-playlist/house-party-songs/)</span>\n",
       "It is one of the best choices for house party music. <span style=\"color: #008080; text-decoration-color: #008080; font-weight: bold\">25</span>. Watermelon Sugar- Harry Styles. Harry Styles first debuted\n",
       "his song <span style=\"color: #008000; text-decoration-color: #008000\">'Watermelon Sugar'</span> at the end of <span style=\"color: #008080; text-decoration-color: #008080; font-weight: bold\">2019</span>, weeks before dropping his second album <span style=\"color: #008000; text-decoration-color: #008000\">'Fine Line'</span>, which was \n",
       "filled with bops such as <span style=\"color: #008000; text-decoration-color: #008000\">'Falling,'</span> <span style=\"color: #008000; text-decoration-color: #008000\">'Lights Up,'</span> <span style=\"color: #008000; text-decoration-color: #008000\">'Adore You'</span> and the summery, feel-good track <span style=\"color: #808000; text-decoration-color: #808000\">...</span>\n",
       "\n",
       "|The <span style=\"color: #008080; text-decoration-color: #008080; font-weight: bold\">100</span>+ Best Party Songs Of The '80s, Ranked By \n",
       "Fans<span style=\"font-weight: bold\">](</span><span style=\"color: #0000ff; text-decoration-color: #0000ff; text-decoration: underline\">https://www.ranker.com/list/greatest-80s-party-songs/ranker-music)</span>\n",
       "Over 1K music fans have voted on the <span style=\"color: #008080; text-decoration-color: #008080; font-weight: bold\">100</span>+ Best Party Songs Of The <span style=\"color: #008000; text-decoration-color: #008000\">'80s, Ranked. Current Top 3: Celebration, Girls </span>\n",
       "<span style=\"color: #008000; text-decoration-color: #008000\">Just Wanna Have Fun, I Love Rock '</span>n' Roll <span style=\"color: #808000; text-decoration-color: #808000\">...</span>\n",
       "\n",
       "|Throw A Rad Shindig With This Best Party Songs Playlist - Digital \n",
       "Trends<span style=\"font-weight: bold\">](</span><span style=\"color: #0000ff; text-decoration-color: #0000ff; text-decoration: underline\">https://www.digitaltrends.com/music/best-party-songs-playlist/)</span>\n",
       "Electropop at its very best, Rihanna's Don't Stop The Music pulls any party into high gear with it's \n",
       "four-on-the-floor beat and cleanly performed vocals, reminding of how the Barbados-born <span style=\"color: #808000; text-decoration-color: #808000\">...</span>\n",
       "\n",
       "|Party Music Guide: Ultimate Tips for the Perfect \n",
       "Playlist<span style=\"font-weight: bold\">](</span><span style=\"color: #0000ff; text-decoration-color: #0000ff; text-decoration: underline\">https://thebackstage-deezer.com/music/perfect-party-music-playlist/)</span>\n",
       "Check out the best party playlists and top party songs to ensure your next party is packed! The most popular party \n",
       "songs are here, just hit play. <span style=\"color: #808000; text-decoration-color: #808000\">...</span> But, most of all, you need to have fantastic music. We recommend you get at \n",
       "least three hours' worth of party music queued and ready — that's about <span style=\"color: #008080; text-decoration-color: #008080; font-weight: bold\">75</span> songs. Lucky for you, we've got you <span style=\"color: #808000; text-decoration-color: #808000\">...</span>\n",
       "\n",
       "|<span style=\"color: #008080; text-decoration-color: #008080; font-weight: bold\">123</span> of the Best Party Songs - SiriusXM<span style=\"font-weight: bold\">](</span><span style=\"color: #0000ff; text-decoration-color: #0000ff; text-decoration: underline\">https://www.siriusxm.com/blog/best-party-songs)</span>\n",
       "Here are the best party songs across all genres, from old classics guaranteed to get your toes tapping to country \n",
       "hits worth boot scootin' to and even throwback hip-hop jams to fill the dance floor. <span style=\"color: #808000; text-decoration-color: #808000\">...</span> Salsa Party Uptempo salsa \n",
       "music Listen on the App Listen on the App. <span style=\"color: #008080; text-decoration-color: #008080; font-weight: bold\">115</span>. <span style=\"color: #008000; text-decoration-color: #008000\">\"La Vida Es Un Carnaval\"</span> - Celia Cruz <span style=\"font-weight: bold\">(</span><span style=\"color: #008080; text-decoration-color: #008080; font-weight: bold\">1998</span><span style=\"font-weight: bold\">)</span> <span style=\"color: #008080; text-decoration-color: #008080; font-weight: bold\">116</span> <span style=\"color: #808000; text-decoration-color: #808000\">...</span>\n",
       "\n",
       "|Party - YouTube Music<span style=\"font-weight: bold\">](</span><span style=\"color: #0000ff; text-decoration-color: #0000ff; text-decoration: underline\">https://music.youtube.com/playlist?list=PLvBpbxPqHXHw_WD1klhRVIO-q9ugFQOUg)</span>\n",
       "With the YouTube Music app, enjoy over <span style=\"color: #008080; text-decoration-color: #008080; font-weight: bold\">100</span> million songs at your fingertips, plus albums, playlists, remixes, music\n",
       "videos, live performances, covers, and hard-to-find music you can't get anywhere else.\n",
       "</pre>\n"
      ],
      "text/plain": [
       "Observations: ## Search Results\n",
       "\n",
       "|The \u001b[1;36m75\u001b[0m Best Party Songs That Will Get Everyone Dancing - \n",
       "Gear4music\u001b[1m]\u001b[0m\u001b[1m(\u001b[0m\u001b[4;94mhttps://www.gear4music.com/blog/best-party-songs/\u001b[0m\u001b[4;94m)\u001b[0m\n",
       "The best party songs \u001b[1;36m1\u001b[0m. \u001b[32m\"September\"\u001b[0m - Earth, Wind & Fire \u001b[1m(\u001b[0m\u001b[1;36m1978\u001b[0m\u001b[1m)\u001b[0m Quite possibly the best party song. An infectious \n",
       "mix of funk and soul, \u001b[32m\"September\"\u001b[0m is celebrated for its upbeat melody and \u001b[32m\"ba-dee-ya\"\u001b[0m chorus, making it a timeless \n",
       "dance favorite.\n",
       "\n",
       "|\u001b[1;36m50\u001b[0m Songs on Every Event Planner's Playlist - \n",
       "Eventbrite\u001b[1m]\u001b[0m\u001b[1m(\u001b[0m\u001b[4;94mhttps://www.eventbrite.com/blog/event-planning-playlist-ds00/\u001b[0m\u001b[4;94m)\u001b[0m\n",
       "Music sets the mood and provides the soundtrack \u001b[1m(\u001b[0mliterally\u001b[1m)\u001b[0m for a memorable and exciting time. While the right \n",
       "songs can enhance the experience, the wrong event music can throw off the vibe. For example, fast-paced songs \n",
       "probably aren't the best fit for a formal gala. And smooth jazz is likely to lull your guests at a motivational \n",
       "conference.\n",
       "\n",
       "|\u001b[1;36m200\u001b[0m Classic House Party Songs Everyone Knows | The Best Popular Party \n",
       "Songs\u001b[1m]\u001b[0m\u001b[1m(\u001b[0m\u001b[4;94mhttps://www.ispytunes.com/post/house-party-songs\u001b[0m\u001b[4;94m)\u001b[0m\n",
       "\" Branded merchandise adds flair to any occasion, just like the perfect playlist. \u001b[1;36m200\u001b[0m classic house party songs \n",
       "everyone knows set the mood, bringing energy to every celebration. The best popular party hits keep guests dancing,\n",
       "creating unforgettable moments. From throwback anthems to modern beats, a great selection ensures nonstop fun.\n",
       "\n",
       "|Similar Songs Finder | Spotify Playlist Generator - Chosic\u001b[1m]\u001b[0m\u001b[1m(\u001b[0m\u001b[4;94mhttps://www.chosic.com/playlist-generator/\u001b[0m\u001b[4;94m)\u001b[0m\n",
       "Need to find similar songs to a song you like? To music you love? A playlist created for you in seconds! With \n",
       "Spotify Playlist Generator online tool, create awesome playlists in seconds, featuring similar songs to those you \n",
       "love. Whether by songs, artists, genres, moods, or based on a playlist, just start with what you have in mind, and \n",
       "it will provide you with plenty of song recommendations \u001b[33m...\u001b[0m\n",
       "\n",
       "|Top \u001b[1;36m25\u001b[0m House Party Songs of All Time | GrooveNexus\u001b[1m]\u001b[0m\u001b[1m(\u001b[0m\u001b[4;94mhttps://www.groovenexus.com/top-playlist/house-party-songs/\u001b[0m\u001b[4;94m)\u001b[0m\n",
       "It is one of the best choices for house party music. \u001b[1;36m25\u001b[0m. Watermelon Sugar- Harry Styles. Harry Styles first debuted\n",
       "his song \u001b[32m'Watermelon Sugar'\u001b[0m at the end of \u001b[1;36m2019\u001b[0m, weeks before dropping his second album \u001b[32m'Fine Line'\u001b[0m, which was \n",
       "filled with bops such as \u001b[32m'Falling,'\u001b[0m \u001b[32m'Lights Up,'\u001b[0m \u001b[32m'Adore You'\u001b[0m and the summery, feel-good track \u001b[33m...\u001b[0m\n",
       "\n",
       "|The \u001b[1;36m100\u001b[0m+ Best Party Songs Of The '80s, Ranked By \n",
       "Fans\u001b[1m]\u001b[0m\u001b[1m(\u001b[0m\u001b[4;94mhttps://www.ranker.com/list/greatest-80s-party-songs/ranker-music\u001b[0m\u001b[4;94m)\u001b[0m\n",
       "Over 1K music fans have voted on the \u001b[1;36m100\u001b[0m+ Best Party Songs Of The \u001b[32m'80s, Ranked. Current Top 3: Celebration, Girls \u001b[0m\n",
       "\u001b[32mJust Wanna Have Fun, I Love Rock '\u001b[0mn' Roll \u001b[33m...\u001b[0m\n",
       "\n",
       "|Throw A Rad Shindig With This Best Party Songs Playlist - Digital \n",
       "Trends\u001b[1m]\u001b[0m\u001b[1m(\u001b[0m\u001b[4;94mhttps://www.digitaltrends.com/music/best-party-songs-playlist/\u001b[0m\u001b[4;94m)\u001b[0m\n",
       "Electropop at its very best, Rihanna's Don't Stop The Music pulls any party into high gear with it's \n",
       "four-on-the-floor beat and cleanly performed vocals, reminding of how the Barbados-born \u001b[33m...\u001b[0m\n",
       "\n",
       "|Party Music Guide: Ultimate Tips for the Perfect \n",
       "Playlist\u001b[1m]\u001b[0m\u001b[1m(\u001b[0m\u001b[4;94mhttps://thebackstage-deezer.com/music/perfect-party-music-playlist/\u001b[0m\u001b[4;94m)\u001b[0m\n",
       "Check out the best party playlists and top party songs to ensure your next party is packed! The most popular party \n",
       "songs are here, just hit play. \u001b[33m...\u001b[0m But, most of all, you need to have fantastic music. We recommend you get at \n",
       "least three hours' worth of party music queued and ready — that's about \u001b[1;36m75\u001b[0m songs. Lucky for you, we've got you \u001b[33m...\u001b[0m\n",
       "\n",
       "|\u001b[1;36m123\u001b[0m of the Best Party Songs - SiriusXM\u001b[1m]\u001b[0m\u001b[1m(\u001b[0m\u001b[4;94mhttps://www.siriusxm.com/blog/best-party-songs\u001b[0m\u001b[4;94m)\u001b[0m\n",
       "Here are the best party songs across all genres, from old classics guaranteed to get your toes tapping to country \n",
       "hits worth boot scootin' to and even throwback hip-hop jams to fill the dance floor. \u001b[33m...\u001b[0m Salsa Party Uptempo salsa \n",
       "music Listen on the App Listen on the App. \u001b[1;36m115\u001b[0m. \u001b[32m\"La Vida Es Un Carnaval\"\u001b[0m - Celia Cruz \u001b[1m(\u001b[0m\u001b[1;36m1998\u001b[0m\u001b[1m)\u001b[0m \u001b[1;36m116\u001b[0m \u001b[33m...\u001b[0m\n",
       "\n",
       "|Party - YouTube Music\u001b[1m]\u001b[0m\u001b[1m(\u001b[0m\u001b[4;94mhttps://music.youtube.com/playlist?\u001b[0m\u001b[4;94mlist\u001b[0m\u001b[4;94m=\u001b[0m\u001b[4;94mPLvBpbxPqHXHw_WD1klhRVIO\u001b[0m\u001b[4;94m-q9ugFQOUg\u001b[0m\u001b[4;94m)\u001b[0m\n",
       "With the YouTube Music app, enjoy over \u001b[1;36m100\u001b[0m million songs at your fingertips, plus albums, playlists, remixes, music\n",
       "videos, live performances, covers, and hard-to-find music you can't get anywhere else.\n"
      ]
     },
     "metadata": {},
     "output_type": "display_data"
    },
    {
     "data": {
      "text/html": [
       "<pre style=\"white-space:pre;overflow-x:auto;line-height:normal;font-family:Menlo,'DejaVu Sans Mono',consolas,'Courier New',monospace\"><span style=\"color: #7f7f7f; text-decoration-color: #7f7f7f\">[Step 0: Duration 3.25 seconds| Input tokens: 1,061 | Output tokens: 12]</span>\n",
       "</pre>\n"
      ],
      "text/plain": [
       "\u001b[2m[Step 0: Duration 3.25 seconds| Input tokens: 1,061 | Output tokens: 12]\u001b[0m\n"
      ]
     },
     "metadata": {},
     "output_type": "display_data"
    },
    {
     "data": {
      "text/html": [
       "<pre style=\"white-space:pre;overflow-x:auto;line-height:normal;font-family:Menlo,'DejaVu Sans Mono',consolas,'Courier New',monospace\"><span style=\"color: #d4b702; text-decoration-color: #d4b702\">━━━━━━━━━━━━━━━━━━━━━━━━━━━━━━━━━━━━━━━━━━━━━━━━━━━━━ </span><span style=\"font-weight: bold\">Step </span><span style=\"color: #008080; text-decoration-color: #008080; font-weight: bold\">2</span><span style=\"color: #d4b702; text-decoration-color: #d4b702\"> ━━━━━━━━━━━━━━━━━━━━━━━━━━━━━━━━━━━━━━━━━━━━━━━━━━━━━━</span>\n",
       "</pre>\n"
      ],
      "text/plain": [
       "\u001b[38;2;212;183;2m━━━━━━━━━━━━━━━━━━━━━━━━━━━━━━━━━━━━━━━━━━━━━━━━━━━━━ \u001b[0m\u001b[1mStep \u001b[0m\u001b[1;36m2\u001b[0m\u001b[38;2;212;183;2m ━━━━━━━━━━━━━━━━━━━━━━━━━━━━━━━━━━━━━━━━━━━━━━━━━━━━━━\u001b[0m\n"
      ]
     },
     "metadata": {},
     "output_type": "display_data"
    },
    {
     "data": {
      "text/html": [
       "<pre style=\"white-space:pre;overflow-x:auto;line-height:normal;font-family:Menlo,'DejaVu Sans Mono',consolas,'Courier New',monospace\">╭─────────────────────────────────────────────────────────────────────────────────────────────────────────────────╮\n",
       "│ Calling tool: 'web_search' with arguments: {'query': \"party music recommendations based on Wayne's World        │\n",
       "│ movie\"}                                                                                                         │\n",
       "╰─────────────────────────────────────────────────────────────────────────────────────────────────────────────────╯\n",
       "</pre>\n"
      ],
      "text/plain": [
       "╭─────────────────────────────────────────────────────────────────────────────────────────────────────────────────╮\n",
       "│ Calling tool: 'web_search' with arguments: {'query': \"party music recommendations based on Wayne's World        │\n",
       "│ movie\"}                                                                                                         │\n",
       "╰─────────────────────────────────────────────────────────────────────────────────────────────────────────────────╯\n"
      ]
     },
     "metadata": {},
     "output_type": "display_data"
    },
    {
     "data": {
      "text/html": [
       "<pre style=\"white-space:pre;overflow-x:auto;line-height:normal;font-family:Menlo,'DejaVu Sans Mono',consolas,'Courier New',monospace\">Observations: ## Search Results\n",
       "\n",
       "|Wayne's World Soundtrack <span style=\"font-weight: bold\">(</span><span style=\"color: #008080; text-decoration-color: #008080; font-weight: bold\">1992</span><span style=\"font-weight: bold\">)</span> | List of Songs - \n",
       "WhatSong<span style=\"font-weight: bold\">](</span><span style=\"color: #0000ff; text-decoration-color: #0000ff; text-decoration: underline\">https://www.what-song.com/Movies/Soundtrack/560/Waynes-World)</span>\n",
       "Listen to all <span style=\"color: #008080; text-decoration-color: #008080; font-weight: bold\">25</span> songs from the Wayne's World soundtrack, playlist, ost and score. Loading. whatsong. Movies. \n",
       "Shows. Lists. Blog. VIP. Register. Sign In. Movies. Movies. Top <span style=\"color: #008080; text-decoration-color: #008080; font-weight: bold\">50</span> by Year. Browse A-Z <span style=\"color: #808000; text-decoration-color: #808000\">...</span> Browse A-Z. Shows. \n",
       "Shows. Top <span style=\"color: #008080; text-decoration-color: #008080; font-weight: bold\">50</span> by Year. Browse A-Z. Lists. Lists Explorer. <span style=\"color: #008080; text-decoration-color: #008080; font-weight: bold\">100</span> Most Featured Movie Songs. <span style=\"color: #008080; text-decoration-color: #008080; font-weight: bold\">100</span> Most Featured TV \n",
       "Songs. Blog. VIP <span style=\"color: #808000; text-decoration-color: #808000\">...</span>\n",
       "\n",
       "|Wayne's World Soundtrack - Listen to all <span style=\"color: #008080; text-decoration-color: #008080; font-weight: bold\">28</span> songs with scene \n",
       "descriptions<span style=\"font-weight: bold\">](</span><span style=\"color: #0000ff; text-decoration-color: #0000ff; text-decoration: underline\">https://soundtrackradar.com/waynes-world-soundtrack/)</span>\n",
       "Listen to the music from Wayne's World. The movie features <span style=\"color: #008080; text-decoration-color: #008080; font-weight: bold\">28</span> songs in total. Each song comes with a scene \n",
       "description and an audio sample. <span style=\"color: #808000; text-decoration-color: #808000\">...</span> Note: Below is a complete playlist of all <span style=\"color: #008080; text-decoration-color: #008080; font-weight: bold\">28</span> songs that can be heard in the \n",
       "movie <span style=\"color: #008000; text-decoration-color: #008000\">\"Wayne's World\"</span>. Some of these commercial songs are not included on the official soundtrack album but are \n",
       "used in <span style=\"color: #808000; text-decoration-color: #808000\">...</span>\n",
       "\n",
       "|Celebrating The Wayne's World Soundtrack - <span style=\"color: #008080; text-decoration-color: #008080; font-weight: bold\">93.3</span> \n",
       "WMMR<span style=\"font-weight: bold\">](</span><span style=\"color: #0000ff; text-decoration-color: #0000ff; text-decoration: underline\">https://wmmr.com/galleries/celebrating-the-waynes-world-soundtrack/)</span>\n",
       "Party on Wayne! Party on Garth! Today we celebrate one of the greatest movie soundtracks ever - WAYNES WORLD! This \n",
       "album is significant to me for a number of reasons, the first being, this was the first album I had ever gotten on \n",
       "CD! It was for my <span style=\"color: #008080; text-decoration-color: #008080; font-weight: bold\">12</span> th birthday, I got <span style=\"color: #008000; text-decoration-color: #008000\">'Wayne'</span>s World' and Hammer's <span style=\"color: #008000; text-decoration-color: #008000\">'Hammer Don'</span>t Hurt <span style=\"color: #008000; text-decoration-color: #008000\">'Em'</span>, yeeeeah!\n",
       "\n",
       "|Ranking Every Song on the Wayne's World \n",
       "Soundtrack<span style=\"font-weight: bold\">](</span><span style=\"color: #0000ff; text-decoration-color: #0000ff; text-decoration: underline\">https://www.pastemagazine.com/music/waynes-world/ranking-every-song-on-the-waynes-world-soundtrack)</span>\n",
       "A lot has happened in the <span style=\"color: #008080; text-decoration-color: #008080; font-weight: bold\">25</span> years since Wayne's World first hit theaters on Valentine's Day, <span style=\"color: #008080; text-decoration-color: #008080; font-weight: bold\">1992</span>. Mountains have \n",
       "crumbled into the sea. Whole countries have been carved up into other <span style=\"color: #808000; text-decoration-color: #808000\">...</span>\n",
       "\n",
       "|The Five Most Culturally Significant Wayne's World \n",
       "Songs<span style=\"font-weight: bold\">](</span><span style=\"color: #0000ff; text-decoration-color: #0000ff; text-decoration: underline\">https://www.laweekly.com/the-five-most-culturally-significant-waynes-world-songs/)</span>\n",
       "Gary Wright re-recorded a longer version of his <span style=\"color: #008080; text-decoration-color: #008080; font-weight: bold\">1975</span> soft rock ballad specifically for use in Wayne's World, and \n",
       "it's become the ultimate love-at-first-sight sound bite. It soundtracks, of course <span style=\"color: #808000; text-decoration-color: #808000\">...</span>\n",
       "\n",
       "|Five Best <span style=\"color: #008000; text-decoration-color: #008000\">\"Wayne's World\"</span> Musical Breaks - Cinema \n",
       "Crazed<span style=\"font-weight: bold\">](</span><span style=\"color: #0000ff; text-decoration-color: #0000ff; text-decoration: underline\">https://www.cinema-crazed.com/blog/2022/03/21/five-best-waynes-world-musical-breaks/)</span>\n",
       "<span style=\"color: #008080; text-decoration-color: #008080; font-weight: bold\">1992</span>'s <span style=\"color: #008000; text-decoration-color: #008000\">\"Wayne's World\"</span> is considered a classic and is, without a doubt, one of my all time favorite comedies. It's \n",
       "also one of the very <span style=\"font-weight: bold\">(</span>very<span style=\"font-weight: bold\">)</span> few SNL based movies that took a great skit and turned it in to a great movie. It \n",
       "didn't just become a movie, but built its own universe around it.\n",
       "\n",
       "|Various - Music From The Motion Picture Wayne's \n",
       "World<span style=\"font-weight: bold\">](</span><span style=\"color: #0000ff; text-decoration-color: #0000ff; text-decoration: underline\">https://www.discogs.com/master/140189-Various-Music-From-The-Motion-Picture-Waynes-World)</span>\n",
       "Still cool to have if you're a fan - Party On! Reply Helpful. eblanken Jun <span style=\"color: #008080; text-decoration-color: #008080; font-weight: bold\">3</span>, <span style=\"color: #008080; text-decoration-color: #008080; font-weight: bold\">2016</span>. Report; <span style=\"color: #808000; text-decoration-color: #808000\">...</span> Movie Scene - \n",
       "Wayne's World - Bohemian Rhapsody. <span style=\"color: #00ff00; text-decoration-color: #00ff00; font-weight: bold\">3:08</span>; Red Hot Chili Peppers-Sikamikanico. <span style=\"color: #00ff00; text-decoration-color: #00ff00; font-weight: bold\">3:26</span>; MC <span style=\"color: #800080; text-decoration-color: #800080\">/</span> WAYNES WORLS - Music From \n",
       "The Motion Picture Wayne's World <span style=\"color: #800080; text-decoration-color: #800080\">/</span> <span style=\"color: #008080; text-decoration-color: #008080; font-weight: bold\">1992</span>. <span style=\"color: #00ff00; text-decoration-color: #00ff00; font-weight: bold\">1:17</span>; Cinderella - Hot And Bothered. <span style=\"color: #00ff00; text-decoration-color: #00ff00; font-weight: bold\">4:12</span>; Cinderella Hot And Bothered. \n",
       "<span style=\"color: #00ff00; text-decoration-color: #00ff00; font-weight: bold\">3:47</span> <span style=\"color: #808000; text-decoration-color: #808000\">...</span>\n",
       "\n",
       "|Music From the Motion Picture - Wayne's World <span style=\"font-weight: bold\">(</span><span style=\"color: #008080; text-decoration-color: #008080; font-weight: bold\">1992</span><span style=\"font-weight: bold\">)](</span><span style=\"color: #0000ff; text-decoration-color: #0000ff; text-decoration: underline\">https://archive.org/details/waynes-world-ost-1992)</span>\n",
       "Soundtrack of the <span style=\"color: #008080; text-decoration-color: #008080; font-weight: bold\">1992</span> film Wayne's World, featuring tracks like Bohemian Rhapsody by Queen and Dream Weaver by \n",
       "Gary Wright.\n",
       "\n",
       "|Wayne's World <span style=\"font-weight: bold\">(</span>Music From The Motion Picture<span style=\"font-weight: bold\">)</span> - YouTube \n",
       "Music<span style=\"font-weight: bold\">](</span><span style=\"color: #0000ff; text-decoration-color: #0000ff; text-decoration: underline\">https://music.youtube.com/playlist?list=OLAK5uy_kqFFSJMAMRNwKzXOe4ABmf60CwRVAWVbU)</span>\n",
       "Wayne's World: Music from the Motion Picture is the soundtrack album for the <span style=\"color: #008080; text-decoration-color: #008080; font-weight: bold\">1992</span> comedy film Wayne's World, \n",
       "released on February <span style=\"color: #008080; text-decoration-color: #008080; font-weight: bold\">18</span>, <span style=\"color: #008080; text-decoration-color: #008080; font-weight: bold\">1992</span>. The album was certified double-Platinum by the RIAA on July <span style=\"color: #008080; text-decoration-color: #008080; font-weight: bold\">16</span>, <span style=\"color: #008080; text-decoration-color: #008080; font-weight: bold\">1997</span>. <span style=\"color: #808000; text-decoration-color: #808000\">...</span> New \n",
       "recommendations Song Video Search. Info. Shopping. Tap to unmute Autoplay. Add similar content to the end of the \n",
       "queue. Autoplay <span style=\"color: #808000; text-decoration-color: #808000\">...</span>\n",
       "\n",
       "|Wayne's World: Music From The Motion Picture - \n",
       "Archive.org<span style=\"font-weight: bold\">](</span><span style=\"color: #0000ff; text-decoration-color: #0000ff; text-decoration: underline\">https://archive.org/details/MusicFromTheMotionPictureWaynesWorld)</span>\n",
       "Wayne's World Theme <span style=\"font-weight: bold\">(</span>Extended Version<span style=\"font-weight: bold\">)</span> - Wayne and Garth <span style=\"font-weight: bold\">(</span>Mike Myers and Dana Carvey<span style=\"font-weight: bold\">)</span> Ballroom Blitz <span style=\"font-weight: bold\">(</span>Tia Carrere<span style=\"font-weight: bold\">)</span> \n",
       "Foxy Lady <span style=\"font-weight: bold\">(</span>The Jimi Hendrix Experience<span style=\"font-weight: bold\">)</span> Feed My Frankenstein <span style=\"font-weight: bold\">(</span>Alice Cooper<span style=\"font-weight: bold\">)</span> Ride With Yourself <span style=\"font-weight: bold\">(</span>Rhino Bucket<span style=\"font-weight: bold\">)</span> \n",
       "Loving Your Lovin' <span style=\"font-weight: bold\">(</span>Eric Clapton<span style=\"font-weight: bold\">)</span> Why You Wanna Break My Heart <span style=\"font-weight: bold\">(</span>Tia Carrere<span style=\"font-weight: bold\">)</span>\n",
       "</pre>\n"
      ],
      "text/plain": [
       "Observations: ## Search Results\n",
       "\n",
       "|Wayne's World Soundtrack \u001b[1m(\u001b[0m\u001b[1;36m1992\u001b[0m\u001b[1m)\u001b[0m | List of Songs - \n",
       "WhatSong\u001b[1m]\u001b[0m\u001b[1m(\u001b[0m\u001b[4;94mhttps://www.what-song.com/Movies/Soundtrack/560/Waynes-World\u001b[0m\u001b[4;94m)\u001b[0m\n",
       "Listen to all \u001b[1;36m25\u001b[0m songs from the Wayne's World soundtrack, playlist, ost and score. Loading. whatsong. Movies. \n",
       "Shows. Lists. Blog. VIP. Register. Sign In. Movies. Movies. Top \u001b[1;36m50\u001b[0m by Year. Browse A-Z \u001b[33m...\u001b[0m Browse A-Z. Shows. \n",
       "Shows. Top \u001b[1;36m50\u001b[0m by Year. Browse A-Z. Lists. Lists Explorer. \u001b[1;36m100\u001b[0m Most Featured Movie Songs. \u001b[1;36m100\u001b[0m Most Featured TV \n",
       "Songs. Blog. VIP \u001b[33m...\u001b[0m\n",
       "\n",
       "|Wayne's World Soundtrack - Listen to all \u001b[1;36m28\u001b[0m songs with scene \n",
       "descriptions\u001b[1m]\u001b[0m\u001b[1m(\u001b[0m\u001b[4;94mhttps://soundtrackradar.com/waynes-world-soundtrack/\u001b[0m\u001b[4;94m)\u001b[0m\n",
       "Listen to the music from Wayne's World. The movie features \u001b[1;36m28\u001b[0m songs in total. Each song comes with a scene \n",
       "description and an audio sample. \u001b[33m...\u001b[0m Note: Below is a complete playlist of all \u001b[1;36m28\u001b[0m songs that can be heard in the \n",
       "movie \u001b[32m\"Wayne's World\"\u001b[0m. Some of these commercial songs are not included on the official soundtrack album but are \n",
       "used in \u001b[33m...\u001b[0m\n",
       "\n",
       "|Celebrating The Wayne's World Soundtrack - \u001b[1;36m93.3\u001b[0m \n",
       "WMMR\u001b[1m]\u001b[0m\u001b[1m(\u001b[0m\u001b[4;94mhttps://wmmr.com/galleries/celebrating-the-waynes-world-soundtrack/\u001b[0m\u001b[4;94m)\u001b[0m\n",
       "Party on Wayne! Party on Garth! Today we celebrate one of the greatest movie soundtracks ever - WAYNES WORLD! This \n",
       "album is significant to me for a number of reasons, the first being, this was the first album I had ever gotten on \n",
       "CD! It was for my \u001b[1;36m12\u001b[0m th birthday, I got \u001b[32m'Wayne'\u001b[0ms World' and Hammer's \u001b[32m'Hammer Don'\u001b[0mt Hurt \u001b[32m'Em'\u001b[0m, yeeeeah!\n",
       "\n",
       "|Ranking Every Song on the Wayne's World \n",
       "Soundtrack\u001b[1m]\u001b[0m\u001b[1m(\u001b[0m\u001b[4;94mhttps://www.pastemagazine.com/music/waynes-world/ranking-every-song-on-the-waynes-world-soundtrack\u001b[0m\u001b[4;94m)\u001b[0m\n",
       "A lot has happened in the \u001b[1;36m25\u001b[0m years since Wayne's World first hit theaters on Valentine's Day, \u001b[1;36m1992\u001b[0m. Mountains have \n",
       "crumbled into the sea. Whole countries have been carved up into other \u001b[33m...\u001b[0m\n",
       "\n",
       "|The Five Most Culturally Significant Wayne's World \n",
       "Songs\u001b[1m]\u001b[0m\u001b[1m(\u001b[0m\u001b[4;94mhttps://www.laweekly.com/the-five-most-culturally-significant-waynes-world-songs/\u001b[0m\u001b[4;94m)\u001b[0m\n",
       "Gary Wright re-recorded a longer version of his \u001b[1;36m1975\u001b[0m soft rock ballad specifically for use in Wayne's World, and \n",
       "it's become the ultimate love-at-first-sight sound bite. It soundtracks, of course \u001b[33m...\u001b[0m\n",
       "\n",
       "|Five Best \u001b[32m\"Wayne's World\"\u001b[0m Musical Breaks - Cinema \n",
       "Crazed\u001b[1m]\u001b[0m\u001b[1m(\u001b[0m\u001b[4;94mhttps://www.cinema-crazed.com/blog/2022/03/21/five-best-waynes-world-musical-breaks/\u001b[0m\u001b[4;94m)\u001b[0m\n",
       "\u001b[1;36m1992\u001b[0m's \u001b[32m\"Wayne's World\"\u001b[0m is considered a classic and is, without a doubt, one of my all time favorite comedies. It's \n",
       "also one of the very \u001b[1m(\u001b[0mvery\u001b[1m)\u001b[0m few SNL based movies that took a great skit and turned it in to a great movie. It \n",
       "didn't just become a movie, but built its own universe around it.\n",
       "\n",
       "|Various - Music From The Motion Picture Wayne's \n",
       "World\u001b[1m]\u001b[0m\u001b[1m(\u001b[0m\u001b[4;94mhttps://www.discogs.com/master/140189-Various-Music-From-The-Motion-Picture-Waynes-World\u001b[0m\u001b[4;94m)\u001b[0m\n",
       "Still cool to have if you're a fan - Party On! Reply Helpful. eblanken Jun \u001b[1;36m3\u001b[0m, \u001b[1;36m2016\u001b[0m. Report; \u001b[33m...\u001b[0m Movie Scene - \n",
       "Wayne's World - Bohemian Rhapsody. \u001b[1;92m3:08\u001b[0m; Red Hot Chili Peppers-Sikamikanico. \u001b[1;92m3:26\u001b[0m; MC \u001b[35m/\u001b[0m WAYNES WORLS - Music From \n",
       "The Motion Picture Wayne's World \u001b[35m/\u001b[0m \u001b[1;36m1992\u001b[0m. \u001b[1;92m1:17\u001b[0m; Cinderella - Hot And Bothered. \u001b[1;92m4:12\u001b[0m; Cinderella Hot And Bothered. \n",
       "\u001b[1;92m3:47\u001b[0m \u001b[33m...\u001b[0m\n",
       "\n",
       "|Music From the Motion Picture - Wayne's World \u001b[1m(\u001b[0m\u001b[1;36m1992\u001b[0m\u001b[1m)\u001b[0m\u001b[1m]\u001b[0m\u001b[1m(\u001b[0m\u001b[4;94mhttps://archive.org/details/waynes-world-ost-1992\u001b[0m\u001b[4;94m)\u001b[0m\n",
       "Soundtrack of the \u001b[1;36m1992\u001b[0m film Wayne's World, featuring tracks like Bohemian Rhapsody by Queen and Dream Weaver by \n",
       "Gary Wright.\n",
       "\n",
       "|Wayne's World \u001b[1m(\u001b[0mMusic From The Motion Picture\u001b[1m)\u001b[0m - YouTube \n",
       "Music\u001b[1m]\u001b[0m\u001b[1m(\u001b[0m\u001b[4;94mhttps://music.youtube.com/playlist?\u001b[0m\u001b[4;94mlist\u001b[0m\u001b[4;94m=\u001b[0m\u001b[4;94mOLAK5uy_kqFFSJMAMRNwKzXOe4ABmf60CwRVAWVbU\u001b[0m\u001b[4;94m)\u001b[0m\n",
       "Wayne's World: Music from the Motion Picture is the soundtrack album for the \u001b[1;36m1992\u001b[0m comedy film Wayne's World, \n",
       "released on February \u001b[1;36m18\u001b[0m, \u001b[1;36m1992\u001b[0m. The album was certified double-Platinum by the RIAA on July \u001b[1;36m16\u001b[0m, \u001b[1;36m1997\u001b[0m. \u001b[33m...\u001b[0m New \n",
       "recommendations Song Video Search. Info. Shopping. Tap to unmute Autoplay. Add similar content to the end of the \n",
       "queue. Autoplay \u001b[33m...\u001b[0m\n",
       "\n",
       "|Wayne's World: Music From The Motion Picture - \n",
       "Archive.org\u001b[1m]\u001b[0m\u001b[1m(\u001b[0m\u001b[4;94mhttps://archive.org/details/MusicFromTheMotionPictureWaynesWorld\u001b[0m\u001b[4;94m)\u001b[0m\n",
       "Wayne's World Theme \u001b[1m(\u001b[0mExtended Version\u001b[1m)\u001b[0m - Wayne and Garth \u001b[1m(\u001b[0mMike Myers and Dana Carvey\u001b[1m)\u001b[0m Ballroom Blitz \u001b[1m(\u001b[0mTia Carrere\u001b[1m)\u001b[0m \n",
       "Foxy Lady \u001b[1m(\u001b[0mThe Jimi Hendrix Experience\u001b[1m)\u001b[0m Feed My Frankenstein \u001b[1m(\u001b[0mAlice Cooper\u001b[1m)\u001b[0m Ride With Yourself \u001b[1m(\u001b[0mRhino Bucket\u001b[1m)\u001b[0m \n",
       "Loving Your Lovin' \u001b[1m(\u001b[0mEric Clapton\u001b[1m)\u001b[0m Why You Wanna Break My Heart \u001b[1m(\u001b[0mTia Carrere\u001b[1m)\u001b[0m\n"
      ]
     },
     "metadata": {},
     "output_type": "display_data"
    },
    {
     "data": {
      "text/html": [
       "<pre style=\"white-space:pre;overflow-x:auto;line-height:normal;font-family:Menlo,'DejaVu Sans Mono',consolas,'Courier New',monospace\"><span style=\"color: #7f7f7f; text-decoration-color: #7f7f7f\">[Step 1: Duration 2.45 seconds| Input tokens: 3,285 | Output tokens: 26]</span>\n",
       "</pre>\n"
      ],
      "text/plain": [
       "\u001b[2m[Step 1: Duration 2.45 seconds| Input tokens: 3,285 | Output tokens: 26]\u001b[0m\n"
      ]
     },
     "metadata": {},
     "output_type": "display_data"
    },
    {
     "data": {
      "text/html": [
       "<pre style=\"white-space:pre;overflow-x:auto;line-height:normal;font-family:Menlo,'DejaVu Sans Mono',consolas,'Courier New',monospace\"><span style=\"color: #d4b702; text-decoration-color: #d4b702\">━━━━━━━━━━━━━━━━━━━━━━━━━━━━━━━━━━━━━━━━━━━━━━━━━━━━━ </span><span style=\"font-weight: bold\">Step </span><span style=\"color: #008080; text-decoration-color: #008080; font-weight: bold\">3</span><span style=\"color: #d4b702; text-decoration-color: #d4b702\"> ━━━━━━━━━━━━━━━━━━━━━━━━━━━━━━━━━━━━━━━━━━━━━━━━━━━━━━</span>\n",
       "</pre>\n"
      ],
      "text/plain": [
       "\u001b[38;2;212;183;2m━━━━━━━━━━━━━━━━━━━━━━━━━━━━━━━━━━━━━━━━━━━━━━━━━━━━━ \u001b[0m\u001b[1mStep \u001b[0m\u001b[1;36m3\u001b[0m\u001b[38;2;212;183;2m ━━━━━━━━━━━━━━━━━━━━━━━━━━━━━━━━━━━━━━━━━━━━━━━━━━━━━━\u001b[0m\n"
      ]
     },
     "metadata": {},
     "output_type": "display_data"
    },
    {
     "data": {
      "text/html": [
       "<pre style=\"white-space:pre;overflow-x:auto;line-height:normal;font-family:Menlo,'DejaVu Sans Mono',consolas,'Courier New',monospace\">╭─────────────────────────────────────────────────────────────────────────────────────────────────────────────────╮\n",
       "│ Calling tool: 'final_answer' with arguments: {'answer': 'Based on the web searches, here are some music         │\n",
       "│ recommendations for a party at Wayne\\'s mansion, keeping in mind the Wayne\\'s World theme:\\n\\n*   \"Bohemian     │\n",
       "│ Rhapsody\" - Queen: A must-have, as famously featured in the movie.\\n*   \"Dream Weaver\" - Gary Wright: Another   │\n",
       "│ iconic song from the film.\\n*   \"Foxy Lady\" - The Jimi Hendrix Experience\\n*   \"Feed My Frankenstein\" - Alice   │\n",
       "│ Cooper\\n*   Songs from the Wayne\\'s World soundtrack: Include other tracks from the movie\\'s official           │\n",
       "│ soundtrack, such as those by Red Hot Chili Peppers and Cinderella.\\n*   Classic rock anthems: Expand the        │\n",
       "│ playlist with other popular rock songs from the \\'70s, \\'80s, and \\'90s.\\n*   Upbeat party songs: Add some      │\n",
       "│ general party songs to keep the energy high. Consider \"September\" by Earth, Wind &amp; Fire, and other popular      │\n",
       "│ dance hits.\\n'}                                                                                                 │\n",
       "╰─────────────────────────────────────────────────────────────────────────────────────────────────────────────────╯\n",
       "</pre>\n"
      ],
      "text/plain": [
       "╭─────────────────────────────────────────────────────────────────────────────────────────────────────────────────╮\n",
       "│ Calling tool: 'final_answer' with arguments: {'answer': 'Based on the web searches, here are some music         │\n",
       "│ recommendations for a party at Wayne\\'s mansion, keeping in mind the Wayne\\'s World theme:\\n\\n*   \"Bohemian     │\n",
       "│ Rhapsody\" - Queen: A must-have, as famously featured in the movie.\\n*   \"Dream Weaver\" - Gary Wright: Another   │\n",
       "│ iconic song from the film.\\n*   \"Foxy Lady\" - The Jimi Hendrix Experience\\n*   \"Feed My Frankenstein\" - Alice   │\n",
       "│ Cooper\\n*   Songs from the Wayne\\'s World soundtrack: Include other tracks from the movie\\'s official           │\n",
       "│ soundtrack, such as those by Red Hot Chili Peppers and Cinderella.\\n*   Classic rock anthems: Expand the        │\n",
       "│ playlist with other popular rock songs from the \\'70s, \\'80s, and \\'90s.\\n*   Upbeat party songs: Add some      │\n",
       "│ general party songs to keep the energy high. Consider \"September\" by Earth, Wind & Fire, and other popular      │\n",
       "│ dance hits.\\n'}                                                                                                 │\n",
       "╰─────────────────────────────────────────────────────────────────────────────────────────────────────────────────╯\n"
      ]
     },
     "metadata": {},
     "output_type": "display_data"
    },
    {
     "data": {
      "text/html": [
       "<pre style=\"white-space:pre;overflow-x:auto;line-height:normal;font-family:Menlo,'DejaVu Sans Mono',consolas,'Courier New',monospace\"><span style=\"color: #d4b702; text-decoration-color: #d4b702; font-weight: bold\">Final answer: Based on the web searches, here are some music recommendations for a party at Wayne's mansion, </span>\n",
       "<span style=\"color: #d4b702; text-decoration-color: #d4b702; font-weight: bold\">keeping in mind the Wayne's World theme:</span>\n",
       "\n",
       "<span style=\"color: #d4b702; text-decoration-color: #d4b702; font-weight: bold\">*   \"Bohemian Rhapsody\" - Queen: A must-have, as famously featured in the movie.</span>\n",
       "<span style=\"color: #d4b702; text-decoration-color: #d4b702; font-weight: bold\">*   \"Dream Weaver\" - Gary Wright: Another iconic song from the film.</span>\n",
       "<span style=\"color: #d4b702; text-decoration-color: #d4b702; font-weight: bold\">*   \"Foxy Lady\" - The Jimi Hendrix Experience</span>\n",
       "<span style=\"color: #d4b702; text-decoration-color: #d4b702; font-weight: bold\">*   \"Feed My Frankenstein\" - Alice Cooper</span>\n",
       "<span style=\"color: #d4b702; text-decoration-color: #d4b702; font-weight: bold\">*   Songs from the Wayne's World soundtrack: Include other tracks from the movie's official soundtrack, such as </span>\n",
       "<span style=\"color: #d4b702; text-decoration-color: #d4b702; font-weight: bold\">those by Red Hot Chili Peppers and Cinderella.</span>\n",
       "<span style=\"color: #d4b702; text-decoration-color: #d4b702; font-weight: bold\">*   Classic rock anthems: Expand the playlist with other popular rock songs from the '70s, '80s, and '90s.</span>\n",
       "<span style=\"color: #d4b702; text-decoration-color: #d4b702; font-weight: bold\">*   Upbeat party songs: Add some general party songs to keep the energy high. Consider \"September\" by Earth, Wind &amp;</span>\n",
       "<span style=\"color: #d4b702; text-decoration-color: #d4b702; font-weight: bold\">Fire, and other popular dance hits.</span>\n",
       "\n",
       "</pre>\n"
      ],
      "text/plain": [
       "\u001b[1;38;2;212;183;2mFinal answer: Based on the web searches, here are some music recommendations for a party at Wayne's mansion, \u001b[0m\n",
       "\u001b[1;38;2;212;183;2mkeeping in mind the Wayne's World theme:\u001b[0m\n",
       "\n",
       "\u001b[1;38;2;212;183;2m*   \"Bohemian Rhapsody\" - Queen: A must-have, as famously featured in the movie.\u001b[0m\n",
       "\u001b[1;38;2;212;183;2m*   \"Dream Weaver\" - Gary Wright: Another iconic song from the film.\u001b[0m\n",
       "\u001b[1;38;2;212;183;2m*   \"Foxy Lady\" - The Jimi Hendrix Experience\u001b[0m\n",
       "\u001b[1;38;2;212;183;2m*   \"Feed My Frankenstein\" - Alice Cooper\u001b[0m\n",
       "\u001b[1;38;2;212;183;2m*   Songs from the Wayne's World soundtrack: Include other tracks from the movie's official soundtrack, such as \u001b[0m\n",
       "\u001b[1;38;2;212;183;2mthose by Red Hot Chili Peppers and Cinderella.\u001b[0m\n",
       "\u001b[1;38;2;212;183;2m*   Classic rock anthems: Expand the playlist with other popular rock songs from the '70s, '80s, and '90s.\u001b[0m\n",
       "\u001b[1;38;2;212;183;2m*   Upbeat party songs: Add some general party songs to keep the energy high. Consider \"September\" by Earth, Wind &\u001b[0m\n",
       "\u001b[1;38;2;212;183;2mFire, and other popular dance hits.\u001b[0m\n",
       "\n"
      ]
     },
     "metadata": {},
     "output_type": "display_data"
    },
    {
     "data": {
      "text/html": [
       "<pre style=\"white-space:pre;overflow-x:auto;line-height:normal;font-family:Menlo,'DejaVu Sans Mono',consolas,'Courier New',monospace\"><span style=\"color: #7f7f7f; text-decoration-color: #7f7f7f\">[Step 2: Duration 1.84 seconds| Input tokens: 6,837 | Output tokens: 229]</span>\n",
       "</pre>\n"
      ],
      "text/plain": [
       "\u001b[2m[Step 2: Duration 1.84 seconds| Input tokens: 6,837 | Output tokens: 229]\u001b[0m\n"
      ]
     },
     "metadata": {},
     "output_type": "display_data"
    },
    {
     "data": {
      "text/plain": [
       "'Based on the web searches, here are some music recommendations for a party at Wayne\\'s mansion, keeping in mind the Wayne\\'s World theme:\\n\\n*   \"Bohemian Rhapsody\" - Queen: A must-have, as famously featured in the movie.\\n*   \"Dream Weaver\" - Gary Wright: Another iconic song from the film.\\n*   \"Foxy Lady\" - The Jimi Hendrix Experience\\n*   \"Feed My Frankenstein\" - Alice Cooper\\n*   Songs from the Wayne\\'s World soundtrack: Include other tracks from the movie\\'s official soundtrack, such as those by Red Hot Chili Peppers and Cinderella.\\n*   Classic rock anthems: Expand the playlist with other popular rock songs from the \\'70s, \\'80s, and \\'90s.\\n*   Upbeat party songs: Add some general party songs to keep the energy high. Consider \"September\" by Earth, Wind & Fire, and other popular dance hits.\\n'"
      ]
     },
     "execution_count": 4,
     "metadata": {},
     "output_type": "execute_result"
    }
   ],
   "source": [
    "from smolagents import ToolCallingAgent, DuckDuckGoSearchTool, HfApiModel\n",
    "\n",
    "agent = ToolCallingAgent(tools=[DuckDuckGoSearchTool()], model=model)\n",
    "agent.run(\"Search for the best music recommendations for a party at the Wayne's mansion.\")"
   ]
  },
  {
   "cell_type": "code",
   "execution_count": null,
   "metadata": {},
   "outputs": [],
   "source": []
  }
 ],
 "metadata": {
  "kernelspec": {
   "display_name": ".venv",
   "language": "python",
   "name": "python3"
  },
  "language_info": {
   "codemirror_mode": {
    "name": "ipython",
    "version": 3
   },
   "file_extension": ".py",
   "mimetype": "text/x-python",
   "name": "python",
   "nbconvert_exporter": "python",
   "pygments_lexer": "ipython3",
   "version": "3.12.7"
  }
 },
 "nbformat": 4,
 "nbformat_minor": 2
}

{
 "cells": [
  {
   "cell_type": "markdown",
   "metadata": {},
   "source": [
    "modified https://huggingface.co/agents-course/notebooks/blob/main/unit2/smolagents/tool_calling_agents.ipynb"
   ]
  },
  {
   "cell_type": "code",
   "execution_count": null,
   "metadata": {},
   "outputs": [],
   "source": [
    "from utils import gemini_model_OpenAIServer\n",
    "from smolagents import ToolCallingAgent, DuckDuckGoSearchTool\n"
   ]
  },
  {
   "cell_type": "code",
   "execution_count": 5,
   "metadata": {},
   "outputs": [],
   "source": [
    "model = gemini_model_OpenAIServer(\"gemini-2.0-flash\")"
   ]
  },
  {
   "cell_type": "code",
   "execution_count": null,
   "metadata": {},
   "outputs": [
    {
     "data": {
      "text/html": [
       "<pre style=\"white-space:pre;overflow-x:auto;line-height:normal;font-family:Menlo,'DejaVu Sans Mono',consolas,'Courier New',monospace\"><span style=\"color: #d4b702; text-decoration-color: #d4b702\">╭──────────────────────────────────────────────────── </span><span style=\"color: #d4b702; text-decoration-color: #d4b702; font-weight: bold\">New run</span><span style=\"color: #d4b702; text-decoration-color: #d4b702\"> ────────────────────────────────────────────────────╮</span>\n",
       "<span style=\"color: #d4b702; text-decoration-color: #d4b702\">│</span>                                                                                                                 <span style=\"color: #d4b702; text-decoration-color: #d4b702\">│</span>\n",
       "<span style=\"color: #d4b702; text-decoration-color: #d4b702\">│</span> <span style=\"font-weight: bold\">Search for the best music recommendations for a party at the Wayne's mansion.</span>                                   <span style=\"color: #d4b702; text-decoration-color: #d4b702\">│</span>\n",
       "<span style=\"color: #d4b702; text-decoration-color: #d4b702\">│</span>                                                                                                                 <span style=\"color: #d4b702; text-decoration-color: #d4b702\">│</span>\n",
       "<span style=\"color: #d4b702; text-decoration-color: #d4b702\">╰─ OpenAIServerModel - gemini-2.0-flash ──────────────────────────────────────────────────────────────────────────╯</span>\n",
       "</pre>\n"
      ],
      "text/plain": [
       "\u001b[38;2;212;183;2m╭─\u001b[0m\u001b[38;2;212;183;2m───────────────────────────────────────────────────\u001b[0m\u001b[38;2;212;183;2m \u001b[0m\u001b[1;38;2;212;183;2mNew run\u001b[0m\u001b[38;2;212;183;2m \u001b[0m\u001b[38;2;212;183;2m───────────────────────────────────────────────────\u001b[0m\u001b[38;2;212;183;2m─╮\u001b[0m\n",
       "\u001b[38;2;212;183;2m│\u001b[0m                                                                                                                 \u001b[38;2;212;183;2m│\u001b[0m\n",
       "\u001b[38;2;212;183;2m│\u001b[0m \u001b[1mSearch for the best music recommendations for a party at the Wayne's mansion.\u001b[0m                                   \u001b[38;2;212;183;2m│\u001b[0m\n",
       "\u001b[38;2;212;183;2m│\u001b[0m                                                                                                                 \u001b[38;2;212;183;2m│\u001b[0m\n",
       "\u001b[38;2;212;183;2m╰─\u001b[0m\u001b[38;2;212;183;2m OpenAIServerModel - gemini-2.0-flash \u001b[0m\u001b[38;2;212;183;2m─────────────────────────────────────────────────────────────────────────\u001b[0m\u001b[38;2;212;183;2m─╯\u001b[0m\n"
      ]
     },
     "metadata": {},
     "output_type": "display_data"
    },
    {
     "data": {
      "text/html": [
       "<pre style=\"white-space:pre;overflow-x:auto;line-height:normal;font-family:Menlo,'DejaVu Sans Mono',consolas,'Courier New',monospace\"><span style=\"color: #d4b702; text-decoration-color: #d4b702\">━━━━━━━━━━━━━━━━━━━━━━━━━━━━━━━━━━━━━━━━━━━━━━━━━━━━━ </span><span style=\"font-weight: bold\">Step </span><span style=\"color: #008080; text-decoration-color: #008080; font-weight: bold\">1</span><span style=\"color: #d4b702; text-decoration-color: #d4b702\"> ━━━━━━━━━━━━━━━━━━━━━━━━━━━━━━━━━━━━━━━━━━━━━━━━━━━━━━</span>\n",
       "</pre>\n"
      ],
      "text/plain": [
       "\u001b[38;2;212;183;2m━━━━━━━━━━━━━━━━━━━━━━━━━━━━━━━━━━━━━━━━━━━━━━━━━━━━━ \u001b[0m\u001b[1mStep \u001b[0m\u001b[1;36m1\u001b[0m\u001b[38;2;212;183;2m ━━━━━━━━━━━━━━━━━━━━━━━━━━━━━━━━━━━━━━━━━━━━━━━━━━━━━━\u001b[0m\n"
      ]
     },
     "metadata": {},
     "output_type": "display_data"
    },
    {
     "data": {
      "text/html": [
       "<pre style=\"white-space:pre;overflow-x:auto;line-height:normal;font-family:Menlo,'DejaVu Sans Mono',consolas,'Courier New',monospace\">╭─────────────────────────────────────────────────────────────────────────────────────────────────────────────────╮\n",
       "│ Calling tool: 'web_search' with arguments: {'query': \"best music for a party at Wayne's mansion\"}               │\n",
       "╰─────────────────────────────────────────────────────────────────────────────────────────────────────────────────╯\n",
       "</pre>\n"
      ],
      "text/plain": [
       "╭─────────────────────────────────────────────────────────────────────────────────────────────────────────────────╮\n",
       "│ Calling tool: 'web_search' with arguments: {'query': \"best music for a party at Wayne's mansion\"}               │\n",
       "╰─────────────────────────────────────────────────────────────────────────────────────────────────────────────────╯\n"
      ]
     },
     "metadata": {},
     "output_type": "display_data"
    },
    {
     "data": {
      "text/html": [
       "<pre style=\"white-space:pre;overflow-x:auto;line-height:normal;font-family:Menlo,'DejaVu Sans Mono',consolas,'Courier New',monospace\">Observations: ## Search Results\n",
       "\n",
       "|The <span style=\"color: #008080; text-decoration-color: #008080; font-weight: bold\">75</span> Best Party Songs That Will Get Everyone Dancing - \n",
       "Gear4music<span style=\"font-weight: bold\">](</span><span style=\"color: #0000ff; text-decoration-color: #0000ff; text-decoration: underline\">https://www.gear4music.com/blog/best-party-songs/)</span>\n",
       "The best party songs <span style=\"color: #008080; text-decoration-color: #008080; font-weight: bold\">1</span>. <span style=\"color: #008000; text-decoration-color: #008000\">\"September\"</span> - Earth, Wind &amp; Fire <span style=\"font-weight: bold\">(</span><span style=\"color: #008080; text-decoration-color: #008080; font-weight: bold\">1978</span><span style=\"font-weight: bold\">)</span> Quite possibly the best party song. An infectious \n",
       "mix of funk and soul, <span style=\"color: #008000; text-decoration-color: #008000\">\"September\"</span> is celebrated for its upbeat melody and <span style=\"color: #008000; text-decoration-color: #008000\">\"ba-dee-ya\"</span> chorus, making it a timeless \n",
       "dance favorite.\n",
       "\n",
       "|<span style=\"color: #008080; text-decoration-color: #008080; font-weight: bold\">50</span>+ Best Songs For Your Next Party in <span style=\"color: #008080; text-decoration-color: #008080; font-weight: bold\">2025</span> - Aleka's \n",
       "Get-Together<span style=\"font-weight: bold\">](</span><span style=\"color: #0000ff; text-decoration-color: #0000ff; text-decoration: underline\">https://alekasgettogether.com/top-songs-for-any-party/)</span>\n",
       "Whether you're planning a How To Host The Best Party At Home or just want to liven up your playlist, we've got you \n",
       "covered with <span style=\"color: #008080; text-decoration-color: #008080; font-weight: bold\">100</span> crowd-pleasing tunes. From timeless classics to modern hits, these songs are guaranteed to keep \n",
       "the energy high and the good times rolling all night long. <span style=\"color: #008080; text-decoration-color: #008080; font-weight: bold\">50</span> Popular Party Songs. Uptown Funk - Mark Ronson ft <span style=\"color: #808000; text-decoration-color: #808000\">...</span>\n",
       "\n",
       "|Best Songs To Party: DJ's Ultimate Party Songs Playlist - \n",
       "Top40Weekly.com<span style=\"font-weight: bold\">](</span><span style=\"color: #0000ff; text-decoration-color: #0000ff; text-decoration: underline\">https://top40weekly.com/best-songs-to-party/)</span>\n",
       "If you're looking for the ultimate playlist to get your party started, look no further than this best party songs \n",
       "playlist. Whether you're hosting a birthday bash, a backyard barbecue, or just a night in with friends, the right \n",
       "music can make all the difference. From classic hits to modern bangers, we've compiled a list of the best songs <span style=\"color: #808000; text-decoration-color: #808000\">...</span>\n",
       "\n",
       "|Top <span style=\"color: #008080; text-decoration-color: #008080; font-weight: bold\">200</span> Most Requested Songs - DJ Event Planner<span style=\"font-weight: bold\">](</span><span style=\"color: #0000ff; text-decoration-color: #0000ff; text-decoration: underline\">https://djeventplanner.com/mostrequested.htm)</span>\n",
       "Based on over <span style=\"color: #008080; text-decoration-color: #008080; font-weight: bold\">2</span> million requests using the DJ Event Planner song request system, this is a list of the most \n",
       "requested songs of the past year. Sign Up For A Free Trial Click To Hide Me Top <span style=\"color: #008080; text-decoration-color: #008080; font-weight: bold\">200</span> Decades Special Songs Print \n",
       "Download PDF UK Edition Last Year's List Sign Up For A Free Trial\n",
       "\n",
       "|<span style=\"color: #008080; text-decoration-color: #008080; font-weight: bold\">40</span> Best Party Songs | Songs To Dance To, Ranked By Our Editors - Time \n",
       "Out<span style=\"font-weight: bold\">](</span><span style=\"color: #0000ff; text-decoration-color: #0000ff; text-decoration: underline\">https://www.timeout.com/music/best-party-songs)</span>\n",
       "The <span style=\"color: #008080; text-decoration-color: #008080; font-weight: bold\">40</span> best party songs ever made. It's party time guys - don your dancing shoes and have your speaker at the \n",
       "ready. Thursday <span style=\"color: #008080; text-decoration-color: #008080; font-weight: bold\">13</span> February <span style=\"color: #008080; text-decoration-color: #008080; font-weight: bold\">2025</span>. Share. Copy Link. Facebook Twitter Pinterest <span style=\"color: #808000; text-decoration-color: #808000\">...</span>\n",
       "\n",
       "|Dance-party playlist: <span style=\"color: #008080; text-decoration-color: #008080; font-weight: bold\">100</span> greatest songs for an epic party - Time \n",
       "Out<span style=\"font-weight: bold\">](</span><span style=\"color: #0000ff; text-decoration-color: #0000ff; text-decoration: underline\">https://www.timeout.com/music/dance-party-playlist-100-greatest-songs-for-an-epic-party)</span>\n",
       "Dance-party playlist: <span style=\"color: #008080; text-decoration-color: #008080; font-weight: bold\">100</span> greatest songs for an epic party House party, BBQ, wedding party or just a bedroom disco,\n",
       "we have the party playlist you need to get the place moving. Tuesday <span style=\"color: #008080; text-decoration-color: #008080; font-weight: bold\">16</span> July <span style=\"color: #008080; text-decoration-color: #008080; font-weight: bold\">2013</span>\n",
       "\n",
       "|The Best Party Songs of All Time <span style=\"font-weight: bold\">(</span>Our Playlists<span style=\"font-weight: bold\">)</span> - ispytunes.com<span style=\"font-weight: bold\">](</span><span style=\"color: #0000ff; text-decoration-color: #0000ff; text-decoration: underline\">https://www.ispytunes.com/post/best-party-songs)</span>\n",
       "Choosing the best party songs can turn your event into an unforgettable experience. Whether you're looking for \n",
       "timeless classics or the latest hits, a well-crafted playlist sets the mood and keeps the energy high. From disco \n",
       "beats to pop anthems and hip-hop jams, these tracks bring people together on the dance floor. <span style=\"color: #808000; text-decoration-color: #808000\">...</span>\n",
       "\n",
       "|<span style=\"color: #008080; text-decoration-color: #008080; font-weight: bold\">100</span> Best Party Songs: The Ultimate Party Playlist<span style=\"font-weight: bold\">](</span><span style=\"color: #0000ff; text-decoration-color: #0000ff; text-decoration: underline\">https://audiocaptain.com/best-party-songs/)</span>\n",
       "Best 2000s Party Songs. Stylistically speaking, music that dominated the charts in the 2000s was nondescript.. \n",
       "There was not much new regarding musical directions. Club and hip hop dominated the charts while indie acts and \n",
       "some rock groups still had influence.\n",
       "\n",
       "|The <span style=\"color: #008080; text-decoration-color: #008080; font-weight: bold\">101</span> Best Party Songs Of All Time - Music Grotto<span style=\"font-weight: bold\">](</span><span style=\"color: #0000ff; text-decoration-color: #0000ff; text-decoration: underline\">https://www.musicgrotto.com/best-party-songs/)</span>\n",
       "A pounding beat and dramatic vocals make this song one of the best party songs to come out of Europe, and the \n",
       "song's music video features a strange and compelling premise of a dead man being reanimated and falling in love \n",
       "with a woman. Tjis Verwest, <span style=\"font-weight: bold\">(</span>a.k.a. Tiësto<span style=\"font-weight: bold\">)</span> composed the song with help from James Bell, Julia Karlsson, and Anton \n",
       "Rundberg.\n",
       "\n",
       "|<span style=\"color: #008080; text-decoration-color: #008080; font-weight: bold\">35</span> Best Party Songs to Help You Get Down &amp; Boogie - MidderMusic<span style=\"font-weight: bold\">](</span><span style=\"color: #0000ff; text-decoration-color: #0000ff; text-decoration: underline\">https://middermusic.com/best-party-songs/)</span>\n",
       "Best Party Songs - Final Thoughts . It wasn't easy to pick the best party songs, but we tried to cover different \n",
       "styles and genres so there's something for everyone. Nevertheless, all of the songs we mentioned today are the \n",
       "world's top party songs. And they will certainly get you in the party mood! Similar Playlists: Best Sing-Along \n",
       "Songs\n",
       "</pre>\n"
      ],
      "text/plain": [
       "Observations: ## Search Results\n",
       "\n",
       "|The \u001b[1;36m75\u001b[0m Best Party Songs That Will Get Everyone Dancing - \n",
       "Gear4music\u001b[1m]\u001b[0m\u001b[1m(\u001b[0m\u001b[4;94mhttps://www.gear4music.com/blog/best-party-songs/\u001b[0m\u001b[4;94m)\u001b[0m\n",
       "The best party songs \u001b[1;36m1\u001b[0m. \u001b[32m\"September\"\u001b[0m - Earth, Wind & Fire \u001b[1m(\u001b[0m\u001b[1;36m1978\u001b[0m\u001b[1m)\u001b[0m Quite possibly the best party song. An infectious \n",
       "mix of funk and soul, \u001b[32m\"September\"\u001b[0m is celebrated for its upbeat melody and \u001b[32m\"ba-dee-ya\"\u001b[0m chorus, making it a timeless \n",
       "dance favorite.\n",
       "\n",
       "|\u001b[1;36m50\u001b[0m+ Best Songs For Your Next Party in \u001b[1;36m2025\u001b[0m - Aleka's \n",
       "Get-Together\u001b[1m]\u001b[0m\u001b[1m(\u001b[0m\u001b[4;94mhttps://alekasgettogether.com/top-songs-for-any-party/\u001b[0m\u001b[4;94m)\u001b[0m\n",
       "Whether you're planning a How To Host The Best Party At Home or just want to liven up your playlist, we've got you \n",
       "covered with \u001b[1;36m100\u001b[0m crowd-pleasing tunes. From timeless classics to modern hits, these songs are guaranteed to keep \n",
       "the energy high and the good times rolling all night long. \u001b[1;36m50\u001b[0m Popular Party Songs. Uptown Funk - Mark Ronson ft \u001b[33m...\u001b[0m\n",
       "\n",
       "|Best Songs To Party: DJ's Ultimate Party Songs Playlist - \n",
       "Top40Weekly.com\u001b[1m]\u001b[0m\u001b[1m(\u001b[0m\u001b[4;94mhttps://top40weekly.com/best-songs-to-party/\u001b[0m\u001b[4;94m)\u001b[0m\n",
       "If you're looking for the ultimate playlist to get your party started, look no further than this best party songs \n",
       "playlist. Whether you're hosting a birthday bash, a backyard barbecue, or just a night in with friends, the right \n",
       "music can make all the difference. From classic hits to modern bangers, we've compiled a list of the best songs \u001b[33m...\u001b[0m\n",
       "\n",
       "|Top \u001b[1;36m200\u001b[0m Most Requested Songs - DJ Event Planner\u001b[1m]\u001b[0m\u001b[1m(\u001b[0m\u001b[4;94mhttps://djeventplanner.com/mostrequested.htm\u001b[0m\u001b[4;94m)\u001b[0m\n",
       "Based on over \u001b[1;36m2\u001b[0m million requests using the DJ Event Planner song request system, this is a list of the most \n",
       "requested songs of the past year. Sign Up For A Free Trial Click To Hide Me Top \u001b[1;36m200\u001b[0m Decades Special Songs Print \n",
       "Download PDF UK Edition Last Year's List Sign Up For A Free Trial\n",
       "\n",
       "|\u001b[1;36m40\u001b[0m Best Party Songs | Songs To Dance To, Ranked By Our Editors - Time \n",
       "Out\u001b[1m]\u001b[0m\u001b[1m(\u001b[0m\u001b[4;94mhttps://www.timeout.com/music/best-party-songs\u001b[0m\u001b[4;94m)\u001b[0m\n",
       "The \u001b[1;36m40\u001b[0m best party songs ever made. It's party time guys - don your dancing shoes and have your speaker at the \n",
       "ready. Thursday \u001b[1;36m13\u001b[0m February \u001b[1;36m2025\u001b[0m. Share. Copy Link. Facebook Twitter Pinterest \u001b[33m...\u001b[0m\n",
       "\n",
       "|Dance-party playlist: \u001b[1;36m100\u001b[0m greatest songs for an epic party - Time \n",
       "Out\u001b[1m]\u001b[0m\u001b[1m(\u001b[0m\u001b[4;94mhttps://www.timeout.com/music/dance-party-playlist-100-greatest-songs-for-an-epic-party\u001b[0m\u001b[4;94m)\u001b[0m\n",
       "Dance-party playlist: \u001b[1;36m100\u001b[0m greatest songs for an epic party House party, BBQ, wedding party or just a bedroom disco,\n",
       "we have the party playlist you need to get the place moving. Tuesday \u001b[1;36m16\u001b[0m July \u001b[1;36m2013\u001b[0m\n",
       "\n",
       "|The Best Party Songs of All Time \u001b[1m(\u001b[0mOur Playlists\u001b[1m)\u001b[0m - ispytunes.com\u001b[1m]\u001b[0m\u001b[1m(\u001b[0m\u001b[4;94mhttps://www.ispytunes.com/post/best-party-songs\u001b[0m\u001b[4;94m)\u001b[0m\n",
       "Choosing the best party songs can turn your event into an unforgettable experience. Whether you're looking for \n",
       "timeless classics or the latest hits, a well-crafted playlist sets the mood and keeps the energy high. From disco \n",
       "beats to pop anthems and hip-hop jams, these tracks bring people together on the dance floor. \u001b[33m...\u001b[0m\n",
       "\n",
       "|\u001b[1;36m100\u001b[0m Best Party Songs: The Ultimate Party Playlist\u001b[1m]\u001b[0m\u001b[1m(\u001b[0m\u001b[4;94mhttps://audiocaptain.com/best-party-songs/\u001b[0m\u001b[4;94m)\u001b[0m\n",
       "Best 2000s Party Songs. Stylistically speaking, music that dominated the charts in the 2000s was nondescript.. \n",
       "There was not much new regarding musical directions. Club and hip hop dominated the charts while indie acts and \n",
       "some rock groups still had influence.\n",
       "\n",
       "|The \u001b[1;36m101\u001b[0m Best Party Songs Of All Time - Music Grotto\u001b[1m]\u001b[0m\u001b[1m(\u001b[0m\u001b[4;94mhttps://www.musicgrotto.com/best-party-songs/\u001b[0m\u001b[4;94m)\u001b[0m\n",
       "A pounding beat and dramatic vocals make this song one of the best party songs to come out of Europe, and the \n",
       "song's music video features a strange and compelling premise of a dead man being reanimated and falling in love \n",
       "with a woman. Tjis Verwest, \u001b[1m(\u001b[0ma.k.a. Tiësto\u001b[1m)\u001b[0m composed the song with help from James Bell, Julia Karlsson, and Anton \n",
       "Rundberg.\n",
       "\n",
       "|\u001b[1;36m35\u001b[0m Best Party Songs to Help You Get Down & Boogie - MidderMusic\u001b[1m]\u001b[0m\u001b[1m(\u001b[0m\u001b[4;94mhttps://middermusic.com/best-party-songs/\u001b[0m\u001b[4;94m)\u001b[0m\n",
       "Best Party Songs - Final Thoughts . It wasn't easy to pick the best party songs, but we tried to cover different \n",
       "styles and genres so there's something for everyone. Nevertheless, all of the songs we mentioned today are the \n",
       "world's top party songs. And they will certainly get you in the party mood! Similar Playlists: Best Sing-Along \n",
       "Songs\n"
      ]
     },
     "metadata": {},
     "output_type": "display_data"
    },
    {
     "data": {
      "text/html": [
       "<pre style=\"white-space:pre;overflow-x:auto;line-height:normal;font-family:Menlo,'DejaVu Sans Mono',consolas,'Courier New',monospace\"><span style=\"color: #7f7f7f; text-decoration-color: #7f7f7f\">[Step 1: Duration 1.33 seconds| Input tokens: 1,061 | Output tokens: 14]</span>\n",
       "</pre>\n"
      ],
      "text/plain": [
       "\u001b[2m[Step 1: Duration 1.33 seconds| Input tokens: 1,061 | Output tokens: 14]\u001b[0m\n"
      ]
     },
     "metadata": {},
     "output_type": "display_data"
    },
    {
     "data": {
      "text/html": [
       "<pre style=\"white-space:pre;overflow-x:auto;line-height:normal;font-family:Menlo,'DejaVu Sans Mono',consolas,'Courier New',monospace\"><span style=\"color: #d4b702; text-decoration-color: #d4b702\">━━━━━━━━━━━━━━━━━━━━━━━━━━━━━━━━━━━━━━━━━━━━━━━━━━━━━ </span><span style=\"font-weight: bold\">Step </span><span style=\"color: #008080; text-decoration-color: #008080; font-weight: bold\">2</span><span style=\"color: #d4b702; text-decoration-color: #d4b702\"> ━━━━━━━━━━━━━━━━━━━━━━━━━━━━━━━━━━━━━━━━━━━━━━━━━━━━━━</span>\n",
       "</pre>\n"
      ],
      "text/plain": [
       "\u001b[38;2;212;183;2m━━━━━━━━━━━━━━━━━━━━━━━━━━━━━━━━━━━━━━━━━━━━━━━━━━━━━ \u001b[0m\u001b[1mStep \u001b[0m\u001b[1;36m2\u001b[0m\u001b[38;2;212;183;2m ━━━━━━━━━━━━━━━━━━━━━━━━━━━━━━━━━━━━━━━━━━━━━━━━━━━━━━\u001b[0m\n"
      ]
     },
     "metadata": {},
     "output_type": "display_data"
    },
    {
     "data": {
      "text/html": [
       "<pre style=\"white-space:pre;overflow-x:auto;line-height:normal;font-family:Menlo,'DejaVu Sans Mono',consolas,'Courier New',monospace\">╭─────────────────────────────────────────────────────────────────────────────────────────────────────────────────╮\n",
       "│ Calling tool: 'web_search' with arguments: {'query': 'characteristics of music typically enjoyed by wealthy     │\n",
       "│ philanthropists'}                                                                                               │\n",
       "╰─────────────────────────────────────────────────────────────────────────────────────────────────────────────────╯\n",
       "</pre>\n"
      ],
      "text/plain": [
       "╭─────────────────────────────────────────────────────────────────────────────────────────────────────────────────╮\n",
       "│ Calling tool: 'web_search' with arguments: {'query': 'characteristics of music typically enjoyed by wealthy     │\n",
       "│ philanthropists'}                                                                                               │\n",
       "╰─────────────────────────────────────────────────────────────────────────────────────────────────────────────────╯\n"
      ]
     },
     "metadata": {},
     "output_type": "display_data"
    },
    {
     "data": {
      "text/html": [
       "<pre style=\"white-space:pre;overflow-x:auto;line-height:normal;font-family:Menlo,'DejaVu Sans Mono',consolas,'Courier New',monospace\">Observations: ## Search Results\n",
       "\n",
       "|What The Music Industry Can Teach Us About Philanthropy - \n",
       "Forbes<span style=\"font-weight: bold\">](</span><span style=\"color: #0000ff; text-decoration-color: #0000ff; text-decoration: underline\">https://www.forbes.com/councils/forbesnonprofitcouncil/2023/10/25/what-the-music-industry-can-teach-us-abou</span>\n",
       "<span style=\"color: #0000ff; text-decoration-color: #0000ff; text-decoration: underline\">t-philanthropy/)</span>\n",
       "Applying Music's Lessons To Philanthropy Building Better Social Moments Nonprofits can strategically leverage both \n",
       "online and offline social moments to cultivate and expand their community.\n",
       "\n",
       "|How donors can fill gaps in music grants | Inside \n",
       "Philanthropy<span style=\"font-weight: bold\">](</span><span style=\"color: #0000ff; text-decoration-color: #0000ff; text-decoration: underline\">https://www.insidephilanthropy.com/ipda-briefs-causes/music)</span>\n",
       "Philanthropic giving for music is modest compared to other areas of philanthropy, and the main beneficiaries tend \n",
       "to be opera companies and orchestras in big cities. From choral groups to music education nonprofits, there are \n",
       "many musical organizations operating on tiny budgets that could benefit from greater philanthropic support.\n",
       "\n",
       "|Philanthropy and Music - Why Philanthropy \n",
       "Matters<span style=\"font-weight: bold\">](</span><span style=\"color: #0000ff; text-decoration-color: #0000ff; text-decoration: underline\">https://whyphilanthropymatters.com/podcast/philanthropy-and-music/)</span>\n",
       "Celebrity musician philanthropy: from Jenny Lind to John Legend; The history of charity fundraising concerts; \n",
       "Philanthropy in Music. Are there any good songs about philanthropy? Related Links. Rhod's article on <span style=\"color: #008000; text-decoration-color: #008000\">\"Marcus </span>\n",
       "<span style=\"color: #008000; text-decoration-color: #008000\">Rashford, Dolly Parton and public perceptions of Philanthropy\"</span> Classic FM, <span style=\"color: #008000; text-decoration-color: #008000\">\"Who were the great patrons of music?\"</span>\n",
       "\n",
       "|Musicians realise their talents thanks to wealthy \n",
       "benefactors<span style=\"font-weight: bold\">](</span><span style=\"color: #0000ff; text-decoration-color: #0000ff; text-decoration: underline\">https://www.ft.com/content/ef6dc3b0-cd66-11e4-9144-00144feab7de)</span>\n",
       "Boas is one of a band of London philanthropists who lend their houses to musicians for run-throughs in preparation \n",
       "for important concerts and recordings, and to raise money for charity.\n",
       "\n",
       "|Musical taste differs between rich and poor - The <span style=\"color: #808000; text-decoration-color: #808000\">...</span> - The Economic \n",
       "Times<span style=\"font-weight: bold\">](</span><span style=\"color: #0000ff; text-decoration-color: #0000ff; text-decoration: underline\">https://economictimes.indiatimes.com/magazines/panache/musical-taste-differs-between-rich-and-poor/articlesh</span>\n",
       "<span style=\"color: #0000ff; text-decoration-color: #0000ff; text-decoration: underline\">ow/47542221.cms)</span>\n",
       "For example, the least-educated people in the study were over eight times more likely to dislike classical music \n",
       "compared to the best-educated respondents. Meanwhile, lowbrow genres such as country, easy listening and golden \n",
       "oldies were disliked by higher-class listeners. The study was published in the journal Canadian Review of \n",
       "Sociology.\n",
       "\n",
       "|Patrons of Music<span style=\"font-weight: bold\">](</span><span style=\"color: #0000ff; text-decoration-color: #0000ff; text-decoration: underline\">https://activeminds.com/topics/Patrons_Music.html)</span>\n",
       "Today, wealthy members of society give to various charities in exchange for recognitions - and tax deductions. Some\n",
       "do support composers, but hardly in the manner previous benefactors did. Back in the late 18th Century in Europe, \n",
       "the rise of the middle and upper class created a new level of wealth that extended, for the first time, beyond the \n",
       "inherited riches of royalty.\n",
       "\n",
       "|Musical Key Characteristics &amp; Emotions - \n",
       "LedgerNote<span style=\"font-weight: bold\">](</span><span style=\"color: #0000ff; text-decoration-color: #0000ff; text-decoration: underline\">https://ledgernote.com/blog/interesting/musical-key-characteristics-emotions/)</span>\n",
       "Now, we didn't come up with these feelings all by ourselves. A German music theorist and composer John Mattheson \n",
       "laid it out in his writings way back in <span style=\"color: #008080; text-decoration-color: #008080; font-weight: bold\">1713</span>, among many other related topics. They were rediscovered and \n",
       "translated by Rita Steblin in her book A History of Key Characteristics in the 18th and Early 19th Centuries in \n",
       "<span style=\"color: #008080; text-decoration-color: #008080; font-weight: bold\">1983</span>.\n",
       "\n",
       "|Was Classical Music For The Rich? - Morningside Music \n",
       "Academy<span style=\"font-weight: bold\">](</span><span style=\"color: #0000ff; text-decoration-color: #0000ff; text-decoration: underline\">https://www.morningsidemusicacademy.com/features/was-classical-music-for-the-rich)</span>\n",
       "By that I mean the idea of patrons isn't that common anymore, especially in music in the western world. In this \n",
       "article I'll be using the term classical music to refer to music made in Europe during the classical era as in the \n",
       "1750s to the early 1820s. This includes the music of Wolfgang Amadeus Mozart, Joseph Haydn and Ludwig van \n",
       "Beethoven.\n",
       "\n",
       "|Music as Philanthropy: Making Music and Building Community in \n",
       "<span style=\"color: #808000; text-decoration-color: #808000\">...</span><span style=\"font-weight: bold\">](</span><span style=\"color: #0000ff; text-decoration-color: #0000ff; text-decoration: underline\">https://journals.sagepub.com/doi/10.1177/089976409402300406)</span>\n",
       "In nineteenth-century America, music was a form not only of entertainment, but also of philanthropy. Using \n",
       "Indianapolis as a model, this study demonstrates that musical performances raised money for needy people and \n",
       "worthwhile causes, but served an equally important function in helping to build a cohesive community, with both a \n",
       "national patriotism and a local civic pride.\n",
       "\n",
       "|Music as Therapy for the <span style=\"color: #008000; text-decoration-color: #008000\">'exceptionally wealthy'</span> at the Nineteenth \n",
       "<span style=\"color: #808000; text-decoration-color: #808000\">...</span><span style=\"font-weight: bold\">](</span><span style=\"color: #0000ff; text-decoration-color: #0000ff; text-decoration: underline\">https://www.cambridge.org/core/journals/royal-musical-association-research-chronicle/article/music-as-therapy-</span>\n",
       "<span style=\"color: #0000ff; text-decoration-color: #0000ff; text-decoration: underline\">for-the-exceptionally-wealthy-at-the-nineteenthcentury-ticehurst-asylum/CBB82DA05DAB7A9D47636BCE2DF9DBB7)</span>\n",
       "There is also no indication of the types of repertoire performed by the band in the promenade concerts or \n",
       "elsewhere. The music typically performed by attendants' bands at other institutions included popular dances, \n",
       "arrangements of overtures, and medleys from Italian or French operas and operettas.\n",
       "</pre>\n"
      ],
      "text/plain": [
       "Observations: ## Search Results\n",
       "\n",
       "|What The Music Industry Can Teach Us About Philanthropy - \n",
       "Forbes\u001b[1m]\u001b[0m\u001b[1m(\u001b[0m\u001b[4;94mhttps://www.forbes.com/councils/forbesnonprofitcouncil/2023/10/25/what-the-music-industry-can-teach-us-abou\u001b[0m\n",
       "\u001b[4;94mt-philanthropy/\u001b[0m\u001b[4;94m)\u001b[0m\n",
       "Applying Music's Lessons To Philanthropy Building Better Social Moments Nonprofits can strategically leverage both \n",
       "online and offline social moments to cultivate and expand their community.\n",
       "\n",
       "|How donors can fill gaps in music grants | Inside \n",
       "Philanthropy\u001b[1m]\u001b[0m\u001b[1m(\u001b[0m\u001b[4;94mhttps://www.insidephilanthropy.com/ipda-briefs-causes/music\u001b[0m\u001b[4;94m)\u001b[0m\n",
       "Philanthropic giving for music is modest compared to other areas of philanthropy, and the main beneficiaries tend \n",
       "to be opera companies and orchestras in big cities. From choral groups to music education nonprofits, there are \n",
       "many musical organizations operating on tiny budgets that could benefit from greater philanthropic support.\n",
       "\n",
       "|Philanthropy and Music - Why Philanthropy \n",
       "Matters\u001b[1m]\u001b[0m\u001b[1m(\u001b[0m\u001b[4;94mhttps://whyphilanthropymatters.com/podcast/philanthropy-and-music/\u001b[0m\u001b[4;94m)\u001b[0m\n",
       "Celebrity musician philanthropy: from Jenny Lind to John Legend; The history of charity fundraising concerts; \n",
       "Philanthropy in Music. Are there any good songs about philanthropy? Related Links. Rhod's article on \u001b[32m\"Marcus \u001b[0m\n",
       "\u001b[32mRashford, Dolly Parton and public perceptions of Philanthropy\"\u001b[0m Classic FM, \u001b[32m\"Who were the great patrons of music?\"\u001b[0m\n",
       "\n",
       "|Musicians realise their talents thanks to wealthy \n",
       "benefactors\u001b[1m]\u001b[0m\u001b[1m(\u001b[0m\u001b[4;94mhttps://www.ft.com/content/ef6dc3b0-cd66-11e4-9144-00144feab7de\u001b[0m\u001b[4;94m)\u001b[0m\n",
       "Boas is one of a band of London philanthropists who lend their houses to musicians for run-throughs in preparation \n",
       "for important concerts and recordings, and to raise money for charity.\n",
       "\n",
       "|Musical taste differs between rich and poor - The \u001b[33m...\u001b[0m - The Economic \n",
       "Times\u001b[1m]\u001b[0m\u001b[1m(\u001b[0m\u001b[4;94mhttps://economictimes.indiatimes.com/magazines/panache/musical-taste-differs-between-rich-and-poor/articlesh\u001b[0m\n",
       "\u001b[4;94mow/47542221.cms\u001b[0m\u001b[4;94m)\u001b[0m\n",
       "For example, the least-educated people in the study were over eight times more likely to dislike classical music \n",
       "compared to the best-educated respondents. Meanwhile, lowbrow genres such as country, easy listening and golden \n",
       "oldies were disliked by higher-class listeners. The study was published in the journal Canadian Review of \n",
       "Sociology.\n",
       "\n",
       "|Patrons of Music\u001b[1m]\u001b[0m\u001b[1m(\u001b[0m\u001b[4;94mhttps://activeminds.com/topics/Patrons_Music.html\u001b[0m\u001b[4;94m)\u001b[0m\n",
       "Today, wealthy members of society give to various charities in exchange for recognitions - and tax deductions. Some\n",
       "do support composers, but hardly in the manner previous benefactors did. Back in the late 18th Century in Europe, \n",
       "the rise of the middle and upper class created a new level of wealth that extended, for the first time, beyond the \n",
       "inherited riches of royalty.\n",
       "\n",
       "|Musical Key Characteristics & Emotions - \n",
       "LedgerNote\u001b[1m]\u001b[0m\u001b[1m(\u001b[0m\u001b[4;94mhttps://ledgernote.com/blog/interesting/musical-key-characteristics-emotions/\u001b[0m\u001b[4;94m)\u001b[0m\n",
       "Now, we didn't come up with these feelings all by ourselves. A German music theorist and composer John Mattheson \n",
       "laid it out in his writings way back in \u001b[1;36m1713\u001b[0m, among many other related topics. They were rediscovered and \n",
       "translated by Rita Steblin in her book A History of Key Characteristics in the 18th and Early 19th Centuries in \n",
       "\u001b[1;36m1983\u001b[0m.\n",
       "\n",
       "|Was Classical Music For The Rich? - Morningside Music \n",
       "Academy\u001b[1m]\u001b[0m\u001b[1m(\u001b[0m\u001b[4;94mhttps://www.morningsidemusicacademy.com/features/was-classical-music-for-the-rich\u001b[0m\u001b[4;94m)\u001b[0m\n",
       "By that I mean the idea of patrons isn't that common anymore, especially in music in the western world. In this \n",
       "article I'll be using the term classical music to refer to music made in Europe during the classical era as in the \n",
       "1750s to the early 1820s. This includes the music of Wolfgang Amadeus Mozart, Joseph Haydn and Ludwig van \n",
       "Beethoven.\n",
       "\n",
       "|Music as Philanthropy: Making Music and Building Community in \n",
       "\u001b[33m...\u001b[0m\u001b[1m]\u001b[0m\u001b[1m(\u001b[0m\u001b[4;94mhttps://journals.sagepub.com/doi/10.1177/089976409402300406\u001b[0m\u001b[4;94m)\u001b[0m\n",
       "In nineteenth-century America, music was a form not only of entertainment, but also of philanthropy. Using \n",
       "Indianapolis as a model, this study demonstrates that musical performances raised money for needy people and \n",
       "worthwhile causes, but served an equally important function in helping to build a cohesive community, with both a \n",
       "national patriotism and a local civic pride.\n",
       "\n",
       "|Music as Therapy for the \u001b[32m'exceptionally wealthy'\u001b[0m at the Nineteenth \n",
       "\u001b[33m...\u001b[0m\u001b[1m]\u001b[0m\u001b[1m(\u001b[0m\u001b[4;94mhttps://www.cambridge.org/core/journals/royal-musical-association-research-chronicle/article/music-as-therapy-\u001b[0m\n",
       "\u001b[4;94mfor-the-exceptionally-wealthy-at-the-nineteenthcentury-ticehurst-asylum/CBB82DA05DAB7A9D47636BCE2DF9DBB7\u001b[0m\u001b[4;94m)\u001b[0m\n",
       "There is also no indication of the types of repertoire performed by the band in the promenade concerts or \n",
       "elsewhere. The music typically performed by attendants' bands at other institutions included popular dances, \n",
       "arrangements of overtures, and medleys from Italian or French operas and operettas.\n"
      ]
     },
     "metadata": {},
     "output_type": "display_data"
    },
    {
     "data": {
      "text/html": [
       "<pre style=\"white-space:pre;overflow-x:auto;line-height:normal;font-family:Menlo,'DejaVu Sans Mono',consolas,'Courier New',monospace\"><span style=\"color: #7f7f7f; text-decoration-color: #7f7f7f\">[Step 2: Duration 2.15 seconds| Input tokens: 3,226 | Output tokens: 27]</span>\n",
       "</pre>\n"
      ],
      "text/plain": [
       "\u001b[2m[Step 2: Duration 2.15 seconds| Input tokens: 3,226 | Output tokens: 27]\u001b[0m\n"
      ]
     },
     "metadata": {},
     "output_type": "display_data"
    },
    {
     "data": {
      "text/html": [
       "<pre style=\"white-space:pre;overflow-x:auto;line-height:normal;font-family:Menlo,'DejaVu Sans Mono',consolas,'Courier New',monospace\"><span style=\"color: #d4b702; text-decoration-color: #d4b702\">━━━━━━━━━━━━━━━━━━━━━━━━━━━━━━━━━━━━━━━━━━━━━━━━━━━━━ </span><span style=\"font-weight: bold\">Step </span><span style=\"color: #008080; text-decoration-color: #008080; font-weight: bold\">3</span><span style=\"color: #d4b702; text-decoration-color: #d4b702\"> ━━━━━━━━━━━━━━━━━━━━━━━━━━━━━━━━━━━━━━━━━━━━━━━━━━━━━━</span>\n",
       "</pre>\n"
      ],
      "text/plain": [
       "\u001b[38;2;212;183;2m━━━━━━━━━━━━━━━━━━━━━━━━━━━━━━━━━━━━━━━━━━━━━━━━━━━━━ \u001b[0m\u001b[1mStep \u001b[0m\u001b[1;36m3\u001b[0m\u001b[38;2;212;183;2m ━━━━━━━━━━━━━━━━━━━━━━━━━━━━━━━━━━━━━━━━━━━━━━━━━━━━━━\u001b[0m\n"
      ]
     },
     "metadata": {},
     "output_type": "display_data"
    },
    {
     "data": {
      "text/html": [
       "<pre style=\"white-space:pre;overflow-x:auto;line-height:normal;font-family:Menlo,'DejaVu Sans Mono',consolas,'Courier New',monospace\">╭─────────────────────────────────────────────────────────────────────────────────────────────────────────────────╮\n",
       "│ Calling tool: 'final_answer' with arguments: {'answer': \"For a party at Wayne's mansion, consider a mix of      │\n",
       "│ timeless classics, modern hits, and possibly some classical music to appeal to a sophisticated audience. Genres │\n",
       "│ could include funk, soul, pop anthems, and some classical pieces. Artists like Earth, Wind &amp; Fire, Mark Ronson, │\n",
       "│ and composers like Mozart or Beethoven could be good choices. The playlist should be upbeat and energetic,      │\n",
       "│ suitable for dancing and creating a lively atmosphere.\"}                                                        │\n",
       "╰─────────────────────────────────────────────────────────────────────────────────────────────────────────────────╯\n",
       "</pre>\n"
      ],
      "text/plain": [
       "╭─────────────────────────────────────────────────────────────────────────────────────────────────────────────────╮\n",
       "│ Calling tool: 'final_answer' with arguments: {'answer': \"For a party at Wayne's mansion, consider a mix of      │\n",
       "│ timeless classics, modern hits, and possibly some classical music to appeal to a sophisticated audience. Genres │\n",
       "│ could include funk, soul, pop anthems, and some classical pieces. Artists like Earth, Wind & Fire, Mark Ronson, │\n",
       "│ and composers like Mozart or Beethoven could be good choices. The playlist should be upbeat and energetic,      │\n",
       "│ suitable for dancing and creating a lively atmosphere.\"}                                                        │\n",
       "╰─────────────────────────────────────────────────────────────────────────────────────────────────────────────────╯\n"
      ]
     },
     "metadata": {},
     "output_type": "display_data"
    },
    {
     "data": {
      "text/html": [
       "<pre style=\"white-space:pre;overflow-x:auto;line-height:normal;font-family:Menlo,'DejaVu Sans Mono',consolas,'Courier New',monospace\"><span style=\"color: #d4b702; text-decoration-color: #d4b702; font-weight: bold\">Final answer: For a party at Wayne's mansion, consider a mix of timeless classics, modern hits, and possibly some </span>\n",
       "<span style=\"color: #d4b702; text-decoration-color: #d4b702; font-weight: bold\">classical music to appeal to a sophisticated audience. Genres could include funk, soul, pop anthems, and some </span>\n",
       "<span style=\"color: #d4b702; text-decoration-color: #d4b702; font-weight: bold\">classical pieces. Artists like Earth, Wind &amp; Fire, Mark Ronson, and composers like Mozart or Beethoven could be </span>\n",
       "<span style=\"color: #d4b702; text-decoration-color: #d4b702; font-weight: bold\">good choices. The playlist should be upbeat and energetic, suitable for dancing and creating a lively atmosphere.</span>\n",
       "</pre>\n"
      ],
      "text/plain": [
       "\u001b[1;38;2;212;183;2mFinal answer: For a party at Wayne's mansion, consider a mix of timeless classics, modern hits, and possibly some \u001b[0m\n",
       "\u001b[1;38;2;212;183;2mclassical music to appeal to a sophisticated audience. Genres could include funk, soul, pop anthems, and some \u001b[0m\n",
       "\u001b[1;38;2;212;183;2mclassical pieces. Artists like Earth, Wind & Fire, Mark Ronson, and composers like Mozart or Beethoven could be \u001b[0m\n",
       "\u001b[1;38;2;212;183;2mgood choices. The playlist should be upbeat and energetic, suitable for dancing and creating a lively atmosphere.\u001b[0m\n"
      ]
     },
     "metadata": {},
     "output_type": "display_data"
    },
    {
     "data": {
      "text/html": [
       "<pre style=\"white-space:pre;overflow-x:auto;line-height:normal;font-family:Menlo,'DejaVu Sans Mono',consolas,'Courier New',monospace\"><span style=\"color: #7f7f7f; text-decoration-color: #7f7f7f\">[Step 3: Duration 1.25 seconds| Input tokens: 6,559 | Output tokens: 118]</span>\n",
       "</pre>\n"
      ],
      "text/plain": [
       "\u001b[2m[Step 3: Duration 1.25 seconds| Input tokens: 6,559 | Output tokens: 118]\u001b[0m\n"
      ]
     },
     "metadata": {},
     "output_type": "display_data"
    },
    {
     "data": {
      "text/plain": [
       "\"For a party at Wayne's mansion, consider a mix of timeless classics, modern hits, and possibly some classical music to appeal to a sophisticated audience. Genres could include funk, soul, pop anthems, and some classical pieces. Artists like Earth, Wind & Fire, Mark Ronson, and composers like Mozart or Beethoven could be good choices. The playlist should be upbeat and energetic, suitable for dancing and creating a lively atmosphere.\""
      ]
     },
     "execution_count": 6,
     "metadata": {},
     "output_type": "execute_result"
    }
   ],
   "source": [
    "agent = ToolCallingAgent(tools=[DuckDuckGoSearchTool()], model=model)\n",
    "agent.run(\"Search for the best music recommendations for a party at the Wayne's mansion.\")"
   ]
  },
  {
   "cell_type": "code",
   "execution_count": null,
   "metadata": {},
   "outputs": [],
   "source": []
  }
 ],
 "metadata": {
  "kernelspec": {
   "display_name": ".venv",
   "language": "python",
   "name": "python3"
  },
  "language_info": {
   "codemirror_mode": {
    "name": "ipython",
    "version": 3
   },
   "file_extension": ".py",
   "mimetype": "text/x-python",
   "name": "python",
   "nbconvert_exporter": "python",
   "pygments_lexer": "ipython3",
   "version": "3.12.7"
  }
 },
 "nbformat": 4,
 "nbformat_minor": 2
}

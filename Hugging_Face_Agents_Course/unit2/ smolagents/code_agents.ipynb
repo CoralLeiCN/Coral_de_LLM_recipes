{
 "cells": [
  {
   "cell_type": "markdown",
   "metadata": {},
   "source": [
    "modified from https://huggingface.co/agents-course/notebooks/blob/main/unit2/smolagents/code_agents.ipynb"
   ]
  },
  {
   "cell_type": "code",
   "execution_count": 3,
   "metadata": {},
   "outputs": [],
   "source": [
    "USERNAME = 'CoralLeiCN'"
   ]
  },
  {
   "cell_type": "code",
   "execution_count": 4,
   "metadata": {},
   "outputs": [
    {
     "data": {
      "text/html": [
       "<pre style=\"white-space:pre;overflow-x:auto;line-height:normal;font-family:Menlo,'DejaVu Sans Mono',consolas,'Courier New',monospace\"><span style=\"color: #d4b702; text-decoration-color: #d4b702\">╭──────────────────────────────────────────────────── </span><span style=\"color: #d4b702; text-decoration-color: #d4b702; font-weight: bold\">New run</span><span style=\"color: #d4b702; text-decoration-color: #d4b702\"> ────────────────────────────────────────────────────╮</span>\n",
       "<span style=\"color: #d4b702; text-decoration-color: #d4b702\">│</span>                                                                                                                 <span style=\"color: #d4b702; text-decoration-color: #d4b702\">│</span>\n",
       "<span style=\"color: #d4b702; text-decoration-color: #d4b702\">│</span> <span style=\"font-weight: bold\">Search for the best music recommendations for a party at the Wayne's mansion.</span>                                   <span style=\"color: #d4b702; text-decoration-color: #d4b702\">│</span>\n",
       "<span style=\"color: #d4b702; text-decoration-color: #d4b702\">│</span>                                                                                                                 <span style=\"color: #d4b702; text-decoration-color: #d4b702\">│</span>\n",
       "<span style=\"color: #d4b702; text-decoration-color: #d4b702\">╰─ LiteLLMModel - gemini/gemini-2.0-flash ────────────────────────────────────────────────────────────────────────╯</span>\n",
       "</pre>\n"
      ],
      "text/plain": [
       "\u001b[38;2;212;183;2m╭─\u001b[0m\u001b[38;2;212;183;2m───────────────────────────────────────────────────\u001b[0m\u001b[38;2;212;183;2m \u001b[0m\u001b[1;38;2;212;183;2mNew run\u001b[0m\u001b[38;2;212;183;2m \u001b[0m\u001b[38;2;212;183;2m───────────────────────────────────────────────────\u001b[0m\u001b[38;2;212;183;2m─╮\u001b[0m\n",
       "\u001b[38;2;212;183;2m│\u001b[0m                                                                                                                 \u001b[38;2;212;183;2m│\u001b[0m\n",
       "\u001b[38;2;212;183;2m│\u001b[0m \u001b[1mSearch for the best music recommendations for a party at the Wayne's mansion.\u001b[0m                                   \u001b[38;2;212;183;2m│\u001b[0m\n",
       "\u001b[38;2;212;183;2m│\u001b[0m                                                                                                                 \u001b[38;2;212;183;2m│\u001b[0m\n",
       "\u001b[38;2;212;183;2m╰─\u001b[0m\u001b[38;2;212;183;2m LiteLLMModel - gemini/gemini-2.0-flash \u001b[0m\u001b[38;2;212;183;2m───────────────────────────────────────────────────────────────────────\u001b[0m\u001b[38;2;212;183;2m─╯\u001b[0m\n"
      ]
     },
     "metadata": {},
     "output_type": "display_data"
    },
    {
     "data": {
      "text/html": [
       "<pre style=\"white-space:pre;overflow-x:auto;line-height:normal;font-family:Menlo,'DejaVu Sans Mono',consolas,'Courier New',monospace\"><span style=\"color: #d4b702; text-decoration-color: #d4b702\">━━━━━━━━━━━━━━━━━━━━━━━━━━━━━━━━━━━━━━━━━━━━━━━━━━━━━ </span><span style=\"font-weight: bold\">Step </span><span style=\"color: #008080; text-decoration-color: #008080; font-weight: bold\">1</span><span style=\"color: #d4b702; text-decoration-color: #d4b702\"> ━━━━━━━━━━━━━━━━━━━━━━━━━━━━━━━━━━━━━━━━━━━━━━━━━━━━━━</span>\n",
       "</pre>\n"
      ],
      "text/plain": [
       "\u001b[38;2;212;183;2m━━━━━━━━━━━━━━━━━━━━━━━━━━━━━━━━━━━━━━━━━━━━━━━━━━━━━ \u001b[0m\u001b[1mStep \u001b[0m\u001b[1;36m1\u001b[0m\u001b[38;2;212;183;2m ━━━━━━━━━━━━━━━━━━━━━━━━━━━━━━━━━━━━━━━━━━━━━━━━━━━━━━\u001b[0m\n"
      ]
     },
     "metadata": {},
     "output_type": "display_data"
    },
    {
     "data": {
      "text/html": [
       "<pre style=\"white-space:pre;overflow-x:auto;line-height:normal;font-family:Menlo,'DejaVu Sans Mono',consolas,'Courier New',monospace\"> ─ <span style=\"font-weight: bold\">Executing parsed code:</span> ──────────────────────────────────────────────────────────────────────────────────────── \n",
       "  <span style=\"color: #f8f8f2; text-decoration-color: #f8f8f2; background-color: #272822\">search_results </span><span style=\"color: #ff4689; text-decoration-color: #ff4689; background-color: #272822\">=</span><span style=\"color: #f8f8f2; text-decoration-color: #f8f8f2; background-color: #272822\"> web_search(query</span><span style=\"color: #ff4689; text-decoration-color: #ff4689; background-color: #272822\">=</span><span style=\"color: #e6db74; text-decoration-color: #e6db74; background-color: #272822\">\"music recommendations party Wayne's mansion\"</span><span style=\"color: #f8f8f2; text-decoration-color: #f8f8f2; background-color: #272822\">)</span><span style=\"background-color: #272822\">                               </span>  \n",
       "  <span style=\"color: #f8f8f2; text-decoration-color: #f8f8f2; background-color: #272822\">print(search_results)</span><span style=\"background-color: #272822\">                                                                                          </span>  \n",
       " ───────────────────────────────────────────────────────────────────────────────────────────────────────────────── \n",
       "</pre>\n"
      ],
      "text/plain": [
       " ─ \u001b[1mExecuting parsed code:\u001b[0m ──────────────────────────────────────────────────────────────────────────────────────── \n",
       "  \u001b[38;2;248;248;242;48;2;39;40;34msearch_results\u001b[0m\u001b[38;2;248;248;242;48;2;39;40;34m \u001b[0m\u001b[38;2;255;70;137;48;2;39;40;34m=\u001b[0m\u001b[38;2;248;248;242;48;2;39;40;34m \u001b[0m\u001b[38;2;248;248;242;48;2;39;40;34mweb_search\u001b[0m\u001b[38;2;248;248;242;48;2;39;40;34m(\u001b[0m\u001b[38;2;248;248;242;48;2;39;40;34mquery\u001b[0m\u001b[38;2;255;70;137;48;2;39;40;34m=\u001b[0m\u001b[38;2;230;219;116;48;2;39;40;34m\"\u001b[0m\u001b[38;2;230;219;116;48;2;39;40;34mmusic recommendations party Wayne\u001b[0m\u001b[38;2;230;219;116;48;2;39;40;34m'\u001b[0m\u001b[38;2;230;219;116;48;2;39;40;34ms mansion\u001b[0m\u001b[38;2;230;219;116;48;2;39;40;34m\"\u001b[0m\u001b[38;2;248;248;242;48;2;39;40;34m)\u001b[0m\u001b[48;2;39;40;34m                               \u001b[0m  \n",
       "  \u001b[38;2;248;248;242;48;2;39;40;34mprint\u001b[0m\u001b[38;2;248;248;242;48;2;39;40;34m(\u001b[0m\u001b[38;2;248;248;242;48;2;39;40;34msearch_results\u001b[0m\u001b[38;2;248;248;242;48;2;39;40;34m)\u001b[0m\u001b[48;2;39;40;34m                                                                                          \u001b[0m  \n",
       " ───────────────────────────────────────────────────────────────────────────────────────────────────────────────── \n"
      ]
     },
     "metadata": {},
     "output_type": "display_data"
    },
    {
     "data": {
      "text/html": [
       "<pre style=\"white-space:pre;overflow-x:auto;line-height:normal;font-family:Menlo,'DejaVu Sans Mono',consolas,'Courier New',monospace\"><span style=\"font-weight: bold\">Execution logs:</span>\n",
       "## Search Results\n",
       "\n",
       "[Similar Songs Finder | Spotify Playlist Generator - Chosic](https://www.chosic.com/playlist-generator/)\n",
       "Need to find similar songs to a song you like? To music you love? A playlist created for you in seconds! With \n",
       "Spotify Playlist Generator online tool, create awesome playlists in seconds, featuring similar songs to those you \n",
       "love. Whether by songs, artists, genres, moods, or based on a playlist, just start with what you have in mind, and \n",
       "it will provide you with plenty of song recommendations ...\n",
       "\n",
       "[Party on Wayne - playlist by Music League | Spotify](https://open.spotify.com/playlist/66wXTng3HRUePKf9WdOrrK)\n",
       "Party on Wayne · Playlist · 20 songs · 6 likes\n",
       "\n",
       "[Music Taste Analyzer - Chosic](https://www.chosic.com/music-taste-checker/)\n",
       "Find out your favorite genres and moods, and get music recommendations that will help you discover new music. \n",
       "Understand your music personality and uncover interesting facts about your taste in music. Simply enter the artists\n",
       "you love, and we will generate a chart of your top genres and moods. We will also provide a few song \n",
       "recommendations ...\n",
       "\n",
       "[Party on, Wayne! - playlist by Music League | Spotify](https://open.spotify.com/playlist/4J61XoHr2CINqRA1DV0ga7)\n",
       "Party on, Wayne! · Playlist · 17 songs · 4 likes\n",
       "\n",
       "[The 75 Best Party Songs That Will Get Everyone Dancing - \n",
       "Gear4music](https://www.gear4music.com/blog/best-party-songs/)\n",
       "A party planner's list PA system/speakers. An epic party needs an epic PA system! When selecting a sound system for\n",
       "your party, the size of the room is crucial. A small room might need just a pair of compact speakers, while a \n",
       "larger space could benefit greatly from a subwoofer to boost bass frequencies.\n",
       "\n",
       "[Party on, Wayne! - YouTube Music](https://music.youtube.com/playlist?list=PLXxuECYNOaw87L8fiV0UVlHQupKEwpIha)\n",
       "A new music service with official albums, singles, videos, remixes, live performances and more for Android, iOS and\n",
       "desktop. It's all here.\n",
       "\n",
       "[Various - Music From The Motion Picture Wayne's \n",
       "World](https://www.discogs.com/release/8033702-Various-Music-From-The-Motion-Picture-Waynes-World)\n",
       "View credits, reviews, tracks and shop for the 2016 Vinyl release of \"Music From The Motion Picture Wayne's World\" \n",
       "on Discogs. Everything Releases Artists Labels. Advanced Search ... Black Sabbath - Time Machine (Wayne's World) \n",
       "4:19; Lists Add to List. ... Party on!! Reply Helpful. eblanken Jun 3, 2016. Report; Update on the UO release: I \n",
       "...\n",
       "\n",
       "[50+ Best Songs For Your Next Party in 2025 - Aleka's \n",
       "Get-Together](https://alekasgettogether.com/top-songs-for-any-party/)\n",
       "Whether you're planning a How To Host The Best Party At Home or just want to liven up your playlist, we've got you \n",
       "covered with 100 crowd-pleasing tunes. From timeless classics to modern hits, these songs are guaranteed to keep \n",
       "the energy high and the good times rolling all night long. 50 Popular Party Songs. Uptown Funk - Mark Ronson ft ...\n",
       "\n",
       "[you're studying at night in bruce wayne's mansion - YouTube](https://www.youtube.com/watch?v=i4vjSoUH8bE)\n",
       "you're studying at night in bruce wayne's mansion... hopefully alfred's making you coffee soonlike and subscribe \n",
       "for weekly dark academia study music uploads...\n",
       "\n",
       "[Live set Wayne Brady Mansion, by Damion Shade \n",
       "(Demos)](https://damionshadeandtheboombapchorus.bandcamp.com/album/live-set-wayne-brady-mansion)\n",
       "Live set Wayne Brady Mansion by Damion Shade (Demos), released 24 February 2020 1. Mic Check Boom Bap 2. Heathens \n",
       "Boom Bap newest 3. Float Boom Bap 4. Rocky Balboa (New Demo) 5. So Gone Boom Bap (Louder) 6. Ordinary Boom Bap \n",
       "(Live Demo) 7. A Hoodie &amp; Skittles Boom Bap Newest 8. Heathens (Plus Guitar) 9. Float (Master) 10. A Hoodie &amp;; \n",
       "Skittles (New Demo) These are just simple phone demos, but ...\n",
       "\n",
       "Out: None\n",
       "</pre>\n"
      ],
      "text/plain": [
       "\u001b[1mExecution logs:\u001b[0m\n",
       "## Search Results\n",
       "\n",
       "[Similar Songs Finder | Spotify Playlist Generator - Chosic](https://www.chosic.com/playlist-generator/)\n",
       "Need to find similar songs to a song you like? To music you love? A playlist created for you in seconds! With \n",
       "Spotify Playlist Generator online tool, create awesome playlists in seconds, featuring similar songs to those you \n",
       "love. Whether by songs, artists, genres, moods, or based on a playlist, just start with what you have in mind, and \n",
       "it will provide you with plenty of song recommendations ...\n",
       "\n",
       "[Party on Wayne - playlist by Music League | Spotify](https://open.spotify.com/playlist/66wXTng3HRUePKf9WdOrrK)\n",
       "Party on Wayne · Playlist · 20 songs · 6 likes\n",
       "\n",
       "[Music Taste Analyzer - Chosic](https://www.chosic.com/music-taste-checker/)\n",
       "Find out your favorite genres and moods, and get music recommendations that will help you discover new music. \n",
       "Understand your music personality and uncover interesting facts about your taste in music. Simply enter the artists\n",
       "you love, and we will generate a chart of your top genres and moods. We will also provide a few song \n",
       "recommendations ...\n",
       "\n",
       "[Party on, Wayne! - playlist by Music League | Spotify](https://open.spotify.com/playlist/4J61XoHr2CINqRA1DV0ga7)\n",
       "Party on, Wayne! · Playlist · 17 songs · 4 likes\n",
       "\n",
       "[The 75 Best Party Songs That Will Get Everyone Dancing - \n",
       "Gear4music](https://www.gear4music.com/blog/best-party-songs/)\n",
       "A party planner's list PA system/speakers. An epic party needs an epic PA system! When selecting a sound system for\n",
       "your party, the size of the room is crucial. A small room might need just a pair of compact speakers, while a \n",
       "larger space could benefit greatly from a subwoofer to boost bass frequencies.\n",
       "\n",
       "[Party on, Wayne! - YouTube Music](https://music.youtube.com/playlist?list=PLXxuECYNOaw87L8fiV0UVlHQupKEwpIha)\n",
       "A new music service with official albums, singles, videos, remixes, live performances and more for Android, iOS and\n",
       "desktop. It's all here.\n",
       "\n",
       "[Various - Music From The Motion Picture Wayne's \n",
       "World](https://www.discogs.com/release/8033702-Various-Music-From-The-Motion-Picture-Waynes-World)\n",
       "View credits, reviews, tracks and shop for the 2016 Vinyl release of \"Music From The Motion Picture Wayne's World\" \n",
       "on Discogs. Everything Releases Artists Labels. Advanced Search ... Black Sabbath - Time Machine (Wayne's World) \n",
       "4:19; Lists Add to List. ... Party on!! Reply Helpful. eblanken Jun 3, 2016. Report; Update on the UO release: I \n",
       "...\n",
       "\n",
       "[50+ Best Songs For Your Next Party in 2025 - Aleka's \n",
       "Get-Together](https://alekasgettogether.com/top-songs-for-any-party/)\n",
       "Whether you're planning a How To Host The Best Party At Home or just want to liven up your playlist, we've got you \n",
       "covered with 100 crowd-pleasing tunes. From timeless classics to modern hits, these songs are guaranteed to keep \n",
       "the energy high and the good times rolling all night long. 50 Popular Party Songs. Uptown Funk - Mark Ronson ft ...\n",
       "\n",
       "[you're studying at night in bruce wayne's mansion - YouTube](https://www.youtube.com/watch?v=i4vjSoUH8bE)\n",
       "you're studying at night in bruce wayne's mansion... hopefully alfred's making you coffee soonlike and subscribe \n",
       "for weekly dark academia study music uploads...\n",
       "\n",
       "[Live set Wayne Brady Mansion, by Damion Shade \n",
       "(Demos)](https://damionshadeandtheboombapchorus.bandcamp.com/album/live-set-wayne-brady-mansion)\n",
       "Live set Wayne Brady Mansion by Damion Shade (Demos), released 24 February 2020 1. Mic Check Boom Bap 2. Heathens \n",
       "Boom Bap newest 3. Float Boom Bap 4. Rocky Balboa (New Demo) 5. So Gone Boom Bap (Louder) 6. Ordinary Boom Bap \n",
       "(Live Demo) 7. A Hoodie & Skittles Boom Bap Newest 8. Heathens (Plus Guitar) 9. Float (Master) 10. A Hoodie &; \n",
       "Skittles (New Demo) These are just simple phone demos, but ...\n",
       "\n",
       "Out: None\n"
      ]
     },
     "metadata": {},
     "output_type": "display_data"
    },
    {
     "data": {
      "text/html": [
       "<pre style=\"white-space:pre;overflow-x:auto;line-height:normal;font-family:Menlo,'DejaVu Sans Mono',consolas,'Courier New',monospace\"><span style=\"color: #7f7f7f; text-decoration-color: #7f7f7f\">[Step 1: Duration 5.37 seconds| Input tokens: 2,249 | Output tokens: 77]</span>\n",
       "</pre>\n"
      ],
      "text/plain": [
       "\u001b[2m[Step 1: Duration 5.37 seconds| Input tokens: 2,249 | Output tokens: 77]\u001b[0m\n"
      ]
     },
     "metadata": {},
     "output_type": "display_data"
    },
    {
     "data": {
      "text/html": [
       "<pre style=\"white-space:pre;overflow-x:auto;line-height:normal;font-family:Menlo,'DejaVu Sans Mono',consolas,'Courier New',monospace\"><span style=\"color: #d4b702; text-decoration-color: #d4b702\">━━━━━━━━━━━━━━━━━━━━━━━━━━━━━━━━━━━━━━━━━━━━━━━━━━━━━ </span><span style=\"font-weight: bold\">Step </span><span style=\"color: #008080; text-decoration-color: #008080; font-weight: bold\">2</span><span style=\"color: #d4b702; text-decoration-color: #d4b702\"> ━━━━━━━━━━━━━━━━━━━━━━━━━━━━━━━━━━━━━━━━━━━━━━━━━━━━━━</span>\n",
       "</pre>\n"
      ],
      "text/plain": [
       "\u001b[38;2;212;183;2m━━━━━━━━━━━━━━━━━━━━━━━━━━━━━━━━━━━━━━━━━━━━━━━━━━━━━ \u001b[0m\u001b[1mStep \u001b[0m\u001b[1;36m2\u001b[0m\u001b[38;2;212;183;2m ━━━━━━━━━━━━━━━━━━━━━━━━━━━━━━━━━━━━━━━━━━━━━━━━━━━━━━\u001b[0m\n"
      ]
     },
     "metadata": {},
     "output_type": "display_data"
    },
    {
     "data": {
      "text/html": [
       "<pre style=\"white-space:pre;overflow-x:auto;line-height:normal;font-family:Menlo,'DejaVu Sans Mono',consolas,'Courier New',monospace\"> ─ <span style=\"font-weight: bold\">Executing parsed code:</span> ──────────────────────────────────────────────────────────────────────────────────────── \n",
       "  <span style=\"color: #f8f8f2; text-decoration-color: #f8f8f2; background-color: #272822\">refined_search_results </span><span style=\"color: #ff4689; text-decoration-color: #ff4689; background-color: #272822\">=</span><span style=\"color: #f8f8f2; text-decoration-color: #f8f8f2; background-color: #272822\"> web_search(query</span><span style=\"color: #ff4689; text-decoration-color: #ff4689; background-color: #272822\">=</span><span style=\"color: #e6db74; text-decoration-color: #e6db74; background-color: #272822\">\"elegant party music recommendations sophisticated mansion party\"</span><span style=\"color: #f8f8f2; text-decoration-color: #f8f8f2; background-color: #272822\">)</span><span style=\"background-color: #272822\">   </span>  \n",
       "  <span style=\"color: #f8f8f2; text-decoration-color: #f8f8f2; background-color: #272822\">print(refined_search_results)</span><span style=\"background-color: #272822\">                                                                                  </span>  \n",
       " ───────────────────────────────────────────────────────────────────────────────────────────────────────────────── \n",
       "</pre>\n"
      ],
      "text/plain": [
       " ─ \u001b[1mExecuting parsed code:\u001b[0m ──────────────────────────────────────────────────────────────────────────────────────── \n",
       "  \u001b[38;2;248;248;242;48;2;39;40;34mrefined_search_results\u001b[0m\u001b[38;2;248;248;242;48;2;39;40;34m \u001b[0m\u001b[38;2;255;70;137;48;2;39;40;34m=\u001b[0m\u001b[38;2;248;248;242;48;2;39;40;34m \u001b[0m\u001b[38;2;248;248;242;48;2;39;40;34mweb_search\u001b[0m\u001b[38;2;248;248;242;48;2;39;40;34m(\u001b[0m\u001b[38;2;248;248;242;48;2;39;40;34mquery\u001b[0m\u001b[38;2;255;70;137;48;2;39;40;34m=\u001b[0m\u001b[38;2;230;219;116;48;2;39;40;34m\"\u001b[0m\u001b[38;2;230;219;116;48;2;39;40;34melegant party music recommendations sophisticated mansion party\u001b[0m\u001b[38;2;230;219;116;48;2;39;40;34m\"\u001b[0m\u001b[38;2;248;248;242;48;2;39;40;34m)\u001b[0m\u001b[48;2;39;40;34m   \u001b[0m  \n",
       "  \u001b[38;2;248;248;242;48;2;39;40;34mprint\u001b[0m\u001b[38;2;248;248;242;48;2;39;40;34m(\u001b[0m\u001b[38;2;248;248;242;48;2;39;40;34mrefined_search_results\u001b[0m\u001b[38;2;248;248;242;48;2;39;40;34m)\u001b[0m\u001b[48;2;39;40;34m                                                                                  \u001b[0m  \n",
       " ───────────────────────────────────────────────────────────────────────────────────────────────────────────────── \n"
      ]
     },
     "metadata": {},
     "output_type": "display_data"
    },
    {
     "data": {
      "text/html": [
       "<pre style=\"white-space:pre;overflow-x:auto;line-height:normal;font-family:Menlo,'DejaVu Sans Mono',consolas,'Courier New',monospace\"><span style=\"font-weight: bold\">Execution logs:</span>\n",
       "## Search Results\n",
       "\n",
       "[Shake, Rattle, and Swoon: 10 Classy Songs for Your \n",
       "Gala](https://www.dennissmithentertainment.com/blog-updates/shake-rattle-and-swoon-10-classy-songs-for-your-gala)\n",
       "Captivating Live Performances: Our ensemble of talented musicians, including the acclaimed Party on the Moon, bring\n",
       "melodies to life with unparalleled grace and energy. Seamless Event Orchestration : We ensure your gala unfolds \n",
       "with the precision and fluidity of a well-conducted orchestra.\n",
       "\n",
       "[Best 18 Songs for a Cozy and Sophisticated Dinner \n",
       "Party](https://www.wokewaves.com/posts/perfect-songs-for-intimate-dinner-party)\n",
       "This classic tune brings a touch of joy and sophistication to your dinner party, encouraging guests to smile and \n",
       "savor the moment. Why It's Perfect: The upbeat tempo and charming lyrics of My Baby Just Cares for Me add a \n",
       "light-hearted, elegant touch to your dinner party ambiance. 6. \"Let's Stay Together\" - Al Green\n",
       "\n",
       "[The Ultimate Playlist for an Elegant Dinner Party — Neon \n",
       "Music](https://neonmusic.co.uk/the-ultimate-playlist-for-an-elegant-dinner-party)\n",
       "\"Gymnopédie 1\" by Erik Satie: While Erik Satie has been dead for the better part of a century, his compositions are\n",
       "every bit as timeless today as they were when they were first written. Among his most notable—and eminently \n",
       "dinner-party-worthy—is \"Gymnopédie 1,\" an 1888 piano piece that is an elegant alternative to compositions with \n",
       "lyrics, allowing your sparkling conversation to ...\n",
       "\n",
       "[50 Songs on Every Event Planner's Playlist - \n",
       "Eventbrite](https://www.eventbrite.com/blog/event-planning-playlist-ds00/)\n",
       "Music sets the mood and provides the soundtrack (literally) for a memorable and exciting time. While the right \n",
       "songs can enhance the experience, the wrong event music can throw off the vibe. For example, fast-paced songs \n",
       "probably aren't the best fit for a formal gala. And smooth jazz is likely to lull your guests at a motivational \n",
       "conference.\n",
       "\n",
       "[50 Great Songs For A Dinner Party - Repeat Replay](https://repeatreplay.com/50-great-songs-for-a-dinner-party/)\n",
       "Its smooth, jazzy vibe is sure to set the perfect tone for an elegant evening. 2. \"Can't Help Falling in Love\" by \n",
       "Elvis Presley (1961) - This romantic ballad by the King of Rock and Roll is a favorite for couples and is sure to \n",
       "add a touch of romance to your dinner party. ... Sade's sultry voice and smooth jazz sound make this song a ...\n",
       "\n",
       "[Fine Dining! Sophisticated music for an elegant and stylish atmosphere \n",
       "...](https://open.spotify.com/playlist/1PXf8NFI53ySqjBPe6YuNc)\n",
       "Sophisticated music for an elegant and stylish atmosphere · 80 items · 202 saves. Playlist · Songs Of Eden · 80 \n",
       "items · 202 saves. Sign up Log in. Your Library. Cookies. English. Resize main navigation. Preview of Spotify. Sign\n",
       "up to get unlimited songs and podcasts with occasional ads. No credit card needed.\n",
       "\n",
       "[DJs, Bands, &amp; Musicians for your event | Cueup - Cueup Blog](https://cueup.io/blog/best-party-songs)\n",
       "In this post, you'll find something for every event. No matter if you're composing the playlist or working with a \n",
       "DJ for the party, these are some of the particular songs that make an unforgettable party. Because You Loved Me - \n",
       "Celine Dion. Little L - Jamiroquai. Don't Go Breaking My Heart - Elton John and Kiki Dee. Sugar Sugar - The Archies\n",
       "\n",
       "[Dinner Party Sophisticated Mix - playlist by Spotify | \n",
       "Spotify](https://open.spotify.com/playlist/37i9dQZF1EIgxpsWuH3JU9)\n",
       "Dinner Party Sophisticated Mix · Playlist · 50 songs. Preview of Spotify. Sign up to get unlimited songs and \n",
       "podcasts with occasional ads.\n",
       "\n",
       "[Must-Have Playlists for Different Event \n",
       "Types](https://www.limelightsent.com/must-have-playlists-for-different-event-types/)\n",
       "Background Music for Dinners and Galas. Dinners and gala events often require a more sophisticated selection of \n",
       "music. The goal is to enhance the elegance of the evening without overpowering conversations. A playlist for such \n",
       "settings should include a mix of classical music, smooth jazz, and easy-listening tracks. Ideal choices might \n",
       "include:\n",
       "\n",
       "[The Art of a Perfect Party Playlist - A Guide for \n",
       "Hosts](https://foreverandadayevents.co.uk/perfect-party-playlist-a-hosts-guide/)\n",
       "Whether you're hosting a dinner party, a birthday bash, or a casual get-together, the right music can set the tone \n",
       "for an unforgettable evening. In this chapter, we'll explore the key elements of crafting a playlist that will keep\n",
       "your guests on their feet and in high spirits throughout the night.\n",
       "\n",
       "Out: None\n",
       "</pre>\n"
      ],
      "text/plain": [
       "\u001b[1mExecution logs:\u001b[0m\n",
       "## Search Results\n",
       "\n",
       "[Shake, Rattle, and Swoon: 10 Classy Songs for Your \n",
       "Gala](https://www.dennissmithentertainment.com/blog-updates/shake-rattle-and-swoon-10-classy-songs-for-your-gala)\n",
       "Captivating Live Performances: Our ensemble of talented musicians, including the acclaimed Party on the Moon, bring\n",
       "melodies to life with unparalleled grace and energy. Seamless Event Orchestration : We ensure your gala unfolds \n",
       "with the precision and fluidity of a well-conducted orchestra.\n",
       "\n",
       "[Best 18 Songs for a Cozy and Sophisticated Dinner \n",
       "Party](https://www.wokewaves.com/posts/perfect-songs-for-intimate-dinner-party)\n",
       "This classic tune brings a touch of joy and sophistication to your dinner party, encouraging guests to smile and \n",
       "savor the moment. Why It's Perfect: The upbeat tempo and charming lyrics of My Baby Just Cares for Me add a \n",
       "light-hearted, elegant touch to your dinner party ambiance. 6. \"Let's Stay Together\" - Al Green\n",
       "\n",
       "[The Ultimate Playlist for an Elegant Dinner Party — Neon \n",
       "Music](https://neonmusic.co.uk/the-ultimate-playlist-for-an-elegant-dinner-party)\n",
       "\"Gymnopédie 1\" by Erik Satie: While Erik Satie has been dead for the better part of a century, his compositions are\n",
       "every bit as timeless today as they were when they were first written. Among his most notable—and eminently \n",
       "dinner-party-worthy—is \"Gymnopédie 1,\" an 1888 piano piece that is an elegant alternative to compositions with \n",
       "lyrics, allowing your sparkling conversation to ...\n",
       "\n",
       "[50 Songs on Every Event Planner's Playlist - \n",
       "Eventbrite](https://www.eventbrite.com/blog/event-planning-playlist-ds00/)\n",
       "Music sets the mood and provides the soundtrack (literally) for a memorable and exciting time. While the right \n",
       "songs can enhance the experience, the wrong event music can throw off the vibe. For example, fast-paced songs \n",
       "probably aren't the best fit for a formal gala. And smooth jazz is likely to lull your guests at a motivational \n",
       "conference.\n",
       "\n",
       "[50 Great Songs For A Dinner Party - Repeat Replay](https://repeatreplay.com/50-great-songs-for-a-dinner-party/)\n",
       "Its smooth, jazzy vibe is sure to set the perfect tone for an elegant evening. 2. \"Can't Help Falling in Love\" by \n",
       "Elvis Presley (1961) - This romantic ballad by the King of Rock and Roll is a favorite for couples and is sure to \n",
       "add a touch of romance to your dinner party. ... Sade's sultry voice and smooth jazz sound make this song a ...\n",
       "\n",
       "[Fine Dining! Sophisticated music for an elegant and stylish atmosphere \n",
       "...](https://open.spotify.com/playlist/1PXf8NFI53ySqjBPe6YuNc)\n",
       "Sophisticated music for an elegant and stylish atmosphere · 80 items · 202 saves. Playlist · Songs Of Eden · 80 \n",
       "items · 202 saves. Sign up Log in. Your Library. Cookies. English. Resize main navigation. Preview of Spotify. Sign\n",
       "up to get unlimited songs and podcasts with occasional ads. No credit card needed.\n",
       "\n",
       "[DJs, Bands, & Musicians for your event | Cueup - Cueup Blog](https://cueup.io/blog/best-party-songs)\n",
       "In this post, you'll find something for every event. No matter if you're composing the playlist or working with a \n",
       "DJ for the party, these are some of the particular songs that make an unforgettable party. Because You Loved Me - \n",
       "Celine Dion. Little L - Jamiroquai. Don't Go Breaking My Heart - Elton John and Kiki Dee. Sugar Sugar - The Archies\n",
       "\n",
       "[Dinner Party Sophisticated Mix - playlist by Spotify | \n",
       "Spotify](https://open.spotify.com/playlist/37i9dQZF1EIgxpsWuH3JU9)\n",
       "Dinner Party Sophisticated Mix · Playlist · 50 songs. Preview of Spotify. Sign up to get unlimited songs and \n",
       "podcasts with occasional ads.\n",
       "\n",
       "[Must-Have Playlists for Different Event \n",
       "Types](https://www.limelightsent.com/must-have-playlists-for-different-event-types/)\n",
       "Background Music for Dinners and Galas. Dinners and gala events often require a more sophisticated selection of \n",
       "music. The goal is to enhance the elegance of the evening without overpowering conversations. A playlist for such \n",
       "settings should include a mix of classical music, smooth jazz, and easy-listening tracks. Ideal choices might \n",
       "include:\n",
       "\n",
       "[The Art of a Perfect Party Playlist - A Guide for \n",
       "Hosts](https://foreverandadayevents.co.uk/perfect-party-playlist-a-hosts-guide/)\n",
       "Whether you're hosting a dinner party, a birthday bash, or a casual get-together, the right music can set the tone \n",
       "for an unforgettable evening. In this chapter, we'll explore the key elements of crafting a playlist that will keep\n",
       "your guests on their feet and in high spirits throughout the night.\n",
       "\n",
       "Out: None\n"
      ]
     },
     "metadata": {},
     "output_type": "display_data"
    },
    {
     "data": {
      "text/html": [
       "<pre style=\"white-space:pre;overflow-x:auto;line-height:normal;font-family:Menlo,'DejaVu Sans Mono',consolas,'Courier New',monospace\"><span style=\"color: #7f7f7f; text-decoration-color: #7f7f7f\">[Step 2: Duration 2.88 seconds| Input tokens: 5,667 | Output tokens: 252]</span>\n",
       "</pre>\n"
      ],
      "text/plain": [
       "\u001b[2m[Step 2: Duration 2.88 seconds| Input tokens: 5,667 | Output tokens: 252]\u001b[0m\n"
      ]
     },
     "metadata": {},
     "output_type": "display_data"
    },
    {
     "data": {
      "text/html": [
       "<pre style=\"white-space:pre;overflow-x:auto;line-height:normal;font-family:Menlo,'DejaVu Sans Mono',consolas,'Courier New',monospace\"><span style=\"color: #d4b702; text-decoration-color: #d4b702\">━━━━━━━━━━━━━━━━━━━━━━━━━━━━━━━━━━━━━━━━━━━━━━━━━━━━━ </span><span style=\"font-weight: bold\">Step </span><span style=\"color: #008080; text-decoration-color: #008080; font-weight: bold\">3</span><span style=\"color: #d4b702; text-decoration-color: #d4b702\"> ━━━━━━━━━━━━━━━━━━━━━━━━━━━━━━━━━━━━━━━━━━━━━━━━━━━━━━</span>\n",
       "</pre>\n"
      ],
      "text/plain": [
       "\u001b[38;2;212;183;2m━━━━━━━━━━━━━━━━━━━━━━━━━━━━━━━━━━━━━━━━━━━━━━━━━━━━━ \u001b[0m\u001b[1mStep \u001b[0m\u001b[1;36m3\u001b[0m\u001b[38;2;212;183;2m ━━━━━━━━━━━━━━━━━━━━━━━━━━━━━━━━━━━━━━━━━━━━━━━━━━━━━━\u001b[0m\n"
      ]
     },
     "metadata": {},
     "output_type": "display_data"
    },
    {
     "data": {
      "text/html": [
       "<pre style=\"white-space:pre;overflow-x:auto;line-height:normal;font-family:Menlo,'DejaVu Sans Mono',consolas,'Courier New',monospace\"> ─ <span style=\"font-weight: bold\">Executing parsed code:</span> ──────────────────────────────────────────────────────────────────────────────────────── \n",
       "  <span style=\"color: #f8f8f2; text-decoration-color: #f8f8f2; background-color: #272822\">final_answer(</span><span style=\"color: #e6db74; text-decoration-color: #e6db74; background-color: #272822\">\"Here are some music recommendations for a party at Wayne's mansion: Classical: Gymnopédie 1 by </span><span style=\"background-color: #272822\">  </span>  \n",
       "  <span style=\"color: #e6db74; text-decoration-color: #e6db74; background-color: #272822\">Erik Satie; Smooth Jazz: Music by Sade, instrumental jazz standards; Easy Listening: My Baby Just Cares for Me,</span>  \n",
       "  <span style=\"color: #e6db74; text-decoration-color: #e6db74; background-color: #272822\">Can't Help Falling in Love by Elvis Presley; General Sophisticated Dinner Party Mix: Include artists like Al </span><span style=\"background-color: #272822\">  </span>  \n",
       "  <span style=\"color: #e6db74; text-decoration-color: #e6db74; background-color: #272822\">Green and selections from the Dinner Party Sophisticated Mix playlist on Spotify.\"</span><span style=\"color: #f8f8f2; text-decoration-color: #f8f8f2; background-color: #272822\">)</span><span style=\"background-color: #272822\">                            </span>  \n",
       " ───────────────────────────────────────────────────────────────────────────────────────────────────────────────── \n",
       "</pre>\n"
      ],
      "text/plain": [
       " ─ \u001b[1mExecuting parsed code:\u001b[0m ──────────────────────────────────────────────────────────────────────────────────────── \n",
       "  \u001b[38;2;248;248;242;48;2;39;40;34mfinal_answer\u001b[0m\u001b[38;2;248;248;242;48;2;39;40;34m(\u001b[0m\u001b[38;2;230;219;116;48;2;39;40;34m\"\u001b[0m\u001b[38;2;230;219;116;48;2;39;40;34mHere are some music recommendations for a party at Wayne\u001b[0m\u001b[38;2;230;219;116;48;2;39;40;34m'\u001b[0m\u001b[38;2;230;219;116;48;2;39;40;34ms mansion: Classical: Gymnopédie 1 by \u001b[0m\u001b[48;2;39;40;34m  \u001b[0m  \n",
       "  \u001b[38;2;230;219;116;48;2;39;40;34mErik Satie; Smooth Jazz: Music by Sade, instrumental jazz standards; Easy Listening: My Baby Just Cares for Me,\u001b[0m  \n",
       "  \u001b[38;2;230;219;116;48;2;39;40;34mCan\u001b[0m\u001b[38;2;230;219;116;48;2;39;40;34m'\u001b[0m\u001b[38;2;230;219;116;48;2;39;40;34mt Help Falling in Love by Elvis Presley; General Sophisticated Dinner Party Mix: Include artists like Al \u001b[0m\u001b[48;2;39;40;34m  \u001b[0m  \n",
       "  \u001b[38;2;230;219;116;48;2;39;40;34mGreen and selections from the Dinner Party Sophisticated Mix playlist on Spotify.\u001b[0m\u001b[38;2;230;219;116;48;2;39;40;34m\"\u001b[0m\u001b[38;2;248;248;242;48;2;39;40;34m)\u001b[0m\u001b[48;2;39;40;34m                            \u001b[0m  \n",
       " ───────────────────────────────────────────────────────────────────────────────────────────────────────────────── \n"
      ]
     },
     "metadata": {},
     "output_type": "display_data"
    },
    {
     "data": {
      "text/html": [
       "<pre style=\"white-space:pre;overflow-x:auto;line-height:normal;font-family:Menlo,'DejaVu Sans Mono',consolas,'Courier New',monospace\"><span style=\"color: #d4b702; text-decoration-color: #d4b702; font-weight: bold\">Out - Final answer: Here are some music recommendations for a party at Wayne's mansion: Classical: Gymnopédie 1 by </span>\n",
       "<span style=\"color: #d4b702; text-decoration-color: #d4b702; font-weight: bold\">Erik Satie; Smooth Jazz: Music by Sade, instrumental jazz standards; Easy Listening: My Baby Just Cares for Me, </span>\n",
       "<span style=\"color: #d4b702; text-decoration-color: #d4b702; font-weight: bold\">Can't Help Falling in Love by Elvis Presley; General Sophisticated Dinner Party Mix: Include artists like Al Green </span>\n",
       "<span style=\"color: #d4b702; text-decoration-color: #d4b702; font-weight: bold\">and selections from the Dinner Party Sophisticated Mix playlist on Spotify.</span>\n",
       "</pre>\n"
      ],
      "text/plain": [
       "\u001b[1;38;2;212;183;2mOut - Final answer: Here are some music recommendations for a party at Wayne's mansion: Classical: Gymnopédie 1 by \u001b[0m\n",
       "\u001b[1;38;2;212;183;2mErik Satie; Smooth Jazz: Music by Sade, instrumental jazz standards; Easy Listening: My Baby Just Cares for Me, \u001b[0m\n",
       "\u001b[1;38;2;212;183;2mCan't Help Falling in Love by Elvis Presley; General Sophisticated Dinner Party Mix: Include artists like Al Green \u001b[0m\n",
       "\u001b[1;38;2;212;183;2mand selections from the Dinner Party Sophisticated Mix playlist on Spotify.\u001b[0m\n"
      ]
     },
     "metadata": {},
     "output_type": "display_data"
    },
    {
     "data": {
      "text/html": [
       "<pre style=\"white-space:pre;overflow-x:auto;line-height:normal;font-family:Menlo,'DejaVu Sans Mono',consolas,'Courier New',monospace\"><span style=\"color: #7f7f7f; text-decoration-color: #7f7f7f\">[Step 3: Duration 2.12 seconds| Input tokens: 10,445 | Output tokens: 524]</span>\n",
       "</pre>\n"
      ],
      "text/plain": [
       "\u001b[2m[Step 3: Duration 2.12 seconds| Input tokens: 10,445 | Output tokens: 524]\u001b[0m\n"
      ]
     },
     "metadata": {},
     "output_type": "display_data"
    },
    {
     "data": {
      "text/plain": [
       "\"Here are some music recommendations for a party at Wayne's mansion: Classical: Gymnopédie 1 by Erik Satie; Smooth Jazz: Music by Sade, instrumental jazz standards; Easy Listening: My Baby Just Cares for Me, Can't Help Falling in Love by Elvis Presley; General Sophisticated Dinner Party Mix: Include artists like Al Green and selections from the Dinner Party Sophisticated Mix playlist on Spotify.\""
      ]
     },
     "execution_count": 4,
     "metadata": {},
     "output_type": "execute_result"
    }
   ],
   "source": [
    "from smolagents import CodeAgent, DuckDuckGoSearchTool\n",
    "from utils import gemini_model\n",
    "agent = CodeAgent(tools=[DuckDuckGoSearchTool()], model=gemini_model)\n",
    "\n",
    "agent.run(\"Search for the best music recommendations for a party at the Wayne's mansion.\")"
   ]
  },
  {
   "cell_type": "markdown",
   "metadata": {},
   "source": [
    "Using a Custom Tool to Prepare the Menu"
   ]
  },
  {
   "cell_type": "code",
   "execution_count": null,
   "metadata": {},
   "outputs": [],
   "source": [
    "from smolagents import CodeAgent, tool\n",
    "\n",
    "@tool\n",
    "def suggest_menu(occasion: str) -> str:\n",
    "    \"\"\"\n",
    "    Suggests a menu based on the occasion.\n",
    "    Args:\n",
    "        occasion: The type of occasion for the party.\n",
    "    \"\"\"\n",
    "    if occasion == \"casual\":\n",
    "        return \"Pizza, snacks, and drinks.\"\n",
    "    elif occasion == \"formal\":\n",
    "        return \"3-course dinner with wine and dessert.\"\n",
    "    elif occasion == \"superhero\":\n",
    "        return \"Buffet with high-energy and healthy food.\"\n",
    "    else:\n",
    "        return \"Custom menu for the butler.\"\n",
    "\n",
    "agent = CodeAgent(tools=[suggest_menu], model=HfApiModel())\n",
    "\n",
    "agent.run(\"Prepare a formal menu for the party.\")"
   ]
  },
  {
   "cell_type": "markdown",
   "metadata": {},
   "source": [
    "Using Python Imports Inside the Agent\n"
   ]
  },
  {
   "cell_type": "code",
   "execution_count": null,
   "metadata": {},
   "outputs": [],
   "source": [
    "from smolagents import CodeAgent, HfApiModel\n",
    "import numpy as np\n",
    "import time\n",
    "import datetime\n",
    "\n",
    "agent = CodeAgent(tools=[], model=HfApiModel(), additional_authorized_imports=['datetime'])\n",
    "\n",
    "agent.run(\n",
    "    \"\"\"\n",
    "    Alfred needs to prepare for the party. Here are the tasks:\n",
    "    1. Prepare the drinks - 30 minutes\n",
    "    2. Decorate the mansion - 60 minutes\n",
    "    3. Set up the menu - 45 minutes\n",
    "    3. Prepare the music and playlist - 45 minutes\n",
    "\n",
    "    If we start right now, at what time will the party be ready?\n",
    "    \"\"\"\n",
    ")"
   ]
  },
  {
   "cell_type": "markdown",
   "metadata": {},
   "source": [
    "Sharing Our Custom Party Preparator Agent to the Hub"
   ]
  },
  {
   "cell_type": "code",
   "execution_count": null,
   "metadata": {},
   "outputs": [],
   "source": [
    "from smolagents import CodeAgent, DuckDuckGoSearchTool, HfApiModel, VisitWebpageTool, FinalAnswerTool, Tool, tool\n",
    "\n",
    "@tool\n",
    "def suggest_menu(occasion: str) -> str:\n",
    "    \"\"\"\n",
    "    Suggests a menu based on the occasion.\n",
    "    Args:\n",
    "        occasion: The type of occasion for the party.\n",
    "    \"\"\"\n",
    "    if occasion == \"casual\":\n",
    "        return \"Pizza, snacks, and drinks.\"\n",
    "    elif occasion == \"formal\":\n",
    "        return \"3-course dinner with wine and dessert.\"\n",
    "    elif occasion == \"superhero\":\n",
    "        return \"Buffet with high-energy and healthy food.\"\n",
    "    else:\n",
    "        return \"Custom menu for the butler.\"\n",
    "\n",
    "@tool\n",
    "def catering_service_tool(query: str) -> str:\n",
    "    \"\"\"\n",
    "    This tool returns the highest-rated catering service in Gotham City.\n",
    "\n",
    "    Args:\n",
    "        query: A search term for finding catering services.\n",
    "    \"\"\"\n",
    "    # Example list of catering services and their ratings\n",
    "    services = {\n",
    "        \"Gotham Catering Co.\": 4.9,\n",
    "        \"Wayne Manor Catering\": 4.8,\n",
    "        \"Gotham City Events\": 4.7,\n",
    "    }\n",
    "\n",
    "    # Find the highest rated catering service (simulating search query filtering)\n",
    "    best_service = max(services, key=services.get)\n",
    "\n",
    "    return best_service\n",
    "\n",
    "class SuperheroPartyThemeTool(Tool):\n",
    "    name = \"superhero_party_theme_generator\"\n",
    "    description = \"\"\"\n",
    "    This tool suggests creative superhero-themed party ideas based on a category.\n",
    "    It returns a unique party theme idea.\"\"\"\n",
    "\n",
    "    inputs = {\n",
    "        \"category\": {\n",
    "            \"type\": \"string\",\n",
    "            \"description\": \"The type of superhero party (e.g., 'classic heroes', 'villain masquerade', 'futuristic Gotham').\",\n",
    "        }\n",
    "    }\n",
    "\n",
    "    output_type = \"string\"\n",
    "\n",
    "    def forward(self, category: str):\n",
    "        themes = {\n",
    "            \"classic heroes\": \"Justice League Gala: Guests come dressed as their favorite DC heroes with themed cocktails like 'The Kryptonite Punch'.\",\n",
    "            \"villain masquerade\": \"Gotham Rogues' Ball: A mysterious masquerade where guests dress as classic Batman villains.\",\n",
    "            \"futuristic Gotham\": \"Neo-Gotham Night: A cyberpunk-style party inspired by Batman Beyond, with neon decorations and futuristic gadgets.\"\n",
    "        }\n",
    "\n",
    "        return themes.get(category.lower(), \"Themed party idea not found. Try 'classic heroes', 'villain masquerade', or 'futuristic Gotham'.\")\n",
    "\n",
    "\n",
    "# Alfred, the butler, preparing the menu for the party\n",
    "agent = CodeAgent(\n",
    "    tools=[\n",
    "        DuckDuckGoSearchTool(),\n",
    "        VisitWebpageTool(),\n",
    "        suggest_menu,\n",
    "        catering_service_tool,\n",
    "        SuperheroPartyThemeTool()\n",
    "        ],\n",
    "    model=HfApiModel(),\n",
    "    max_steps=10,\n",
    "    verbosity_level=2\n",
    ")\n",
    "\n",
    "agent.run(\"Give me best playlist for a party at the Wayne's mansion. The party idea is a 'villain masquerade' theme\")"
   ]
  },
  {
   "cell_type": "code",
   "execution_count": null,
   "metadata": {},
   "outputs": [],
   "source": [
    "# agent.push_to_hub(f'{USERNAME}/AlfredAgent')"
   ]
  },
  {
   "cell_type": "code",
   "execution_count": null,
   "metadata": {},
   "outputs": [],
   "source": [
    "# agent = CodeAgent(tools=[], model=HfApiModel())\n",
    "# alfred_agent = agent.from_hub(f\"{USERNAME}/AlfredAgent\", trust_remote_code=True)\n",
    "# alfred_agent.run(\"Give me best playlist for a party at the Wayne's mansion. The party idea is a 'villain masquerade' theme\")\n"
   ]
  },
  {
   "cell_type": "markdown",
   "metadata": {},
   "source": [
    "Inspecting Our Party Preparator Agent with OpenTelemetry and Langfuse 📡"
   ]
  },
  {
   "cell_type": "code",
   "execution_count": null,
   "metadata": {},
   "outputs": [],
   "source": [
    "import os\n",
    "import base64\n",
    "from google.colab import userdata\n",
    "\n",
    "LANGFUSE_PUBLIC_KEY=os.getenv(\"LANGFUSE_PUBLIC_KEY\")\n",
    "LANGFUSE_SECRET_KEY=os.getenv(\"LANGFUSE_SECRET_KEY\")\n",
    "LANGFUSE_AUTH=base64.b64encode(f\"{LANGFUSE_PUBLIC_KEY}:{LANGFUSE_SECRET_KEY}\".encode()).decode()\n",
    "\n",
    "os.environ[\"OTEL_EXPORTER_OTLP_ENDPOINT\"] = \"https://cloud.langfuse.com/api/public/otel\" # EU data region\n",
    "# os.environ[\"OTEL_EXPORTER_OTLP_ENDPOINT\"] = \"https://us.cloud.langfuse.com/api/public/otel\" # US data region\n",
    "os.environ[\"OTEL_EXPORTER_OTLP_HEADERS\"] = f\"Authorization=Basic {LANGFUSE_AUTH}\""
   ]
  },
  {
   "cell_type": "code",
   "execution_count": null,
   "metadata": {},
   "outputs": [],
   "source": [
    "from opentelemetry.sdk.trace import TracerProvider\n",
    "\n",
    "from openinference.instrumentation.smolagents import SmolagentsInstrumentor\n",
    "from opentelemetry.exporter.otlp.proto.http.trace_exporter import OTLPSpanExporter\n",
    "from opentelemetry.sdk.trace.export import SimpleSpanProcessor\n",
    "\n",
    "trace_provider = TracerProvider()\n",
    "trace_provider.add_span_processor(SimpleSpanProcessor(OTLPSpanExporter()))\n",
    "\n",
    "SmolagentsInstrumentor().instrument(tracer_provider=trace_provider)"
   ]
  },
  {
   "cell_type": "code",
   "execution_count": null,
   "metadata": {},
   "outputs": [],
   "source": [
    "from smolagents import CodeAgent, HfApiModel\n",
    "\n",
    "agent = CodeAgent(tools=[], model=HfApiModel())\n",
    "alfred_agent = agent.from_hub('sergiopaniego/AlfredAgent', trust_remote_code=True)\n",
    "alfred_agent.run(\"Give me best playlist for a party at the Wayne's mansion. The party idea is a 'villain masquerade' theme\")"
   ]
  },
  {
   "cell_type": "markdown",
   "metadata": {},
   "source": []
  }
 ],
 "metadata": {
  "kernelspec": {
   "display_name": ".venv",
   "language": "python",
   "name": "python3"
  },
  "language_info": {
   "codemirror_mode": {
    "name": "ipython",
    "version": 3
   },
   "file_extension": ".py",
   "mimetype": "text/x-python",
   "name": "python",
   "nbconvert_exporter": "python",
   "pygments_lexer": "ipython3",
   "version": "3.12.7"
  }
 },
 "nbformat": 4,
 "nbformat_minor": 2
}

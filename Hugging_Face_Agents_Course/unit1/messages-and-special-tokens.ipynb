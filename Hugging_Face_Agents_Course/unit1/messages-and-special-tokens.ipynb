{
 "cells": [
  {
   "cell_type": "code",
   "execution_count": 1,
   "metadata": {},
   "outputs": [],
   "source": [
    "from transformers import AutoTokenizer\n",
    "from IPython.display import display, Markdown, Latex"
   ]
  },
  {
   "cell_type": "code",
   "execution_count": 2,
   "metadata": {},
   "outputs": [],
   "source": [
    "def show_rendered_prompt(messages, model = None):\n",
    "  \n",
    "    tokenizer = AutoTokenizer.from_pretrained(model)\n",
    "    rendered_prompt = tokenizer.apply_chat_template(messages, tokenize=False, add_generation_prompt=True)\n",
    "    return rendered_prompt"
   ]
  },
  {
   "cell_type": "code",
   "execution_count": 3,
   "metadata": {},
   "outputs": [
    {
     "data": {
      "text/markdown": [
       "<|im_start|>system\n",
       "You are an AI assistant with access to various tools.<|im_end|>\n",
       "<|im_start|>user\n",
       "Hi !<|im_end|>\n",
       "<|im_start|>assistant\n",
       "Hi human, what can help you with ?<|im_end|>\n",
       "<|im_start|>assistant\n"
      ],
      "text/plain": [
       "<IPython.core.display.Markdown object>"
      ]
     },
     "execution_count": 3,
     "metadata": {},
     "output_type": "execute_result"
    }
   ],
   "source": [
    "messages = [\n",
    "    {\"role\": \"system\", \"content\": \"You are an AI assistant with access to various tools.\"},\n",
    "    {\"role\": \"user\", \"content\": \"Hi !\"},\n",
    "    {\"role\": \"assistant\", \"content\": \"Hi human, what can help you with ?\"},\n",
    "]\n",
    "model = \"HuggingFaceTB/SmolLM2-1.7B-Instruct\"\n",
    "result = show_rendered_prompt(messages, model)\n",
    "Markdown(result)"
   ]
  },
  {
   "cell_type": "code",
   "execution_count": 4,
   "metadata": {},
   "outputs": [
    {
     "data": {
      "text/markdown": [
       "<|begin_of_text|><|start_header_id|>system<|end_header_id|>\n",
       "\n",
       "Cutting Knowledge Date: December 2023\n",
       "Today Date: 16 Feb 2025\n",
       "\n",
       "<|eot_id|><|start_header_id|>user<|end_header_id|>\n",
       "\n",
       "I need help with my order<|eot_id|><|start_header_id|>assistant<|end_header_id|>\n",
       "\n",
       "I'd be happy to help. Could you provide your order number?<|eot_id|><|start_header_id|>user<|end_header_id|>\n",
       "\n",
       "It's ORDER-123<|eot_id|><|start_header_id|>assistant<|end_header_id|>\n",
       "\n"
      ],
      "text/plain": [
       "<IPython.core.display.Markdown object>"
      ]
     },
     "execution_count": 4,
     "metadata": {},
     "output_type": "execute_result"
    }
   ],
   "source": [
    "conversation = [\n",
    "    {\"role\": \"user\", \"content\": \"I need help with my order\"},\n",
    "    {\"role\": \"assistant\", \"content\": \"I'd be happy to help. Could you provide your order number?\"},\n",
    "    {\"role\": \"user\", \"content\": \"It's ORDER-123\"},\n",
    "]\n",
    "model = 'meta-llama/Llama-3.2-1B-Instruct'\n",
    "\n",
    "result = show_rendered_prompt(conversation, model)\n",
    "Markdown(result)"
   ]
  },
  {
   "cell_type": "code",
   "execution_count": 5,
   "metadata": {},
   "outputs": [
    {
     "data": {
      "text/markdown": [
       "<|begin_of_text|><|start_header_id|>system<|end_header_id|>\n",
       "\n",
       "Cutting Knowledge Date: December 2023\n",
       "Today Date: 16 Feb 2025\n",
       "\n",
       "You are a math tutor.<|eot_id|><|start_header_id|>user<|end_header_id|>\n",
       "\n",
       "What is calculus?<|eot_id|><|start_header_id|>assistant<|end_header_id|>\n",
       "\n",
       "Calculus is a branch of mathematics...<|eot_id|><|start_header_id|>user<|end_header_id|>\n",
       "\n",
       "Can you give me an example?<|eot_id|><|start_header_id|>assistant<|end_header_id|>\n",
       "\n"
      ],
      "text/plain": [
       "<IPython.core.display.Markdown object>"
      ]
     },
     "execution_count": 5,
     "metadata": {},
     "output_type": "execute_result"
    }
   ],
   "source": [
    "messages = [\n",
    "    {\"role\": \"system\", \"content\": \"You are a math tutor.\"},\n",
    "    {\"role\": \"user\", \"content\": \"What is calculus?\"},\n",
    "    {\"role\": \"assistant\", \"content\": \"Calculus is a branch of mathematics...\"},\n",
    "    {\"role\": \"user\", \"content\": \"Can you give me an example?\"},\n",
    "]\n",
    "model = 'meta-llama/Llama-3.2-1B-Instruct'\n",
    "\n",
    "result = show_rendered_prompt(messages, model)\n",
    "Markdown(result)"
   ]
  },
  {
   "cell_type": "code",
   "execution_count": null,
   "metadata": {},
   "outputs": [],
   "source": []
  }
 ],
 "metadata": {
  "kernelspec": {
   "display_name": ".venv",
   "language": "python",
   "name": "python3"
  },
  "language_info": {
   "codemirror_mode": {
    "name": "ipython",
    "version": 3
   },
   "file_extension": ".py",
   "mimetype": "text/x-python",
   "name": "python",
   "nbconvert_exporter": "python",
   "pygments_lexer": "ipython3",
   "version": "3.12.7"
  }
 },
 "nbformat": 4,
 "nbformat_minor": 2
}

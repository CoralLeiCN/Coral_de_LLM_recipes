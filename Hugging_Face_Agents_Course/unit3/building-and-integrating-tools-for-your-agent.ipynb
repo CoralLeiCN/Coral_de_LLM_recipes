{
 "cells": [
  {
   "cell_type": "code",
   "execution_count": null,
   "id": "1e625907",
   "metadata": {},
   "outputs": [],
   "source": [
    "from smolagents import DuckDuckGoSearchTool\n",
    "\n",
    "# Initialize the DuckDuckGo search tool\n",
    "search_tool = DuckDuckGoSearchTool()\n",
    "\n",
    "# Example usage\n",
    "results = search_tool(\"Who's the current President of France?\")\n",
    "print(results)"
   ]
  },
  {
   "cell_type": "code",
   "execution_count": null,
   "id": "a2d1e267",
   "metadata": {},
   "outputs": [],
   "source": [
    "from smolagents import Tool\n",
    "import random\n",
    "\n",
    "class WeatherInfoTool(Tool):\n",
    "    name = \"weather_info\"\n",
    "    description = \"Fetches dummy weather information for a given location.\"\n",
    "    inputs = {\n",
    "        \"location\": {\n",
    "            \"type\": \"string\",\n",
    "            \"description\": \"The location to get weather information for.\"\n",
    "        }\n",
    "    }\n",
    "    output_type = \"string\"\n",
    "\n",
    "    def forward(self, location: str):\n",
    "        # Dummy weather data\n",
    "        weather_conditions = [\n",
    "            {\"condition\": \"Rainy\", \"temp_c\": 15},\n",
    "            {\"condition\": \"Clear\", \"temp_c\": 25},\n",
    "            {\"condition\": \"Windy\", \"temp_c\": 20}\n",
    "        ]\n",
    "        # Randomly select a weather condition\n",
    "        data = random.choice(weather_conditions)\n",
    "        return f\"Weather in {location}: {data['condition']}, {data['temp_c']}°C\"\n",
    "\n",
    "# Initialize the tool\n",
    "weather_info_tool = WeatherInfoTool()"
   ]
  }
 ],
 "metadata": {
  "kernelspec": {
   "display_name": ".venv",
   "language": "python",
   "name": "python3"
  },
  "language_info": {
   "codemirror_mode": {
    "name": "ipython",
    "version": 3
   },
   "file_extension": ".py",
   "mimetype": "text/x-python",
   "name": "python",
   "nbconvert_exporter": "python",
   "pygments_lexer": "ipython3",
   "version": "3.12.2"
  }
 },
 "nbformat": 4,
 "nbformat_minor": 5
}

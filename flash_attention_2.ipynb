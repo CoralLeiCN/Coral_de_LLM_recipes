{
 "cells": [
  {
   "cell_type": "code",
   "execution_count": 3,
   "metadata": {
    "trusted": true
   },
   "outputs": [
    {
     "name": "stdout",
     "output_type": "stream",
     "text": [
      "Requirement already satisfied: flash-attn in /home/coral/miniconda3/envs/py311/lib/python3.11/site-packages (2.6.3)\n",
      "Requirement already satisfied: torch in /home/coral/miniconda3/envs/py311/lib/python3.11/site-packages (from flash-attn) (2.4.0+cu124)\n",
      "Requirement already satisfied: einops in /home/coral/miniconda3/envs/py311/lib/python3.11/site-packages (from flash-attn) (0.8.0)\n",
      "Requirement already satisfied: filelock in /home/coral/miniconda3/envs/py311/lib/python3.11/site-packages (from torch->flash-attn) (3.15.4)\n",
      "Requirement already satisfied: typing-extensions>=4.8.0 in /home/coral/miniconda3/envs/py311/lib/python3.11/site-packages (from torch->flash-attn) (4.12.2)\n",
      "Requirement already satisfied: sympy in /home/coral/miniconda3/envs/py311/lib/python3.11/site-packages (from torch->flash-attn) (1.12)\n",
      "Requirement already satisfied: networkx in /home/coral/miniconda3/envs/py311/lib/python3.11/site-packages (from torch->flash-attn) (3.2.1)\n",
      "Requirement already satisfied: jinja2 in /home/coral/miniconda3/envs/py311/lib/python3.11/site-packages (from torch->flash-attn) (3.1.4)\n",
      "Requirement already satisfied: fsspec in /home/coral/miniconda3/envs/py311/lib/python3.11/site-packages (from torch->flash-attn) (2024.6.1)\n",
      "Requirement already satisfied: nvidia-cuda-nvrtc-cu12==12.4.99 in /home/coral/miniconda3/envs/py311/lib/python3.11/site-packages (from torch->flash-attn) (12.4.99)\n",
      "Requirement already satisfied: nvidia-cuda-runtime-cu12==12.4.99 in /home/coral/miniconda3/envs/py311/lib/python3.11/site-packages (from torch->flash-attn) (12.4.99)\n",
      "Requirement already satisfied: nvidia-cuda-cupti-cu12==12.4.99 in /home/coral/miniconda3/envs/py311/lib/python3.11/site-packages (from torch->flash-attn) (12.4.99)\n",
      "Requirement already satisfied: nvidia-cudnn-cu12==9.1.0.70 in /home/coral/miniconda3/envs/py311/lib/python3.11/site-packages (from torch->flash-attn) (9.1.0.70)\n",
      "Requirement already satisfied: nvidia-cublas-cu12==12.4.2.65 in /home/coral/miniconda3/envs/py311/lib/python3.11/site-packages (from torch->flash-attn) (12.4.2.65)\n",
      "Requirement already satisfied: nvidia-cufft-cu12==11.2.0.44 in /home/coral/miniconda3/envs/py311/lib/python3.11/site-packages (from torch->flash-attn) (11.2.0.44)\n",
      "Requirement already satisfied: nvidia-curand-cu12==10.3.5.119 in /home/coral/miniconda3/envs/py311/lib/python3.11/site-packages (from torch->flash-attn) (10.3.5.119)\n",
      "Requirement already satisfied: nvidia-cusolver-cu12==11.6.0.99 in /home/coral/miniconda3/envs/py311/lib/python3.11/site-packages (from torch->flash-attn) (11.6.0.99)\n",
      "Requirement already satisfied: nvidia-cusparse-cu12==12.3.0.142 in /home/coral/miniconda3/envs/py311/lib/python3.11/site-packages (from torch->flash-attn) (12.3.0.142)\n",
      "Requirement already satisfied: nvidia-nccl-cu12==2.20.5 in /home/coral/miniconda3/envs/py311/lib/python3.11/site-packages (from torch->flash-attn) (2.20.5)\n",
      "Requirement already satisfied: nvidia-nvtx-cu12==12.4.99 in /home/coral/miniconda3/envs/py311/lib/python3.11/site-packages (from torch->flash-attn) (12.4.99)\n",
      "Requirement already satisfied: nvidia-nvjitlink-cu12==12.4.99 in /home/coral/miniconda3/envs/py311/lib/python3.11/site-packages (from torch->flash-attn) (12.4.99)\n",
      "Requirement already satisfied: triton==3.0.0 in /home/coral/miniconda3/envs/py311/lib/python3.11/site-packages (from torch->flash-attn) (3.0.0)\n",
      "Requirement already satisfied: MarkupSafe>=2.0 in /home/coral/miniconda3/envs/py311/lib/python3.11/site-packages (from jinja2->torch->flash-attn) (2.1.5)\n",
      "Requirement already satisfied: mpmath>=0.19 in /home/coral/miniconda3/envs/py311/lib/python3.11/site-packages (from sympy->torch->flash-attn) (1.3.0)\n"
     ]
    }
   ],
   "source": [
    "!pip install flash-attn --no-build-isolation"
   ]
  },
  {
   "cell_type": "code",
   "execution_count": 4,
   "metadata": {
    "execution": {
     "iopub.execute_input": "2024-08-16T20:20:34.844391Z",
     "iopub.status.busy": "2024-08-16T20:20:34.844003Z",
     "iopub.status.idle": "2024-08-16T20:20:34.871960Z",
     "shell.execute_reply": "2024-08-16T20:20:34.870372Z",
     "shell.execute_reply.started": "2024-08-16T20:20:34.844365Z"
    },
    "trusted": true
   },
   "outputs": [],
   "source": [
    "# import multiprocessing\n",
    "# import subprocess\n",
    "# from IPython import display\n",
    "\n",
    "# import time\n",
    "\n",
    "# def check_gpu_usage():\n",
    "#     while True:\n",
    "#         display.clear_output(wait=True)\n",
    "#         print(subprocess.check_output('nvidia-smi').decode().strip())\n",
    "#         time.sleep()\n",
    "# runner = multiprocessing.Process(target=check_gpu_usage)\n",
    "# runner.start()"
   ]
  },
  {
   "cell_type": "code",
   "execution_count": 1,
   "metadata": {},
   "outputs": [
    {
     "name": "stdout",
     "output_type": "stream",
     "text": [
      "4.44.0\n",
      "2.6.3\n"
     ]
    }
   ],
   "source": [
    "import transformers\n",
    "import flash_attn\n",
    "\n",
    "print(transformers.__version__)\n",
    "print(flash_attn.__version__)"
   ]
  },
  {
   "cell_type": "code",
   "execution_count": 2,
   "metadata": {},
   "outputs": [],
   "source": [
    "# # model_id = \"mistralai/Mistral-7B-Instruct-v0.3\"\n",
    "# # model_id = \"meta-llama/Meta-Llama-3.1-8B-Instruct\"\n",
    "model_id = \"microsoft/Phi-3.5-mini-instruct\""
   ]
  },
  {
   "cell_type": "code",
   "execution_count": 3,
   "metadata": {},
   "outputs": [
    {
     "data": {
      "application/vnd.jupyter.widget-view+json": {
       "model_id": "96c08ecdb7ca4548a7e11d0647b2d46e",
       "version_major": 2,
       "version_minor": 0
      },
      "text/plain": [
       "Loading checkpoint shards:   0%|          | 0/2 [00:00<?, ?it/s]"
      ]
     },
     "metadata": {},
     "output_type": "display_data"
    }
   ],
   "source": [
    "import torch\n",
    "from transformers import AutoModelForCausalLM, AutoTokenizer, pipeline\n",
    "\n",
    "torch.random.manual_seed(0)\n",
    "\n",
    "model = AutoModelForCausalLM.from_pretrained(\n",
    "    model_id,\n",
    "    device_map=\"cuda\",\n",
    "    torch_dtype=\"auto\",\n",
    "    attn_implementation=\"flash_attention_2\",\n",
    "    trust_remote_code=True,\n",
    ")\n",
    "tokenizer = AutoTokenizer.from_pretrained(model_id)"
   ]
  },
  {
   "cell_type": "code",
   "execution_count": 4,
   "metadata": {
    "execution": {
     "iopub.execute_input": "2024-08-16T20:19:58.356933Z",
     "iopub.status.busy": "2024-08-16T20:19:58.356618Z",
     "iopub.status.idle": "2024-08-16T20:20:01.290828Z",
     "shell.execute_reply": "2024-08-16T20:20:01.289776Z",
     "shell.execute_reply.started": "2024-08-16T20:19:58.356905Z"
    },
    "trusted": true
   },
   "outputs": [],
   "source": [
    "# from transformers import AutoModelForCausalLM, AutoTokenizer\n",
    "# import torch\n",
    "\n",
    "\n",
    "# tokenizer = AutoTokenizer.from_pretrained(model_id, trust_remote_code=True)\n",
    "\n",
    "# from transformers import BitsAndBytesConfig\n",
    "\n",
    "# quantization_config = BitsAndBytesConfig(load_in_8bit=True)\n",
    "\n",
    "# model = AutoModelForCausalLM.from_pretrained(model_id,\n",
    "#                                              device_map=\"auto\",\n",
    "#                                              # quantization_config=quantization_config,\n",
    "#                                                 # attn_implementation=\"flash_attention_2\",\n",
    "#                                                 trust_remote_code=True,\n",
    "#                                                 torch_dtype = \"auto\"\n",
    "# )\n",
    "\n",
    "# conversation = [{\"role\": \"user\", \"content\": prompts.format(content)}]\n",
    "\n",
    "# # render the tool use prompt as a string:\n",
    "# prompt = tokenizer.apply_chat_template(\n",
    "#             conversation,\n",
    "#             tokenize=False,\n",
    "#             add_generation_prompt=True,\n",
    "# )\n",
    "\n",
    "# inputs = tokenizer(prompt, return_tensors=\"pt\").to('cuda')\n"
   ]
  },
  {
   "cell_type": "code",
   "execution_count": 5,
   "metadata": {},
   "outputs": [
    {
     "data": {
      "text/plain": [
       "torch.bfloat16"
      ]
     },
     "execution_count": 5,
     "metadata": {},
     "output_type": "execute_result"
    }
   ],
   "source": [
    "model.dtype"
   ]
  },
  {
   "cell_type": "code",
   "execution_count": 6,
   "metadata": {},
   "outputs": [
    {
     "data": {
      "text/plain": [
       "{'': device(type='cuda')}"
      ]
     },
     "execution_count": 6,
     "metadata": {},
     "output_type": "execute_result"
    }
   ],
   "source": [
    "model.hf_device_map"
   ]
  },
  {
   "cell_type": "code",
   "execution_count": 7,
   "metadata": {
    "execution": {
     "iopub.execute_input": "2024-08-16T20:26:25.021318Z",
     "iopub.status.busy": "2024-08-16T20:26:25.021027Z",
     "iopub.status.idle": "2024-08-16T20:26:25.046659Z",
     "shell.execute_reply": "2024-08-16T20:26:25.045721Z",
     "shell.execute_reply.started": "2024-08-16T20:26:25.021292Z"
    },
    "trusted": true
   },
   "outputs": [],
   "source": [
    "content = \"\"\"\n",
    "London (/ˈlʌndən/ LUN-dən)[6] is the capital and largest city[c] of both England and the United Kingdom, with a population of 8,866,180 in 2022.[2] The wider metropolitan area is the largest in Western Europe, with a population of 14.9 million.[7] London stands on the River Thames in southeast England, at the head of a 50-mile (80 km) estuary down to the North Sea, and has been a major settlement for nearly 2,000 years.[8] Its ancient core and financial centre, the City of London, was founded by the Romans as Londinium and has retained its medieval boundaries.[d][9] The City of Westminster, to the west of the City of London, has been the centuries-long host of the national government and parliament. London grew rapidly in the 19th century, becoming the world's largest city at the time. Since the 19th century,[10][11] the name \"London\" has referred to the metropolis around the City of London, historically split between the counties of Middlesex, Essex, Surrey, Kent, and Hertfordshire,[12] which since 1965 has largely comprised the administrative area of Greater London, governed by 33 local authorities and the Greater London Authority.[e][13]\n",
    "As one of the world's major global cities,[14][15] London exerts a strong influence on world art, entertainment, fashion, commerce, finance, education, healthcare, media, science, technology, tourism, transport, and communications.[16][17] Despite a post-Brexit exodus of stock listings from the London Stock Exchange,[18] London remains Europe's most economically powerful city[19] and one of the world's major financial centres. It hosts Europe's largest concentration of higher education institutions,[20] some of which are the highest-ranked academic institutions in the world: Imperial College London in natural and applied sciences, the London School of Economics in social sciences, and the comprehensive University College London.[21][22] It is the most visited city in Europe and has the world's busiest city airport system.[23] The London Underground is the world's oldest rapid transit system.[24]\n",
    "London's diverse cultures encompass over 300 languages.[25] The 2023 population of Greater London of just under 10 million[26] made it Europe's third-most populous city,[27] accounting for 13.4% of the United Kingdom's population[28] and over 16% of England's population. The Greater London Built-up Area is the fourth-most populous in Europe, with about 9.8 million inhabitants as of 2011.[29][30] The London metropolitan area is the third-most populous in Europe, with about 14 million inhabitants as of 2016, making London a megacity.[f][31][32]\n",
    "Four World Heritage Sites are located in London: Kew Gardens; the Tower of London; the site featuring the Palace of Westminster, Church of St Margaret, and Westminster Abbey; and the historic settlement in Greenwich where the Royal Observatory defines the prime meridian (0° longitude) and Greenwich Mean Time.[33] Other landmarks include Buckingham Palace, the London Eye, Piccadilly Circus, St Paul's Cathedral, Tower Bridge, and Trafalgar Square. The city has the most museums, art galleries, libraries, and cultural venues in the UK, including the British Museum, National Gallery, Natural History Museum, Tate Modern, British Library, and numerous West End theatres.[34] Important sporting events held in London include the FA Cup Final, the Wimbledon Tennis Championships, and the London Marathon. It became the first city to host three Summer Olympic Games upon hosting the 2012 Summer Olympics.[35]\n",
    "\n",
    "Toponymy\n",
    "Main article: Etymology of London\n",
    "London is an ancient name, attested in the first century AD, usually in the Latinised form Londinium.[36] Modern scientific analyses of the name must account for the origins of the different forms found in early sources: Latin (usually Londinium), Old English (usually Lunden), and Welsh (usually Llundein), with reference to the known developments over time of sounds in those different languages. It is agreed that the name came into these languages from Common Brythonic; recent work tends to reconstruct the lost Celtic form of the name as *Londonjon or something similar. This was then adapted into Latin as Londinium and borrowed into Old English.[37]\n",
    "Until 1889, the name \"London\" applied officially only to the City of London, but since then it has also referred to the County of London and to Greater London.[38]\n",
    "\n",
    "History\n",
    "Main article: History of London\n",
    "Prehistory\n",
    "In 1993, remains of a Bronze Age bridge were found on the south foreshore upstream from Vauxhall Bridge.[39] Two of the timbers were radiocarbon dated to 1750–1285 BC.[39] In 2010, foundations of a large timber structure, dated to 4800–4500 BC,[40] were found on the Thames's south foreshore downstream from Vauxhall Bridge.[41] Both structures are on the south bank of the Thames, where the now-underground River Effra flows into the Thames.[41]\n",
    "Roman London\n",
    "Main article: Londinium\n",
    "Reconstruction drawing of Londinium in 120 AD\n",
    "A surviving section of the 3rd-century London Wall behind Tower Hill\n",
    "Despite the evidence of scattered Brythonic settlements in the area, the first major settlement was founded by the Romans around 47 AD,[1] about four years after their invasion of 43 AD.[42] This only lasted until about 61 AD, when the Iceni tribe led by Queen Boudica stormed it and burnt it to the ground.[43]\n",
    "The next planned incarnation of Londinium prospered, superseding Colchester as the principal city of the Roman province of Britannia in 100. At its height in the 2nd century, Roman London had a population of about 60,000.[44]\n",
    "Anglo-Saxon and Viking-period London\n",
    "With the early 5th-century collapse of Roman rule, the walled city of Londinium was effectively abandoned, although Roman civilisation continued around St Martin-in-the-Fields until about 450.[45] From about 500, an Anglo-Saxon settlement known as Lundenwic developed slightly west of the old Roman city.[46] By about 680 the city had become a major port again, but there is little evidence of large-scale production. From the 820s repeated Viking assaults brought decline. Three are recorded; those in 851 and 886 succeeded, while the last, in 994, was rebuffed.[47]\n",
    "The Vikings applied Danelaw over much of eastern and northern England, its boundary running roughly from London to Chester as an area of political and geographical control imposed by the Viking incursions formally agreed by the Danish warlord, Guthrum and the West Saxon king Alfred the Great in 886. The Anglo-Saxon Chronicle records that Alfred \"refounded\" London in 886. Archaeological research shows this involved abandonment of Lundenwic and a revival of life and trade within the old Roman walls. London then grew slowly until a dramatic increase in about 950.[48]\n",
    "By the 11th century, London was clearly the largest town in England. Westminster Abbey, rebuilt in Romanesque style by King Edward the Confessor, was one of the grandest churches in Europe. Winchester had been the capital of Anglo-Saxon England, but from this time London became the main forum for foreign traders and the base for defence in time of war. In the view of Frank Stenton: \"It had the resources, and it was rapidly developing the dignity and the political self-consciousness appropriate to a national capital.\"[49]\n",
    "\n",
    "Middle Ages\n",
    "Westminster Abbey, as seen in this painting (Canaletto, 1749), is a World Heritage Site and one of London's oldest and most important buildings.\n",
    "After winning the Battle of Hastings, William, Duke of Normandy was crowned King of England in newly completed Westminster Abbey on Christmas Day 1066.[50] William built the Tower of London, the first of many such in England rebuilt in stone in the south-eastern corner of the city, to intimidate the inhabitants.[51] In 1097, William II began building Westminster Hall, near the abbey. It became the basis of a new Palace of Westminster.[52]\n",
    "In the 12th century, the institutions of central government, which had hitherto followed the royal English court around the country, grew in size and sophistication and became increasingly fixed, for most purposes at Westminster, although the royal treasury came to rest in the Tower. While the City of Westminster developed into a true governmental capital, its distinct neighbour, the City of London, remained England's largest city and principal commercial centre and flourished under its own unique administration, the Corporation of London. In 1100, its population was some 18,000; by 1300 it had grown to nearly 100,000.[53] With the Black Death in the mid-14th century, London lost nearly a third of its population.[54] London was the focus of the Peasants' Revolt in 1381.[55]\n",
    "London was a centre of England's Jewish population before their expulsion by Edward I in 1290. Violence against Jews occurred in 1190, when it was rumoured that the new king had ordered their massacre after they had presented themselves at his coronation.[56] In 1264 during the Second Barons' War, Simon de Montfort's rebels killed 500 Jews while attempting to seize records of debts.[57]\n",
    "\n",
    "\"\"\""
   ]
  },
  {
   "cell_type": "code",
   "execution_count": 8,
   "metadata": {
    "execution": {
     "iopub.execute_input": "2024-08-16T20:26:25.048649Z",
     "iopub.status.busy": "2024-08-16T20:26:25.047959Z",
     "iopub.status.idle": "2024-08-16T20:26:25.057751Z",
     "shell.execute_reply": "2024-08-16T20:26:25.056989Z",
     "shell.execute_reply.started": "2024-08-16T20:26:25.048624Z"
    },
    "trusted": true
   },
   "outputs": [],
   "source": [
    "prompts = \"\"\"summary the text /n text:{} \"\"\""
   ]
  },
  {
   "cell_type": "code",
   "execution_count": 9,
   "metadata": {},
   "outputs": [],
   "source": [
    "messages = [\n",
    "    {\"role\": \"system\", \"content\": \"You are a helpful AI assistant.\"},\n",
    "    {\"role\": \"user\", \"content\": prompts.format(content)},\n",
    "]\n",
    "\n",
    "pipe = pipeline(\n",
    "    \"text-generation\",\n",
    "    model=model,\n",
    "    tokenizer=tokenizer,\n",
    ")\n",
    "\n",
    "generation_args = {\n",
    "    \"max_new_tokens\": 500,\n",
    "    \"return_full_text\": False,\n",
    "    \"temperature\": 0.0,\n",
    "    \"do_sample\": False,\n",
    "}"
   ]
  },
  {
   "cell_type": "code",
   "execution_count": 10,
   "metadata": {},
   "outputs": [
    {
     "name": "stderr",
     "output_type": "stream",
     "text": [
      "/home/coral/miniconda3/envs/py311/lib/python3.11/site-packages/transformers/generation/configuration_utils.py:567: UserWarning: `do_sample` is set to `False`. However, `temperature` is set to `0.0` -- this flag is only used in sample-based generation modes. You should set `do_sample=True` or unset `temperature`.\n",
      "  warnings.warn(\n",
      "The `seen_tokens` attribute is deprecated and will be removed in v4.41. Use the `cache_position` model input instead.\n"
     ]
    },
    {
     "name": "stdout",
     "output_type": "stream",
     "text": [
      " London, the capital and largest city of England and the United Kingdom, has a rich history dating back nearly 2,000 years. Founded by the Romans as Londinium, it has retained its medieval boundaries within the City of London. The City of Westminster, to the west, has been the host of the national government and parliament for centuries.\n",
      "\n",
      "London experienced significant growth in the 19th century, becoming the world's largest city at the time. The name \"London\" has since referred to the metropolis around the City of London, which was historically split between several counties but is now largely within the administrative area of Greater London.\n",
      "\n",
      "London is a major global city with a strong influence on art, entertainment, fashion, commerce, finance, education, healthcare, media, science, technology, tourism, transport, and communications. It hosts Europe's largest concentration of higher education institutions and is home to four World Heritage Sites.\n",
      "\n",
      "The city's population has grown to just under 10 million, making it Europe's third-most populous city and a megacity. The Greater London Built-up Area has about 9.8 million inhabitants.\n",
      "\n",
      "London's history includes the Roman settlement of Londinium, the Anglo-Saxon and Viking-period settlements, and the establishment of Westminster Abbey and the Tower of London. The city has also been the center of England's Jewish population before their expulsion in 1290.\n",
      "\n",
      "Throughout its history, London has faced challenges such as the Black Death in the 14th century, which reduced its population by nearly a third. The city was also the focal point of the Peasants' Revolt in 1381. Despite these challenges, London has continued to grow and develop, becoming a major global city with a diverse culture and a population of over 300 languages.\n"
     ]
    }
   ],
   "source": [
    "output = pipe(messages, **generation_args)\n",
    "print(output[0][\"generated_text\"])"
   ]
  },
  {
   "cell_type": "markdown",
   "metadata": {},
   "source": [
    "17.3s"
   ]
  },
  {
   "cell_type": "markdown",
   "metadata": {},
   "source": [
    "flash attention saved 1.2 gb VRAM?"
   ]
  },
  {
   "cell_type": "code",
   "execution_count": 15,
   "metadata": {},
   "outputs": [
    {
     "data": {
      "text/plain": [
       "1843"
      ]
     },
     "execution_count": 15,
     "metadata": {},
     "output_type": "execute_result"
    }
   ],
   "source": [
    "len(output[0][\"generated_text\"])"
   ]
  },
  {
   "cell_type": "markdown",
   "metadata": {
    "execution": {
     "iopub.execute_input": "2024-08-16T18:55:09.727625Z",
     "iopub.status.busy": "2024-08-16T18:55:09.727304Z",
     "iopub.status.idle": "2024-08-16T18:55:09.733005Z",
     "shell.execute_reply": "2024-08-16T18:55:09.731734Z",
     "shell.execute_reply.started": "2024-08-16T18:55:09.727600Z"
    }
   },
   "source": [
    "Beam search"
   ]
  },
  {
   "cell_type": "code",
   "execution_count": 10,
   "metadata": {
    "execution": {
     "iopub.execute_input": "2024-08-16T20:26:25.085937Z",
     "iopub.status.busy": "2024-08-16T20:26:25.085677Z",
     "iopub.status.idle": "2024-08-16T20:26:25.541890Z",
     "shell.execute_reply": "2024-08-16T20:26:25.540999Z",
     "shell.execute_reply.started": "2024-08-16T20:26:25.085914Z"
    },
    "trusted": true
   },
   "outputs": [
    {
     "name": "stderr",
     "output_type": "stream",
     "text": [
      "The `seen_tokens` attribute is deprecated and will be removed in v4.41. Use the `cache_position` model input instead.\n",
      "You are not running the flash-attention implementation, expect numerical differences.\n"
     ]
    },
    {
     "name": "stdout",
     "output_type": "stream",
     "text": [
      "CPU times: user 19.7 s, sys: 2.45 s, total: 22.1 s\n",
      "Wall time: 22.3 s\n"
     ]
    }
   ],
   "source": [
    "%%time\n",
    "outputs = model.generate(**inputs, max_new_tokens=1000)"
   ]
  },
  {
   "cell_type": "code",
   "execution_count": 11,
   "metadata": {},
   "outputs": [
    {
     "data": {
      "text/plain": [
       "2986"
      ]
     },
     "execution_count": 11,
     "metadata": {},
     "output_type": "execute_result"
    }
   ],
   "source": [
    "len(outputs[0])"
   ]
  },
  {
   "cell_type": "markdown",
   "metadata": {},
   "source": [
    "flash Wall time: 21.3 s, 2932 tokens"
   ]
  },
  {
   "cell_type": "markdown",
   "metadata": {},
   "source": [
    "Wall time: 22.3s, 2986 tokens\n"
   ]
  },
  {
   "cell_type": "code",
   "execution_count": null,
   "metadata": {
    "trusted": true
   },
   "outputs": [],
   "source": [
    "%%time\n",
    "outputs = model.generate(**inputs, max_new_tokens=2000, num_beams=2)"
   ]
  },
  {
   "cell_type": "code",
   "execution_count": null,
   "metadata": {
    "trusted": true
   },
   "outputs": [],
   "source": [
    "%%time\n",
    "outputs = model.generate(**inputs, max_new_tokens=2000, num_beams=3)"
   ]
  }
 ],
 "metadata": {
  "kernelspec": {
   "display_name": "Python 3",
   "language": "python",
   "name": "python3"
  },
  "language_info": {
   "codemirror_mode": {
    "name": "ipython",
    "version": 3
   },
   "file_extension": ".py",
   "mimetype": "text/x-python",
   "name": "python",
   "nbconvert_exporter": "python",
   "pygments_lexer": "ipython3",
   "version": "3.11.9"
  }
 },
 "nbformat": 4,
 "nbformat_minor": 4
}

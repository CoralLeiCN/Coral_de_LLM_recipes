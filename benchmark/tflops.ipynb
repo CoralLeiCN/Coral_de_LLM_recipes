{
 "cells": [
  {
   "cell_type": "code",
   "execution_count": 1,
   "metadata": {},
   "outputs": [],
   "source": [
    "from torch.utils import benchmark\n",
    "import torch"
   ]
  },
  {
   "cell_type": "code",
   "execution_count": 2,
   "metadata": {},
   "outputs": [
    {
     "data": {
      "text/plain": [
       "True"
      ]
     },
     "execution_count": 2,
     "metadata": {},
     "output_type": "execute_result"
    }
   ],
   "source": [
    "torch.backends.mps.is_available()"
   ]
  },
  {
   "cell_type": "code",
   "execution_count": 3,
   "metadata": {},
   "outputs": [],
   "source": [
    "device = torch.device(\"mps\")"
   ]
  },
  {
   "cell_type": "markdown",
   "metadata": {},
   "source": [
    "float16"
   ]
  },
  {
   "cell_type": "code",
   "execution_count": null,
   "metadata": {},
   "outputs": [
    {
     "data": {
      "text/plain": [
       "2.431752142343283"
      ]
     },
     "execution_count": 18,
     "metadata": {},
     "output_type": "execute_result"
    }
   ],
   "source": [
    "typ = torch.float16\n",
    "n = 1024*16\n",
    "a = torch.randn(n, n, dtype = typ, device=device)\n",
    "b = torch.randn(n, n, dtype = typ, device=device)\n",
    "\n",
    "t = benchmark.Timer(\n",
    "    stmt='a @ b',\n",
    "    globals = {'a':a, 'b':b})\n",
    "\n",
    "x = t.timeit(50)\n",
    "2*n**3 / x.median / 1e12"
   ]
  },
  {
   "cell_type": "code",
   "execution_count": 19,
   "metadata": {},
   "outputs": [
    {
     "data": {
      "text/plain": [
       "<torch.utils.benchmark.utils.common.Measurement object at 0x10f8db9b0>\n",
       "a @ b\n",
       "  3.62 s\n",
       "  1 measurement, 50 runs , 1 thread"
      ]
     },
     "execution_count": 19,
     "metadata": {},
     "output_type": "execute_result"
    }
   ],
   "source": [
    "x"
   ]
  },
  {
   "cell_type": "markdown",
   "metadata": {},
   "source": [
    "in theory 2.6 tflops\n",
    "https://www.apple.com/gr/newsroom/2020/11/apple-unleashes-m1/"
   ]
  },
  {
   "cell_type": "code",
   "execution_count": 20,
   "metadata": {},
   "outputs": [
    {
     "data": {
      "text/plain": [
       "1.268029248718917"
      ]
     },
     "execution_count": 20,
     "metadata": {},
     "output_type": "execute_result"
    }
   ],
   "source": [
    "typ = torch.float32\n",
    "n = 1024*16\n",
    "a = torch.randn(n, n, dtype = typ, device=device)\n",
    "b = torch.randn(n, n, dtype = typ, device=device)\n",
    "\n",
    "t = benchmark.Timer(\n",
    "    stmt='a @ b',\n",
    "    globals = {'a':a, 'b':b})\n",
    "\n",
    "x= t.timeit(50)\n",
    "2*n**3 / x.median / 1e12"
   ]
  },
  {
   "cell_type": "code",
   "execution_count": 3,
   "metadata": {},
   "outputs": [],
   "source": [
    "device = torch.device(\"cpu\")"
   ]
  },
  {
   "cell_type": "code",
   "execution_count": null,
   "metadata": {},
   "outputs": [],
   "source": [
    "typ = torch.float16\n",
    "n = 1024*16\n",
    "a = torch.randn(n, n, dtype = typ, device=device)\n",
    "b = torch.randn(n, n, dtype = typ, device=device)\n",
    "\n",
    "t = benchmark.Timer(\n",
    "    stmt='a @ b',\n",
    "    globals = {'a':a, 'b':b})\n",
    "\n",
    "x= t.timeit(2)\n",
    "2*n**3 / x.median / 1e12"
   ]
  },
  {
   "cell_type": "code",
   "execution_count": null,
   "metadata": {},
   "outputs": [],
   "source": []
  }
 ],
 "metadata": {
  "kernelspec": {
   "display_name": ".venv",
   "language": "python",
   "name": "python3"
  },
  "language_info": {
   "codemirror_mode": {
    "name": "ipython",
    "version": 3
   },
   "file_extension": ".py",
   "mimetype": "text/x-python",
   "name": "python",
   "nbconvert_exporter": "python",
   "pygments_lexer": "ipython3",
   "version": "3.12.2"
  }
 },
 "nbformat": 4,
 "nbformat_minor": 2
}
